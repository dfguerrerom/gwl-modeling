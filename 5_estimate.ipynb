{
 "cells": [
  {
   "cell_type": "code",
   "execution_count": 1,
   "metadata": {},
   "outputs": [],
   "source": [
    "from gee_scripts.get_sources import get_s1_image, get_gldas, get_gpm, get_hansen\n",
    "from gee_scripts.get_sources import get_srtm, get_globcover, get_gedi, get_gldas_stats\n"
   ]
  },
  {
   "cell_type": "code",
   "execution_count": null,
   "metadata": {},
   "outputs": [],
   "source": [
    "import ee\n",
    "ee.Initialize()"
   ]
  },
  {
   "cell_type": "code",
   "execution_count": 2,
   "metadata": {},
   "outputs": [],
   "source": [
    "date = ee.Date(\"2023-01-01\")\n",
    "aoi = ee.Geometry.Polygon("
   ]
  },
  {
   "cell_type": "code",
   "execution_count": null,
   "metadata": {},
   "outputs": [],
   "source": [
    "def get_sources(date):\n",
    "    \n",
    "    date_range = ee.Date(date_feature.get(\"date\")).getRange('day')\n",
    "\n",
    "    s1_composite = get_s1_image(date_range, ee_region)\n",
    "\n",
    "    return s1_composite.set({\n",
    "        \"numberOfBands\" : s1_composite.bandNames().size(),\n",
    "        \"date\" : ee.Date(date_feature.get(\"date\"))\n",
    "        })\n",
    "    \n",
    "def reduce_composite(composite):\n",
    "    \n",
    "    # Filter the extra data with the matching date\n",
    "    date = composite.get(\"date\")\n",
    "    date_range = ee.Date(date).getRange('day')\n",
    "\n",
    "    gldas_composite = get_gldas(date_range, ee_region)\n",
    "    gpm_composite = get_gpm(date_range, ee_region)\n",
    "\n",
    "    composite = (ee.Image(composite)\n",
    "        .addBands(gldas_composite)\n",
    "        .addBands(gpm_composite)\n",
    "    )\n",
    "    \n",
    "    return composite.reduceRegions(**{\n",
    "        \"collection\" : ee_points,\n",
    "        \"reducer\" : ee.Reducer.first(),\n",
    "        \"scale\" : 10,\n",
    "        \"tileScale\" : 16\n",
    "    }).filter(ee.Filter.notNull(['VH'])).map(lambda feature: feature.set({\n",
    "        \"date\" : date\n",
    "    }))\n"
   ]
  },
  {
   "cell_type": "code",
   "execution_count": null,
   "metadata": {},
   "outputs": [],
   "source": [
    "task = (ee_dates\n",
    "        .map(get_sources)\n",
    "        .filter(ee.Filter.gt('numberOfBands', 0))\n",
    "        .map(reduce_composite).flatten()\n",
    ")"
   ]
  }
 ],
 "metadata": {
  "kernelspec": {
   "display_name": "gwl-modeling",
   "language": "python",
   "name": "python3"
  },
  "language_info": {
   "codemirror_mode": {
    "name": "ipython",
    "version": 3
   },
   "file_extension": ".py",
   "mimetype": "text/x-python",
   "name": "python",
   "nbconvert_exporter": "python",
   "pygments_lexer": "ipython3",
   "version": "3.10.12"
  }
 },
 "nbformat": 4,
 "nbformat_minor": 2
}
