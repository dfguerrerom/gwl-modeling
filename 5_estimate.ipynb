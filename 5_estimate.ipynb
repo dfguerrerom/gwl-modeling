{
 "cells": [
  {
   "cell_type": "code",
   "execution_count": null,
   "metadata": {
    "tags": []
   },
   "outputs": [],
   "source": [
    "%load_ext autoreload\n",
    "%autoreload 2"
   ]
  },
  {
   "cell_type": "code",
   "execution_count": null,
   "metadata": {
    "tags": []
   },
   "outputs": [],
   "source": [
    "from gee_scripts.get_sources import get_explanatory_composite\n",
    "from gee_scripts.parameters import explain_vars\n",
    "import ee\n",
    "ee.Initialize()"
   ]
  },
  {
   "cell_type": "markdown",
   "metadata": {},
   "source": [
    "# 1. Get explanatory composite"
   ]
  },
  {
   "cell_type": "markdown",
   "metadata": {},
   "source": [
    "## 1.1. Set parameters"
   ]
  },
  {
   "cell_type": "code",
   "execution_count": null,
   "metadata": {
    "tags": []
   },
   "outputs": [],
   "source": [
    "max_days_offset = 30\n",
    "scale = 10\n",
    "target_date = \"2022-04-21\"\n",
    "output_image_name = \"Test_area_2022-04-21_PHU_136_real\"\n",
    "ee_region = ee.Geometry.Polygon(\n",
    "[[[113.95619838694482, -1.917946314958298],\n",
    "          [113.95619838694482, -2.1656677599461855],\n",
    "          [114.10520046214013, -2.1656677599461855],\n",
    "          [114.10520046214013, -1.917946314958298]]]\n",
    ");"
   ]
  },
  {
   "cell_type": "code",
   "execution_count": null,
   "metadata": {
    "tags": []
   },
   "outputs": [],
   "source": [
    "# Get explanatory composite closest to target date\n",
    "image = get_explanatory_composite(\n",
    "    target_date=target_date, \n",
    "    ee_region=ee_region, \n",
    "    max_days_offset=max_days_offset\n",
    ").select(explain_vars)"
   ]
  },
  {
   "cell_type": "code",
   "execution_count": null,
   "metadata": {
    "tags": []
   },
   "outputs": [],
   "source": [
    "# Create a task and start it\n",
    "task = ee.batch.Export.image.toDrive(\n",
    "    image=image,\n",
    "    description=output_image_name,\n",
    "    folder=\"WorkshopIndonesia\",\n",
    "    fileNamePrefix=output_image_name,\n",
    "    region=ee_region,\n",
    "    scale=scale,\n",
    "    maxPixels=1e13,\n",
    ")\n",
    "\n",
    "# Start the task\n",
    "task.start()"
   ]
  },
  {
   "cell_type": "markdown",
   "metadata": {},
   "source": [
    "# 2. Estimate GWL using the trained model"
   ]
  },
  {
   "cell_type": "code",
   "execution_count": 1,
   "metadata": {
    "tags": []
   },
   "outputs": [],
   "source": [
    "from pathlib import Path\n",
    "import rasterio as rio\n",
    "import numpy as np\n",
    "import joblib\n",
    "from sklearn.ensemble import RandomForestClassifier"
   ]
  },
  {
   "cell_type": "code",
   "execution_count": 2,
   "metadata": {
    "tags": []
   },
   "outputs": [],
   "source": [
    "explanatory_path = Path(\"data/11_explanatory_composites\")\n",
    "output_estimation_path = Path(\"data/12_estimated_gwl\")\n",
    "explanatory_path.mkdir(exist_ok=True)\n",
    "output_estimation_path.mkdir(exist_ok=True)\n",
    "\n",
    "input_image_name = Path(\"Test_area_2022-04-21.tif\")\n",
    "model_name = Path(\"data/10_model/PHU_136.joblib\")\n",
    "\n",
    "# load the model with joblib\n",
    "estimator = joblib.load(model_name)"
   ]
  },
  {
   "cell_type": "code",
   "execution_count": 3,
   "metadata": {
    "tags": []
   },
   "outputs": [
    {
     "data": {
      "text/plain": [
       "PosixPath('data/11_explanatory_composites/Test_area_2022-04-21.tif')"
      ]
     },
     "execution_count": 3,
     "metadata": {},
     "output_type": "execute_result"
    }
   ],
   "source": [
    "explanatory_path/input_image_name"
   ]
  },
  {
   "cell_type": "code",
   "execution_count": 4,
   "metadata": {
    "tags": []
   },
   "outputs": [
    {
     "ename": "RasterioIOError",
     "evalue": "Read or write failed. data/11_explanatory_composites/Test_area_2022-04-21.tif, band 1: IReadBlock failed at X offset 1, Y offset 0: TIFFReadEncodedTile() failed.",
     "output_type": "error",
     "traceback": [
      "\u001b[0;31m---------------------------------------------------------------------------\u001b[0m",
      "\u001b[0;31mCPLE_AppDefinedError\u001b[0m                      Traceback (most recent call last)",
      "File \u001b[0;32mrasterio/_io.pyx:975\u001b[0m, in \u001b[0;36mrasterio._io.DatasetReaderBase._read\u001b[0;34m()\u001b[0m\n",
      "File \u001b[0;32mrasterio/_io.pyx:213\u001b[0m, in \u001b[0;36mrasterio._io.io_multi_band\u001b[0;34m()\u001b[0m\n",
      "File \u001b[0;32mrasterio/_err.pyx:195\u001b[0m, in \u001b[0;36mrasterio._err.exc_wrap_int\u001b[0;34m()\u001b[0m\n",
      "\u001b[0;31mCPLE_AppDefinedError\u001b[0m: data/11_explanatory_composites/Test_area_2022-04-21.tif, band 1: IReadBlock failed at X offset 1, Y offset 0: TIFFReadEncodedTile() failed.",
      "\nDuring handling of the above exception, another exception occurred:\n",
      "\u001b[0;31mRasterioIOError\u001b[0m                           Traceback (most recent call last)",
      "Cell \u001b[0;32mIn[4], line 3\u001b[0m\n\u001b[1;32m      1\u001b[0m \u001b[38;5;66;03m# Open the explanatory composite\u001b[39;00m\n\u001b[1;32m      2\u001b[0m \u001b[38;5;28;01mwith\u001b[39;00m rio\u001b[38;5;241m.\u001b[39mopen(explanatory_path\u001b[38;5;241m/\u001b[39minput_image_name) \u001b[38;5;28;01mas\u001b[39;00m src:\n\u001b[0;32m----> 3\u001b[0m     img_array \u001b[38;5;241m=\u001b[39m \u001b[43msrc\u001b[49m\u001b[38;5;241;43m.\u001b[39;49m\u001b[43mread\u001b[49m\u001b[43m(\u001b[49m\u001b[43m)\u001b[49m\n\u001b[1;32m      4\u001b[0m     meta \u001b[38;5;241m=\u001b[39m src\u001b[38;5;241m.\u001b[39mmeta\n",
      "File \u001b[0;32mrasterio/_io.pyx:651\u001b[0m, in \u001b[0;36mrasterio._io.DatasetReaderBase.read\u001b[0;34m()\u001b[0m\n",
      "File \u001b[0;32mrasterio/_io.pyx:978\u001b[0m, in \u001b[0;36mrasterio._io.DatasetReaderBase._read\u001b[0;34m()\u001b[0m\n",
      "\u001b[0;31mRasterioIOError\u001b[0m: Read or write failed. data/11_explanatory_composites/Test_area_2022-04-21.tif, band 1: IReadBlock failed at X offset 1, Y offset 0: TIFFReadEncodedTile() failed."
     ]
    }
   ],
   "source": [
    "# Open the explanatory composite\n",
    "with rio.open(explanatory_path/input_image_name) as src:\n",
    "    img_array = src.read()\n",
    "    meta = src.meta"
   ]
  },
  {
   "cell_type": "code",
   "execution_count": null,
   "metadata": {
    "tags": []
   },
   "outputs": [],
   "source": [
    "\n",
    "\n",
    "transposed_img = np.transpose(img_array, (1, 2, 0))\n",
    "reshaped_img = transposed_img.reshape(-1, 28)\n",
    "predicted_values = estimator.predict(reshaped_img)\n",
    "\n",
    "# Reshape the predicted values back to original shape\n",
    "predicted_values = predicted_values.reshape(transposed_img.shape[:2])"
   ]
  },
  {
   "cell_type": "code",
   "execution_count": null,
   "metadata": {},
   "outputs": [],
   "source": [
    "# Reshape back to 2D grid\n",
    "output_array = predicted_values.reshape((meta['height'], meta['width']))\n",
    "\n",
    "# Update metadata for 1 band output\n",
    "meta.update({'count': 1})\n",
    "\n",
    "# Save to disk\n",
    "with rio.open(output_estimation_path/f\"{model_name.stem}_{input_image_name.stem}.tif\", 'w', **meta) as dst:\n",
    "    dst.write(output_array, 1)"
   ]
  },
  {
   "cell_type": "markdown",
   "metadata": {},
   "source": [
    "# Estimate GWL over one point in multiple dates"
   ]
  },
  {
   "cell_type": "code",
   "execution_count": null,
   "metadata": {},
   "outputs": [],
   "source": [
    "import pandas as pd"
   ]
  },
  {
   "cell_type": "code",
   "execution_count": null,
   "metadata": {},
   "outputs": [],
   "source": [
    "df = pd.read_csv(\"data/9_clean_training_data/clean_training_data.csv\")\n",
    "len(df)"
   ]
  },
  {
   "cell_type": "code",
   "execution_count": null,
   "metadata": {},
   "outputs": [],
   "source": [
    "# drop all stations with less tan 9 observations\n",
    "min_obs = 9\n",
    "df.groupby('id').agg({'date': 'count'}).sort_values(by='date', ascending=False).reset_index()\n",
    "df = df.groupby('id').filter(lambda group: len(group) >= min_obs)\n",
    "df"
   ]
  }
 ],
 "metadata": {
  "kernelspec": {
   "display_name": "(test) gwl-modeling",
   "language": "python",
   "name": "gwl-modeling"
  },
  "language_info": {
   "codemirror_mode": {
    "name": "ipython",
    "version": 3
   },
   "file_extension": ".py",
   "mimetype": "text/x-python",
   "name": "python",
   "nbconvert_exporter": "python",
   "pygments_lexer": "ipython3",
   "version": "3.8.10"
  }
 },
 "nbformat": 4,
 "nbformat_minor": 4
}
