{
 "cells": [
  {
   "cell_type": "code",
   "execution_count": null,
   "metadata": {
    "tags": []
   },
   "outputs": [],
   "source": [
    "%load_ext autoreload\n",
    "%autoreload 2"
   ]
  },
  {
   "cell_type": "code",
   "execution_count": null,
   "metadata": {
    "tags": []
   },
   "outputs": [],
   "source": [
    "from gee_scripts.get_sources import get_explanatory_composite\n",
    "from gee_scripts.parameters import explain_vars\n",
    "import ee\n",
    "ee.Initialize()"
   ]
  },
  {
   "cell_type": "markdown",
   "metadata": {},
   "source": [
    "# 1. Get explanatory composite"
   ]
  },
  {
   "cell_type": "markdown",
   "metadata": {},
   "source": [
    "## 1.1. Set parameters"
   ]
  },
  {
   "cell_type": "code",
   "execution_count": null,
   "metadata": {
    "tags": []
   },
   "outputs": [],
   "source": [
    "max_days_offset = 30\n",
    "scale = 10\n",
    "target_date = \"2022-04-21\"\n",
    "output_image_name = \"Test_area_2022-04-21_PHU_136_real\"\n",
    "ee_region = ee.Geometry.Polygon(\n",
    "[[[113.95619838694482, -1.917946314958298],\n",
    "          [113.95619838694482, -2.1656677599461855],\n",
    "          [114.10520046214013, -2.1656677599461855],\n",
    "          [114.10520046214013, -1.917946314958298]]]\n",
    ");"
   ]
  },
  {
   "cell_type": "code",
   "execution_count": null,
   "metadata": {
    "tags": []
   },
   "outputs": [],
   "source": [
    "# Get explanatory composite closest to target date\n",
    "image = get_explanatory_composite(\n",
    "    target_date=target_date, \n",
    "    ee_region=ee_region, \n",
    "    max_days_offset=max_days_offset\n",
    ").select(explain_vars)"
   ]
  },
  {
   "cell_type": "code",
   "execution_count": null,
   "metadata": {
    "tags": []
   },
   "outputs": [],
   "source": [
    "# Create a task and start it\n",
    "task = ee.batch.Export.image.toDrive(\n",
    "    image=image,\n",
    "    description=output_image_name,\n",
    "    folder=\"WorkshopIndonesia\",\n",
    "    fileNamePrefix=output_image_name,\n",
    "    region=ee_region,\n",
    "    scale=scale,\n",
    "    maxPixels=1e13,\n",
    ")\n",
    "\n",
    "# Start the task\n",
    "task.start()"
   ]
  },
  {
   "cell_type": "markdown",
   "metadata": {},
   "source": [
    "# 2. Estimate GWL using the trained model\n",
    "\n",
    "If you have a rasterio error, it is because this package is not installed in our virtual environment, to fix this error, you can go to the terminal and:\n",
    "\n",
    "- Go to the gwl-folder\n",
    "- run this command: python3 data/init_venv.py\n",
    "\n",
    "Or in the "
   ]
  },
  {
   "cell_type": "code",
   "execution_count": 1,
   "metadata": {
    "tags": []
   },
   "outputs": [],
   "source": [
    "from pathlib import Path\n",
    "import rasterio as rio\n",
    "import numpy as np\n",
    "import joblib\n",
    "from sklearn.ensemble import RandomForestClassifier"
   ]
  },
  {
   "cell_type": "code",
   "execution_count": 14,
   "metadata": {
    "tags": []
   },
   "outputs": [],
   "source": [
    "explanatory_path = Path(\"data/11_explanatory_composites\")\n",
    "output_estimation_path = Path(\"data/12_estimated_gwl\")\n",
    "explanatory_path.mkdir(exist_ok=True)\n",
    "output_estimation_path.mkdir(exist_ok=True)\n",
    "\n",
    "input_image_name = Path(\"WorkshopIndonesia_test_3.tif\")\n",
    "model_name = Path(\"data/10_model/PHU_136.joblib\")\n",
    "\n",
    "# load the model with joblib\n",
    "estimator = joblib.load(model_name)"
   ]
  },
  {
   "cell_type": "code",
   "execution_count": 15,
   "metadata": {
    "tags": []
   },
   "outputs": [],
   "source": [
    "# Open the explanatory composite\n",
    "with rio.open(explanatory_path/input_image_name) as src:\n",
    "    img_array = src.read()\n",
    "    meta = src.meta"
   ]
  },
  {
   "cell_type": "code",
   "execution_count": 16,
   "metadata": {
    "tags": []
   },
   "outputs": [
    {
     "name": "stderr",
     "output_type": "stream",
     "text": [
      "/home/sepal-user/module-venv/gwl-modeling/lib/python3.8/site-packages/sklearn/base.py:465: UserWarning: X does not have valid feature names, but RandomForestRegressor was fitted with feature names\n",
      "  warnings.warn(\n"
     ]
    }
   ],
   "source": [
    "transposed_img = np.transpose(img_array, (1, 2, 0))\n",
    "reshaped_img = transposed_img.reshape(-1, 28)\n",
    "\n",
    "predicted_values = estimator.predict(reshaped_img)\n",
    "\n",
    "# Reshape the predicted values back to original shape\n",
    "predicted_values = predicted_values.reshape(transposed_img.shape[:2])"
   ]
  },
  {
   "cell_type": "code",
   "execution_count": 17,
   "metadata": {
    "tags": []
   },
   "outputs": [],
   "source": [
    "# Reshape back to 2D grid\n",
    "output_array = predicted_values.reshape((meta['height'], meta['width']))\n",
    "\n",
    "# Update metadata for 1 band output\n",
    "meta.update({'count': 1})\n",
    "\n",
    "# Save to disk\n",
    "with rio.open(output_estimation_path/f\"{model_name.stem}_{input_image_name.stem}_estimated.tif\", 'w', **meta) as dst:\n",
    "    dst.write(output_array, 1)"
   ]
  },
  {
   "cell_type": "markdown",
   "metadata": {},
   "source": [
    "# Estimate GWL over one point in multiple dates"
   ]
  },
  {
   "cell_type": "code",
   "execution_count": null,
   "metadata": {},
   "outputs": [],
   "source": [
    "import pandas as pd"
   ]
  },
  {
   "cell_type": "code",
   "execution_count": null,
   "metadata": {},
   "outputs": [],
   "source": [
    "df = pd.read_csv(\"data/9_clean_training_data/clean_training_data.csv\")\n",
    "len(df)"
   ]
  },
  {
   "cell_type": "code",
   "execution_count": null,
   "metadata": {},
   "outputs": [],
   "source": [
    "# drop all stations with less tan 9 observations\n",
    "min_obs = 9\n",
    "df.groupby('id').agg({'date': 'count'}).sort_values(by='date', ascending=False).reset_index()\n",
    "df = df.groupby('id').filter(lambda group: len(group) >= min_obs)\n",
    "df"
   ]
  }
 ],
 "metadata": {
  "kernelspec": {
   "display_name": "(test) gwl-modeling",
   "language": "python",
   "name": "gwl-modeling"
  },
  "language_info": {
   "codemirror_mode": {
    "name": "ipython",
    "version": 3
   },
   "file_extension": ".py",
   "mimetype": "text/x-python",
   "name": "python",
   "nbconvert_exporter": "python",
   "pygments_lexer": "ipython3",
   "version": "3.8.10"
  }
 },
 "nbformat": 4,
 "nbformat_minor": 4
}
