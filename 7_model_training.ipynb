{
 "cells": [
  {
   "cell_type": "code",
   "execution_count": 2,
   "metadata": {},
   "outputs": [],
   "source": [
    "import pandas as pd"
   ]
  },
  {
   "cell_type": "markdown",
   "metadata": {},
   "source": [
    "# 1. Read training data"
   ]
  },
  {
   "cell_type": "code",
   "execution_count": 3,
   "metadata": {},
   "outputs": [],
   "source": [
    "df = pd.read_csv(\"data/9_clean_training_data/clean_training_data.csv\")"
   ]
  },
  {
   "cell_type": "markdown",
   "metadata": {},
   "source": [
    "2. Define a model"
   ]
  },
  {
   "cell_type": "code",
   "execution_count": null,
   "metadata": {},
   "outputs": [],
   "source": [
    "from sklearn.model_selection import GridSearchCV\n",
    "\n",
    "param_grid = {\n",
    "    'n_estimators': [100, 250, 500],\n",
    "    'min_samples_leaf': [1, 2, 4],\n",
    "    'criterion': ['mse', 'friedman_mse']\n",
    "}\n",
    "variable = 'gwl_cm'\n",
    "temporal_expl = [\n",
    "    'VV', 'VH', 'VVVH_ratio', \n",
    "    'precipitation', 'prec_3', 'prec_7', 'prec_30', \n",
    "    'sm_1',  'sm_3', 'sm_7', 'sm_30'\n",
    "]\n",
    "row = {}\n",
    "\n",
    "for station_id in df['id'].unique():\n",
    "\n",
    "    train_data = df[df['id'] != station_id]\n",
    "    test_data = df[df['id'] == station_id]\n",
    "    X_train, X_test = train_data[explain_vars], test_data[explain_vars]\n",
    "    y_train, y_test = train_data[variable], test_data[variable]\n",
    "\n",
    "    regr = RandomForestRegressor(random_state=42, oob_score=True, n_jobs=-1)\n",
    "    grid_search = GridSearchCV(estimator=regr, param_grid=param_grid, cv=3)\n",
    "    grid_search.fit(X_train, y_train)\n",
    "    best_regr = grid_search.best_estimator_\n",
    "    \n",
    "    y_pred = best_regr.predict(X_test)\n",
    "\n",
    "    r, _ = pearsonr(test_data[variable].values, y_pred)\n",
    "    correlations = [r]\n",
    "    correlations.extend([test_data[variable].corr(test_data[expl]) for expl in temporal_expl])\n",
    "    row[station_id] = correlations\n",
    "\n",
    "stats_df = pd.DataFrame.from_dict(row, orient='index')\n"
   ]
  },
  {
   "cell_type": "code",
   "execution_count": null,
   "metadata": {},
   "outputs": [],
   "source": [
    "variable = \"gwl_cm\"\n",
    "row = {}\n",
    "temporal_expl = []\n",
    "training_df = df[df.region_id == 2].copy()\n",
    "temporal_expl = [\n",
    "    'VV', 'VH', 'VVVH_ratio', \n",
    "    'precipitation', 'prec_3', 'prec_7', 'prec_30', \n",
    "    'sm_1',  'sm_3', 'sm_7', 'sm_30'\n",
    "]\n",
    "\n",
    "\n",
    "for i, station_id in enumerate(training_df.id.unique()):\n",
    "    \n",
    "    \n",
    "    # add first element gwl-smm correlation to station_id\n",
    "    explans = []\n",
    "    \n",
    "    # create a df for training without the station_id\n",
    "    gdf_train = training_df[training_df.id != station_id]\n",
    "    \n",
    "    # create a df for test of the station_id\n",
    "    gdf_test = training_df[training_df.id == station_id]\n",
    "        \n",
    "    X_train, X_test = gdf_train[explain_vars], gdf_test[explain_vars]\n",
    "    y_train, y_test = gdf_train[variable], gdf_test[variable]\n",
    "    \n",
    "    regr = RandomForestRegressor(n_estimators=250, min_samples_leaf=1, random_state=42, oob_score=True, criterion='friedman_mse', n_jobs=-1)\n",
    "    regr.fit(X_train, y_train)\n",
    "    y_pred_test = regr.predict(X_test)\n",
    "    \n",
    "    r, p = pearsonr(gdf_test[variable].values, y_pred_test)\n",
    "    explans.append(r)\n",
    "    \n",
    "    #r2 = r2_score(y_test, y_pred_test)\n",
    "    #explans.append(r2)\n",
    "    \n",
    "    # add correlation of explanatories\n",
    "    for expl in temporal_expl:\n",
    "        explans.append(gdf_test[variable].corr(gdf_test[expl]))\n",
    "        \n",
    "    row[station_id] = explans\n",
    "    \n",
    "stats_df = pd.DataFrame.from_dict(row, orient='index')"
   ]
  },
  {
   "cell_type": "code",
   "execution_count": null,
   "metadata": {},
   "outputs": [],
   "source": [
    "stats_df.columns = [\"friedman_mse\"] + temporal_expl"
   ]
  },
  {
   "cell_type": "code",
   "execution_count": null,
   "metadata": {},
   "outputs": [],
   "source": [
    "from matplotlib import pyplot as plt\n",
    "\n",
    "\n",
    "stats_df.loc['mean'] = stats_df.mean()\n",
    "sns.heatmap(stats_df, annot=True)\n",
    "\n",
    "figures_path = Path(\"data/8_figures/correlations/\")\n",
    "figures_path.mkdir(parents=True, exist_ok=True)\n",
    "\n",
    "plt.savefig(figures_path/'correlation_by_group_1.png')"
   ]
  },
  {
   "cell_type": "markdown",
   "metadata": {},
   "source": []
  }
 ],
 "metadata": {
  "kernelspec": {
   "display_name": "gwl-modeling",
   "language": "python",
   "name": "python3"
  },
  "language_info": {
   "codemirror_mode": {
    "name": "ipython",
    "version": 3
   },
   "file_extension": ".py",
   "mimetype": "text/x-python",
   "name": "python",
   "nbconvert_exporter": "python",
   "pygments_lexer": "ipython3",
   "version": "3.10.12"
  }
 },
 "nbformat": 4,
 "nbformat_minor": 2
}
