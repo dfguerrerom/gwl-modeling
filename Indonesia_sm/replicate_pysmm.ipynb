{
 "cells": [
  {
   "cell_type": "code",
   "execution_count": 1,
   "metadata": {},
   "outputs": [],
   "source": [
    "from pathlib import Path\n",
    "import pandas as pd\n",
    "import geopandas as gpd\n",
    "from sklearn.ensemble import RandomForestRegressor\n",
    "from sklearn.model_selection import train_test_split\n",
    "from sklearn.preprocessing import StandardScaler"
   ]
  },
  {
   "cell_type": "code",
   "execution_count": 65,
   "metadata": {},
   "outputs": [],
   "source": [
    "for i, file in enumerate(Path('~/Indonesia_sm/samples_s1_aux/').glob('*.aux.pickle')):\n",
    "    \n",
    "    if i == 0:\n",
    "        df = pd.read_pickle(file)\n",
    "    else:\n",
    "        df = pd.concat([df, pd.read_pickle(file)])\n",
    "        \n",
    "gdf = gpd.GeoDataFrame(df, geometry=gpd.points_from_xy(df.lon, df.lat))\n",
    "gdf.to_file('~/Indonesia_sm/gdf_s1_aux.gpkg', driver = 'GPKG')"
   ]
  },
  {
   "cell_type": "code",
   "execution_count": 143,
   "metadata": {},
   "outputs": [],
   "source": [
    "gdf = gpd.read_file('~/Indonesia_sm/gdf_s1_aux.gpkg')\n",
    "X2 = gdf[bandlist]\n",
    "y2 = gdf['GWL_rata']"
   ]
  },
  {
   "cell_type": "code",
   "execution_count": 131,
   "metadata": {},
   "outputs": [],
   "source": [
    "bandlist = [\n",
    "     'orbit_direction',\n",
    "     'VV', 'VH', 'VVVH_ratio', 'angle', 'LIA', #'layover', 'shadow', 'no_data_mask', \n",
    "     'precipitation', 'prec_3', 'prec_7', 'prec_30', \n",
    "     #'gldas_mean', 'gldas_stddev',\n",
    "     'sm_1', 'sm_3', 'sm_7', 'sm_30',\n",
    "     #'elevation', 'aspect', 'slope', \n",
    "     'landcover',\n",
    "     'kVV_mean', 'kVV_stdDev', \n",
    "     'kVV_p5', 'kVV_p95',\n",
    "     'kVH_mean', 'kVH_stdDev', \n",
    "     'kVH_p5', 'kVH_p95', \n",
    "     'VV_mean', 'VV_stdDev', \n",
    "     'VV_p5', 'VV_p95', \n",
    "     'VH_mean', 'VH_stdDev', \n",
    "     'VH_p5', 'VH_p95'\n",
    "    ]"
   ]
  },
  {
   "cell_type": "code",
   "execution_count": 132,
   "metadata": {},
   "outputs": [],
   "source": [
    "station_list = ['BRG_627104_05', 'BRG_611209_01', 'BRG_611102_02', 'BRG_150710_02',\n",
    "       'BRG_150709_02', 'BRG_621108_01', 'BRG_621103_04', 'BRG_621107_08',\n",
    "       'BRG_610102_01', 'BRG_611203_02', 'BRG_627104_03', 'BRG_150710_03',\n",
    "       'BRG_150710_01', 'BRG_150611_02', 'BRG_150613_01', 'BRG_610216_01',\n",
    "       'BRG_621101_02', 'BRG_621107_05', 'BRG_620801_02', 'BRG_621103_06',\n",
    "       'BRG_620309_02', 'BRG_150611_01', 'BRG_620208_01', 'BRG_611206_01',\n",
    "       'BRG_621101_01', 'BRG_621107_06', 'BRG_621103_03', 'BRG_150706_01',\n",
    "       'BRG_621107_02', 'BRG_621105_03', 'BRG_621103_01', 'BRG_610218_01',\n",
    "       'BRG_150503_01', 'BRG_627104_02', 'BRG_621103_05', 'BRG_630611_01',\n",
    "       'BRG_627104_04', 'BRG_627104_06', 'BRG_150604_01', 'BRG_150709_01',\n",
    "       'BRG_621103_02', 'BRG_611203_01', 'BRG_621107_04', 'BRG_627104_01',\n",
    "       'BRG_630411_01', 'BRG_611102_01', 'BRG_611201_01', 'BRG_150604_02',\n",
    "       'BRG_620209_01', 'BRG_620309_01', 'BRG_610102_02', 'BRG_610117_01',\n",
    "       'BRG_620801_01']\n",
    "\n",
    "station_list2 = [\n",
    "    'BRG_621103_05',\n",
    "    'BRG_621103_04',\n",
    "    'BRG_621103_01',\n",
    "    'BRG_621103_02',\n",
    "    'BRG_621103_06',\n",
    "    'BRG_621103_03'\n",
    "]"
   ]
  },
  {
   "cell_type": "code",
   "execution_count": 133,
   "metadata": {},
   "outputs": [
    {
     "name": "stdout",
     "output_type": "stream",
     "text": [
      "230\n"
     ]
    },
    {
     "data": {
      "text/plain": [
       "1796"
      ]
     },
     "execution_count": 133,
     "metadata": {},
     "output_type": "execute_result"
    }
   ],
   "source": [
    "print(len(df))\n",
    "df = gdf[gdf.station.isin(station_list)]\n",
    "len(df)"
   ]
  },
  {
   "cell_type": "code",
   "execution_count": 134,
   "metadata": {},
   "outputs": [
    {
     "data": {
      "text/plain": [
       "<AxesSubplot:ylabel='Density'>"
      ]
     },
     "execution_count": 134,
     "metadata": {},
     "output_type": "execute_result"
    },
    {
     "data": {
      "image/png": "[encoded data removed]",
      "text/plain": [
       "<Figure size 432x288 with 1 Axes>"
      ]
     },
     "metadata": {
      "needs_background": "light"
     },
     "output_type": "display_data"
    }
   ],
   "source": [
    "gdf.VH_stdDev.plot.density()"
   ]
  },
  {
   "cell_type": "code",
   "execution_count": 135,
   "metadata": {},
   "outputs": [
    {
     "name": "stdout",
     "output_type": "stream",
     "text": [
      "1796\n",
      "1609\n"
     ]
    }
   ],
   "source": [
    "print(len(df))\n",
    "df = df[df.kVH_stdDev >= 0.125]\n",
    "print(len(df))"
   ]
  },
  {
   "cell_type": "code",
   "execution_count": 140,
   "metadata": {},
   "outputs": [],
   "source": [
    "#X = StandardScaler().fit_transform(df[bandlist])\n",
    "X = df[bandlist]\n",
    "y = df['GWL_rata']\n",
    "X_train, X_test, y_train, y_test = train_test_split(X, y, test_size=0.1, random_state=42)"
   ]
  },
  {
   "cell_type": "code",
   "execution_count": 141,
   "metadata": {},
   "outputs": [],
   "source": [
    "regr = RandomForestRegressor(n_estimators=150, min_samples_leaf=3, random_state=42, oob_score=True, criterion='mse')\n",
    "regr.fit(X_train, y_train)\n",
    "y_pred_test = regr.predict(X_test)\n",
    "y_pred_train = regr.predict(X_train)"
   ]
  },
  {
   "cell_type": "code",
   "execution_count": 144,
   "metadata": {},
   "outputs": [
    {
     "name": "stdout",
     "output_type": "stream",
     "text": [
      "0.8648793751528616\n",
      "0.558901028519825\n"
     ]
    },
    {
     "data": {
      "text/plain": [
       "0.04597978807677716"
      ]
     },
     "execution_count": 144,
     "metadata": {},
     "output_type": "execute_result"
    }
   ],
   "source": [
    "from sklearn.metrics import r2_score\n",
    "print(r2_score(y_train, y_pred_train))\n",
    "print(r2_score(y_test, y_pred_test))\n",
    "y2_pred = regr.predict(X2)\n",
    "r2_score(y2, y2_pred)"
   ]
  },
  {
   "cell_type": "code",
   "execution_count": 145,
   "metadata": {},
   "outputs": [
    {
     "data": {
      "text/plain": [
       "<AxesSubplot:xlabel='B'>"
      ]
     },
     "execution_count": 145,
     "metadata": {},
     "output_type": "execute_result"
    },
    {
     "data": {
      "image/png": "[encoded data removed]",
      "text/plain": [
       "<Figure size 432x288 with 1 Axes>"
      ]
     },
     "metadata": {
      "needs_background": "light"
     },
     "output_type": "display_data"
    }
   ],
   "source": [
    "fdf = pd.DataFrame({'A': regr.feature_importances_, 'B': bandlist})\n",
    "fdf.plot('B', 'A', kind='bar')"
   ]
  }
 ],
 "metadata": {
  "kernelspec": {
   "display_name": "Python 3",
   "language": "python",
   "name": "python3"
  },
  "language_info": {
   "codemirror_mode": {
    "name": "ipython",
    "version": 3
   },
   "file_extension": ".py",
   "mimetype": "text/x-python",
   "name": "python",
   "nbconvert_exporter": "python",
   "pygments_lexer": "ipython3",
   "version": "3.8.10"
  }
 },
 "nbformat": 4,
 "nbformat_minor": 4
}
