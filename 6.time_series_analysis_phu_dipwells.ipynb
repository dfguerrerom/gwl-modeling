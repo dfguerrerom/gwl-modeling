{
 "cells": [
  {
   "cell_type": "code",
   "execution_count": 1,
   "id": "3038add9-6357-45f3-a31a-7519c0fa16b4",
   "metadata": {},
   "outputs": [],
   "source": [
    "%load_ext autoreload\n",
    "%autoreload 2"
   ]
  },
  {
   "cell_type": "code",
   "execution_count": 2,
   "id": "e3942269-38be-4ca8-8612-a587f50b5c6d",
   "metadata": {},
   "outputs": [],
   "source": [
    "import pandas as pd"
   ]
  },
  {
   "cell_type": "code",
   "execution_count": 3,
   "id": "ca1570cb-301f-4f5c-bbd2-2b4d19bd3871",
   "metadata": {},
   "outputs": [
    {
     "data": {
      "text/html": [
       "<div>\n",
       "<style scoped>\n",
       "    .dataframe tbody tr th:only-of-type {\n",
       "        vertical-align: middle;\n",
       "    }\n",
       "\n",
       "    .dataframe tbody tr th {\n",
       "        vertical-align: top;\n",
       "    }\n",
       "\n",
       "    .dataframe thead th {\n",
       "        text-align: right;\n",
       "    }\n",
       "</style>\n",
       "<table border=\"1\" class=\"dataframe\">\n",
       "  <thead>\n",
       "    <tr style=\"text-align: right;\">\n",
       "      <th></th>\n",
       "      <th>source</th>\n",
       "      <th>id</th>\n",
       "      <th>date</th>\n",
       "      <th>gwl_cm</th>\n",
       "      <th>lat</th>\n",
       "      <th>lon</th>\n",
       "      <th>LIA</th>\n",
       "      <th>VH</th>\n",
       "      <th>VV</th>\n",
       "      <th>VVVH_ratio</th>\n",
       "      <th>...</th>\n",
       "      <th>prec_30_sum</th>\n",
       "      <th>region_id</th>\n",
       "      <th>geometry</th>\n",
       "      <th>index_right</th>\n",
       "      <th>aoi_phu</th>\n",
       "      <th>island</th>\n",
       "      <th>phu_name</th>\n",
       "      <th>province</th>\n",
       "      <th>tile_id</th>\n",
       "      <th>phu_id</th>\n",
       "    </tr>\n",
       "  </thead>\n",
       "  <tbody>\n",
       "    <tr>\n",
       "      <th>0</th>\n",
       "      <td>pkeg</td>\n",
       "      <td>02_AHL_SBG-B076</td>\n",
       "      <td>2021-06-01</td>\n",
       "      <td>-41.0</td>\n",
       "      <td>3.937760</td>\n",
       "      <td>117.007750</td>\n",
       "      <td>32.785855</td>\n",
       "      <td>-11.481278</td>\n",
       "      <td>-5.556430</td>\n",
       "      <td>0.207099</td>\n",
       "      <td>...</td>\n",
       "      <td>110.139998</td>\n",
       "      <td>10</td>\n",
       "      <td>POINT (117.00775 3.93776)</td>\n",
       "      <td>407.0</td>\n",
       "      <td>KAL_User_15</td>\n",
       "      <td>Kalimantan</td>\n",
       "      <td>KHG Sungai Sebuku - Sungai Sembakung</td>\n",
       "      <td>North Kalimantan</td>\n",
       "      <td>15.0</td>\n",
       "      <td>407.0</td>\n",
       "    </tr>\n",
       "    <tr>\n",
       "      <th>1</th>\n",
       "      <td>pkeg</td>\n",
       "      <td>02_AHL_SBG-B076</td>\n",
       "      <td>2021-08-24</td>\n",
       "      <td>-38.0</td>\n",
       "      <td>3.937760</td>\n",
       "      <td>117.007750</td>\n",
       "      <td>32.785295</td>\n",
       "      <td>-12.812067</td>\n",
       "      <td>-5.960235</td>\n",
       "      <td>0.201164</td>\n",
       "      <td>...</td>\n",
       "      <td>111.279997</td>\n",
       "      <td>10</td>\n",
       "      <td>POINT (117.00775 3.93776)</td>\n",
       "      <td>407.0</td>\n",
       "      <td>KAL_User_15</td>\n",
       "      <td>Kalimantan</td>\n",
       "      <td>KHG Sungai Sebuku - Sungai Sembakung</td>\n",
       "      <td>North Kalimantan</td>\n",
       "      <td>15.0</td>\n",
       "      <td>407.0</td>\n",
       "    </tr>\n",
       "    <tr>\n",
       "      <th>2</th>\n",
       "      <td>pkeg</td>\n",
       "      <td>02_AHL_SBG-B076</td>\n",
       "      <td>2022-04-09</td>\n",
       "      <td>-22.0</td>\n",
       "      <td>3.937760</td>\n",
       "      <td>117.007750</td>\n",
       "      <td>32.795191</td>\n",
       "      <td>-18.437775</td>\n",
       "      <td>-10.636812</td>\n",
       "      <td>0.072032</td>\n",
       "      <td>...</td>\n",
       "      <td>173.629999</td>\n",
       "      <td>10</td>\n",
       "      <td>POINT (117.00775 3.93776)</td>\n",
       "      <td>407.0</td>\n",
       "      <td>KAL_User_15</td>\n",
       "      <td>Kalimantan</td>\n",
       "      <td>KHG Sungai Sebuku - Sungai Sembakung</td>\n",
       "      <td>North Kalimantan</td>\n",
       "      <td>15.0</td>\n",
       "      <td>407.0</td>\n",
       "    </tr>\n",
       "    <tr>\n",
       "      <th>3</th>\n",
       "      <td>pkeg</td>\n",
       "      <td>02_AHL_SBG-B076</td>\n",
       "      <td>2023-02-15</td>\n",
       "      <td>-31.0</td>\n",
       "      <td>3.937760</td>\n",
       "      <td>117.007750</td>\n",
       "      <td>32.793740</td>\n",
       "      <td>-13.051827</td>\n",
       "      <td>-9.007584</td>\n",
       "      <td>0.076149</td>\n",
       "      <td>...</td>\n",
       "      <td>80.609997</td>\n",
       "      <td>10</td>\n",
       "      <td>POINT (117.00775 3.93776)</td>\n",
       "      <td>407.0</td>\n",
       "      <td>KAL_User_15</td>\n",
       "      <td>Kalimantan</td>\n",
       "      <td>KHG Sungai Sebuku - Sungai Sembakung</td>\n",
       "      <td>North Kalimantan</td>\n",
       "      <td>15.0</td>\n",
       "      <td>407.0</td>\n",
       "    </tr>\n",
       "    <tr>\n",
       "      <th>4</th>\n",
       "      <td>pkeg</td>\n",
       "      <td>02_AHL_SBG-B101</td>\n",
       "      <td>2021-06-01</td>\n",
       "      <td>-66.0</td>\n",
       "      <td>3.931860</td>\n",
       "      <td>117.010120</td>\n",
       "      <td>39.267563</td>\n",
       "      <td>-9.778736</td>\n",
       "      <td>-6.648683</td>\n",
       "      <td>0.111111</td>\n",
       "      <td>...</td>\n",
       "      <td>110.139998</td>\n",
       "      <td>10</td>\n",
       "      <td>POINT (117.01012 3.93186)</td>\n",
       "      <td>407.0</td>\n",
       "      <td>KAL_User_15</td>\n",
       "      <td>Kalimantan</td>\n",
       "      <td>KHG Sungai Sebuku - Sungai Sembakung</td>\n",
       "      <td>North Kalimantan</td>\n",
       "      <td>15.0</td>\n",
       "      <td>407.0</td>\n",
       "    </tr>\n",
       "    <tr>\n",
       "      <th>...</th>\n",
       "      <td>...</td>\n",
       "      <td>...</td>\n",
       "      <td>...</td>\n",
       "      <td>...</td>\n",
       "      <td>...</td>\n",
       "      <td>...</td>\n",
       "      <td>...</td>\n",
       "      <td>...</td>\n",
       "      <td>...</td>\n",
       "      <td>...</td>\n",
       "      <td>...</td>\n",
       "      <td>...</td>\n",
       "      <td>...</td>\n",
       "      <td>...</td>\n",
       "      <td>...</td>\n",
       "      <td>...</td>\n",
       "      <td>...</td>\n",
       "      <td>...</td>\n",
       "      <td>...</td>\n",
       "      <td>...</td>\n",
       "      <td>...</td>\n",
       "    </tr>\n",
       "    <tr>\n",
       "      <th>32778</th>\n",
       "      <td>old_brg</td>\n",
       "      <td>kalteng1</td>\n",
       "      <td>2020-02-24</td>\n",
       "      <td>-23.9</td>\n",
       "      <td>-2.319728</td>\n",
       "      <td>114.058131</td>\n",
       "      <td>32.478706</td>\n",
       "      <td>-12.878587</td>\n",
       "      <td>-8.271499</td>\n",
       "      <td>0.097345</td>\n",
       "      <td>...</td>\n",
       "      <td>206.569996</td>\n",
       "      <td>8</td>\n",
       "      <td>POINT (114.058131 -2.319728)</td>\n",
       "      <td>351.0</td>\n",
       "      <td>KAL_User_12</td>\n",
       "      <td>Kalimantan</td>\n",
       "      <td>KHG Sungai Kahayan - Sungai Sebangau</td>\n",
       "      <td>Central Kalimantan</td>\n",
       "      <td>12.0</td>\n",
       "      <td>351.0</td>\n",
       "    </tr>\n",
       "    <tr>\n",
       "      <th>32779</th>\n",
       "      <td>old_brg</td>\n",
       "      <td>kalteng1</td>\n",
       "      <td>2020-03-07</td>\n",
       "      <td>-31.1</td>\n",
       "      <td>-2.319728</td>\n",
       "      <td>114.058131</td>\n",
       "      <td>32.478589</td>\n",
       "      <td>-13.078360</td>\n",
       "      <td>-6.593164</td>\n",
       "      <td>0.169898</td>\n",
       "      <td>...</td>\n",
       "      <td>178.319996</td>\n",
       "      <td>8</td>\n",
       "      <td>POINT (114.058131 -2.319728)</td>\n",
       "      <td>351.0</td>\n",
       "      <td>KAL_User_12</td>\n",
       "      <td>Kalimantan</td>\n",
       "      <td>KHG Sungai Kahayan - Sungai Sebangau</td>\n",
       "      <td>Central Kalimantan</td>\n",
       "      <td>12.0</td>\n",
       "      <td>351.0</td>\n",
       "    </tr>\n",
       "    <tr>\n",
       "      <th>32780</th>\n",
       "      <td>old_brg</td>\n",
       "      <td>kalteng1</td>\n",
       "      <td>2020-03-19</td>\n",
       "      <td>-14.7</td>\n",
       "      <td>-2.319728</td>\n",
       "      <td>114.058131</td>\n",
       "      <td>32.479968</td>\n",
       "      <td>-12.563061</td>\n",
       "      <td>-7.793232</td>\n",
       "      <td>0.110794</td>\n",
       "      <td>...</td>\n",
       "      <td>164.119998</td>\n",
       "      <td>8</td>\n",
       "      <td>POINT (114.058131 -2.319728)</td>\n",
       "      <td>351.0</td>\n",
       "      <td>KAL_User_12</td>\n",
       "      <td>Kalimantan</td>\n",
       "      <td>KHG Sungai Kahayan - Sungai Sebangau</td>\n",
       "      <td>Central Kalimantan</td>\n",
       "      <td>12.0</td>\n",
       "      <td>351.0</td>\n",
       "    </tr>\n",
       "    <tr>\n",
       "      <th>32781</th>\n",
       "      <td>old_brg</td>\n",
       "      <td>kalteng1</td>\n",
       "      <td>2020-03-31</td>\n",
       "      <td>-27.1</td>\n",
       "      <td>-2.319728</td>\n",
       "      <td>114.058131</td>\n",
       "      <td>32.480674</td>\n",
       "      <td>-13.179518</td>\n",
       "      <td>-7.523130</td>\n",
       "      <td>0.128794</td>\n",
       "      <td>...</td>\n",
       "      <td>139.929998</td>\n",
       "      <td>8</td>\n",
       "      <td>POINT (114.058131 -2.319728)</td>\n",
       "      <td>351.0</td>\n",
       "      <td>KAL_User_12</td>\n",
       "      <td>Kalimantan</td>\n",
       "      <td>KHG Sungai Kahayan - Sungai Sebangau</td>\n",
       "      <td>Central Kalimantan</td>\n",
       "      <td>12.0</td>\n",
       "      <td>351.0</td>\n",
       "    </tr>\n",
       "    <tr>\n",
       "      <th>32782</th>\n",
       "      <td>old_brg</td>\n",
       "      <td>kalteng1</td>\n",
       "      <td>2020-04-12</td>\n",
       "      <td>-11.4</td>\n",
       "      <td>-2.319728</td>\n",
       "      <td>114.058131</td>\n",
       "      <td>32.474638</td>\n",
       "      <td>-12.679995</td>\n",
       "      <td>-7.348031</td>\n",
       "      <td>0.130210</td>\n",
       "      <td>...</td>\n",
       "      <td>182.059996</td>\n",
       "      <td>8</td>\n",
       "      <td>POINT (114.058131 -2.319728)</td>\n",
       "      <td>351.0</td>\n",
       "      <td>KAL_User_12</td>\n",
       "      <td>Kalimantan</td>\n",
       "      <td>KHG Sungai Kahayan - Sungai Sebangau</td>\n",
       "      <td>Central Kalimantan</td>\n",
       "      <td>12.0</td>\n",
       "      <td>351.0</td>\n",
       "    </tr>\n",
       "  </tbody>\n",
       "</table>\n",
       "<p>32783 rows × 49 columns</p>\n",
       "</div>"
      ],
      "text/plain": [
       "        source               id       date  gwl_cm       lat         lon  \\\n",
       "0         pkeg  02_AHL_SBG-B076 2021-06-01   -41.0  3.937760  117.007750   \n",
       "1         pkeg  02_AHL_SBG-B076 2021-08-24   -38.0  3.937760  117.007750   \n",
       "2         pkeg  02_AHL_SBG-B076 2022-04-09   -22.0  3.937760  117.007750   \n",
       "3         pkeg  02_AHL_SBG-B076 2023-02-15   -31.0  3.937760  117.007750   \n",
       "4         pkeg  02_AHL_SBG-B101 2021-06-01   -66.0  3.931860  117.010120   \n",
       "...        ...              ...        ...     ...       ...         ...   \n",
       "32778  old_brg         kalteng1 2020-02-24   -23.9 -2.319728  114.058131   \n",
       "32779  old_brg         kalteng1 2020-03-07   -31.1 -2.319728  114.058131   \n",
       "32780  old_brg         kalteng1 2020-03-19   -14.7 -2.319728  114.058131   \n",
       "32781  old_brg         kalteng1 2020-03-31   -27.1 -2.319728  114.058131   \n",
       "32782  old_brg         kalteng1 2020-04-12   -11.4 -2.319728  114.058131   \n",
       "\n",
       "             LIA         VH         VV  VVVH_ratio  ...  prec_30_sum  \\\n",
       "0      32.785855 -11.481278  -5.556430    0.207099  ...   110.139998   \n",
       "1      32.785295 -12.812067  -5.960235    0.201164  ...   111.279997   \n",
       "2      32.795191 -18.437775 -10.636812    0.072032  ...   173.629999   \n",
       "3      32.793740 -13.051827  -9.007584    0.076149  ...    80.609997   \n",
       "4      39.267563  -9.778736  -6.648683    0.111111  ...   110.139998   \n",
       "...          ...        ...        ...         ...  ...          ...   \n",
       "32778  32.478706 -12.878587  -8.271499    0.097345  ...   206.569996   \n",
       "32779  32.478589 -13.078360  -6.593164    0.169898  ...   178.319996   \n",
       "32780  32.479968 -12.563061  -7.793232    0.110794  ...   164.119998   \n",
       "32781  32.480674 -13.179518  -7.523130    0.128794  ...   139.929998   \n",
       "32782  32.474638 -12.679995  -7.348031    0.130210  ...   182.059996   \n",
       "\n",
       "       region_id                      geometry  index_right      aoi_phu  \\\n",
       "0             10     POINT (117.00775 3.93776)        407.0  KAL_User_15   \n",
       "1             10     POINT (117.00775 3.93776)        407.0  KAL_User_15   \n",
       "2             10     POINT (117.00775 3.93776)        407.0  KAL_User_15   \n",
       "3             10     POINT (117.00775 3.93776)        407.0  KAL_User_15   \n",
       "4             10     POINT (117.01012 3.93186)        407.0  KAL_User_15   \n",
       "...          ...                           ...          ...          ...   \n",
       "32778          8  POINT (114.058131 -2.319728)        351.0  KAL_User_12   \n",
       "32779          8  POINT (114.058131 -2.319728)        351.0  KAL_User_12   \n",
       "32780          8  POINT (114.058131 -2.319728)        351.0  KAL_User_12   \n",
       "32781          8  POINT (114.058131 -2.319728)        351.0  KAL_User_12   \n",
       "32782          8  POINT (114.058131 -2.319728)        351.0  KAL_User_12   \n",
       "\n",
       "           island                              phu_name            province  \\\n",
       "0      Kalimantan  KHG Sungai Sebuku - Sungai Sembakung    North Kalimantan   \n",
       "1      Kalimantan  KHG Sungai Sebuku - Sungai Sembakung    North Kalimantan   \n",
       "2      Kalimantan  KHG Sungai Sebuku - Sungai Sembakung    North Kalimantan   \n",
       "3      Kalimantan  KHG Sungai Sebuku - Sungai Sembakung    North Kalimantan   \n",
       "4      Kalimantan  KHG Sungai Sebuku - Sungai Sembakung    North Kalimantan   \n",
       "...           ...                                   ...                 ...   \n",
       "32778  Kalimantan  KHG Sungai Kahayan - Sungai Sebangau  Central Kalimantan   \n",
       "32779  Kalimantan  KHG Sungai Kahayan - Sungai Sebangau  Central Kalimantan   \n",
       "32780  Kalimantan  KHG Sungai Kahayan - Sungai Sebangau  Central Kalimantan   \n",
       "32781  Kalimantan  KHG Sungai Kahayan - Sungai Sebangau  Central Kalimantan   \n",
       "32782  Kalimantan  KHG Sungai Kahayan - Sungai Sebangau  Central Kalimantan   \n",
       "\n",
       "       tile_id  phu_id  \n",
       "0         15.0   407.0  \n",
       "1         15.0   407.0  \n",
       "2         15.0   407.0  \n",
       "3         15.0   407.0  \n",
       "4         15.0   407.0  \n",
       "...        ...     ...  \n",
       "32778     12.0   351.0  \n",
       "32779     12.0   351.0  \n",
       "32780     12.0   351.0  \n",
       "32781     12.0   351.0  \n",
       "32782     12.0   351.0  \n",
       "\n",
       "[32783 rows x 49 columns]"
      ]
     },
     "execution_count": 3,
     "metadata": {},
     "output_type": "execute_result"
    }
   ],
   "source": [
    "# This dataframe contains all the field + explanatory variables (training data)\n",
    "df = pd.read_csv(\"data/9_clean_training_data/all_training_data_with_extra_and_locations_and_precipSum.csv\", parse_dates=[\"date\"])\n",
    "df"
   ]
  },
  {
   "cell_type": "code",
   "execution_count": 10,
   "id": "7351f70a-1d6c-4004-8b79-9e34f6841db7",
   "metadata": {},
   "outputs": [],
   "source": [
    "# Example list of numbers to filter the dataframe\n",
    "phu_id_list = [371]  # Replace with your list of phu_id numbers\n",
    "\n",
    "# Filtering the dataframe\n",
    "filtered_df = df[df['phu_id'].isin(phu_id_list)]"
   ]
  },
  {
   "cell_type": "code",
   "execution_count": 11,
   "id": "a38beab9-d8d6-47db-90ff-24b55d5acb14",
   "metadata": {},
   "outputs": [
    {
     "data": {
      "application/vnd.plotly.v1+json": {
       "config": {
        "plotlyServerURL": "https://plot.ly"
       },
       "data": [
        {
         "hovertemplate": "id=20_SPW_B14<br>Date=%{x}<br>Ground Water Level (cm)=%{y}<extra></extra>",
         "legendgroup": "20_SPW_B14",
         "line": {
          "color": "#636efa",
          "dash": "solid"
         },
         "marker": {
          "symbol": "circle"
         },
         "mode": "lines",
         "name": "20_SPW_B14",
         "orientation": "v",
         "showlegend": true,
         "type": "scatter",
         "x": [
          "2021-06-30T00:00:00",
          "2021-12-15T00:00:00",
          "2022-04-14T00:00:00"
         ],
         "xaxis": "x",
         "y": [
          -34,
          -14,
          -27
         ],
         "yaxis": "y"
        },
        {
         "hovertemplate": "id=20_SPW_B18<br>Date=%{x}<br>Ground Water Level (cm)=%{y}<extra></extra>",
         "legendgroup": "20_SPW_B18",
         "line": {
          "color": "#EF553B",
          "dash": "solid"
         },
         "marker": {
          "symbol": "circle"
         },
         "mode": "lines",
         "name": "20_SPW_B18",
         "orientation": "v",
         "showlegend": true,
         "type": "scatter",
         "x": [
          "2021-01-01T00:00:00",
          "2021-01-13T00:00:00",
          "2021-01-25T00:00:00",
          "2021-02-06T00:00:00",
          "2021-02-18T00:00:00",
          "2021-03-02T00:00:00",
          "2021-03-14T00:00:00",
          "2021-03-26T00:00:00",
          "2021-04-19T00:00:00",
          "2021-05-01T00:00:00",
          "2021-05-13T00:00:00",
          "2021-06-30T00:00:00",
          "2021-07-24T00:00:00",
          "2021-08-05T00:00:00",
          "2021-08-17T00:00:00",
          "2021-08-29T00:00:00",
          "2021-09-10T00:00:00",
          "2021-09-22T00:00:00",
          "2021-10-04T00:00:00",
          "2021-10-16T00:00:00",
          "2021-10-28T00:00:00",
          "2021-11-09T00:00:00",
          "2021-11-21T00:00:00",
          "2021-12-03T00:00:00",
          "2021-12-15T00:00:00",
          "2021-12-27T00:00:00",
          "2022-01-08T00:00:00",
          "2022-01-20T00:00:00",
          "2022-02-01T00:00:00",
          "2022-02-13T00:00:00",
          "2022-02-25T00:00:00",
          "2022-03-09T00:00:00",
          "2022-03-21T00:00:00",
          "2022-04-02T00:00:00",
          "2022-04-14T00:00:00",
          "2022-04-26T00:00:00",
          "2022-05-08T00:00:00",
          "2022-06-13T00:00:00",
          "2022-06-25T00:00:00",
          "2022-07-07T00:00:00",
          "2022-08-12T00:00:00",
          "2022-08-24T00:00:00",
          "2022-09-05T00:00:00",
          "2022-09-17T00:00:00",
          "2022-09-29T00:00:00",
          "2022-10-11T00:00:00",
          "2022-12-10T00:00:00",
          "2023-05-27T00:00:00",
          "2023-06-08T00:00:00"
         ],
         "xaxis": "x",
         "y": [
          0,
          -38.07,
          -13.94,
          3.26,
          -13.12,
          -22.68,
          -23.71,
          -25.82,
          -28.51,
          -31.99,
          -29.14,
          -34.51,
          -16.74,
          -9.57,
          -4.33,
          -13.87,
          -29.46,
          -19.27,
          -28.75,
          -40.88,
          -26.22,
          -3.72,
          -6.83,
          -15.67,
          -23.09,
          -5.53,
          -19.98,
          -3.03,
          -12.31,
          -14.3,
          -23.03,
          -21.7,
          -11.95,
          -28.33,
          -33.01,
          -34.31,
          -28.6,
          6.32,
          6.01,
          -1.75,
          -13.1,
          -14.5,
          -8.75,
          -4.24,
          -14.69,
          -4.54,
          -20.92,
          -40.53,
          -54.15
         ],
         "yaxis": "y"
        },
        {
         "hovertemplate": "id=20_SPW_C12<br>Date=%{x}<br>Ground Water Level (cm)=%{y}<extra></extra>",
         "legendgroup": "20_SPW_C12",
         "line": {
          "color": "#00cc96",
          "dash": "solid"
         },
         "marker": {
          "symbol": "circle"
         },
         "mode": "lines",
         "name": "20_SPW_C12",
         "orientation": "v",
         "showlegend": true,
         "type": "scatter",
         "x": [
          "2021-06-30T00:00:00",
          "2021-12-15T00:00:00",
          "2022-04-14T00:00:00"
         ],
         "xaxis": "x",
         "y": [
          -26,
          -8,
          -25
         ],
         "yaxis": "y"
        },
        {
         "hovertemplate": "id=20_SPW_C16<br>Date=%{x}<br>Ground Water Level (cm)=%{y}<extra></extra>",
         "legendgroup": "20_SPW_C16",
         "line": {
          "color": "#ab63fa",
          "dash": "solid"
         },
         "marker": {
          "symbol": "circle"
         },
         "mode": "lines",
         "name": "20_SPW_C16",
         "orientation": "v",
         "showlegend": true,
         "type": "scatter",
         "x": [
          "2021-06-30T00:00:00",
          "2021-12-15T00:00:00",
          "2022-04-14T00:00:00"
         ],
         "xaxis": "x",
         "y": [
          -41,
          -32,
          -36
         ],
         "yaxis": "y"
        },
        {
         "hovertemplate": "id=20_SPW_C21<br>Date=%{x}<br>Ground Water Level (cm)=%{y}<extra></extra>",
         "legendgroup": "20_SPW_C21",
         "line": {
          "color": "#FFA15A",
          "dash": "solid"
         },
         "marker": {
          "symbol": "circle"
         },
         "mode": "lines",
         "name": "20_SPW_C21",
         "orientation": "v",
         "showlegend": true,
         "type": "scatter",
         "x": [
          "2021-06-30T00:00:00",
          "2021-12-15T00:00:00",
          "2022-04-14T00:00:00"
         ],
         "xaxis": "x",
         "y": [
          -45,
          -32,
          -40
         ],
         "yaxis": "y"
        },
        {
         "hovertemplate": "id=20_SPW_C7<br>Date=%{x}<br>Ground Water Level (cm)=%{y}<extra></extra>",
         "legendgroup": "20_SPW_C7",
         "line": {
          "color": "#19d3f3",
          "dash": "solid"
         },
         "marker": {
          "symbol": "circle"
         },
         "mode": "lines",
         "name": "20_SPW_C7",
         "orientation": "v",
         "showlegend": true,
         "type": "scatter",
         "x": [
          "2021-06-30T00:00:00",
          "2021-12-15T00:00:00",
          "2022-04-14T00:00:00"
         ],
         "xaxis": "x",
         "y": [
          -16,
          -13,
          -27
         ],
         "yaxis": "y"
        },
        {
         "hovertemplate": "id=20_SPW_D10<br>Date=%{x}<br>Ground Water Level (cm)=%{y}<extra></extra>",
         "legendgroup": "20_SPW_D10",
         "line": {
          "color": "#FF6692",
          "dash": "solid"
         },
         "marker": {
          "symbol": "circle"
         },
         "mode": "lines",
         "name": "20_SPW_D10",
         "orientation": "v",
         "showlegend": true,
         "type": "scatter",
         "x": [
          "2021-06-30T00:00:00",
          "2021-12-15T00:00:00",
          "2022-04-14T00:00:00"
         ],
         "xaxis": "x",
         "y": [
          -28,
          -2,
          -20
         ],
         "yaxis": "y"
        },
        {
         "hovertemplate": "id=20_SPW_D14<br>Date=%{x}<br>Ground Water Level (cm)=%{y}<extra></extra>",
         "legendgroup": "20_SPW_D14",
         "line": {
          "color": "#B6E880",
          "dash": "solid"
         },
         "marker": {
          "symbol": "circle"
         },
         "mode": "lines",
         "name": "20_SPW_D14",
         "orientation": "v",
         "showlegend": true,
         "type": "scatter",
         "x": [
          "2021-06-30T00:00:00",
          "2021-12-15T00:00:00",
          "2022-04-14T00:00:00"
         ],
         "xaxis": "x",
         "y": [
          -28,
          -17,
          -28
         ],
         "yaxis": "y"
        },
        {
         "hovertemplate": "id=20_SPW_D20<br>Date=%{x}<br>Ground Water Level (cm)=%{y}<extra></extra>",
         "legendgroup": "20_SPW_D20",
         "line": {
          "color": "#FF97FF",
          "dash": "solid"
         },
         "marker": {
          "symbol": "circle"
         },
         "mode": "lines",
         "name": "20_SPW_D20",
         "orientation": "v",
         "showlegend": true,
         "type": "scatter",
         "x": [
          "2021-06-30T00:00:00",
          "2021-12-15T00:00:00",
          "2022-04-14T00:00:00"
         ],
         "xaxis": "x",
         "y": [
          -44,
          -35,
          -38
         ],
         "yaxis": "y"
        },
        {
         "hovertemplate": "id=20_SPW_D33<br>Date=%{x}<br>Ground Water Level (cm)=%{y}<extra></extra>",
         "legendgroup": "20_SPW_D33",
         "line": {
          "color": "#FECB52",
          "dash": "solid"
         },
         "marker": {
          "symbol": "circle"
         },
         "mode": "lines",
         "name": "20_SPW_D33",
         "orientation": "v",
         "showlegend": true,
         "type": "scatter",
         "x": [
          "2021-01-01T00:00:00",
          "2021-01-13T00:00:00",
          "2021-01-25T00:00:00",
          "2021-02-06T00:00:00",
          "2021-02-18T00:00:00",
          "2021-03-02T00:00:00",
          "2021-03-14T00:00:00",
          "2021-03-26T00:00:00",
          "2021-04-19T00:00:00",
          "2021-05-01T00:00:00",
          "2021-05-13T00:00:00",
          "2021-06-30T00:00:00",
          "2021-07-24T00:00:00",
          "2021-08-05T00:00:00",
          "2021-08-17T00:00:00",
          "2021-08-29T00:00:00",
          "2021-09-10T00:00:00",
          "2021-09-22T00:00:00",
          "2021-10-04T00:00:00",
          "2021-10-16T00:00:00",
          "2021-10-28T00:00:00",
          "2021-11-09T00:00:00",
          "2021-11-21T00:00:00",
          "2021-12-03T00:00:00",
          "2021-12-15T00:00:00",
          "2021-12-27T00:00:00",
          "2022-01-08T00:00:00",
          "2022-01-20T00:00:00",
          "2022-02-01T00:00:00",
          "2022-02-13T00:00:00",
          "2022-02-25T00:00:00",
          "2022-03-09T00:00:00",
          "2022-03-21T00:00:00",
          "2022-04-02T00:00:00",
          "2022-04-14T00:00:00",
          "2022-04-26T00:00:00",
          "2022-05-08T00:00:00",
          "2022-06-13T00:00:00",
          "2022-06-25T00:00:00",
          "2022-07-07T00:00:00",
          "2022-08-12T00:00:00",
          "2022-08-24T00:00:00",
          "2022-09-05T00:00:00",
          "2022-09-17T00:00:00",
          "2022-09-29T00:00:00",
          "2022-10-11T00:00:00",
          "2022-12-10T00:00:00",
          "2023-05-27T00:00:00",
          "2023-06-08T00:00:00"
         ],
         "xaxis": "x",
         "y": [
          0,
          -55.2,
          -45.06,
          -10.1,
          -26.93,
          -43.39,
          -31.93,
          -39.12,
          -34.97,
          -38.33,
          -21.74,
          -37.85,
          -28.06,
          -20.06,
          -12.55,
          -28.14,
          -42.56,
          -34.51,
          -41.58,
          -50.65,
          -43.55,
          -20.98,
          -21.65,
          -27,
          -37.4,
          -27.32,
          -28.71,
          -22.56,
          -20.33,
          -23.2,
          -31.61,
          -31.5,
          0.44,
          -21.11,
          -33.08,
          -35.53,
          -27.11,
          -16.57,
          7.65,
          -6.68,
          -24.22,
          -27.35,
          -20.12,
          -17.49,
          -23.14,
          -14.21,
          -21.52,
          -45.65,
          -49.96
         ],
         "yaxis": "y"
        },
        {
         "hovertemplate": "id=20_SPW_D37<br>Date=%{x}<br>Ground Water Level (cm)=%{y}<extra></extra>",
         "legendgroup": "20_SPW_D37",
         "line": {
          "color": "#636efa",
          "dash": "solid"
         },
         "marker": {
          "symbol": "circle"
         },
         "mode": "lines",
         "name": "20_SPW_D37",
         "orientation": "v",
         "showlegend": true,
         "type": "scatter",
         "x": [
          "2021-06-30T00:00:00",
          "2021-12-15T00:00:00",
          "2022-04-14T00:00:00"
         ],
         "xaxis": "x",
         "y": [
          -55,
          -45,
          -33
         ],
         "yaxis": "y"
        },
        {
         "hovertemplate": "id=20_SPW_D7<br>Date=%{x}<br>Ground Water Level (cm)=%{y}<extra></extra>",
         "legendgroup": "20_SPW_D7",
         "line": {
          "color": "#EF553B",
          "dash": "solid"
         },
         "marker": {
          "symbol": "circle"
         },
         "mode": "lines",
         "name": "20_SPW_D7",
         "orientation": "v",
         "showlegend": true,
         "type": "scatter",
         "x": [
          "2021-06-30T00:00:00",
          "2021-12-15T00:00:00",
          "2022-04-14T00:00:00"
         ],
         "xaxis": "x",
         "y": [
          -19,
          3,
          -15
         ],
         "yaxis": "y"
        },
        {
         "hovertemplate": "id=20_SPW_E11<br>Date=%{x}<br>Ground Water Level (cm)=%{y}<extra></extra>",
         "legendgroup": "20_SPW_E11",
         "line": {
          "color": "#00cc96",
          "dash": "solid"
         },
         "marker": {
          "symbol": "circle"
         },
         "mode": "lines",
         "name": "20_SPW_E11",
         "orientation": "v",
         "showlegend": true,
         "type": "scatter",
         "x": [
          "2021-06-30T00:00:00",
          "2021-12-15T00:00:00",
          "2022-04-14T00:00:00"
         ],
         "xaxis": "x",
         "y": [
          -12,
          5,
          -12
         ],
         "yaxis": "y"
        },
        {
         "hovertemplate": "id=20_SPW_E17<br>Date=%{x}<br>Ground Water Level (cm)=%{y}<extra></extra>",
         "legendgroup": "20_SPW_E17",
         "line": {
          "color": "#ab63fa",
          "dash": "solid"
         },
         "marker": {
          "symbol": "circle"
         },
         "mode": "lines",
         "name": "20_SPW_E17",
         "orientation": "v",
         "showlegend": true,
         "type": "scatter",
         "x": [
          "2021-06-30T00:00:00",
          "2021-12-15T00:00:00",
          "2022-04-14T00:00:00"
         ],
         "xaxis": "x",
         "y": [
          -48,
          -35,
          -30
         ],
         "yaxis": "y"
        },
        {
         "hovertemplate": "id=20_SPW_E22<br>Date=%{x}<br>Ground Water Level (cm)=%{y}<extra></extra>",
         "legendgroup": "20_SPW_E22",
         "line": {
          "color": "#FFA15A",
          "dash": "solid"
         },
         "marker": {
          "symbol": "circle"
         },
         "mode": "lines",
         "name": "20_SPW_E22",
         "orientation": "v",
         "showlegend": true,
         "type": "scatter",
         "x": [
          "2021-06-30T00:00:00",
          "2021-12-15T00:00:00",
          "2022-04-14T00:00:00"
         ],
         "xaxis": "x",
         "y": [
          -39,
          -38,
          -38
         ],
         "yaxis": "y"
        },
        {
         "hovertemplate": "id=20_SPW_E3<br>Date=%{x}<br>Ground Water Level (cm)=%{y}<extra></extra>",
         "legendgroup": "20_SPW_E3",
         "line": {
          "color": "#19d3f3",
          "dash": "solid"
         },
         "marker": {
          "symbol": "circle"
         },
         "mode": "lines",
         "name": "20_SPW_E3",
         "orientation": "v",
         "showlegend": true,
         "type": "scatter",
         "x": [
          "2021-06-30T00:00:00",
          "2021-12-15T00:00:00",
          "2022-04-14T00:00:00"
         ],
         "xaxis": "x",
         "y": [
          -21,
          -15,
          -32
         ],
         "yaxis": "y"
        },
        {
         "hovertemplate": "id=20_SPW_E35<br>Date=%{x}<br>Ground Water Level (cm)=%{y}<extra></extra>",
         "legendgroup": "20_SPW_E35",
         "line": {
          "color": "#FF6692",
          "dash": "solid"
         },
         "marker": {
          "symbol": "circle"
         },
         "mode": "lines",
         "name": "20_SPW_E35",
         "orientation": "v",
         "showlegend": true,
         "type": "scatter",
         "x": [
          "2021-06-30T00:00:00",
          "2021-12-15T00:00:00",
          "2022-04-14T00:00:00"
         ],
         "xaxis": "x",
         "y": [
          -51,
          -27,
          -38
         ],
         "yaxis": "y"
        },
        {
         "hovertemplate": "id=20_SPW_F11<br>Date=%{x}<br>Ground Water Level (cm)=%{y}<extra></extra>",
         "legendgroup": "20_SPW_F11",
         "line": {
          "color": "#B6E880",
          "dash": "solid"
         },
         "marker": {
          "symbol": "circle"
         },
         "mode": "lines",
         "name": "20_SPW_F11",
         "orientation": "v",
         "showlegend": true,
         "type": "scatter",
         "x": [
          "2021-06-30T00:00:00",
          "2021-12-15T00:00:00",
          "2022-04-14T00:00:00"
         ],
         "xaxis": "x",
         "y": [
          -40,
          -24,
          -26
         ],
         "yaxis": "y"
        },
        {
         "hovertemplate": "id=20_SPW_F19<br>Date=%{x}<br>Ground Water Level (cm)=%{y}<extra></extra>",
         "legendgroup": "20_SPW_F19",
         "line": {
          "color": "#FF97FF",
          "dash": "solid"
         },
         "marker": {
          "symbol": "circle"
         },
         "mode": "lines",
         "name": "20_SPW_F19",
         "orientation": "v",
         "showlegend": true,
         "type": "scatter",
         "x": [
          "2021-06-30T00:00:00",
          "2021-12-15T00:00:00",
          "2022-04-14T00:00:00"
         ],
         "xaxis": "x",
         "y": [
          -51,
          -44,
          -35
         ],
         "yaxis": "y"
        },
        {
         "hovertemplate": "id=20_SPW_F24<br>Date=%{x}<br>Ground Water Level (cm)=%{y}<extra></extra>",
         "legendgroup": "20_SPW_F24",
         "line": {
          "color": "#FECB52",
          "dash": "solid"
         },
         "marker": {
          "symbol": "circle"
         },
         "mode": "lines",
         "name": "20_SPW_F24",
         "orientation": "v",
         "showlegend": true,
         "type": "scatter",
         "x": [
          "2021-06-30T00:00:00",
          "2021-12-15T00:00:00",
          "2022-04-14T00:00:00"
         ],
         "xaxis": "x",
         "y": [
          -29,
          -17,
          -34
         ],
         "yaxis": "y"
        },
        {
         "hovertemplate": "id=20_SPW_F30<br>Date=%{x}<br>Ground Water Level (cm)=%{y}<extra></extra>",
         "legendgroup": "20_SPW_F30",
         "line": {
          "color": "#636efa",
          "dash": "solid"
         },
         "marker": {
          "symbol": "circle"
         },
         "mode": "lines",
         "name": "20_SPW_F30",
         "orientation": "v",
         "showlegend": true,
         "type": "scatter",
         "x": [
          "2021-06-30T00:00:00",
          "2021-12-15T00:00:00",
          "2022-04-14T00:00:00"
         ],
         "xaxis": "x",
         "y": [
          -45,
          -39,
          -19
         ],
         "yaxis": "y"
        },
        {
         "hovertemplate": "id=20_SPW_F33<br>Date=%{x}<br>Ground Water Level (cm)=%{y}<extra></extra>",
         "legendgroup": "20_SPW_F33",
         "line": {
          "color": "#EF553B",
          "dash": "solid"
         },
         "marker": {
          "symbol": "circle"
         },
         "mode": "lines",
         "name": "20_SPW_F33",
         "orientation": "v",
         "showlegend": true,
         "type": "scatter",
         "x": [
          "2021-06-30T00:00:00",
          "2021-12-15T00:00:00",
          "2022-04-14T00:00:00"
         ],
         "xaxis": "x",
         "y": [
          -36,
          -4,
          -29
         ],
         "yaxis": "y"
        },
        {
         "hovertemplate": "id=20_SPW_F4<br>Date=%{x}<br>Ground Water Level (cm)=%{y}<extra></extra>",
         "legendgroup": "20_SPW_F4",
         "line": {
          "color": "#00cc96",
          "dash": "solid"
         },
         "marker": {
          "symbol": "circle"
         },
         "mode": "lines",
         "name": "20_SPW_F4",
         "orientation": "v",
         "showlegend": true,
         "type": "scatter",
         "x": [
          "2021-06-30T00:00:00",
          "2021-12-15T00:00:00",
          "2022-04-14T00:00:00"
         ],
         "xaxis": "x",
         "y": [
          -29,
          -24,
          -21
         ],
         "yaxis": "y"
        },
        {
         "hovertemplate": "id=20_SPW_G23<br>Date=%{x}<br>Ground Water Level (cm)=%{y}<extra></extra>",
         "legendgroup": "20_SPW_G23",
         "line": {
          "color": "#ab63fa",
          "dash": "solid"
         },
         "marker": {
          "symbol": "circle"
         },
         "mode": "lines",
         "name": "20_SPW_G23",
         "orientation": "v",
         "showlegend": true,
         "type": "scatter",
         "x": [
          "2021-01-01T00:00:00",
          "2021-01-13T00:00:00",
          "2021-01-25T00:00:00",
          "2021-02-06T00:00:00",
          "2021-02-18T00:00:00",
          "2021-03-02T00:00:00",
          "2021-03-14T00:00:00",
          "2021-03-26T00:00:00",
          "2021-04-19T00:00:00",
          "2021-05-01T00:00:00",
          "2021-05-13T00:00:00",
          "2021-06-30T00:00:00",
          "2021-07-24T00:00:00",
          "2021-08-05T00:00:00",
          "2021-08-17T00:00:00",
          "2021-08-29T00:00:00",
          "2021-09-10T00:00:00",
          "2021-09-22T00:00:00",
          "2021-10-04T00:00:00",
          "2021-10-16T00:00:00",
          "2021-10-28T00:00:00",
          "2021-11-09T00:00:00",
          "2021-11-21T00:00:00",
          "2021-12-03T00:00:00",
          "2021-12-15T00:00:00",
          "2021-12-27T00:00:00",
          "2022-01-08T00:00:00",
          "2022-01-20T00:00:00",
          "2022-02-01T00:00:00",
          "2022-02-13T00:00:00",
          "2022-02-25T00:00:00",
          "2022-03-09T00:00:00",
          "2022-03-21T00:00:00",
          "2022-04-02T00:00:00",
          "2022-04-14T00:00:00",
          "2022-04-26T00:00:00",
          "2022-05-08T00:00:00",
          "2022-06-13T00:00:00",
          "2022-06-25T00:00:00",
          "2022-07-07T00:00:00",
          "2022-08-12T00:00:00",
          "2022-08-24T00:00:00",
          "2022-09-05T00:00:00",
          "2022-09-17T00:00:00",
          "2022-09-29T00:00:00",
          "2022-10-11T00:00:00",
          "2022-12-10T00:00:00",
          "2023-05-27T00:00:00",
          "2023-06-08T00:00:00"
         ],
         "xaxis": "x",
         "y": [
          0,
          -54.3,
          -26.93,
          8.47,
          -20.11,
          -20.39,
          -19.75,
          -24.6,
          -30.17,
          -32.01,
          -35.13,
          -33.59,
          -8.59,
          1.4,
          8.56,
          -2.85,
          -29.03,
          -17.63,
          -23.61,
          -45.82,
          -28.99,
          -20.63,
          -14.55,
          -19.35,
          -37.27,
          -27.99,
          -30.05,
          -13.65,
          -22.6,
          -15.19,
          -16.83,
          -19.79,
          -14.23,
          -28.01,
          -41.08,
          -45.5,
          -45.81,
          -15.58,
          0.29,
          -33.94,
          -29.95,
          -36.96,
          -30.94,
          -34.74,
          -39.01,
          -37.68,
          -41.98,
          -38.79,
          -62.17
         ],
         "yaxis": "y"
        },
        {
         "hovertemplate": "id=20_SPW_G26<br>Date=%{x}<br>Ground Water Level (cm)=%{y}<extra></extra>",
         "legendgroup": "20_SPW_G26",
         "line": {
          "color": "#FFA15A",
          "dash": "solid"
         },
         "marker": {
          "symbol": "circle"
         },
         "mode": "lines",
         "name": "20_SPW_G26",
         "orientation": "v",
         "showlegend": true,
         "type": "scatter",
         "x": [
          "2021-06-30T00:00:00",
          "2021-12-15T00:00:00",
          "2022-04-14T00:00:00"
         ],
         "xaxis": "x",
         "y": [
          -30,
          -15,
          -30
         ],
         "yaxis": "y"
        },
        {
         "hovertemplate": "id=20_SPW_G29<br>Date=%{x}<br>Ground Water Level (cm)=%{y}<extra></extra>",
         "legendgroup": "20_SPW_G29",
         "line": {
          "color": "#19d3f3",
          "dash": "solid"
         },
         "marker": {
          "symbol": "circle"
         },
         "mode": "lines",
         "name": "20_SPW_G29",
         "orientation": "v",
         "showlegend": true,
         "type": "scatter",
         "x": [
          "2021-01-01T00:00:00",
          "2021-01-13T00:00:00",
          "2021-01-25T00:00:00",
          "2021-02-06T00:00:00",
          "2021-02-18T00:00:00",
          "2021-03-02T00:00:00",
          "2021-03-14T00:00:00",
          "2021-03-26T00:00:00",
          "2021-04-19T00:00:00",
          "2021-05-01T00:00:00",
          "2021-05-13T00:00:00",
          "2021-06-30T00:00:00",
          "2021-07-24T00:00:00",
          "2021-08-05T00:00:00",
          "2021-08-17T00:00:00",
          "2021-08-29T00:00:00",
          "2021-09-10T00:00:00",
          "2021-09-22T00:00:00",
          "2021-10-04T00:00:00",
          "2021-10-16T00:00:00",
          "2021-10-28T00:00:00",
          "2021-11-09T00:00:00",
          "2021-11-21T00:00:00",
          "2021-12-03T00:00:00",
          "2021-12-15T00:00:00",
          "2021-12-27T00:00:00",
          "2022-01-08T00:00:00",
          "2022-01-20T00:00:00",
          "2022-02-01T00:00:00",
          "2022-02-13T00:00:00",
          "2022-02-25T00:00:00",
          "2022-03-09T00:00:00",
          "2022-03-21T00:00:00",
          "2022-04-02T00:00:00",
          "2022-04-14T00:00:00",
          "2022-04-26T00:00:00",
          "2022-05-08T00:00:00",
          "2022-06-13T00:00:00",
          "2022-06-25T00:00:00",
          "2022-07-07T00:00:00",
          "2022-08-12T00:00:00",
          "2022-08-24T00:00:00",
          "2022-09-05T00:00:00",
          "2022-09-17T00:00:00",
          "2022-09-29T00:00:00",
          "2022-10-11T00:00:00",
          "2022-12-10T00:00:00",
          "2023-05-27T00:00:00",
          "2023-06-08T00:00:00"
         ],
         "xaxis": "x",
         "y": [
          0,
          -55.8,
          -33.87,
          -4.31,
          -31.93,
          -35.29,
          -36.97,
          -37.09,
          -35.76,
          -40.55,
          -35.3,
          -34.53,
          -14.83,
          -9.25,
          -9.54,
          -17.24,
          -29.49,
          -25.2,
          -24.7,
          -56.73,
          -44.14,
          -26.03,
          -11.01,
          -11.02,
          -20.29,
          -7.53,
          -16.1,
          -5.27,
          -8.01,
          -12.3,
          -10.86,
          -10.75,
          -12.74,
          -29.23,
          -39.34,
          -45.4,
          -38.71,
          -2.75,
          -1.31,
          -12.76,
          -14.17,
          -28.78,
          -10.08,
          -15.25,
          -19.79,
          -11.52,
          -27.67,
          -42.69,
          -50.74
         ],
         "yaxis": "y"
        },
        {
         "hovertemplate": "id=20_SPW_G31<br>Date=%{x}<br>Ground Water Level (cm)=%{y}<extra></extra>",
         "legendgroup": "20_SPW_G31",
         "line": {
          "color": "#FF6692",
          "dash": "solid"
         },
         "marker": {
          "symbol": "circle"
         },
         "mode": "lines",
         "name": "20_SPW_G31",
         "orientation": "v",
         "showlegend": true,
         "type": "scatter",
         "x": [
          "2021-06-30T00:00:00",
          "2021-12-15T00:00:00",
          "2022-04-14T00:00:00"
         ],
         "xaxis": "x",
         "y": [
          -38,
          1,
          -24
         ],
         "yaxis": "y"
        },
        {
         "hovertemplate": "id=20_SPW_H27<br>Date=%{x}<br>Ground Water Level (cm)=%{y}<extra></extra>",
         "legendgroup": "20_SPW_H27",
         "line": {
          "color": "#B6E880",
          "dash": "solid"
         },
         "marker": {
          "symbol": "circle"
         },
         "mode": "lines",
         "name": "20_SPW_H27",
         "orientation": "v",
         "showlegend": true,
         "type": "scatter",
         "x": [
          "2021-06-30T00:00:00",
          "2021-12-15T00:00:00",
          "2022-04-14T00:00:00"
         ],
         "xaxis": "x",
         "y": [
          -25,
          -7,
          -28
         ],
         "yaxis": "y"
        },
        {
         "hovertemplate": "id=20_SPW_H31<br>Date=%{x}<br>Ground Water Level (cm)=%{y}<extra></extra>",
         "legendgroup": "20_SPW_H31",
         "line": {
          "color": "#FF97FF",
          "dash": "solid"
         },
         "marker": {
          "symbol": "circle"
         },
         "mode": "lines",
         "name": "20_SPW_H31",
         "orientation": "v",
         "showlegend": true,
         "type": "scatter",
         "x": [
          "2021-06-30T00:00:00",
          "2021-12-15T00:00:00",
          "2022-04-14T00:00:00"
         ],
         "xaxis": "x",
         "y": [
          -36,
          -32,
          -33
         ],
         "yaxis": "y"
        },
        {
         "hovertemplate": "id=20_SPW_I22<br>Date=%{x}<br>Ground Water Level (cm)=%{y}<extra></extra>",
         "legendgroup": "20_SPW_I22",
         "line": {
          "color": "#FECB52",
          "dash": "solid"
         },
         "marker": {
          "symbol": "circle"
         },
         "mode": "lines",
         "name": "20_SPW_I22",
         "orientation": "v",
         "showlegend": true,
         "type": "scatter",
         "x": [
          "2021-06-30T00:00:00",
          "2021-12-15T00:00:00",
          "2022-04-14T00:00:00"
         ],
         "xaxis": "x",
         "y": [
          -16,
          -2,
          -15
         ],
         "yaxis": "y"
        },
        {
         "hovertemplate": "id=20_SPW_J33<br>Date=%{x}<br>Ground Water Level (cm)=%{y}<extra></extra>",
         "legendgroup": "20_SPW_J33",
         "line": {
          "color": "#636efa",
          "dash": "solid"
         },
         "marker": {
          "symbol": "circle"
         },
         "mode": "lines",
         "name": "20_SPW_J33",
         "orientation": "v",
         "showlegend": true,
         "type": "scatter",
         "x": [
          "2021-06-30T00:00:00",
          "2021-12-15T00:00:00",
          "2022-04-14T00:00:00"
         ],
         "xaxis": "x",
         "y": [
          -23,
          -11,
          -19
         ],
         "yaxis": "y"
        },
        {
         "hovertemplate": "id=20_SPW_J36<br>Date=%{x}<br>Ground Water Level (cm)=%{y}<extra></extra>",
         "legendgroup": "20_SPW_J36",
         "line": {
          "color": "#EF553B",
          "dash": "solid"
         },
         "marker": {
          "symbol": "circle"
         },
         "mode": "lines",
         "name": "20_SPW_J36",
         "orientation": "v",
         "showlegend": true,
         "type": "scatter",
         "x": [
          "2021-06-30T00:00:00",
          "2021-12-15T00:00:00",
          "2022-04-14T00:00:00"
         ],
         "xaxis": "x",
         "y": [
          -28,
          -25,
          -26
         ],
         "yaxis": "y"
        }
       ],
       "layout": {
        "autosize": true,
        "legend": {
         "title": {
          "text": "id"
         },
         "tracegroupgap": 0
        },
        "template": {
         "data": {
          "bar": [
           {
            "error_x": {
             "color": "#2a3f5f"
            },
            "error_y": {
             "color": "#2a3f5f"
            },
            "marker": {
             "line": {
              "color": "#E5ECF6",
              "width": 0.5
             },
             "pattern": {
              "fillmode": "overlay",
              "size": 10,
              "solidity": 0.2
             }
            },
            "type": "bar"
           }
          ],
          "barpolar": [
           {
            "marker": {
             "line": {
              "color": "#E5ECF6",
              "width": 0.5
             },
             "pattern": {
              "fillmode": "overlay",
              "size": 10,
              "solidity": 0.2
             }
            },
            "type": "barpolar"
           }
          ],
          "carpet": [
           {
            "aaxis": {
             "endlinecolor": "#2a3f5f",
             "gridcolor": "white",
             "linecolor": "white",
             "minorgridcolor": "white",
             "startlinecolor": "#2a3f5f"
            },
            "baxis": {
             "endlinecolor": "#2a3f5f",
             "gridcolor": "white",
             "linecolor": "white",
             "minorgridcolor": "white",
             "startlinecolor": "#2a3f5f"
            },
            "type": "carpet"
           }
          ],
          "choropleth": [
           {
            "colorbar": {
             "outlinewidth": 0,
             "ticks": ""
            },
            "type": "choropleth"
           }
          ],
          "contour": [
           {
            "colorbar": {
             "outlinewidth": 0,
             "ticks": ""
            },
            "colorscale": [
             [
              0,
              "#0d0887"
             ],
             [
              0.1111111111111111,
              "#46039f"
             ],
             [
              0.2222222222222222,
              "#7201a8"
             ],
             [
              0.3333333333333333,
              "#9c179e"
             ],
             [
              0.4444444444444444,
              "#bd3786"
             ],
             [
              0.5555555555555556,
              "#d8576b"
             ],
             [
              0.6666666666666666,
              "#ed7953"
             ],
             [
              0.7777777777777778,
              "#fb9f3a"
             ],
             [
              0.8888888888888888,
              "#fdca26"
             ],
             [
              1,
              "#f0f921"
             ]
            ],
            "type": "contour"
           }
          ],
          "contourcarpet": [
           {
            "colorbar": {
             "outlinewidth": 0,
             "ticks": ""
            },
            "type": "contourcarpet"
           }
          ],
          "heatmap": [
           {
            "colorbar": {
             "outlinewidth": 0,
             "ticks": ""
            },
            "colorscale": [
             [
              0,
              "#0d0887"
             ],
             [
              0.1111111111111111,
              "#46039f"
             ],
             [
              0.2222222222222222,
              "#7201a8"
             ],
             [
              0.3333333333333333,
              "#9c179e"
             ],
             [
              0.4444444444444444,
              "#bd3786"
             ],
             [
              0.5555555555555556,
              "#d8576b"
             ],
             [
              0.6666666666666666,
              "#ed7953"
             ],
             [
              0.7777777777777778,
              "#fb9f3a"
             ],
             [
              0.8888888888888888,
              "#fdca26"
             ],
             [
              1,
              "#f0f921"
             ]
            ],
            "type": "heatmap"
           }
          ],
          "heatmapgl": [
           {
            "colorbar": {
             "outlinewidth": 0,
             "ticks": ""
            },
            "colorscale": [
             [
              0,
              "#0d0887"
             ],
             [
              0.1111111111111111,
              "#46039f"
             ],
             [
              0.2222222222222222,
              "#7201a8"
             ],
             [
              0.3333333333333333,
              "#9c179e"
             ],
             [
              0.4444444444444444,
              "#bd3786"
             ],
             [
              0.5555555555555556,
              "#d8576b"
             ],
             [
              0.6666666666666666,
              "#ed7953"
             ],
             [
              0.7777777777777778,
              "#fb9f3a"
             ],
             [
              0.8888888888888888,
              "#fdca26"
             ],
             [
              1,
              "#f0f921"
             ]
            ],
            "type": "heatmapgl"
           }
          ],
          "histogram": [
           {
            "marker": {
             "pattern": {
              "fillmode": "overlay",
              "size": 10,
              "solidity": 0.2
             }
            },
            "type": "histogram"
           }
          ],
          "histogram2d": [
           {
            "colorbar": {
             "outlinewidth": 0,
             "ticks": ""
            },
            "colorscale": [
             [
              0,
              "#0d0887"
             ],
             [
              0.1111111111111111,
              "#46039f"
             ],
             [
              0.2222222222222222,
              "#7201a8"
             ],
             [
              0.3333333333333333,
              "#9c179e"
             ],
             [
              0.4444444444444444,
              "#bd3786"
             ],
             [
              0.5555555555555556,
              "#d8576b"
             ],
             [
              0.6666666666666666,
              "#ed7953"
             ],
             [
              0.7777777777777778,
              "#fb9f3a"
             ],
             [
              0.8888888888888888,
              "#fdca26"
             ],
             [
              1,
              "#f0f921"
             ]
            ],
            "type": "histogram2d"
           }
          ],
          "histogram2dcontour": [
           {
            "colorbar": {
             "outlinewidth": 0,
             "ticks": ""
            },
            "colorscale": [
             [
              0,
              "#0d0887"
             ],
             [
              0.1111111111111111,
              "#46039f"
             ],
             [
              0.2222222222222222,
              "#7201a8"
             ],
             [
              0.3333333333333333,
              "#9c179e"
             ],
             [
              0.4444444444444444,
              "#bd3786"
             ],
             [
              0.5555555555555556,
              "#d8576b"
             ],
             [
              0.6666666666666666,
              "#ed7953"
             ],
             [
              0.7777777777777778,
              "#fb9f3a"
             ],
             [
              0.8888888888888888,
              "#fdca26"
             ],
             [
              1,
              "#f0f921"
             ]
            ],
            "type": "histogram2dcontour"
           }
          ],
          "mesh3d": [
           {
            "colorbar": {
             "outlinewidth": 0,
             "ticks": ""
            },
            "type": "mesh3d"
           }
          ],
          "parcoords": [
           {
            "line": {
             "colorbar": {
              "outlinewidth": 0,
              "ticks": ""
             }
            },
            "type": "parcoords"
           }
          ],
          "pie": [
           {
            "automargin": true,
            "type": "pie"
           }
          ],
          "scatter": [
           {
            "fillpattern": {
             "fillmode": "overlay",
             "size": 10,
             "solidity": 0.2
            },
            "type": "scatter"
           }
          ],
          "scatter3d": [
           {
            "line": {
             "colorbar": {
              "outlinewidth": 0,
              "ticks": ""
             }
            },
            "marker": {
             "colorbar": {
              "outlinewidth": 0,
              "ticks": ""
             }
            },
            "type": "scatter3d"
           }
          ],
          "scattercarpet": [
           {
            "marker": {
             "colorbar": {
              "outlinewidth": 0,
              "ticks": ""
             }
            },
            "type": "scattercarpet"
           }
          ],
          "scattergeo": [
           {
            "marker": {
             "colorbar": {
              "outlinewidth": 0,
              "ticks": ""
             }
            },
            "type": "scattergeo"
           }
          ],
          "scattergl": [
           {
            "marker": {
             "colorbar": {
              "outlinewidth": 0,
              "ticks": ""
             }
            },
            "type": "scattergl"
           }
          ],
          "scattermapbox": [
           {
            "marker": {
             "colorbar": {
              "outlinewidth": 0,
              "ticks": ""
             }
            },
            "type": "scattermapbox"
           }
          ],
          "scatterpolar": [
           {
            "marker": {
             "colorbar": {
              "outlinewidth": 0,
              "ticks": ""
             }
            },
            "type": "scatterpolar"
           }
          ],
          "scatterpolargl": [
           {
            "marker": {
             "colorbar": {
              "outlinewidth": 0,
              "ticks": ""
             }
            },
            "type": "scatterpolargl"
           }
          ],
          "scatterternary": [
           {
            "marker": {
             "colorbar": {
              "outlinewidth": 0,
              "ticks": ""
             }
            },
            "type": "scatterternary"
           }
          ],
          "surface": [
           {
            "colorbar": {
             "outlinewidth": 0,
             "ticks": ""
            },
            "colorscale": [
             [
              0,
              "#0d0887"
             ],
             [
              0.1111111111111111,
              "#46039f"
             ],
             [
              0.2222222222222222,
              "#7201a8"
             ],
             [
              0.3333333333333333,
              "#9c179e"
             ],
             [
              0.4444444444444444,
              "#bd3786"
             ],
             [
              0.5555555555555556,
              "#d8576b"
             ],
             [
              0.6666666666666666,
              "#ed7953"
             ],
             [
              0.7777777777777778,
              "#fb9f3a"
             ],
             [
              0.8888888888888888,
              "#fdca26"
             ],
             [
              1,
              "#f0f921"
             ]
            ],
            "type": "surface"
           }
          ],
          "table": [
           {
            "cells": {
             "fill": {
              "color": "#EBF0F8"
             },
             "line": {
              "color": "white"
             }
            },
            "header": {
             "fill": {
              "color": "#C8D4E3"
             },
             "line": {
              "color": "white"
             }
            },
            "type": "table"
           }
          ]
         },
         "layout": {
          "annotationdefaults": {
           "arrowcolor": "#2a3f5f",
           "arrowhead": 0,
           "arrowwidth": 1
          },
          "autotypenumbers": "strict",
          "coloraxis": {
           "colorbar": {
            "outlinewidth": 0,
            "ticks": ""
           }
          },
          "colorscale": {
           "diverging": [
            [
             0,
             "#8e0152"
            ],
            [
             0.1,
             "#c51b7d"
            ],
            [
             0.2,
             "#de77ae"
            ],
            [
             0.3,
             "#f1b6da"
            ],
            [
             0.4,
             "#fde0ef"
            ],
            [
             0.5,
             "#f7f7f7"
            ],
            [
             0.6,
             "#e6f5d0"
            ],
            [
             0.7,
             "#b8e186"
            ],
            [
             0.8,
             "#7fbc41"
            ],
            [
             0.9,
             "#4d9221"
            ],
            [
             1,
             "#276419"
            ]
           ],
           "sequential": [
            [
             0,
             "#0d0887"
            ],
            [
             0.1111111111111111,
             "#46039f"
            ],
            [
             0.2222222222222222,
             "#7201a8"
            ],
            [
             0.3333333333333333,
             "#9c179e"
            ],
            [
             0.4444444444444444,
             "#bd3786"
            ],
            [
             0.5555555555555556,
             "#d8576b"
            ],
            [
             0.6666666666666666,
             "#ed7953"
            ],
            [
             0.7777777777777778,
             "#fb9f3a"
            ],
            [
             0.8888888888888888,
             "#fdca26"
            ],
            [
             1,
             "#f0f921"
            ]
           ],
           "sequentialminus": [
            [
             0,
             "#0d0887"
            ],
            [
             0.1111111111111111,
             "#46039f"
            ],
            [
             0.2222222222222222,
             "#7201a8"
            ],
            [
             0.3333333333333333,
             "#9c179e"
            ],
            [
             0.4444444444444444,
             "#bd3786"
            ],
            [
             0.5555555555555556,
             "#d8576b"
            ],
            [
             0.6666666666666666,
             "#ed7953"
            ],
            [
             0.7777777777777778,
             "#fb9f3a"
            ],
            [
             0.8888888888888888,
             "#fdca26"
            ],
            [
             1,
             "#f0f921"
            ]
           ]
          },
          "colorway": [
           "#636efa",
           "#EF553B",
           "#00cc96",
           "#ab63fa",
           "#FFA15A",
           "#19d3f3",
           "#FF6692",
           "#B6E880",
           "#FF97FF",
           "#FECB52"
          ],
          "font": {
           "color": "#2a3f5f"
          },
          "geo": {
           "bgcolor": "white",
           "lakecolor": "white",
           "landcolor": "#E5ECF6",
           "showlakes": true,
           "showland": true,
           "subunitcolor": "white"
          },
          "hoverlabel": {
           "align": "left"
          },
          "hovermode": "closest",
          "mapbox": {
           "style": "light"
          },
          "paper_bgcolor": "white",
          "plot_bgcolor": "#E5ECF6",
          "polar": {
           "angularaxis": {
            "gridcolor": "white",
            "linecolor": "white",
            "ticks": ""
           },
           "bgcolor": "#E5ECF6",
           "radialaxis": {
            "gridcolor": "white",
            "linecolor": "white",
            "ticks": ""
           }
          },
          "scene": {
           "xaxis": {
            "backgroundcolor": "#E5ECF6",
            "gridcolor": "white",
            "gridwidth": 2,
            "linecolor": "white",
            "showbackground": true,
            "ticks": "",
            "zerolinecolor": "white"
           },
           "yaxis": {
            "backgroundcolor": "#E5ECF6",
            "gridcolor": "white",
            "gridwidth": 2,
            "linecolor": "white",
            "showbackground": true,
            "ticks": "",
            "zerolinecolor": "white"
           },
           "zaxis": {
            "backgroundcolor": "#E5ECF6",
            "gridcolor": "white",
            "gridwidth": 2,
            "linecolor": "white",
            "showbackground": true,
            "ticks": "",
            "zerolinecolor": "white"
           }
          },
          "shapedefaults": {
           "line": {
            "color": "#2a3f5f"
           }
          },
          "ternary": {
           "aaxis": {
            "gridcolor": "white",
            "linecolor": "white",
            "ticks": ""
           },
           "baxis": {
            "gridcolor": "white",
            "linecolor": "white",
            "ticks": ""
           },
           "bgcolor": "#E5ECF6",
           "caxis": {
            "gridcolor": "white",
            "linecolor": "white",
            "ticks": ""
           }
          },
          "title": {
           "x": 0.05
          },
          "xaxis": {
           "automargin": true,
           "gridcolor": "white",
           "linecolor": "white",
           "ticks": "",
           "title": {
            "standoff": 15
           },
           "zerolinecolor": "white",
           "zerolinewidth": 2
          },
          "yaxis": {
           "automargin": true,
           "gridcolor": "white",
           "linecolor": "white",
           "ticks": "",
           "title": {
            "standoff": 15
           },
           "zerolinecolor": "white",
           "zerolinewidth": 2
          }
         }
        },
        "title": {
         "text": "Time Series of GWL by dipwell id"
        },
        "xaxis": {
         "anchor": "y",
         "autorange": true,
         "domain": [
          0,
          1
         ],
         "range": [
          "2021-01-01",
          "2023-06-08"
         ],
         "title": {
          "text": "Date"
         },
         "type": "date"
        },
        "yaxis": {
         "anchor": "x",
         "autorange": true,
         "domain": [
          0,
          1
         ],
         "range": [
          -66.09944444444444,
          12.489444444444445
         ],
         "title": {
          "text": "Ground Water Level (cm)"
         },
         "type": "linear"
        }
       }
      },
      "image/png": "[encoded data removed]",
      "text/html": [
       "<div>                            <div id=\"c38fa1af-7ae9-48e3-a7ca-a81c3f029214\" class=\"plotly-graph-div\" style=\"height:525px; width:100%;\"></div>            <script type=\"text/javascript\">                require([\"plotly\"], function(Plotly) {                    window.PLOTLYENV=window.PLOTLYENV || {};                                    if (document.getElementById(\"c38fa1af-7ae9-48e3-a7ca-a81c3f029214\")) {                    Plotly.newPlot(                        \"c38fa1af-7ae9-48e3-a7ca-a81c3f029214\",                        [{\"hovertemplate\":\"id=20_SPW_B14\\u003cbr\\u003eDate=%{x}\\u003cbr\\u003eGround Water Level (cm)=%{y}\\u003cextra\\u003e\\u003c\\u002fextra\\u003e\",\"legendgroup\":\"20_SPW_B14\",\"line\":{\"color\":\"#636efa\",\"dash\":\"solid\"},\"marker\":{\"symbol\":\"circle\"},\"mode\":\"lines\",\"name\":\"20_SPW_B14\",\"orientation\":\"v\",\"showlegend\":true,\"x\":[\"2021-06-30T00:00:00\",\"2021-12-15T00:00:00\",\"2022-04-14T00:00:00\"],\"xaxis\":\"x\",\"y\":[-34.0,-14.0,-27.0],\"yaxis\":\"y\",\"type\":\"scatter\"},{\"hovertemplate\":\"id=20_SPW_B18\\u003cbr\\u003eDate=%{x}\\u003cbr\\u003eGround Water Level (cm)=%{y}\\u003cextra\\u003e\\u003c\\u002fextra\\u003e\",\"legendgroup\":\"20_SPW_B18\",\"line\":{\"color\":\"#EF553B\",\"dash\":\"solid\"},\"marker\":{\"symbol\":\"circle\"},\"mode\":\"lines\",\"name\":\"20_SPW_B18\",\"orientation\":\"v\",\"showlegend\":true,\"x\":[\"2021-01-01T00:00:00\",\"2021-01-13T00:00:00\",\"2021-01-25T00:00:00\",\"2021-02-06T00:00:00\",\"2021-02-18T00:00:00\",\"2021-03-02T00:00:00\",\"2021-03-14T00:00:00\",\"2021-03-26T00:00:00\",\"2021-04-19T00:00:00\",\"2021-05-01T00:00:00\",\"2021-05-13T00:00:00\",\"2021-06-30T00:00:00\",\"2021-07-24T00:00:00\",\"2021-08-05T00:00:00\",\"2021-08-17T00:00:00\",\"2021-08-29T00:00:00\",\"2021-09-10T00:00:00\",\"2021-09-22T00:00:00\",\"2021-10-04T00:00:00\",\"2021-10-16T00:00:00\",\"2021-10-28T00:00:00\",\"2021-11-09T00:00:00\",\"2021-11-21T00:00:00\",\"2021-12-03T00:00:00\",\"2021-12-15T00:00:00\",\"2021-12-27T00:00:00\",\"2022-01-08T00:00:00\",\"2022-01-20T00:00:00\",\"2022-02-01T00:00:00\",\"2022-02-13T00:00:00\",\"2022-02-25T00:00:00\",\"2022-03-09T00:00:00\",\"2022-03-21T00:00:00\",\"2022-04-02T00:00:00\",\"2022-04-14T00:00:00\",\"2022-04-26T00:00:00\",\"2022-05-08T00:00:00\",\"2022-06-13T00:00:00\",\"2022-06-25T00:00:00\",\"2022-07-07T00:00:00\",\"2022-08-12T00:00:00\",\"2022-08-24T00:00:00\",\"2022-09-05T00:00:00\",\"2022-09-17T00:00:00\",\"2022-09-29T00:00:00\",\"2022-10-11T00:00:00\",\"2022-12-10T00:00:00\",\"2023-05-27T00:00:00\",\"2023-06-08T00:00:00\"],\"xaxis\":\"x\",\"y\":[0.0,-38.07,-13.94,3.26,-13.12,-22.68,-23.71,-25.82,-28.51,-31.99,-29.14,-34.51,-16.74,-9.57,-4.33,-13.87,-29.46,-19.27,-28.75,-40.88,-26.22,-3.72,-6.83,-15.67,-23.09,-5.53,-19.98,-3.03,-12.31,-14.3,-23.03,-21.7,-11.95,-28.33,-33.01,-34.31,-28.6,6.32,6.01,-1.75,-13.1,-14.5,-8.75,-4.24,-14.69,-4.54,-20.92,-40.53,-54.15],\"yaxis\":\"y\",\"type\":\"scatter\"},{\"hovertemplate\":\"id=20_SPW_C12\\u003cbr\\u003eDate=%{x}\\u003cbr\\u003eGround Water Level (cm)=%{y}\\u003cextra\\u003e\\u003c\\u002fextra\\u003e\",\"legendgroup\":\"20_SPW_C12\",\"line\":{\"color\":\"#00cc96\",\"dash\":\"solid\"},\"marker\":{\"symbol\":\"circle\"},\"mode\":\"lines\",\"name\":\"20_SPW_C12\",\"orientation\":\"v\",\"showlegend\":true,\"x\":[\"2021-06-30T00:00:00\",\"2021-12-15T00:00:00\",\"2022-04-14T00:00:00\"],\"xaxis\":\"x\",\"y\":[-26.0,-8.0,-25.0],\"yaxis\":\"y\",\"type\":\"scatter\"},{\"hovertemplate\":\"id=20_SPW_C16\\u003cbr\\u003eDate=%{x}\\u003cbr\\u003eGround Water Level (cm)=%{y}\\u003cextra\\u003e\\u003c\\u002fextra\\u003e\",\"legendgroup\":\"20_SPW_C16\",\"line\":{\"color\":\"#ab63fa\",\"dash\":\"solid\"},\"marker\":{\"symbol\":\"circle\"},\"mode\":\"lines\",\"name\":\"20_SPW_C16\",\"orientation\":\"v\",\"showlegend\":true,\"x\":[\"2021-06-30T00:00:00\",\"2021-12-15T00:00:00\",\"2022-04-14T00:00:00\"],\"xaxis\":\"x\",\"y\":[-41.0,-32.0,-36.0],\"yaxis\":\"y\",\"type\":\"scatter\"},{\"hovertemplate\":\"id=20_SPW_C21\\u003cbr\\u003eDate=%{x}\\u003cbr\\u003eGround Water Level (cm)=%{y}\\u003cextra\\u003e\\u003c\\u002fextra\\u003e\",\"legendgroup\":\"20_SPW_C21\",\"line\":{\"color\":\"#FFA15A\",\"dash\":\"solid\"},\"marker\":{\"symbol\":\"circle\"},\"mode\":\"lines\",\"name\":\"20_SPW_C21\",\"orientation\":\"v\",\"showlegend\":true,\"x\":[\"2021-06-30T00:00:00\",\"2021-12-15T00:00:00\",\"2022-04-14T00:00:00\"],\"xaxis\":\"x\",\"y\":[-45.0,-32.0,-40.0],\"yaxis\":\"y\",\"type\":\"scatter\"},{\"hovertemplate\":\"id=20_SPW_C7\\u003cbr\\u003eDate=%{x}\\u003cbr\\u003eGround Water Level (cm)=%{y}\\u003cextra\\u003e\\u003c\\u002fextra\\u003e\",\"legendgroup\":\"20_SPW_C7\",\"line\":{\"color\":\"#19d3f3\",\"dash\":\"solid\"},\"marker\":{\"symbol\":\"circle\"},\"mode\":\"lines\",\"name\":\"20_SPW_C7\",\"orientation\":\"v\",\"showlegend\":true,\"x\":[\"2021-06-30T00:00:00\",\"2021-12-15T00:00:00\",\"2022-04-14T00:00:00\"],\"xaxis\":\"x\",\"y\":[-16.0,-13.0,-27.0],\"yaxis\":\"y\",\"type\":\"scatter\"},{\"hovertemplate\":\"id=20_SPW_D10\\u003cbr\\u003eDate=%{x}\\u003cbr\\u003eGround Water Level (cm)=%{y}\\u003cextra\\u003e\\u003c\\u002fextra\\u003e\",\"legendgroup\":\"20_SPW_D10\",\"line\":{\"color\":\"#FF6692\",\"dash\":\"solid\"},\"marker\":{\"symbol\":\"circle\"},\"mode\":\"lines\",\"name\":\"20_SPW_D10\",\"orientation\":\"v\",\"showlegend\":true,\"x\":[\"2021-06-30T00:00:00\",\"2021-12-15T00:00:00\",\"2022-04-14T00:00:00\"],\"xaxis\":\"x\",\"y\":[-28.0,-2.0,-20.0],\"yaxis\":\"y\",\"type\":\"scatter\"},{\"hovertemplate\":\"id=20_SPW_D14\\u003cbr\\u003eDate=%{x}\\u003cbr\\u003eGround Water Level (cm)=%{y}\\u003cextra\\u003e\\u003c\\u002fextra\\u003e\",\"legendgroup\":\"20_SPW_D14\",\"line\":{\"color\":\"#B6E880\",\"dash\":\"solid\"},\"marker\":{\"symbol\":\"circle\"},\"mode\":\"lines\",\"name\":\"20_SPW_D14\",\"orientation\":\"v\",\"showlegend\":true,\"x\":[\"2021-06-30T00:00:00\",\"2021-12-15T00:00:00\",\"2022-04-14T00:00:00\"],\"xaxis\":\"x\",\"y\":[-28.0,-17.0,-28.0],\"yaxis\":\"y\",\"type\":\"scatter\"},{\"hovertemplate\":\"id=20_SPW_D20\\u003cbr\\u003eDate=%{x}\\u003cbr\\u003eGround Water Level (cm)=%{y}\\u003cextra\\u003e\\u003c\\u002fextra\\u003e\",\"legendgroup\":\"20_SPW_D20\",\"line\":{\"color\":\"#FF97FF\",\"dash\":\"solid\"},\"marker\":{\"symbol\":\"circle\"},\"mode\":\"lines\",\"name\":\"20_SPW_D20\",\"orientation\":\"v\",\"showlegend\":true,\"x\":[\"2021-06-30T00:00:00\",\"2021-12-15T00:00:00\",\"2022-04-14T00:00:00\"],\"xaxis\":\"x\",\"y\":[-44.0,-35.0,-38.0],\"yaxis\":\"y\",\"type\":\"scatter\"},{\"hovertemplate\":\"id=20_SPW_D33\\u003cbr\\u003eDate=%{x}\\u003cbr\\u003eGround Water Level (cm)=%{y}\\u003cextra\\u003e\\u003c\\u002fextra\\u003e\",\"legendgroup\":\"20_SPW_D33\",\"line\":{\"color\":\"#FECB52\",\"dash\":\"solid\"},\"marker\":{\"symbol\":\"circle\"},\"mode\":\"lines\",\"name\":\"20_SPW_D33\",\"orientation\":\"v\",\"showlegend\":true,\"x\":[\"2021-01-01T00:00:00\",\"2021-01-13T00:00:00\",\"2021-01-25T00:00:00\",\"2021-02-06T00:00:00\",\"2021-02-18T00:00:00\",\"2021-03-02T00:00:00\",\"2021-03-14T00:00:00\",\"2021-03-26T00:00:00\",\"2021-04-19T00:00:00\",\"2021-05-01T00:00:00\",\"2021-05-13T00:00:00\",\"2021-06-30T00:00:00\",\"2021-07-24T00:00:00\",\"2021-08-05T00:00:00\",\"2021-08-17T00:00:00\",\"2021-08-29T00:00:00\",\"2021-09-10T00:00:00\",\"2021-09-22T00:00:00\",\"2021-10-04T00:00:00\",\"2021-10-16T00:00:00\",\"2021-10-28T00:00:00\",\"2021-11-09T00:00:00\",\"2021-11-21T00:00:00\",\"2021-12-03T00:00:00\",\"2021-12-15T00:00:00\",\"2021-12-27T00:00:00\",\"2022-01-08T00:00:00\",\"2022-01-20T00:00:00\",\"2022-02-01T00:00:00\",\"2022-02-13T00:00:00\",\"2022-02-25T00:00:00\",\"2022-03-09T00:00:00\",\"2022-03-21T00:00:00\",\"2022-04-02T00:00:00\",\"2022-04-14T00:00:00\",\"2022-04-26T00:00:00\",\"2022-05-08T00:00:00\",\"2022-06-13T00:00:00\",\"2022-06-25T00:00:00\",\"2022-07-07T00:00:00\",\"2022-08-12T00:00:00\",\"2022-08-24T00:00:00\",\"2022-09-05T00:00:00\",\"2022-09-17T00:00:00\",\"2022-09-29T00:00:00\",\"2022-10-11T00:00:00\",\"2022-12-10T00:00:00\",\"2023-05-27T00:00:00\",\"2023-06-08T00:00:00\"],\"xaxis\":\"x\",\"y\":[0.0,-55.2,-45.06,-10.1,-26.93,-43.39,-31.93,-39.12,-34.97,-38.33,-21.74,-37.85,-28.06,-20.06,-12.55,-28.14,-42.56,-34.51,-41.58,-50.65,-43.55,-20.98,-21.65,-27.0,-37.4,-27.32,-28.71,-22.56,-20.33,-23.2,-31.61,-31.5,0.44,-21.11,-33.08,-35.53,-27.11,-16.57,7.65,-6.68,-24.22,-27.35,-20.12,-17.49,-23.14,-14.21,-21.52,-45.65,-49.96],\"yaxis\":\"y\",\"type\":\"scatter\"},{\"hovertemplate\":\"id=20_SPW_D37\\u003cbr\\u003eDate=%{x}\\u003cbr\\u003eGround Water Level (cm)=%{y}\\u003cextra\\u003e\\u003c\\u002fextra\\u003e\",\"legendgroup\":\"20_SPW_D37\",\"line\":{\"color\":\"#636efa\",\"dash\":\"solid\"},\"marker\":{\"symbol\":\"circle\"},\"mode\":\"lines\",\"name\":\"20_SPW_D37\",\"orientation\":\"v\",\"showlegend\":true,\"x\":[\"2021-06-30T00:00:00\",\"2021-12-15T00:00:00\",\"2022-04-14T00:00:00\"],\"xaxis\":\"x\",\"y\":[-55.0,-45.0,-33.0],\"yaxis\":\"y\",\"type\":\"scatter\"},{\"hovertemplate\":\"id=20_SPW_D7\\u003cbr\\u003eDate=%{x}\\u003cbr\\u003eGround Water Level (cm)=%{y}\\u003cextra\\u003e\\u003c\\u002fextra\\u003e\",\"legendgroup\":\"20_SPW_D7\",\"line\":{\"color\":\"#EF553B\",\"dash\":\"solid\"},\"marker\":{\"symbol\":\"circle\"},\"mode\":\"lines\",\"name\":\"20_SPW_D7\",\"orientation\":\"v\",\"showlegend\":true,\"x\":[\"2021-06-30T00:00:00\",\"2021-12-15T00:00:00\",\"2022-04-14T00:00:00\"],\"xaxis\":\"x\",\"y\":[-19.0,3.0,-15.0],\"yaxis\":\"y\",\"type\":\"scatter\"},{\"hovertemplate\":\"id=20_SPW_E11\\u003cbr\\u003eDate=%{x}\\u003cbr\\u003eGround Water Level (cm)=%{y}\\u003cextra\\u003e\\u003c\\u002fextra\\u003e\",\"legendgroup\":\"20_SPW_E11\",\"line\":{\"color\":\"#00cc96\",\"dash\":\"solid\"},\"marker\":{\"symbol\":\"circle\"},\"mode\":\"lines\",\"name\":\"20_SPW_E11\",\"orientation\":\"v\",\"showlegend\":true,\"x\":[\"2021-06-30T00:00:00\",\"2021-12-15T00:00:00\",\"2022-04-14T00:00:00\"],\"xaxis\":\"x\",\"y\":[-12.0,5.0,-12.0],\"yaxis\":\"y\",\"type\":\"scatter\"},{\"hovertemplate\":\"id=20_SPW_E17\\u003cbr\\u003eDate=%{x}\\u003cbr\\u003eGround Water Level (cm)=%{y}\\u003cextra\\u003e\\u003c\\u002fextra\\u003e\",\"legendgroup\":\"20_SPW_E17\",\"line\":{\"color\":\"#ab63fa\",\"dash\":\"solid\"},\"marker\":{\"symbol\":\"circle\"},\"mode\":\"lines\",\"name\":\"20_SPW_E17\",\"orientation\":\"v\",\"showlegend\":true,\"x\":[\"2021-06-30T00:00:00\",\"2021-12-15T00:00:00\",\"2022-04-14T00:00:00\"],\"xaxis\":\"x\",\"y\":[-48.0,-35.0,-30.0],\"yaxis\":\"y\",\"type\":\"scatter\"},{\"hovertemplate\":\"id=20_SPW_E22\\u003cbr\\u003eDate=%{x}\\u003cbr\\u003eGround Water Level (cm)=%{y}\\u003cextra\\u003e\\u003c\\u002fextra\\u003e\",\"legendgroup\":\"20_SPW_E22\",\"line\":{\"color\":\"#FFA15A\",\"dash\":\"solid\"},\"marker\":{\"symbol\":\"circle\"},\"mode\":\"lines\",\"name\":\"20_SPW_E22\",\"orientation\":\"v\",\"showlegend\":true,\"x\":[\"2021-06-30T00:00:00\",\"2021-12-15T00:00:00\",\"2022-04-14T00:00:00\"],\"xaxis\":\"x\",\"y\":[-39.0,-38.0,-38.0],\"yaxis\":\"y\",\"type\":\"scatter\"},{\"hovertemplate\":\"id=20_SPW_E3\\u003cbr\\u003eDate=%{x}\\u003cbr\\u003eGround Water Level (cm)=%{y}\\u003cextra\\u003e\\u003c\\u002fextra\\u003e\",\"legendgroup\":\"20_SPW_E3\",\"line\":{\"color\":\"#19d3f3\",\"dash\":\"solid\"},\"marker\":{\"symbol\":\"circle\"},\"mode\":\"lines\",\"name\":\"20_SPW_E3\",\"orientation\":\"v\",\"showlegend\":true,\"x\":[\"2021-06-30T00:00:00\",\"2021-12-15T00:00:00\",\"2022-04-14T00:00:00\"],\"xaxis\":\"x\",\"y\":[-21.0,-15.0,-32.0],\"yaxis\":\"y\",\"type\":\"scatter\"},{\"hovertemplate\":\"id=20_SPW_E35\\u003cbr\\u003eDate=%{x}\\u003cbr\\u003eGround Water Level (cm)=%{y}\\u003cextra\\u003e\\u003c\\u002fextra\\u003e\",\"legendgroup\":\"20_SPW_E35\",\"line\":{\"color\":\"#FF6692\",\"dash\":\"solid\"},\"marker\":{\"symbol\":\"circle\"},\"mode\":\"lines\",\"name\":\"20_SPW_E35\",\"orientation\":\"v\",\"showlegend\":true,\"x\":[\"2021-06-30T00:00:00\",\"2021-12-15T00:00:00\",\"2022-04-14T00:00:00\"],\"xaxis\":\"x\",\"y\":[-51.0,-27.0,-38.0],\"yaxis\":\"y\",\"type\":\"scatter\"},{\"hovertemplate\":\"id=20_SPW_F11\\u003cbr\\u003eDate=%{x}\\u003cbr\\u003eGround Water Level (cm)=%{y}\\u003cextra\\u003e\\u003c\\u002fextra\\u003e\",\"legendgroup\":\"20_SPW_F11\",\"line\":{\"color\":\"#B6E880\",\"dash\":\"solid\"},\"marker\":{\"symbol\":\"circle\"},\"mode\":\"lines\",\"name\":\"20_SPW_F11\",\"orientation\":\"v\",\"showlegend\":true,\"x\":[\"2021-06-30T00:00:00\",\"2021-12-15T00:00:00\",\"2022-04-14T00:00:00\"],\"xaxis\":\"x\",\"y\":[-40.0,-24.0,-26.0],\"yaxis\":\"y\",\"type\":\"scatter\"},{\"hovertemplate\":\"id=20_SPW_F19\\u003cbr\\u003eDate=%{x}\\u003cbr\\u003eGround Water Level (cm)=%{y}\\u003cextra\\u003e\\u003c\\u002fextra\\u003e\",\"legendgroup\":\"20_SPW_F19\",\"line\":{\"color\":\"#FF97FF\",\"dash\":\"solid\"},\"marker\":{\"symbol\":\"circle\"},\"mode\":\"lines\",\"name\":\"20_SPW_F19\",\"orientation\":\"v\",\"showlegend\":true,\"x\":[\"2021-06-30T00:00:00\",\"2021-12-15T00:00:00\",\"2022-04-14T00:00:00\"],\"xaxis\":\"x\",\"y\":[-51.0,-44.0,-35.0],\"yaxis\":\"y\",\"type\":\"scatter\"},{\"hovertemplate\":\"id=20_SPW_F24\\u003cbr\\u003eDate=%{x}\\u003cbr\\u003eGround Water Level (cm)=%{y}\\u003cextra\\u003e\\u003c\\u002fextra\\u003e\",\"legendgroup\":\"20_SPW_F24\",\"line\":{\"color\":\"#FECB52\",\"dash\":\"solid\"},\"marker\":{\"symbol\":\"circle\"},\"mode\":\"lines\",\"name\":\"20_SPW_F24\",\"orientation\":\"v\",\"showlegend\":true,\"x\":[\"2021-06-30T00:00:00\",\"2021-12-15T00:00:00\",\"2022-04-14T00:00:00\"],\"xaxis\":\"x\",\"y\":[-29.0,-17.0,-34.0],\"yaxis\":\"y\",\"type\":\"scatter\"},{\"hovertemplate\":\"id=20_SPW_F30\\u003cbr\\u003eDate=%{x}\\u003cbr\\u003eGround Water Level (cm)=%{y}\\u003cextra\\u003e\\u003c\\u002fextra\\u003e\",\"legendgroup\":\"20_SPW_F30\",\"line\":{\"color\":\"#636efa\",\"dash\":\"solid\"},\"marker\":{\"symbol\":\"circle\"},\"mode\":\"lines\",\"name\":\"20_SPW_F30\",\"orientation\":\"v\",\"showlegend\":true,\"x\":[\"2021-06-30T00:00:00\",\"2021-12-15T00:00:00\",\"2022-04-14T00:00:00\"],\"xaxis\":\"x\",\"y\":[-45.0,-39.0,-19.0],\"yaxis\":\"y\",\"type\":\"scatter\"},{\"hovertemplate\":\"id=20_SPW_F33\\u003cbr\\u003eDate=%{x}\\u003cbr\\u003eGround Water Level (cm)=%{y}\\u003cextra\\u003e\\u003c\\u002fextra\\u003e\",\"legendgroup\":\"20_SPW_F33\",\"line\":{\"color\":\"#EF553B\",\"dash\":\"solid\"},\"marker\":{\"symbol\":\"circle\"},\"mode\":\"lines\",\"name\":\"20_SPW_F33\",\"orientation\":\"v\",\"showlegend\":true,\"x\":[\"2021-06-30T00:00:00\",\"2021-12-15T00:00:00\",\"2022-04-14T00:00:00\"],\"xaxis\":\"x\",\"y\":[-36.0,-4.0,-29.0],\"yaxis\":\"y\",\"type\":\"scatter\"},{\"hovertemplate\":\"id=20_SPW_F4\\u003cbr\\u003eDate=%{x}\\u003cbr\\u003eGround Water Level (cm)=%{y}\\u003cextra\\u003e\\u003c\\u002fextra\\u003e\",\"legendgroup\":\"20_SPW_F4\",\"line\":{\"color\":\"#00cc96\",\"dash\":\"solid\"},\"marker\":{\"symbol\":\"circle\"},\"mode\":\"lines\",\"name\":\"20_SPW_F4\",\"orientation\":\"v\",\"showlegend\":true,\"x\":[\"2021-06-30T00:00:00\",\"2021-12-15T00:00:00\",\"2022-04-14T00:00:00\"],\"xaxis\":\"x\",\"y\":[-29.0,-24.0,-21.0],\"yaxis\":\"y\",\"type\":\"scatter\"},{\"hovertemplate\":\"id=20_SPW_G23\\u003cbr\\u003eDate=%{x}\\u003cbr\\u003eGround Water Level (cm)=%{y}\\u003cextra\\u003e\\u003c\\u002fextra\\u003e\",\"legendgroup\":\"20_SPW_G23\",\"line\":{\"color\":\"#ab63fa\",\"dash\":\"solid\"},\"marker\":{\"symbol\":\"circle\"},\"mode\":\"lines\",\"name\":\"20_SPW_G23\",\"orientation\":\"v\",\"showlegend\":true,\"x\":[\"2021-01-01T00:00:00\",\"2021-01-13T00:00:00\",\"2021-01-25T00:00:00\",\"2021-02-06T00:00:00\",\"2021-02-18T00:00:00\",\"2021-03-02T00:00:00\",\"2021-03-14T00:00:00\",\"2021-03-26T00:00:00\",\"2021-04-19T00:00:00\",\"2021-05-01T00:00:00\",\"2021-05-13T00:00:00\",\"2021-06-30T00:00:00\",\"2021-07-24T00:00:00\",\"2021-08-05T00:00:00\",\"2021-08-17T00:00:00\",\"2021-08-29T00:00:00\",\"2021-09-10T00:00:00\",\"2021-09-22T00:00:00\",\"2021-10-04T00:00:00\",\"2021-10-16T00:00:00\",\"2021-10-28T00:00:00\",\"2021-11-09T00:00:00\",\"2021-11-21T00:00:00\",\"2021-12-03T00:00:00\",\"2021-12-15T00:00:00\",\"2021-12-27T00:00:00\",\"2022-01-08T00:00:00\",\"2022-01-20T00:00:00\",\"2022-02-01T00:00:00\",\"2022-02-13T00:00:00\",\"2022-02-25T00:00:00\",\"2022-03-09T00:00:00\",\"2022-03-21T00:00:00\",\"2022-04-02T00:00:00\",\"2022-04-14T00:00:00\",\"2022-04-26T00:00:00\",\"2022-05-08T00:00:00\",\"2022-06-13T00:00:00\",\"2022-06-25T00:00:00\",\"2022-07-07T00:00:00\",\"2022-08-12T00:00:00\",\"2022-08-24T00:00:00\",\"2022-09-05T00:00:00\",\"2022-09-17T00:00:00\",\"2022-09-29T00:00:00\",\"2022-10-11T00:00:00\",\"2022-12-10T00:00:00\",\"2023-05-27T00:00:00\",\"2023-06-08T00:00:00\"],\"xaxis\":\"x\",\"y\":[0.0,-54.3,-26.93,8.47,-20.11,-20.39,-19.75,-24.6,-30.17,-32.01,-35.13,-33.59,-8.59,1.4,8.56,-2.85,-29.03,-17.63,-23.61,-45.82,-28.99,-20.63,-14.55,-19.35,-37.27,-27.99,-30.05,-13.65,-22.6,-15.19,-16.83,-19.79,-14.23,-28.01,-41.08,-45.5,-45.81,-15.58,0.29,-33.94,-29.95,-36.96,-30.94,-34.74,-39.01,-37.68,-41.98,-38.79,-62.17],\"yaxis\":\"y\",\"type\":\"scatter\"},{\"hovertemplate\":\"id=20_SPW_G26\\u003cbr\\u003eDate=%{x}\\u003cbr\\u003eGround Water Level (cm)=%{y}\\u003cextra\\u003e\\u003c\\u002fextra\\u003e\",\"legendgroup\":\"20_SPW_G26\",\"line\":{\"color\":\"#FFA15A\",\"dash\":\"solid\"},\"marker\":{\"symbol\":\"circle\"},\"mode\":\"lines\",\"name\":\"20_SPW_G26\",\"orientation\":\"v\",\"showlegend\":true,\"x\":[\"2021-06-30T00:00:00\",\"2021-12-15T00:00:00\",\"2022-04-14T00:00:00\"],\"xaxis\":\"x\",\"y\":[-30.0,-15.0,-30.0],\"yaxis\":\"y\",\"type\":\"scatter\"},{\"hovertemplate\":\"id=20_SPW_G29\\u003cbr\\u003eDate=%{x}\\u003cbr\\u003eGround Water Level (cm)=%{y}\\u003cextra\\u003e\\u003c\\u002fextra\\u003e\",\"legendgroup\":\"20_SPW_G29\",\"line\":{\"color\":\"#19d3f3\",\"dash\":\"solid\"},\"marker\":{\"symbol\":\"circle\"},\"mode\":\"lines\",\"name\":\"20_SPW_G29\",\"orientation\":\"v\",\"showlegend\":true,\"x\":[\"2021-01-01T00:00:00\",\"2021-01-13T00:00:00\",\"2021-01-25T00:00:00\",\"2021-02-06T00:00:00\",\"2021-02-18T00:00:00\",\"2021-03-02T00:00:00\",\"2021-03-14T00:00:00\",\"2021-03-26T00:00:00\",\"2021-04-19T00:00:00\",\"2021-05-01T00:00:00\",\"2021-05-13T00:00:00\",\"2021-06-30T00:00:00\",\"2021-07-24T00:00:00\",\"2021-08-05T00:00:00\",\"2021-08-17T00:00:00\",\"2021-08-29T00:00:00\",\"2021-09-10T00:00:00\",\"2021-09-22T00:00:00\",\"2021-10-04T00:00:00\",\"2021-10-16T00:00:00\",\"2021-10-28T00:00:00\",\"2021-11-09T00:00:00\",\"2021-11-21T00:00:00\",\"2021-12-03T00:00:00\",\"2021-12-15T00:00:00\",\"2021-12-27T00:00:00\",\"2022-01-08T00:00:00\",\"2022-01-20T00:00:00\",\"2022-02-01T00:00:00\",\"2022-02-13T00:00:00\",\"2022-02-25T00:00:00\",\"2022-03-09T00:00:00\",\"2022-03-21T00:00:00\",\"2022-04-02T00:00:00\",\"2022-04-14T00:00:00\",\"2022-04-26T00:00:00\",\"2022-05-08T00:00:00\",\"2022-06-13T00:00:00\",\"2022-06-25T00:00:00\",\"2022-07-07T00:00:00\",\"2022-08-12T00:00:00\",\"2022-08-24T00:00:00\",\"2022-09-05T00:00:00\",\"2022-09-17T00:00:00\",\"2022-09-29T00:00:00\",\"2022-10-11T00:00:00\",\"2022-12-10T00:00:00\",\"2023-05-27T00:00:00\",\"2023-06-08T00:00:00\"],\"xaxis\":\"x\",\"y\":[0.0,-55.8,-33.87,-4.31,-31.93,-35.29,-36.97,-37.09,-35.76,-40.55,-35.3,-34.53,-14.83,-9.25,-9.54,-17.24,-29.49,-25.2,-24.7,-56.73,-44.14,-26.03,-11.01,-11.02,-20.29,-7.53,-16.1,-5.27,-8.01,-12.3,-10.86,-10.75,-12.74,-29.23,-39.34,-45.4,-38.71,-2.75,-1.31,-12.76,-14.17,-28.78,-10.08,-15.25,-19.79,-11.52,-27.67,-42.69,-50.74],\"yaxis\":\"y\",\"type\":\"scatter\"},{\"hovertemplate\":\"id=20_SPW_G31\\u003cbr\\u003eDate=%{x}\\u003cbr\\u003eGround Water Level (cm)=%{y}\\u003cextra\\u003e\\u003c\\u002fextra\\u003e\",\"legendgroup\":\"20_SPW_G31\",\"line\":{\"color\":\"#FF6692\",\"dash\":\"solid\"},\"marker\":{\"symbol\":\"circle\"},\"mode\":\"lines\",\"name\":\"20_SPW_G31\",\"orientation\":\"v\",\"showlegend\":true,\"x\":[\"2021-06-30T00:00:00\",\"2021-12-15T00:00:00\",\"2022-04-14T00:00:00\"],\"xaxis\":\"x\",\"y\":[-38.0,1.0,-24.0],\"yaxis\":\"y\",\"type\":\"scatter\"},{\"hovertemplate\":\"id=20_SPW_H27\\u003cbr\\u003eDate=%{x}\\u003cbr\\u003eGround Water Level (cm)=%{y}\\u003cextra\\u003e\\u003c\\u002fextra\\u003e\",\"legendgroup\":\"20_SPW_H27\",\"line\":{\"color\":\"#B6E880\",\"dash\":\"solid\"},\"marker\":{\"symbol\":\"circle\"},\"mode\":\"lines\",\"name\":\"20_SPW_H27\",\"orientation\":\"v\",\"showlegend\":true,\"x\":[\"2021-06-30T00:00:00\",\"2021-12-15T00:00:00\",\"2022-04-14T00:00:00\"],\"xaxis\":\"x\",\"y\":[-25.0,-7.0,-28.0],\"yaxis\":\"y\",\"type\":\"scatter\"},{\"hovertemplate\":\"id=20_SPW_H31\\u003cbr\\u003eDate=%{x}\\u003cbr\\u003eGround Water Level (cm)=%{y}\\u003cextra\\u003e\\u003c\\u002fextra\\u003e\",\"legendgroup\":\"20_SPW_H31\",\"line\":{\"color\":\"#FF97FF\",\"dash\":\"solid\"},\"marker\":{\"symbol\":\"circle\"},\"mode\":\"lines\",\"name\":\"20_SPW_H31\",\"orientation\":\"v\",\"showlegend\":true,\"x\":[\"2021-06-30T00:00:00\",\"2021-12-15T00:00:00\",\"2022-04-14T00:00:00\"],\"xaxis\":\"x\",\"y\":[-36.0,-32.0,-33.0],\"yaxis\":\"y\",\"type\":\"scatter\"},{\"hovertemplate\":\"id=20_SPW_I22\\u003cbr\\u003eDate=%{x}\\u003cbr\\u003eGround Water Level (cm)=%{y}\\u003cextra\\u003e\\u003c\\u002fextra\\u003e\",\"legendgroup\":\"20_SPW_I22\",\"line\":{\"color\":\"#FECB52\",\"dash\":\"solid\"},\"marker\":{\"symbol\":\"circle\"},\"mode\":\"lines\",\"name\":\"20_SPW_I22\",\"orientation\":\"v\",\"showlegend\":true,\"x\":[\"2021-06-30T00:00:00\",\"2021-12-15T00:00:00\",\"2022-04-14T00:00:00\"],\"xaxis\":\"x\",\"y\":[-16.0,-2.0,-15.0],\"yaxis\":\"y\",\"type\":\"scatter\"},{\"hovertemplate\":\"id=20_SPW_J33\\u003cbr\\u003eDate=%{x}\\u003cbr\\u003eGround Water Level (cm)=%{y}\\u003cextra\\u003e\\u003c\\u002fextra\\u003e\",\"legendgroup\":\"20_SPW_J33\",\"line\":{\"color\":\"#636efa\",\"dash\":\"solid\"},\"marker\":{\"symbol\":\"circle\"},\"mode\":\"lines\",\"name\":\"20_SPW_J33\",\"orientation\":\"v\",\"showlegend\":true,\"x\":[\"2021-06-30T00:00:00\",\"2021-12-15T00:00:00\",\"2022-04-14T00:00:00\"],\"xaxis\":\"x\",\"y\":[-23.0,-11.0,-19.0],\"yaxis\":\"y\",\"type\":\"scatter\"},{\"hovertemplate\":\"id=20_SPW_J36\\u003cbr\\u003eDate=%{x}\\u003cbr\\u003eGround Water Level (cm)=%{y}\\u003cextra\\u003e\\u003c\\u002fextra\\u003e\",\"legendgroup\":\"20_SPW_J36\",\"line\":{\"color\":\"#EF553B\",\"dash\":\"solid\"},\"marker\":{\"symbol\":\"circle\"},\"mode\":\"lines\",\"name\":\"20_SPW_J36\",\"orientation\":\"v\",\"showlegend\":true,\"x\":[\"2021-06-30T00:00:00\",\"2021-12-15T00:00:00\",\"2022-04-14T00:00:00\"],\"xaxis\":\"x\",\"y\":[-28.0,-25.0,-26.0],\"yaxis\":\"y\",\"type\":\"scatter\"}],                        {\"template\":{\"data\":{\"histogram2dcontour\":[{\"type\":\"histogram2dcontour\",\"colorbar\":{\"outlinewidth\":0,\"ticks\":\"\"},\"colorscale\":[[0.0,\"#0d0887\"],[0.1111111111111111,\"#46039f\"],[0.2222222222222222,\"#7201a8\"],[0.3333333333333333,\"#9c179e\"],[0.4444444444444444,\"#bd3786\"],[0.5555555555555556,\"#d8576b\"],[0.6666666666666666,\"#ed7953\"],[0.7777777777777778,\"#fb9f3a\"],[0.8888888888888888,\"#fdca26\"],[1.0,\"#f0f921\"]]}],\"choropleth\":[{\"type\":\"choropleth\",\"colorbar\":{\"outlinewidth\":0,\"ticks\":\"\"}}],\"histogram2d\":[{\"type\":\"histogram2d\",\"colorbar\":{\"outlinewidth\":0,\"ticks\":\"\"},\"colorscale\":[[0.0,\"#0d0887\"],[0.1111111111111111,\"#46039f\"],[0.2222222222222222,\"#7201a8\"],[0.3333333333333333,\"#9c179e\"],[0.4444444444444444,\"#bd3786\"],[0.5555555555555556,\"#d8576b\"],[0.6666666666666666,\"#ed7953\"],[0.7777777777777778,\"#fb9f3a\"],[0.8888888888888888,\"#fdca26\"],[1.0,\"#f0f921\"]]}],\"heatmap\":[{\"type\":\"heatmap\",\"colorbar\":{\"outlinewidth\":0,\"ticks\":\"\"},\"colorscale\":[[0.0,\"#0d0887\"],[0.1111111111111111,\"#46039f\"],[0.2222222222222222,\"#7201a8\"],[0.3333333333333333,\"#9c179e\"],[0.4444444444444444,\"#bd3786\"],[0.5555555555555556,\"#d8576b\"],[0.6666666666666666,\"#ed7953\"],[0.7777777777777778,\"#fb9f3a\"],[0.8888888888888888,\"#fdca26\"],[1.0,\"#f0f921\"]]}],\"heatmapgl\":[{\"type\":\"heatmapgl\",\"colorbar\":{\"outlinewidth\":0,\"ticks\":\"\"},\"colorscale\":[[0.0,\"#0d0887\"],[0.1111111111111111,\"#46039f\"],[0.2222222222222222,\"#7201a8\"],[0.3333333333333333,\"#9c179e\"],[0.4444444444444444,\"#bd3786\"],[0.5555555555555556,\"#d8576b\"],[0.6666666666666666,\"#ed7953\"],[0.7777777777777778,\"#fb9f3a\"],[0.8888888888888888,\"#fdca26\"],[1.0,\"#f0f921\"]]}],\"contourcarpet\":[{\"type\":\"contourcarpet\",\"colorbar\":{\"outlinewidth\":0,\"ticks\":\"\"}}],\"contour\":[{\"type\":\"contour\",\"colorbar\":{\"outlinewidth\":0,\"ticks\":\"\"},\"colorscale\":[[0.0,\"#0d0887\"],[0.1111111111111111,\"#46039f\"],[0.2222222222222222,\"#7201a8\"],[0.3333333333333333,\"#9c179e\"],[0.4444444444444444,\"#bd3786\"],[0.5555555555555556,\"#d8576b\"],[0.6666666666666666,\"#ed7953\"],[0.7777777777777778,\"#fb9f3a\"],[0.8888888888888888,\"#fdca26\"],[1.0,\"#f0f921\"]]}],\"surface\":[{\"type\":\"surface\",\"colorbar\":{\"outlinewidth\":0,\"ticks\":\"\"},\"colorscale\":[[0.0,\"#0d0887\"],[0.1111111111111111,\"#46039f\"],[0.2222222222222222,\"#7201a8\"],[0.3333333333333333,\"#9c179e\"],[0.4444444444444444,\"#bd3786\"],[0.5555555555555556,\"#d8576b\"],[0.6666666666666666,\"#ed7953\"],[0.7777777777777778,\"#fb9f3a\"],[0.8888888888888888,\"#fdca26\"],[1.0,\"#f0f921\"]]}],\"mesh3d\":[{\"type\":\"mesh3d\",\"colorbar\":{\"outlinewidth\":0,\"ticks\":\"\"}}],\"scatter\":[{\"fillpattern\":{\"fillmode\":\"overlay\",\"size\":10,\"solidity\":0.2},\"type\":\"scatter\"}],\"parcoords\":[{\"type\":\"parcoords\",\"line\":{\"colorbar\":{\"outlinewidth\":0,\"ticks\":\"\"}}}],\"scatterpolargl\":[{\"type\":\"scatterpolargl\",\"marker\":{\"colorbar\":{\"outlinewidth\":0,\"ticks\":\"\"}}}],\"bar\":[{\"error_x\":{\"color\":\"#2a3f5f\"},\"error_y\":{\"color\":\"#2a3f5f\"},\"marker\":{\"line\":{\"color\":\"#E5ECF6\",\"width\":0.5},\"pattern\":{\"fillmode\":\"overlay\",\"size\":10,\"solidity\":0.2}},\"type\":\"bar\"}],\"scattergeo\":[{\"type\":\"scattergeo\",\"marker\":{\"colorbar\":{\"outlinewidth\":0,\"ticks\":\"\"}}}],\"scatterpolar\":[{\"type\":\"scatterpolar\",\"marker\":{\"colorbar\":{\"outlinewidth\":0,\"ticks\":\"\"}}}],\"histogram\":[{\"marker\":{\"pattern\":{\"fillmode\":\"overlay\",\"size\":10,\"solidity\":0.2}},\"type\":\"histogram\"}],\"scattergl\":[{\"type\":\"scattergl\",\"marker\":{\"colorbar\":{\"outlinewidth\":0,\"ticks\":\"\"}}}],\"scatter3d\":[{\"type\":\"scatter3d\",\"line\":{\"colorbar\":{\"outlinewidth\":0,\"ticks\":\"\"}},\"marker\":{\"colorbar\":{\"outlinewidth\":0,\"ticks\":\"\"}}}],\"scattermapbox\":[{\"type\":\"scattermapbox\",\"marker\":{\"colorbar\":{\"outlinewidth\":0,\"ticks\":\"\"}}}],\"scatterternary\":[{\"type\":\"scatterternary\",\"marker\":{\"colorbar\":{\"outlinewidth\":0,\"ticks\":\"\"}}}],\"scattercarpet\":[{\"type\":\"scattercarpet\",\"marker\":{\"colorbar\":{\"outlinewidth\":0,\"ticks\":\"\"}}}],\"carpet\":[{\"aaxis\":{\"endlinecolor\":\"#2a3f5f\",\"gridcolor\":\"white\",\"linecolor\":\"white\",\"minorgridcolor\":\"white\",\"startlinecolor\":\"#2a3f5f\"},\"baxis\":{\"endlinecolor\":\"#2a3f5f\",\"gridcolor\":\"white\",\"linecolor\":\"white\",\"minorgridcolor\":\"white\",\"startlinecolor\":\"#2a3f5f\"},\"type\":\"carpet\"}],\"table\":[{\"cells\":{\"fill\":{\"color\":\"#EBF0F8\"},\"line\":{\"color\":\"white\"}},\"header\":{\"fill\":{\"color\":\"#C8D4E3\"},\"line\":{\"color\":\"white\"}},\"type\":\"table\"}],\"barpolar\":[{\"marker\":{\"line\":{\"color\":\"#E5ECF6\",\"width\":0.5},\"pattern\":{\"fillmode\":\"overlay\",\"size\":10,\"solidity\":0.2}},\"type\":\"barpolar\"}],\"pie\":[{\"automargin\":true,\"type\":\"pie\"}]},\"layout\":{\"autotypenumbers\":\"strict\",\"colorway\":[\"#636efa\",\"#EF553B\",\"#00cc96\",\"#ab63fa\",\"#FFA15A\",\"#19d3f3\",\"#FF6692\",\"#B6E880\",\"#FF97FF\",\"#FECB52\"],\"font\":{\"color\":\"#2a3f5f\"},\"hovermode\":\"closest\",\"hoverlabel\":{\"align\":\"left\"},\"paper_bgcolor\":\"white\",\"plot_bgcolor\":\"#E5ECF6\",\"polar\":{\"bgcolor\":\"#E5ECF6\",\"angularaxis\":{\"gridcolor\":\"white\",\"linecolor\":\"white\",\"ticks\":\"\"},\"radialaxis\":{\"gridcolor\":\"white\",\"linecolor\":\"white\",\"ticks\":\"\"}},\"ternary\":{\"bgcolor\":\"#E5ECF6\",\"aaxis\":{\"gridcolor\":\"white\",\"linecolor\":\"white\",\"ticks\":\"\"},\"baxis\":{\"gridcolor\":\"white\",\"linecolor\":\"white\",\"ticks\":\"\"},\"caxis\":{\"gridcolor\":\"white\",\"linecolor\":\"white\",\"ticks\":\"\"}},\"coloraxis\":{\"colorbar\":{\"outlinewidth\":0,\"ticks\":\"\"}},\"colorscale\":{\"sequential\":[[0.0,\"#0d0887\"],[0.1111111111111111,\"#46039f\"],[0.2222222222222222,\"#7201a8\"],[0.3333333333333333,\"#9c179e\"],[0.4444444444444444,\"#bd3786\"],[0.5555555555555556,\"#d8576b\"],[0.6666666666666666,\"#ed7953\"],[0.7777777777777778,\"#fb9f3a\"],[0.8888888888888888,\"#fdca26\"],[1.0,\"#f0f921\"]],\"sequentialminus\":[[0.0,\"#0d0887\"],[0.1111111111111111,\"#46039f\"],[0.2222222222222222,\"#7201a8\"],[0.3333333333333333,\"#9c179e\"],[0.4444444444444444,\"#bd3786\"],[0.5555555555555556,\"#d8576b\"],[0.6666666666666666,\"#ed7953\"],[0.7777777777777778,\"#fb9f3a\"],[0.8888888888888888,\"#fdca26\"],[1.0,\"#f0f921\"]],\"diverging\":[[0,\"#8e0152\"],[0.1,\"#c51b7d\"],[0.2,\"#de77ae\"],[0.3,\"#f1b6da\"],[0.4,\"#fde0ef\"],[0.5,\"#f7f7f7\"],[0.6,\"#e6f5d0\"],[0.7,\"#b8e186\"],[0.8,\"#7fbc41\"],[0.9,\"#4d9221\"],[1,\"#276419\"]]},\"xaxis\":{\"gridcolor\":\"white\",\"linecolor\":\"white\",\"ticks\":\"\",\"title\":{\"standoff\":15},\"zerolinecolor\":\"white\",\"automargin\":true,\"zerolinewidth\":2},\"yaxis\":{\"gridcolor\":\"white\",\"linecolor\":\"white\",\"ticks\":\"\",\"title\":{\"standoff\":15},\"zerolinecolor\":\"white\",\"automargin\":true,\"zerolinewidth\":2},\"scene\":{\"xaxis\":{\"backgroundcolor\":\"#E5ECF6\",\"gridcolor\":\"white\",\"linecolor\":\"white\",\"showbackground\":true,\"ticks\":\"\",\"zerolinecolor\":\"white\",\"gridwidth\":2},\"yaxis\":{\"backgroundcolor\":\"#E5ECF6\",\"gridcolor\":\"white\",\"linecolor\":\"white\",\"showbackground\":true,\"ticks\":\"\",\"zerolinecolor\":\"white\",\"gridwidth\":2},\"zaxis\":{\"backgroundcolor\":\"#E5ECF6\",\"gridcolor\":\"white\",\"linecolor\":\"white\",\"showbackground\":true,\"ticks\":\"\",\"zerolinecolor\":\"white\",\"gridwidth\":2}},\"shapedefaults\":{\"line\":{\"color\":\"#2a3f5f\"}},\"annotationdefaults\":{\"arrowcolor\":\"#2a3f5f\",\"arrowhead\":0,\"arrowwidth\":1},\"geo\":{\"bgcolor\":\"white\",\"landcolor\":\"#E5ECF6\",\"subunitcolor\":\"white\",\"showland\":true,\"showlakes\":true,\"lakecolor\":\"white\"},\"title\":{\"x\":0.05},\"mapbox\":{\"style\":\"light\"}}},\"xaxis\":{\"anchor\":\"y\",\"domain\":[0.0,1.0],\"title\":{\"text\":\"Date\"}},\"yaxis\":{\"anchor\":\"x\",\"domain\":[0.0,1.0],\"title\":{\"text\":\"Ground Water Level (cm)\"}},\"legend\":{\"title\":{\"text\":\"id\"},\"tracegroupgap\":0},\"title\":{\"text\":\"Time Series of GWL by dipwell id\"}},                        {\"responsive\": true}                    ).then(function(){\n",
       "                            \n",
       "var gd = document.getElementById('c38fa1af-7ae9-48e3-a7ca-a81c3f029214');\n",
       "var x = new MutationObserver(function (mutations, observer) {{\n",
       "        var display = window.getComputedStyle(gd).display;\n",
       "        if (!display || display === 'none') {{\n",
       "            console.log([gd, 'removed!']);\n",
       "            Plotly.purge(gd);\n",
       "            observer.disconnect();\n",
       "        }}\n",
       "}});\n",
       "\n",
       "// Listen for the removal of the full notebook cells\n",
       "var notebookContainer = gd.closest('#notebook-container');\n",
       "if (notebookContainer) {{\n",
       "    x.observe(notebookContainer, {childList: true});\n",
       "}}\n",
       "\n",
       "// Listen for the clearing of the current output cell\n",
       "var outputEl = gd.closest('.output');\n",
       "if (outputEl) {{\n",
       "    x.observe(outputEl, {childList: true});\n",
       "}}\n",
       "\n",
       "                        })                };                });            </script>        </div>"
      ]
     },
     "metadata": {},
     "output_type": "display_data"
    }
   ],
   "source": [
    "import plotly.express as px\n",
    "\n",
    "# Assuming df is already defined and contains the required data\n",
    "# Convert 'date' column to datetime\n",
    "df['date'] = pd.to_datetime(df['date'])\n",
    "\n",
    "# Create the interactive time-series plot\n",
    "fig = px.line(filtered_df, x='date', y='gwl_cm', color='id', title='Time Series of GWL by dipwell id',\n",
    "              labels={'date': 'Date', 'gwl_cm': 'Ground Water Level (cm)'})\n",
    "\n",
    "# Show the plot\n",
    "fig.show()"
   ]
  },
  {
   "cell_type": "code",
   "execution_count": 12,
   "id": "825f27ed-5396-40cc-8001-2bcfc88c9257",
   "metadata": {},
   "outputs": [
    {
     "data": {
      "application/vnd.plotly.v1+json": {
       "config": {
        "plotlyServerURL": "https://plot.ly"
       },
       "data": [
        {
         "hovertemplate": "id=20_SPW_B18<br>Date=%{x}<br>Ground Water Level (cm)=%{y}<extra></extra>",
         "legendgroup": "20_SPW_B18",
         "line": {
          "color": "#636efa",
          "dash": "solid"
         },
         "marker": {
          "symbol": "circle"
         },
         "mode": "lines",
         "name": "20_SPW_B18",
         "orientation": "v",
         "showlegend": true,
         "type": "scatter",
         "x": [
          "2021-01-01T00:00:00",
          "2021-01-13T00:00:00",
          "2021-01-25T00:00:00",
          "2021-02-06T00:00:00",
          "2021-02-18T00:00:00",
          "2021-03-02T00:00:00",
          "2021-03-14T00:00:00",
          "2021-03-26T00:00:00",
          "2021-04-19T00:00:00",
          "2021-05-01T00:00:00",
          "2021-05-13T00:00:00",
          "2021-06-30T00:00:00",
          "2021-07-24T00:00:00",
          "2021-08-05T00:00:00",
          "2021-08-17T00:00:00",
          "2021-08-29T00:00:00",
          "2021-09-10T00:00:00",
          "2021-09-22T00:00:00",
          "2021-10-04T00:00:00",
          "2021-10-16T00:00:00",
          "2021-10-28T00:00:00",
          "2021-11-09T00:00:00",
          "2021-11-21T00:00:00",
          "2021-12-03T00:00:00",
          "2021-12-15T00:00:00",
          "2021-12-27T00:00:00",
          "2022-01-08T00:00:00",
          "2022-01-20T00:00:00",
          "2022-02-01T00:00:00",
          "2022-02-13T00:00:00",
          "2022-02-25T00:00:00",
          "2022-03-09T00:00:00",
          "2022-03-21T00:00:00",
          "2022-04-02T00:00:00",
          "2022-04-14T00:00:00",
          "2022-04-26T00:00:00",
          "2022-05-08T00:00:00",
          "2022-06-13T00:00:00",
          "2022-06-25T00:00:00",
          "2022-07-07T00:00:00",
          "2022-08-12T00:00:00",
          "2022-08-24T00:00:00",
          "2022-09-05T00:00:00",
          "2022-09-17T00:00:00",
          "2022-09-29T00:00:00",
          "2022-10-11T00:00:00",
          "2022-12-10T00:00:00",
          "2023-05-27T00:00:00",
          "2023-06-08T00:00:00"
         ],
         "xaxis": "x",
         "y": [
          0,
          -38.07,
          -13.94,
          3.26,
          -13.12,
          -22.68,
          -23.71,
          -25.82,
          -28.51,
          -31.99,
          -29.14,
          -34.51,
          -16.74,
          -9.57,
          -4.33,
          -13.87,
          -29.46,
          -19.27,
          -28.75,
          -40.88,
          -26.22,
          -3.72,
          -6.83,
          -15.67,
          -23.09,
          -5.53,
          -19.98,
          -3.03,
          -12.31,
          -14.3,
          -23.03,
          -21.7,
          -11.95,
          -28.33,
          -33.01,
          -34.31,
          -28.6,
          6.32,
          6.01,
          -1.75,
          -13.1,
          -14.5,
          -8.75,
          -4.24,
          -14.69,
          -4.54,
          -20.92,
          -40.53,
          -54.15
         ],
         "yaxis": "y"
        },
        {
         "hovertemplate": "id=20_SPW_D33<br>Date=%{x}<br>Ground Water Level (cm)=%{y}<extra></extra>",
         "legendgroup": "20_SPW_D33",
         "line": {
          "color": "#EF553B",
          "dash": "solid"
         },
         "marker": {
          "symbol": "circle"
         },
         "mode": "lines",
         "name": "20_SPW_D33",
         "orientation": "v",
         "showlegend": true,
         "type": "scatter",
         "x": [
          "2021-01-01T00:00:00",
          "2021-01-13T00:00:00",
          "2021-01-25T00:00:00",
          "2021-02-06T00:00:00",
          "2021-02-18T00:00:00",
          "2021-03-02T00:00:00",
          "2021-03-14T00:00:00",
          "2021-03-26T00:00:00",
          "2021-04-19T00:00:00",
          "2021-05-01T00:00:00",
          "2021-05-13T00:00:00",
          "2021-06-30T00:00:00",
          "2021-07-24T00:00:00",
          "2021-08-05T00:00:00",
          "2021-08-17T00:00:00",
          "2021-08-29T00:00:00",
          "2021-09-10T00:00:00",
          "2021-09-22T00:00:00",
          "2021-10-04T00:00:00",
          "2021-10-16T00:00:00",
          "2021-10-28T00:00:00",
          "2021-11-09T00:00:00",
          "2021-11-21T00:00:00",
          "2021-12-03T00:00:00",
          "2021-12-15T00:00:00",
          "2021-12-27T00:00:00",
          "2022-01-08T00:00:00",
          "2022-01-20T00:00:00",
          "2022-02-01T00:00:00",
          "2022-02-13T00:00:00",
          "2022-02-25T00:00:00",
          "2022-03-09T00:00:00",
          "2022-03-21T00:00:00",
          "2022-04-02T00:00:00",
          "2022-04-14T00:00:00",
          "2022-04-26T00:00:00",
          "2022-05-08T00:00:00",
          "2022-06-13T00:00:00",
          "2022-06-25T00:00:00",
          "2022-07-07T00:00:00",
          "2022-08-12T00:00:00",
          "2022-08-24T00:00:00",
          "2022-09-05T00:00:00",
          "2022-09-17T00:00:00",
          "2022-09-29T00:00:00",
          "2022-10-11T00:00:00",
          "2022-12-10T00:00:00",
          "2023-05-27T00:00:00",
          "2023-06-08T00:00:00"
         ],
         "xaxis": "x",
         "y": [
          0,
          -55.2,
          -45.06,
          -10.1,
          -26.93,
          -43.39,
          -31.93,
          -39.12,
          -34.97,
          -38.33,
          -21.74,
          -37.85,
          -28.06,
          -20.06,
          -12.55,
          -28.14,
          -42.56,
          -34.51,
          -41.58,
          -50.65,
          -43.55,
          -20.98,
          -21.65,
          -27,
          -37.4,
          -27.32,
          -28.71,
          -22.56,
          -20.33,
          -23.2,
          -31.61,
          -31.5,
          0.44,
          -21.11,
          -33.08,
          -35.53,
          -27.11,
          -16.57,
          7.65,
          -6.68,
          -24.22,
          -27.35,
          -20.12,
          -17.49,
          -23.14,
          -14.21,
          -21.52,
          -45.65,
          -49.96
         ],
         "yaxis": "y"
        },
        {
         "hovertemplate": "id=20_SPW_G23<br>Date=%{x}<br>Ground Water Level (cm)=%{y}<extra></extra>",
         "legendgroup": "20_SPW_G23",
         "line": {
          "color": "#00cc96",
          "dash": "solid"
         },
         "marker": {
          "symbol": "circle"
         },
         "mode": "lines",
         "name": "20_SPW_G23",
         "orientation": "v",
         "showlegend": true,
         "type": "scatter",
         "x": [
          "2021-01-01T00:00:00",
          "2021-01-13T00:00:00",
          "2021-01-25T00:00:00",
          "2021-02-06T00:00:00",
          "2021-02-18T00:00:00",
          "2021-03-02T00:00:00",
          "2021-03-14T00:00:00",
          "2021-03-26T00:00:00",
          "2021-04-19T00:00:00",
          "2021-05-01T00:00:00",
          "2021-05-13T00:00:00",
          "2021-06-30T00:00:00",
          "2021-07-24T00:00:00",
          "2021-08-05T00:00:00",
          "2021-08-17T00:00:00",
          "2021-08-29T00:00:00",
          "2021-09-10T00:00:00",
          "2021-09-22T00:00:00",
          "2021-10-04T00:00:00",
          "2021-10-16T00:00:00",
          "2021-10-28T00:00:00",
          "2021-11-09T00:00:00",
          "2021-11-21T00:00:00",
          "2021-12-03T00:00:00",
          "2021-12-15T00:00:00",
          "2021-12-27T00:00:00",
          "2022-01-08T00:00:00",
          "2022-01-20T00:00:00",
          "2022-02-01T00:00:00",
          "2022-02-13T00:00:00",
          "2022-02-25T00:00:00",
          "2022-03-09T00:00:00",
          "2022-03-21T00:00:00",
          "2022-04-02T00:00:00",
          "2022-04-14T00:00:00",
          "2022-04-26T00:00:00",
          "2022-05-08T00:00:00",
          "2022-06-13T00:00:00",
          "2022-06-25T00:00:00",
          "2022-07-07T00:00:00",
          "2022-08-12T00:00:00",
          "2022-08-24T00:00:00",
          "2022-09-05T00:00:00",
          "2022-09-17T00:00:00",
          "2022-09-29T00:00:00",
          "2022-10-11T00:00:00",
          "2022-12-10T00:00:00",
          "2023-05-27T00:00:00",
          "2023-06-08T00:00:00"
         ],
         "xaxis": "x",
         "y": [
          0,
          -54.3,
          -26.93,
          8.47,
          -20.11,
          -20.39,
          -19.75,
          -24.6,
          -30.17,
          -32.01,
          -35.13,
          -33.59,
          -8.59,
          1.4,
          8.56,
          -2.85,
          -29.03,
          -17.63,
          -23.61,
          -45.82,
          -28.99,
          -20.63,
          -14.55,
          -19.35,
          -37.27,
          -27.99,
          -30.05,
          -13.65,
          -22.6,
          -15.19,
          -16.83,
          -19.79,
          -14.23,
          -28.01,
          -41.08,
          -45.5,
          -45.81,
          -15.58,
          0.29,
          -33.94,
          -29.95,
          -36.96,
          -30.94,
          -34.74,
          -39.01,
          -37.68,
          -41.98,
          -38.79,
          -62.17
         ],
         "yaxis": "y"
        },
        {
         "hovertemplate": "id=20_SPW_G29<br>Date=%{x}<br>Ground Water Level (cm)=%{y}<extra></extra>",
         "legendgroup": "20_SPW_G29",
         "line": {
          "color": "#ab63fa",
          "dash": "solid"
         },
         "marker": {
          "symbol": "circle"
         },
         "mode": "lines",
         "name": "20_SPW_G29",
         "orientation": "v",
         "showlegend": true,
         "type": "scatter",
         "x": [
          "2021-01-01T00:00:00",
          "2021-01-13T00:00:00",
          "2021-01-25T00:00:00",
          "2021-02-06T00:00:00",
          "2021-02-18T00:00:00",
          "2021-03-02T00:00:00",
          "2021-03-14T00:00:00",
          "2021-03-26T00:00:00",
          "2021-04-19T00:00:00",
          "2021-05-01T00:00:00",
          "2021-05-13T00:00:00",
          "2021-06-30T00:00:00",
          "2021-07-24T00:00:00",
          "2021-08-05T00:00:00",
          "2021-08-17T00:00:00",
          "2021-08-29T00:00:00",
          "2021-09-10T00:00:00",
          "2021-09-22T00:00:00",
          "2021-10-04T00:00:00",
          "2021-10-16T00:00:00",
          "2021-10-28T00:00:00",
          "2021-11-09T00:00:00",
          "2021-11-21T00:00:00",
          "2021-12-03T00:00:00",
          "2021-12-15T00:00:00",
          "2021-12-27T00:00:00",
          "2022-01-08T00:00:00",
          "2022-01-20T00:00:00",
          "2022-02-01T00:00:00",
          "2022-02-13T00:00:00",
          "2022-02-25T00:00:00",
          "2022-03-09T00:00:00",
          "2022-03-21T00:00:00",
          "2022-04-02T00:00:00",
          "2022-04-14T00:00:00",
          "2022-04-26T00:00:00",
          "2022-05-08T00:00:00",
          "2022-06-13T00:00:00",
          "2022-06-25T00:00:00",
          "2022-07-07T00:00:00",
          "2022-08-12T00:00:00",
          "2022-08-24T00:00:00",
          "2022-09-05T00:00:00",
          "2022-09-17T00:00:00",
          "2022-09-29T00:00:00",
          "2022-10-11T00:00:00",
          "2022-12-10T00:00:00",
          "2023-05-27T00:00:00",
          "2023-06-08T00:00:00"
         ],
         "xaxis": "x",
         "y": [
          0,
          -55.8,
          -33.87,
          -4.31,
          -31.93,
          -35.29,
          -36.97,
          -37.09,
          -35.76,
          -40.55,
          -35.3,
          -34.53,
          -14.83,
          -9.25,
          -9.54,
          -17.24,
          -29.49,
          -25.2,
          -24.7,
          -56.73,
          -44.14,
          -26.03,
          -11.01,
          -11.02,
          -20.29,
          -7.53,
          -16.1,
          -5.27,
          -8.01,
          -12.3,
          -10.86,
          -10.75,
          -12.74,
          -29.23,
          -39.34,
          -45.4,
          -38.71,
          -2.75,
          -1.31,
          -12.76,
          -14.17,
          -28.78,
          -10.08,
          -15.25,
          -19.79,
          -11.52,
          -27.67,
          -42.69,
          -50.74
         ],
         "yaxis": "y"
        }
       ],
       "layout": {
        "autosize": true,
        "legend": {
         "title": {
          "text": "id"
         },
         "tracegroupgap": 0
        },
        "template": {
         "data": {
          "bar": [
           {
            "error_x": {
             "color": "#2a3f5f"
            },
            "error_y": {
             "color": "#2a3f5f"
            },
            "marker": {
             "line": {
              "color": "#E5ECF6",
              "width": 0.5
             },
             "pattern": {
              "fillmode": "overlay",
              "size": 10,
              "solidity": 0.2
             }
            },
            "type": "bar"
           }
          ],
          "barpolar": [
           {
            "marker": {
             "line": {
              "color": "#E5ECF6",
              "width": 0.5
             },
             "pattern": {
              "fillmode": "overlay",
              "size": 10,
              "solidity": 0.2
             }
            },
            "type": "barpolar"
           }
          ],
          "carpet": [
           {
            "aaxis": {
             "endlinecolor": "#2a3f5f",
             "gridcolor": "white",
             "linecolor": "white",
             "minorgridcolor": "white",
             "startlinecolor": "#2a3f5f"
            },
            "baxis": {
             "endlinecolor": "#2a3f5f",
             "gridcolor": "white",
             "linecolor": "white",
             "minorgridcolor": "white",
             "startlinecolor": "#2a3f5f"
            },
            "type": "carpet"
           }
          ],
          "choropleth": [
           {
            "colorbar": {
             "outlinewidth": 0,
             "ticks": ""
            },
            "type": "choropleth"
           }
          ],
          "contour": [
           {
            "colorbar": {
             "outlinewidth": 0,
             "ticks": ""
            },
            "colorscale": [
             [
              0,
              "#0d0887"
             ],
             [
              0.1111111111111111,
              "#46039f"
             ],
             [
              0.2222222222222222,
              "#7201a8"
             ],
             [
              0.3333333333333333,
              "#9c179e"
             ],
             [
              0.4444444444444444,
              "#bd3786"
             ],
             [
              0.5555555555555556,
              "#d8576b"
             ],
             [
              0.6666666666666666,
              "#ed7953"
             ],
             [
              0.7777777777777778,
              "#fb9f3a"
             ],
             [
              0.8888888888888888,
              "#fdca26"
             ],
             [
              1,
              "#f0f921"
             ]
            ],
            "type": "contour"
           }
          ],
          "contourcarpet": [
           {
            "colorbar": {
             "outlinewidth": 0,
             "ticks": ""
            },
            "type": "contourcarpet"
           }
          ],
          "heatmap": [
           {
            "colorbar": {
             "outlinewidth": 0,
             "ticks": ""
            },
            "colorscale": [
             [
              0,
              "#0d0887"
             ],
             [
              0.1111111111111111,
              "#46039f"
             ],
             [
              0.2222222222222222,
              "#7201a8"
             ],
             [
              0.3333333333333333,
              "#9c179e"
             ],
             [
              0.4444444444444444,
              "#bd3786"
             ],
             [
              0.5555555555555556,
              "#d8576b"
             ],
             [
              0.6666666666666666,
              "#ed7953"
             ],
             [
              0.7777777777777778,
              "#fb9f3a"
             ],
             [
              0.8888888888888888,
              "#fdca26"
             ],
             [
              1,
              "#f0f921"
             ]
            ],
            "type": "heatmap"
           }
          ],
          "heatmapgl": [
           {
            "colorbar": {
             "outlinewidth": 0,
             "ticks": ""
            },
            "colorscale": [
             [
              0,
              "#0d0887"
             ],
             [
              0.1111111111111111,
              "#46039f"
             ],
             [
              0.2222222222222222,
              "#7201a8"
             ],
             [
              0.3333333333333333,
              "#9c179e"
             ],
             [
              0.4444444444444444,
              "#bd3786"
             ],
             [
              0.5555555555555556,
              "#d8576b"
             ],
             [
              0.6666666666666666,
              "#ed7953"
             ],
             [
              0.7777777777777778,
              "#fb9f3a"
             ],
             [
              0.8888888888888888,
              "#fdca26"
             ],
             [
              1,
              "#f0f921"
             ]
            ],
            "type": "heatmapgl"
           }
          ],
          "histogram": [
           {
            "marker": {
             "pattern": {
              "fillmode": "overlay",
              "size": 10,
              "solidity": 0.2
             }
            },
            "type": "histogram"
           }
          ],
          "histogram2d": [
           {
            "colorbar": {
             "outlinewidth": 0,
             "ticks": ""
            },
            "colorscale": [
             [
              0,
              "#0d0887"
             ],
             [
              0.1111111111111111,
              "#46039f"
             ],
             [
              0.2222222222222222,
              "#7201a8"
             ],
             [
              0.3333333333333333,
              "#9c179e"
             ],
             [
              0.4444444444444444,
              "#bd3786"
             ],
             [
              0.5555555555555556,
              "#d8576b"
             ],
             [
              0.6666666666666666,
              "#ed7953"
             ],
             [
              0.7777777777777778,
              "#fb9f3a"
             ],
             [
              0.8888888888888888,
              "#fdca26"
             ],
             [
              1,
              "#f0f921"
             ]
            ],
            "type": "histogram2d"
           }
          ],
          "histogram2dcontour": [
           {
            "colorbar": {
             "outlinewidth": 0,
             "ticks": ""
            },
            "colorscale": [
             [
              0,
              "#0d0887"
             ],
             [
              0.1111111111111111,
              "#46039f"
             ],
             [
              0.2222222222222222,
              "#7201a8"
             ],
             [
              0.3333333333333333,
              "#9c179e"
             ],
             [
              0.4444444444444444,
              "#bd3786"
             ],
             [
              0.5555555555555556,
              "#d8576b"
             ],
             [
              0.6666666666666666,
              "#ed7953"
             ],
             [
              0.7777777777777778,
              "#fb9f3a"
             ],
             [
              0.8888888888888888,
              "#fdca26"
             ],
             [
              1,
              "#f0f921"
             ]
            ],
            "type": "histogram2dcontour"
           }
          ],
          "mesh3d": [
           {
            "colorbar": {
             "outlinewidth": 0,
             "ticks": ""
            },
            "type": "mesh3d"
           }
          ],
          "parcoords": [
           {
            "line": {
             "colorbar": {
              "outlinewidth": 0,
              "ticks": ""
             }
            },
            "type": "parcoords"
           }
          ],
          "pie": [
           {
            "automargin": true,
            "type": "pie"
           }
          ],
          "scatter": [
           {
            "fillpattern": {
             "fillmode": "overlay",
             "size": 10,
             "solidity": 0.2
            },
            "type": "scatter"
           }
          ],
          "scatter3d": [
           {
            "line": {
             "colorbar": {
              "outlinewidth": 0,
              "ticks": ""
             }
            },
            "marker": {
             "colorbar": {
              "outlinewidth": 0,
              "ticks": ""
             }
            },
            "type": "scatter3d"
           }
          ],
          "scattercarpet": [
           {
            "marker": {
             "colorbar": {
              "outlinewidth": 0,
              "ticks": ""
             }
            },
            "type": "scattercarpet"
           }
          ],
          "scattergeo": [
           {
            "marker": {
             "colorbar": {
              "outlinewidth": 0,
              "ticks": ""
             }
            },
            "type": "scattergeo"
           }
          ],
          "scattergl": [
           {
            "marker": {
             "colorbar": {
              "outlinewidth": 0,
              "ticks": ""
             }
            },
            "type": "scattergl"
           }
          ],
          "scattermapbox": [
           {
            "marker": {
             "colorbar": {
              "outlinewidth": 0,
              "ticks": ""
             }
            },
            "type": "scattermapbox"
           }
          ],
          "scatterpolar": [
           {
            "marker": {
             "colorbar": {
              "outlinewidth": 0,
              "ticks": ""
             }
            },
            "type": "scatterpolar"
           }
          ],
          "scatterpolargl": [
           {
            "marker": {
             "colorbar": {
              "outlinewidth": 0,
              "ticks": ""
             }
            },
            "type": "scatterpolargl"
           }
          ],
          "scatterternary": [
           {
            "marker": {
             "colorbar": {
              "outlinewidth": 0,
              "ticks": ""
             }
            },
            "type": "scatterternary"
           }
          ],
          "surface": [
           {
            "colorbar": {
             "outlinewidth": 0,
             "ticks": ""
            },
            "colorscale": [
             [
              0,
              "#0d0887"
             ],
             [
              0.1111111111111111,
              "#46039f"
             ],
             [
              0.2222222222222222,
              "#7201a8"
             ],
             [
              0.3333333333333333,
              "#9c179e"
             ],
             [
              0.4444444444444444,
              "#bd3786"
             ],
             [
              0.5555555555555556,
              "#d8576b"
             ],
             [
              0.6666666666666666,
              "#ed7953"
             ],
             [
              0.7777777777777778,
              "#fb9f3a"
             ],
             [
              0.8888888888888888,
              "#fdca26"
             ],
             [
              1,
              "#f0f921"
             ]
            ],
            "type": "surface"
           }
          ],
          "table": [
           {
            "cells": {
             "fill": {
              "color": "#EBF0F8"
             },
             "line": {
              "color": "white"
             }
            },
            "header": {
             "fill": {
              "color": "#C8D4E3"
             },
             "line": {
              "color": "white"
             }
            },
            "type": "table"
           }
          ]
         },
         "layout": {
          "annotationdefaults": {
           "arrowcolor": "#2a3f5f",
           "arrowhead": 0,
           "arrowwidth": 1
          },
          "autotypenumbers": "strict",
          "coloraxis": {
           "colorbar": {
            "outlinewidth": 0,
            "ticks": ""
           }
          },
          "colorscale": {
           "diverging": [
            [
             0,
             "#8e0152"
            ],
            [
             0.1,
             "#c51b7d"
            ],
            [
             0.2,
             "#de77ae"
            ],
            [
             0.3,
             "#f1b6da"
            ],
            [
             0.4,
             "#fde0ef"
            ],
            [
             0.5,
             "#f7f7f7"
            ],
            [
             0.6,
             "#e6f5d0"
            ],
            [
             0.7,
             "#b8e186"
            ],
            [
             0.8,
             "#7fbc41"
            ],
            [
             0.9,
             "#4d9221"
            ],
            [
             1,
             "#276419"
            ]
           ],
           "sequential": [
            [
             0,
             "#0d0887"
            ],
            [
             0.1111111111111111,
             "#46039f"
            ],
            [
             0.2222222222222222,
             "#7201a8"
            ],
            [
             0.3333333333333333,
             "#9c179e"
            ],
            [
             0.4444444444444444,
             "#bd3786"
            ],
            [
             0.5555555555555556,
             "#d8576b"
            ],
            [
             0.6666666666666666,
             "#ed7953"
            ],
            [
             0.7777777777777778,
             "#fb9f3a"
            ],
            [
             0.8888888888888888,
             "#fdca26"
            ],
            [
             1,
             "#f0f921"
            ]
           ],
           "sequentialminus": [
            [
             0,
             "#0d0887"
            ],
            [
             0.1111111111111111,
             "#46039f"
            ],
            [
             0.2222222222222222,
             "#7201a8"
            ],
            [
             0.3333333333333333,
             "#9c179e"
            ],
            [
             0.4444444444444444,
             "#bd3786"
            ],
            [
             0.5555555555555556,
             "#d8576b"
            ],
            [
             0.6666666666666666,
             "#ed7953"
            ],
            [
             0.7777777777777778,
             "#fb9f3a"
            ],
            [
             0.8888888888888888,
             "#fdca26"
            ],
            [
             1,
             "#f0f921"
            ]
           ]
          },
          "colorway": [
           "#636efa",
           "#EF553B",
           "#00cc96",
           "#ab63fa",
           "#FFA15A",
           "#19d3f3",
           "#FF6692",
           "#B6E880",
           "#FF97FF",
           "#FECB52"
          ],
          "font": {
           "color": "#2a3f5f"
          },
          "geo": {
           "bgcolor": "white",
           "lakecolor": "white",
           "landcolor": "#E5ECF6",
           "showlakes": true,
           "showland": true,
           "subunitcolor": "white"
          },
          "hoverlabel": {
           "align": "left"
          },
          "hovermode": "closest",
          "mapbox": {
           "style": "light"
          },
          "paper_bgcolor": "white",
          "plot_bgcolor": "#E5ECF6",
          "polar": {
           "angularaxis": {
            "gridcolor": "white",
            "linecolor": "white",
            "ticks": ""
           },
           "bgcolor": "#E5ECF6",
           "radialaxis": {
            "gridcolor": "white",
            "linecolor": "white",
            "ticks": ""
           }
          },
          "scene": {
           "xaxis": {
            "backgroundcolor": "#E5ECF6",
            "gridcolor": "white",
            "gridwidth": 2,
            "linecolor": "white",
            "showbackground": true,
            "ticks": "",
            "zerolinecolor": "white"
           },
           "yaxis": {
            "backgroundcolor": "#E5ECF6",
            "gridcolor": "white",
            "gridwidth": 2,
            "linecolor": "white",
            "showbackground": true,
            "ticks": "",
            "zerolinecolor": "white"
           },
           "zaxis": {
            "backgroundcolor": "#E5ECF6",
            "gridcolor": "white",
            "gridwidth": 2,
            "linecolor": "white",
            "showbackground": true,
            "ticks": "",
            "zerolinecolor": "white"
           }
          },
          "shapedefaults": {
           "line": {
            "color": "#2a3f5f"
           }
          },
          "ternary": {
           "aaxis": {
            "gridcolor": "white",
            "linecolor": "white",
            "ticks": ""
           },
           "baxis": {
            "gridcolor": "white",
            "linecolor": "white",
            "ticks": ""
           },
           "bgcolor": "#E5ECF6",
           "caxis": {
            "gridcolor": "white",
            "linecolor": "white",
            "ticks": ""
           }
          },
          "title": {
           "x": 0.05
          },
          "xaxis": {
           "automargin": true,
           "gridcolor": "white",
           "linecolor": "white",
           "ticks": "",
           "title": {
            "standoff": 15
           },
           "zerolinecolor": "white",
           "zerolinewidth": 2
          },
          "yaxis": {
           "automargin": true,
           "gridcolor": "white",
           "linecolor": "white",
           "ticks": "",
           "title": {
            "standoff": 15
           },
           "zerolinecolor": "white",
           "zerolinewidth": 2
          }
         }
        },
        "title": {
         "text": "Time Series of GWL by dipwell id"
        },
        "xaxis": {
         "anchor": "y",
         "autorange": true,
         "domain": [
          0,
          1
         ],
         "range": [
          "2021-01-01",
          "2023-06-08"
         ],
         "title": {
          "text": "Date"
         },
         "type": "date"
        },
        "yaxis": {
         "anchor": "x",
         "autorange": true,
         "domain": [
          0,
          1
         ],
         "range": [
          -66.09944444444444,
          12.489444444444445
         ],
         "title": {
          "text": "Ground Water Level (cm)"
         },
         "type": "linear"
        }
       }
      },
      "image/png": "[encoded data removed]",
      "text/html": [
       "<div>                            <div id=\"9f874d3a-fac8-4734-a63b-46a02c72a385\" class=\"plotly-graph-div\" style=\"height:525px; width:100%;\"></div>            <script type=\"text/javascript\">                require([\"plotly\"], function(Plotly) {                    window.PLOTLYENV=window.PLOTLYENV || {};                                    if (document.getElementById(\"9f874d3a-fac8-4734-a63b-46a02c72a385\")) {                    Plotly.newPlot(                        \"9f874d3a-fac8-4734-a63b-46a02c72a385\",                        [{\"hovertemplate\":\"id=20_SPW_B18\\u003cbr\\u003eDate=%{x}\\u003cbr\\u003eGround Water Level (cm)=%{y}\\u003cextra\\u003e\\u003c\\u002fextra\\u003e\",\"legendgroup\":\"20_SPW_B18\",\"line\":{\"color\":\"#636efa\",\"dash\":\"solid\"},\"marker\":{\"symbol\":\"circle\"},\"mode\":\"lines\",\"name\":\"20_SPW_B18\",\"orientation\":\"v\",\"showlegend\":true,\"x\":[\"2021-01-01T00:00:00\",\"2021-01-13T00:00:00\",\"2021-01-25T00:00:00\",\"2021-02-06T00:00:00\",\"2021-02-18T00:00:00\",\"2021-03-02T00:00:00\",\"2021-03-14T00:00:00\",\"2021-03-26T00:00:00\",\"2021-04-19T00:00:00\",\"2021-05-01T00:00:00\",\"2021-05-13T00:00:00\",\"2021-06-30T00:00:00\",\"2021-07-24T00:00:00\",\"2021-08-05T00:00:00\",\"2021-08-17T00:00:00\",\"2021-08-29T00:00:00\",\"2021-09-10T00:00:00\",\"2021-09-22T00:00:00\",\"2021-10-04T00:00:00\",\"2021-10-16T00:00:00\",\"2021-10-28T00:00:00\",\"2021-11-09T00:00:00\",\"2021-11-21T00:00:00\",\"2021-12-03T00:00:00\",\"2021-12-15T00:00:00\",\"2021-12-27T00:00:00\",\"2022-01-08T00:00:00\",\"2022-01-20T00:00:00\",\"2022-02-01T00:00:00\",\"2022-02-13T00:00:00\",\"2022-02-25T00:00:00\",\"2022-03-09T00:00:00\",\"2022-03-21T00:00:00\",\"2022-04-02T00:00:00\",\"2022-04-14T00:00:00\",\"2022-04-26T00:00:00\",\"2022-05-08T00:00:00\",\"2022-06-13T00:00:00\",\"2022-06-25T00:00:00\",\"2022-07-07T00:00:00\",\"2022-08-12T00:00:00\",\"2022-08-24T00:00:00\",\"2022-09-05T00:00:00\",\"2022-09-17T00:00:00\",\"2022-09-29T00:00:00\",\"2022-10-11T00:00:00\",\"2022-12-10T00:00:00\",\"2023-05-27T00:00:00\",\"2023-06-08T00:00:00\"],\"xaxis\":\"x\",\"y\":[0.0,-38.07,-13.94,3.26,-13.12,-22.68,-23.71,-25.82,-28.51,-31.99,-29.14,-34.51,-16.74,-9.57,-4.33,-13.87,-29.46,-19.27,-28.75,-40.88,-26.22,-3.72,-6.83,-15.67,-23.09,-5.53,-19.98,-3.03,-12.31,-14.3,-23.03,-21.7,-11.95,-28.33,-33.01,-34.31,-28.6,6.32,6.01,-1.75,-13.1,-14.5,-8.75,-4.24,-14.69,-4.54,-20.92,-40.53,-54.15],\"yaxis\":\"y\",\"type\":\"scatter\"},{\"hovertemplate\":\"id=20_SPW_D33\\u003cbr\\u003eDate=%{x}\\u003cbr\\u003eGround Water Level (cm)=%{y}\\u003cextra\\u003e\\u003c\\u002fextra\\u003e\",\"legendgroup\":\"20_SPW_D33\",\"line\":{\"color\":\"#EF553B\",\"dash\":\"solid\"},\"marker\":{\"symbol\":\"circle\"},\"mode\":\"lines\",\"name\":\"20_SPW_D33\",\"orientation\":\"v\",\"showlegend\":true,\"x\":[\"2021-01-01T00:00:00\",\"2021-01-13T00:00:00\",\"2021-01-25T00:00:00\",\"2021-02-06T00:00:00\",\"2021-02-18T00:00:00\",\"2021-03-02T00:00:00\",\"2021-03-14T00:00:00\",\"2021-03-26T00:00:00\",\"2021-04-19T00:00:00\",\"2021-05-01T00:00:00\",\"2021-05-13T00:00:00\",\"2021-06-30T00:00:00\",\"2021-07-24T00:00:00\",\"2021-08-05T00:00:00\",\"2021-08-17T00:00:00\",\"2021-08-29T00:00:00\",\"2021-09-10T00:00:00\",\"2021-09-22T00:00:00\",\"2021-10-04T00:00:00\",\"2021-10-16T00:00:00\",\"2021-10-28T00:00:00\",\"2021-11-09T00:00:00\",\"2021-11-21T00:00:00\",\"2021-12-03T00:00:00\",\"2021-12-15T00:00:00\",\"2021-12-27T00:00:00\",\"2022-01-08T00:00:00\",\"2022-01-20T00:00:00\",\"2022-02-01T00:00:00\",\"2022-02-13T00:00:00\",\"2022-02-25T00:00:00\",\"2022-03-09T00:00:00\",\"2022-03-21T00:00:00\",\"2022-04-02T00:00:00\",\"2022-04-14T00:00:00\",\"2022-04-26T00:00:00\",\"2022-05-08T00:00:00\",\"2022-06-13T00:00:00\",\"2022-06-25T00:00:00\",\"2022-07-07T00:00:00\",\"2022-08-12T00:00:00\",\"2022-08-24T00:00:00\",\"2022-09-05T00:00:00\",\"2022-09-17T00:00:00\",\"2022-09-29T00:00:00\",\"2022-10-11T00:00:00\",\"2022-12-10T00:00:00\",\"2023-05-27T00:00:00\",\"2023-06-08T00:00:00\"],\"xaxis\":\"x\",\"y\":[0.0,-55.2,-45.06,-10.1,-26.93,-43.39,-31.93,-39.12,-34.97,-38.33,-21.74,-37.85,-28.06,-20.06,-12.55,-28.14,-42.56,-34.51,-41.58,-50.65,-43.55,-20.98,-21.65,-27.0,-37.4,-27.32,-28.71,-22.56,-20.33,-23.2,-31.61,-31.5,0.44,-21.11,-33.08,-35.53,-27.11,-16.57,7.65,-6.68,-24.22,-27.35,-20.12,-17.49,-23.14,-14.21,-21.52,-45.65,-49.96],\"yaxis\":\"y\",\"type\":\"scatter\"},{\"hovertemplate\":\"id=20_SPW_G23\\u003cbr\\u003eDate=%{x}\\u003cbr\\u003eGround Water Level (cm)=%{y}\\u003cextra\\u003e\\u003c\\u002fextra\\u003e\",\"legendgroup\":\"20_SPW_G23\",\"line\":{\"color\":\"#00cc96\",\"dash\":\"solid\"},\"marker\":{\"symbol\":\"circle\"},\"mode\":\"lines\",\"name\":\"20_SPW_G23\",\"orientation\":\"v\",\"showlegend\":true,\"x\":[\"2021-01-01T00:00:00\",\"2021-01-13T00:00:00\",\"2021-01-25T00:00:00\",\"2021-02-06T00:00:00\",\"2021-02-18T00:00:00\",\"2021-03-02T00:00:00\",\"2021-03-14T00:00:00\",\"2021-03-26T00:00:00\",\"2021-04-19T00:00:00\",\"2021-05-01T00:00:00\",\"2021-05-13T00:00:00\",\"2021-06-30T00:00:00\",\"2021-07-24T00:00:00\",\"2021-08-05T00:00:00\",\"2021-08-17T00:00:00\",\"2021-08-29T00:00:00\",\"2021-09-10T00:00:00\",\"2021-09-22T00:00:00\",\"2021-10-04T00:00:00\",\"2021-10-16T00:00:00\",\"2021-10-28T00:00:00\",\"2021-11-09T00:00:00\",\"2021-11-21T00:00:00\",\"2021-12-03T00:00:00\",\"2021-12-15T00:00:00\",\"2021-12-27T00:00:00\",\"2022-01-08T00:00:00\",\"2022-01-20T00:00:00\",\"2022-02-01T00:00:00\",\"2022-02-13T00:00:00\",\"2022-02-25T00:00:00\",\"2022-03-09T00:00:00\",\"2022-03-21T00:00:00\",\"2022-04-02T00:00:00\",\"2022-04-14T00:00:00\",\"2022-04-26T00:00:00\",\"2022-05-08T00:00:00\",\"2022-06-13T00:00:00\",\"2022-06-25T00:00:00\",\"2022-07-07T00:00:00\",\"2022-08-12T00:00:00\",\"2022-08-24T00:00:00\",\"2022-09-05T00:00:00\",\"2022-09-17T00:00:00\",\"2022-09-29T00:00:00\",\"2022-10-11T00:00:00\",\"2022-12-10T00:00:00\",\"2023-05-27T00:00:00\",\"2023-06-08T00:00:00\"],\"xaxis\":\"x\",\"y\":[0.0,-54.3,-26.93,8.47,-20.11,-20.39,-19.75,-24.6,-30.17,-32.01,-35.13,-33.59,-8.59,1.4,8.56,-2.85,-29.03,-17.63,-23.61,-45.82,-28.99,-20.63,-14.55,-19.35,-37.27,-27.99,-30.05,-13.65,-22.6,-15.19,-16.83,-19.79,-14.23,-28.01,-41.08,-45.5,-45.81,-15.58,0.29,-33.94,-29.95,-36.96,-30.94,-34.74,-39.01,-37.68,-41.98,-38.79,-62.17],\"yaxis\":\"y\",\"type\":\"scatter\"},{\"hovertemplate\":\"id=20_SPW_G29\\u003cbr\\u003eDate=%{x}\\u003cbr\\u003eGround Water Level (cm)=%{y}\\u003cextra\\u003e\\u003c\\u002fextra\\u003e\",\"legendgroup\":\"20_SPW_G29\",\"line\":{\"color\":\"#ab63fa\",\"dash\":\"solid\"},\"marker\":{\"symbol\":\"circle\"},\"mode\":\"lines\",\"name\":\"20_SPW_G29\",\"orientation\":\"v\",\"showlegend\":true,\"x\":[\"2021-01-01T00:00:00\",\"2021-01-13T00:00:00\",\"2021-01-25T00:00:00\",\"2021-02-06T00:00:00\",\"2021-02-18T00:00:00\",\"2021-03-02T00:00:00\",\"2021-03-14T00:00:00\",\"2021-03-26T00:00:00\",\"2021-04-19T00:00:00\",\"2021-05-01T00:00:00\",\"2021-05-13T00:00:00\",\"2021-06-30T00:00:00\",\"2021-07-24T00:00:00\",\"2021-08-05T00:00:00\",\"2021-08-17T00:00:00\",\"2021-08-29T00:00:00\",\"2021-09-10T00:00:00\",\"2021-09-22T00:00:00\",\"2021-10-04T00:00:00\",\"2021-10-16T00:00:00\",\"2021-10-28T00:00:00\",\"2021-11-09T00:00:00\",\"2021-11-21T00:00:00\",\"2021-12-03T00:00:00\",\"2021-12-15T00:00:00\",\"2021-12-27T00:00:00\",\"2022-01-08T00:00:00\",\"2022-01-20T00:00:00\",\"2022-02-01T00:00:00\",\"2022-02-13T00:00:00\",\"2022-02-25T00:00:00\",\"2022-03-09T00:00:00\",\"2022-03-21T00:00:00\",\"2022-04-02T00:00:00\",\"2022-04-14T00:00:00\",\"2022-04-26T00:00:00\",\"2022-05-08T00:00:00\",\"2022-06-13T00:00:00\",\"2022-06-25T00:00:00\",\"2022-07-07T00:00:00\",\"2022-08-12T00:00:00\",\"2022-08-24T00:00:00\",\"2022-09-05T00:00:00\",\"2022-09-17T00:00:00\",\"2022-09-29T00:00:00\",\"2022-10-11T00:00:00\",\"2022-12-10T00:00:00\",\"2023-05-27T00:00:00\",\"2023-06-08T00:00:00\"],\"xaxis\":\"x\",\"y\":[0.0,-55.8,-33.87,-4.31,-31.93,-35.29,-36.97,-37.09,-35.76,-40.55,-35.3,-34.53,-14.83,-9.25,-9.54,-17.24,-29.49,-25.2,-24.7,-56.73,-44.14,-26.03,-11.01,-11.02,-20.29,-7.53,-16.1,-5.27,-8.01,-12.3,-10.86,-10.75,-12.74,-29.23,-39.34,-45.4,-38.71,-2.75,-1.31,-12.76,-14.17,-28.78,-10.08,-15.25,-19.79,-11.52,-27.67,-42.69,-50.74],\"yaxis\":\"y\",\"type\":\"scatter\"}],                        {\"template\":{\"data\":{\"histogram2dcontour\":[{\"type\":\"histogram2dcontour\",\"colorbar\":{\"outlinewidth\":0,\"ticks\":\"\"},\"colorscale\":[[0.0,\"#0d0887\"],[0.1111111111111111,\"#46039f\"],[0.2222222222222222,\"#7201a8\"],[0.3333333333333333,\"#9c179e\"],[0.4444444444444444,\"#bd3786\"],[0.5555555555555556,\"#d8576b\"],[0.6666666666666666,\"#ed7953\"],[0.7777777777777778,\"#fb9f3a\"],[0.8888888888888888,\"#fdca26\"],[1.0,\"#f0f921\"]]}],\"choropleth\":[{\"type\":\"choropleth\",\"colorbar\":{\"outlinewidth\":0,\"ticks\":\"\"}}],\"histogram2d\":[{\"type\":\"histogram2d\",\"colorbar\":{\"outlinewidth\":0,\"ticks\":\"\"},\"colorscale\":[[0.0,\"#0d0887\"],[0.1111111111111111,\"#46039f\"],[0.2222222222222222,\"#7201a8\"],[0.3333333333333333,\"#9c179e\"],[0.4444444444444444,\"#bd3786\"],[0.5555555555555556,\"#d8576b\"],[0.6666666666666666,\"#ed7953\"],[0.7777777777777778,\"#fb9f3a\"],[0.8888888888888888,\"#fdca26\"],[1.0,\"#f0f921\"]]}],\"heatmap\":[{\"type\":\"heatmap\",\"colorbar\":{\"outlinewidth\":0,\"ticks\":\"\"},\"colorscale\":[[0.0,\"#0d0887\"],[0.1111111111111111,\"#46039f\"],[0.2222222222222222,\"#7201a8\"],[0.3333333333333333,\"#9c179e\"],[0.4444444444444444,\"#bd3786\"],[0.5555555555555556,\"#d8576b\"],[0.6666666666666666,\"#ed7953\"],[0.7777777777777778,\"#fb9f3a\"],[0.8888888888888888,\"#fdca26\"],[1.0,\"#f0f921\"]]}],\"heatmapgl\":[{\"type\":\"heatmapgl\",\"colorbar\":{\"outlinewidth\":0,\"ticks\":\"\"},\"colorscale\":[[0.0,\"#0d0887\"],[0.1111111111111111,\"#46039f\"],[0.2222222222222222,\"#7201a8\"],[0.3333333333333333,\"#9c179e\"],[0.4444444444444444,\"#bd3786\"],[0.5555555555555556,\"#d8576b\"],[0.6666666666666666,\"#ed7953\"],[0.7777777777777778,\"#fb9f3a\"],[0.8888888888888888,\"#fdca26\"],[1.0,\"#f0f921\"]]}],\"contourcarpet\":[{\"type\":\"contourcarpet\",\"colorbar\":{\"outlinewidth\":0,\"ticks\":\"\"}}],\"contour\":[{\"type\":\"contour\",\"colorbar\":{\"outlinewidth\":0,\"ticks\":\"\"},\"colorscale\":[[0.0,\"#0d0887\"],[0.1111111111111111,\"#46039f\"],[0.2222222222222222,\"#7201a8\"],[0.3333333333333333,\"#9c179e\"],[0.4444444444444444,\"#bd3786\"],[0.5555555555555556,\"#d8576b\"],[0.6666666666666666,\"#ed7953\"],[0.7777777777777778,\"#fb9f3a\"],[0.8888888888888888,\"#fdca26\"],[1.0,\"#f0f921\"]]}],\"surface\":[{\"type\":\"surface\",\"colorbar\":{\"outlinewidth\":0,\"ticks\":\"\"},\"colorscale\":[[0.0,\"#0d0887\"],[0.1111111111111111,\"#46039f\"],[0.2222222222222222,\"#7201a8\"],[0.3333333333333333,\"#9c179e\"],[0.4444444444444444,\"#bd3786\"],[0.5555555555555556,\"#d8576b\"],[0.6666666666666666,\"#ed7953\"],[0.7777777777777778,\"#fb9f3a\"],[0.8888888888888888,\"#fdca26\"],[1.0,\"#f0f921\"]]}],\"mesh3d\":[{\"type\":\"mesh3d\",\"colorbar\":{\"outlinewidth\":0,\"ticks\":\"\"}}],\"scatter\":[{\"fillpattern\":{\"fillmode\":\"overlay\",\"size\":10,\"solidity\":0.2},\"type\":\"scatter\"}],\"parcoords\":[{\"type\":\"parcoords\",\"line\":{\"colorbar\":{\"outlinewidth\":0,\"ticks\":\"\"}}}],\"scatterpolargl\":[{\"type\":\"scatterpolargl\",\"marker\":{\"colorbar\":{\"outlinewidth\":0,\"ticks\":\"\"}}}],\"bar\":[{\"error_x\":{\"color\":\"#2a3f5f\"},\"error_y\":{\"color\":\"#2a3f5f\"},\"marker\":{\"line\":{\"color\":\"#E5ECF6\",\"width\":0.5},\"pattern\":{\"fillmode\":\"overlay\",\"size\":10,\"solidity\":0.2}},\"type\":\"bar\"}],\"scattergeo\":[{\"type\":\"scattergeo\",\"marker\":{\"colorbar\":{\"outlinewidth\":0,\"ticks\":\"\"}}}],\"scatterpolar\":[{\"type\":\"scatterpolar\",\"marker\":{\"colorbar\":{\"outlinewidth\":0,\"ticks\":\"\"}}}],\"histogram\":[{\"marker\":{\"pattern\":{\"fillmode\":\"overlay\",\"size\":10,\"solidity\":0.2}},\"type\":\"histogram\"}],\"scattergl\":[{\"type\":\"scattergl\",\"marker\":{\"colorbar\":{\"outlinewidth\":0,\"ticks\":\"\"}}}],\"scatter3d\":[{\"type\":\"scatter3d\",\"line\":{\"colorbar\":{\"outlinewidth\":0,\"ticks\":\"\"}},\"marker\":{\"colorbar\":{\"outlinewidth\":0,\"ticks\":\"\"}}}],\"scattermapbox\":[{\"type\":\"scattermapbox\",\"marker\":{\"colorbar\":{\"outlinewidth\":0,\"ticks\":\"\"}}}],\"scatterternary\":[{\"type\":\"scatterternary\",\"marker\":{\"colorbar\":{\"outlinewidth\":0,\"ticks\":\"\"}}}],\"scattercarpet\":[{\"type\":\"scattercarpet\",\"marker\":{\"colorbar\":{\"outlinewidth\":0,\"ticks\":\"\"}}}],\"carpet\":[{\"aaxis\":{\"endlinecolor\":\"#2a3f5f\",\"gridcolor\":\"white\",\"linecolor\":\"white\",\"minorgridcolor\":\"white\",\"startlinecolor\":\"#2a3f5f\"},\"baxis\":{\"endlinecolor\":\"#2a3f5f\",\"gridcolor\":\"white\",\"linecolor\":\"white\",\"minorgridcolor\":\"white\",\"startlinecolor\":\"#2a3f5f\"},\"type\":\"carpet\"}],\"table\":[{\"cells\":{\"fill\":{\"color\":\"#EBF0F8\"},\"line\":{\"color\":\"white\"}},\"header\":{\"fill\":{\"color\":\"#C8D4E3\"},\"line\":{\"color\":\"white\"}},\"type\":\"table\"}],\"barpolar\":[{\"marker\":{\"line\":{\"color\":\"#E5ECF6\",\"width\":0.5},\"pattern\":{\"fillmode\":\"overlay\",\"size\":10,\"solidity\":0.2}},\"type\":\"barpolar\"}],\"pie\":[{\"automargin\":true,\"type\":\"pie\"}]},\"layout\":{\"autotypenumbers\":\"strict\",\"colorway\":[\"#636efa\",\"#EF553B\",\"#00cc96\",\"#ab63fa\",\"#FFA15A\",\"#19d3f3\",\"#FF6692\",\"#B6E880\",\"#FF97FF\",\"#FECB52\"],\"font\":{\"color\":\"#2a3f5f\"},\"hovermode\":\"closest\",\"hoverlabel\":{\"align\":\"left\"},\"paper_bgcolor\":\"white\",\"plot_bgcolor\":\"#E5ECF6\",\"polar\":{\"bgcolor\":\"#E5ECF6\",\"angularaxis\":{\"gridcolor\":\"white\",\"linecolor\":\"white\",\"ticks\":\"\"},\"radialaxis\":{\"gridcolor\":\"white\",\"linecolor\":\"white\",\"ticks\":\"\"}},\"ternary\":{\"bgcolor\":\"#E5ECF6\",\"aaxis\":{\"gridcolor\":\"white\",\"linecolor\":\"white\",\"ticks\":\"\"},\"baxis\":{\"gridcolor\":\"white\",\"linecolor\":\"white\",\"ticks\":\"\"},\"caxis\":{\"gridcolor\":\"white\",\"linecolor\":\"white\",\"ticks\":\"\"}},\"coloraxis\":{\"colorbar\":{\"outlinewidth\":0,\"ticks\":\"\"}},\"colorscale\":{\"sequential\":[[0.0,\"#0d0887\"],[0.1111111111111111,\"#46039f\"],[0.2222222222222222,\"#7201a8\"],[0.3333333333333333,\"#9c179e\"],[0.4444444444444444,\"#bd3786\"],[0.5555555555555556,\"#d8576b\"],[0.6666666666666666,\"#ed7953\"],[0.7777777777777778,\"#fb9f3a\"],[0.8888888888888888,\"#fdca26\"],[1.0,\"#f0f921\"]],\"sequentialminus\":[[0.0,\"#0d0887\"],[0.1111111111111111,\"#46039f\"],[0.2222222222222222,\"#7201a8\"],[0.3333333333333333,\"#9c179e\"],[0.4444444444444444,\"#bd3786\"],[0.5555555555555556,\"#d8576b\"],[0.6666666666666666,\"#ed7953\"],[0.7777777777777778,\"#fb9f3a\"],[0.8888888888888888,\"#fdca26\"],[1.0,\"#f0f921\"]],\"diverging\":[[0,\"#8e0152\"],[0.1,\"#c51b7d\"],[0.2,\"#de77ae\"],[0.3,\"#f1b6da\"],[0.4,\"#fde0ef\"],[0.5,\"#f7f7f7\"],[0.6,\"#e6f5d0\"],[0.7,\"#b8e186\"],[0.8,\"#7fbc41\"],[0.9,\"#4d9221\"],[1,\"#276419\"]]},\"xaxis\":{\"gridcolor\":\"white\",\"linecolor\":\"white\",\"ticks\":\"\",\"title\":{\"standoff\":15},\"zerolinecolor\":\"white\",\"automargin\":true,\"zerolinewidth\":2},\"yaxis\":{\"gridcolor\":\"white\",\"linecolor\":\"white\",\"ticks\":\"\",\"title\":{\"standoff\":15},\"zerolinecolor\":\"white\",\"automargin\":true,\"zerolinewidth\":2},\"scene\":{\"xaxis\":{\"backgroundcolor\":\"#E5ECF6\",\"gridcolor\":\"white\",\"linecolor\":\"white\",\"showbackground\":true,\"ticks\":\"\",\"zerolinecolor\":\"white\",\"gridwidth\":2},\"yaxis\":{\"backgroundcolor\":\"#E5ECF6\",\"gridcolor\":\"white\",\"linecolor\":\"white\",\"showbackground\":true,\"ticks\":\"\",\"zerolinecolor\":\"white\",\"gridwidth\":2},\"zaxis\":{\"backgroundcolor\":\"#E5ECF6\",\"gridcolor\":\"white\",\"linecolor\":\"white\",\"showbackground\":true,\"ticks\":\"\",\"zerolinecolor\":\"white\",\"gridwidth\":2}},\"shapedefaults\":{\"line\":{\"color\":\"#2a3f5f\"}},\"annotationdefaults\":{\"arrowcolor\":\"#2a3f5f\",\"arrowhead\":0,\"arrowwidth\":1},\"geo\":{\"bgcolor\":\"white\",\"landcolor\":\"#E5ECF6\",\"subunitcolor\":\"white\",\"showland\":true,\"showlakes\":true,\"lakecolor\":\"white\"},\"title\":{\"x\":0.05},\"mapbox\":{\"style\":\"light\"}}},\"xaxis\":{\"anchor\":\"y\",\"domain\":[0.0,1.0],\"title\":{\"text\":\"Date\"}},\"yaxis\":{\"anchor\":\"x\",\"domain\":[0.0,1.0],\"title\":{\"text\":\"Ground Water Level (cm)\"}},\"legend\":{\"title\":{\"text\":\"id\"},\"tracegroupgap\":0},\"title\":{\"text\":\"Time Series of GWL by dipwell id\"}},                        {\"responsive\": true}                    ).then(function(){\n",
       "                            \n",
       "var gd = document.getElementById('9f874d3a-fac8-4734-a63b-46a02c72a385');\n",
       "var x = new MutationObserver(function (mutations, observer) {{\n",
       "        var display = window.getComputedStyle(gd).display;\n",
       "        if (!display || display === 'none') {{\n",
       "            console.log([gd, 'removed!']);\n",
       "            Plotly.purge(gd);\n",
       "            observer.disconnect();\n",
       "        }}\n",
       "}});\n",
       "\n",
       "// Listen for the removal of the full notebook cells\n",
       "var notebookContainer = gd.closest('#notebook-container');\n",
       "if (notebookContainer) {{\n",
       "    x.observe(notebookContainer, {childList: true});\n",
       "}}\n",
       "\n",
       "// Listen for the clearing of the current output cell\n",
       "var outputEl = gd.closest('.output');\n",
       "if (outputEl) {{\n",
       "    x.observe(outputEl, {childList: true});\n",
       "}}\n",
       "\n",
       "                        })                };                });            </script>        </div>"
      ]
     },
     "metadata": {},
     "output_type": "display_data"
    }
   ],
   "source": [
    "# Example list of names to exclude from the 'id' variable\n",
    "# exclude_id_list = ['BRG_140802_03']  # Replace with your list of ids to exclude\n",
    "include_id_list = ['20_SPW_G23','20_SPW_D33','20_SPW_G29','20_SPW_B18']\n",
    "\n",
    "# Further filter the dataframe by excluding specific ids\n",
    "# filtered_df = filtered_df[~filtered_df['id'].isin(exclude_id_list)]\n",
    "filtered_df = filtered_df[filtered_df['id'].isin(include_id_list)]\n",
    "\n",
    "# Create the interactive time-series plot\n",
    "fig = px.line(filtered_df, x='date', y='gwl_cm', color='id', title='Time Series of GWL by dipwell id',\n",
    "              labels={'date': 'Date', 'gwl_cm': 'Ground Water Level (cm)'})\n",
    "\n",
    "# Show the plot\n",
    "fig.show()"
   ]
  },
  {
   "cell_type": "code",
   "execution_count": null,
   "id": "0b5cf043-dc71-491a-8241-eb2fdd2aabff",
   "metadata": {},
   "outputs": [],
   "source": []
  }
 ],
 "metadata": {
  "kernelspec": {
   "display_name": "(test) gwl-modeling",
   "language": "python",
   "name": "gwl-modeling"
  },
  "language_info": {
   "codemirror_mode": {
    "name": "ipython",
    "version": 3
   },
   "file_extension": ".py",
   "mimetype": "text/x-python",
   "name": "python",
   "nbconvert_exporter": "python",
   "pygments_lexer": "ipython3",
   "version": "3.10.12"
  }
 },
 "nbformat": 4,
 "nbformat_minor": 5
}
