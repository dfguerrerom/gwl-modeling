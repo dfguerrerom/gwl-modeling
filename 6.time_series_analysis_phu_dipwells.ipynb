{
 "cells": [
  {
   "cell_type": "code",
   "execution_count": null,
   "id": "0",
   "metadata": {},
   "outputs": [],
   "source": [
    "%load_ext autoreload\n",
    "%autoreload 2"
   ]
  },
  {
   "cell_type": "code",
   "execution_count": null,
   "id": "1",
   "metadata": {},
   "outputs": [],
   "source": [
    "import pandas as pd"
   ]
  },
  {
   "cell_type": "code",
   "execution_count": null,
   "id": "2",
   "metadata": {},
   "outputs": [],
   "source": [
    "# This dataframe contains all the field + explanatory variables (training data)\n",
    "df = pd.read_csv(\"data/9_clean_training_data/all_training_data_with_extra_and_locations_and_precipSum.csv\", parse_dates=[\"date\"])\n",
    "df"
   ]
  },
  {
   "cell_type": "code",
   "execution_count": null,
   "id": "3",
   "metadata": {},
   "outputs": [],
   "source": [
    "# Example list of numbers to filter the dataframe\n",
    "phu_id_list = [371]  # Replace with your list of phu_id numbers\n",
    "\n",
    "# Filtering the dataframe\n",
    "filtered_df = df[df['phu_id'].isin(phu_id_list)]"
   ]
  },
  {
   "cell_type": "code",
   "execution_count": null,
   "id": "4",
   "metadata": {},
   "outputs": [],
   "source": [
    "import plotly.express as px\n",
    "\n",
    "# Assuming df is already defined and contains the required data\n",
    "# Convert 'date' column to datetime\n",
    "df['date'] = pd.to_datetime(df['date'])\n",
    "\n",
    "# Create the interactive time-series plot\n",
    "fig = px.line(filtered_df, x='date', y='gwl_cm', color='id', title='Time Series of GWL by dipwell id',\n",
    "              labels={'date': 'Date', 'gwl_cm': 'Ground Water Level (cm)'})\n",
    "\n",
    "# Show the plot\n",
    "fig.show()"
   ]
  },
  {
   "cell_type": "code",
   "execution_count": null,
   "id": "5",
   "metadata": {},
   "outputs": [],
   "source": [
    "# Example list of names to exclude from the 'id' variable\n",
    "# exclude_id_list = ['BRG_140802_03']  # Replace with your list of ids to exclude\n",
    "include_id_list = ['20_SPW_G23','20_SPW_D33','20_SPW_G29','20_SPW_B18']\n",
    "\n",
    "# Further filter the dataframe by excluding specific ids\n",
    "# filtered_df = filtered_df[~filtered_df['id'].isin(exclude_id_list)]\n",
    "filtered_df = filtered_df[filtered_df['id'].isin(include_id_list)]\n",
    "\n",
    "# Create the interactive time-series plot\n",
    "fig = px.line(filtered_df, x='date', y='gwl_cm', color='id', title='Time Series of GWL by dipwell id',\n",
    "              labels={'date': 'Date', 'gwl_cm': 'Ground Water Level (cm)'})\n",
    "\n",
    "# Show the plot\n",
    "fig.show()"
   ]
  },
  {
   "cell_type": "code",
   "execution_count": null,
   "id": "6",
   "metadata": {},
   "outputs": [],
   "source": []
  },
  {
   "cell_type": "code",
   "execution_count": null,
   "id": "7",
   "metadata": {},
   "outputs": [],
   "source": []
  },
  {
   "cell_type": "code",
   "execution_count": null,
   "id": "8",
   "metadata": {},
   "outputs": [],
   "source": []
  }
 ],
 "metadata": {
  "kernelspec": {
   "display_name": "gwl-modeling",
   "language": "python",
   "name": "python3"
  },
  "language_info": {
   "codemirror_mode": {
    "name": "ipython",
    "version": 3
   },
   "file_extension": ".py",
   "mimetype": "text/x-python",
   "name": "python",
   "nbconvert_exporter": "python",
   "pygments_lexer": "ipython3",
   "version": "3.10.12"
  }
 },
 "nbformat": 4,
 "nbformat_minor": 5
}
