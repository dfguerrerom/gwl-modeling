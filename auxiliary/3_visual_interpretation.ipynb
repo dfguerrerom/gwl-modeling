{
 "cells": [
  {
   "cell_type": "code",
   "execution_count": null,
   "metadata": {},
   "outputs": [],
   "source": [
    "%matplotlib inline\n",
    "%pylab inline"
   ]
  },
  {
   "cell_type": "code",
   "execution_count": null,
   "metadata": {
    "tags": []
   },
   "outputs": [],
   "source": [
    "import pandas as pd\n",
    "import seaborn as sns\n",
    "import matplotlib.pyplot as plt\n",
    "from matplotlib.dates import MonthLocator"
   ]
  },
  {
   "cell_type": "markdown",
   "metadata": {},
   "source": [
    "# 1. Read training data"
   ]
  },
  {
   "cell_type": "code",
   "execution_count": null,
   "metadata": {},
   "outputs": [],
   "source": [
    "df = pd.read_csv(\"data/9_clean_training_data/clean_training_data.csv\")"
   ]
  },
  {
   "cell_type": "code",
   "execution_count": null,
   "metadata": {},
   "outputs": [],
   "source": [
    "# get a boxplot of response var per region but use a small graph size\n",
    "\n",
    "# set the seaborn style and size\n",
    "sns.set_style(\"whitegrid\")\n",
    "sns.set(rc={'figure.figsize':(8,5)})\n",
    "sns.boxplot(x=\"region_id\", y=\"gwl_cm\", data=df, width=0.5)"
   ]
  },
  {
   "cell_type": "code",
   "execution_count": null,
   "metadata": {},
   "outputs": [],
   "source": [
    "# Filter the DataFrame for the specific point '15_RAPP_PPDV-05a'\n",
    "point_df = df[df.id == '15_RAPP_PPDV-05a']\n",
    "point_df = point_df.sort_values(by=['date'])\n",
    "\n",
    "sns.set(style=\"darkgrid\")\n",
    "plt.figure(figsize=(10, 6))\n",
    "\n",
    "# Create the first y-axis for \"gwl\" data\n",
    "ax1 = sns.lineplot(x=\"date\", y=\"gwl_cm\", data=point_df, label=\"GWL (cm)\")\n",
    "\n",
    "# Set the first y-axis label\n",
    "ax1.set_ylabel(\"GWL (cm)\", color='tab:blue')\n",
    "\n",
    "# Create the second y-axis for \"precipitation\" data\n",
    "ax2 = ax1.twinx()\n",
    "sns.lineplot(x=\"date\", y=\"precipitation\", data=point_df, color='red', label=\"Precipitation (mm)\")\n",
    "\n",
    "# Set the second y-axis label\n",
    "ax2.set_ylabel(\"Precipitation (mm)\", color='tab:red')\n",
    "\n",
    "# Use MonthLocator for sparse labeling\n",
    "ax1.xaxis.set_major_locator(MonthLocator())\n",
    "\n",
    "# Set the title and x-axis label\n",
    "plt.title(f\"Point 15_RAPP_PPDV-05a - GWL and Precipitation Over Time\")\n",
    "plt.xlabel(\"Date\")\n",
    "\n",
    "# Add legends for both y-axes\n",
    "lines1, labels1 = ax1.get_legend_handles_labels()\n",
    "lines2, labels2 = ax2.get_legend_handles_labels()\n",
    "\n",
    "plt.xticks(rotation=45)  # Rotate the x-axis labels for better readability\n",
    "\n",
    "plt.show()"
   ]
  },
  {
   "cell_type": "code",
   "execution_count": null,
   "metadata": {},
   "outputs": [],
   "source": [
    "# Filter the DataFrame for the specific region\n",
    "region_df = df[df.region_id == 4]\n",
    "region_df = region_df.sort_values(by=['date'])\n",
    "\n",
    "sns.set(style=\"darkgrid\")\n",
    "plt.figure(figsize=(10, 6))\n",
    "\n",
    "# Create the first y-axis for \"gwl\" data\n",
    "ax1 = sns.lineplot(x=\"date\", y=\"gwl_cm\", data=region_df, label=\"GWL (cm)\")\n",
    "\n",
    "# Set the first y-axis label\n",
    "ax1.set_ylabel(\"GWL (cm)\", color='tab:blue')\n",
    "\n",
    "# Create the second y-axis for \"precipitation\" data\n",
    "ax2 = ax1.twinx()\n",
    "sns.lineplot(x=\"date\", y=\"precipitation\", data=region_df, color='red', label=\"Precipitation (mm)\")\n",
    "\n",
    "# Set the second y-axis label\n",
    "ax2.set_ylabel(\"Precipitation (mm)\", color='tab:red')\n",
    "\n",
    "# Set the title and x-axis label\n",
    "plt.title(f\"Region {4} - GWL and Precipitation Over Time\")\n",
    "plt.xlabel(\"Date\")\n",
    "\n",
    "# Use MonthLocator for sparse labeling\n",
    "ax1.xaxis.set_major_locator(MonthLocator())\n",
    "\n",
    "# Add legends for both y-axes\n",
    "lines1, labels1 = ax1.get_legend_handles_labels()\n",
    "#lines2, labels2 = ax2.get_legend_handles_labels()\n",
    "#ax1.legend(lines1 + lines2, labels1 + labels2, loc=\"upper left\")\n",
    "\n",
    "plt.show()"
   ]
  },
  {
   "cell_type": "markdown",
   "metadata": {},
   "source": [
    "## GWL timeseries in points for PHU 781"
   ]
  },
  {
   "cell_type": "code",
   "execution_count": null,
   "metadata": {},
   "outputs": [],
   "source": [
    "import pandas as pd\n",
    "import geopandas as gpd"
   ]
  },
  {
   "cell_type": "code",
   "execution_count": null,
   "metadata": {},
   "outputs": [],
   "source": [
    "# read phu regions shapefile\n",
    "\n",
    "phu_regions = gpd.read_file(\"data/0_shp/AOI__Province__865_PHUs__INDONESIA.gpkg\")"
   ]
  },
  {
   "cell_type": "code",
   "execution_count": null,
   "metadata": {},
   "outputs": [],
   "source": [
    "df = pd.read_csv(\"data/9_clean_training_data/clean_training_data.csv\")\n",
    "\n",
    "# Convert to GeoDataFrame\n",
    "df = gpd.GeoDataFrame(df, geometry=gpd.points_from_xy(df.lon, df.lat))\n",
    "# Set CRS to WGS84\n",
    "df.crs = \"EPSG:4326\"\n",
    "\n",
    "# add phu region to each point\n",
    "df = gpd.sjoin(df, phu_regions, how=\"left\", predicate=\"within\")"
   ]
  },
  {
   "cell_type": "code",
   "execution_count": null,
   "metadata": {},
   "outputs": [],
   "source": [
    "# Filter the DataFrame for the specific region\n",
    "\n",
    "phu_id = 781\n",
    "\n",
    "region_df = df[df.id == \"15_RAPP_LGBI-018a\"]\n",
    "region_df = region_df.sort_values(by=['date'])\n",
    "\n",
    "sns.set(style=\"darkgrid\")\n",
    "plt.figure(figsize=(12, 6))\n",
    "\n",
    "# Create the first y-axis for \"gwl\" data\n",
    "ax1 = sns.lineplot(x=\"date\", y=\"gwl_cm\", data=region_df, label=\"GWL (cm)\")\n",
    "\n",
    "# Set the first y-axis label\n",
    "ax1.set_ylabel(\"GWL (cm)\", color='tab:blue')\n",
    "\n",
    "# Create the second y-axis for \"precipitation\" data\n",
    "ax2 = ax1.twinx()\n",
    "sns.lineplot(x=\"date\", y=\"precipitation\", data=region_df, color='red', label=\"Precipitation (mm)\")\n",
    "\n",
    "# Set the second y-axis label\n",
    "ax2.set_ylabel(\"Precipitation (mm)\", color='tab:red')\n",
    "\n",
    "# Set the title and x-axis label\n",
    "plt.title(f\"PHU {phu_id} - GWL and Precipitation Over Time\")\n",
    "plt.xlabel(\"Date\")\n",
    "\n",
    "# Use MonthLocator for sparse labeling\n",
    "ax1.xaxis.set_major_locator(MonthLocator())\n",
    "\n",
    "# Add legends for both y-axes\n",
    "lines1, labels1 = ax1.get_legend_handles_labels()\n",
    "#lines2, labels2 = ax2.get_legend_handles_labels()\n",
    "#ax1.legend(lines1 + lines2, labels1 + labels2, loc=\"upper left\")\n",
    "\n",
    "plt.show()"
   ]
  },
  {
   "cell_type": "markdown",
   "metadata": {},
   "source": [
    "# Create a correlation matrix between dependent and independent variables"
   ]
  },
  {
   "cell_type": "code",
   "execution_count": null,
   "metadata": {
    "tags": []
   },
   "outputs": [],
   "source": [
    "import pandas as pd\n",
    "import geopandas as gpd\n",
    "import seaborn as sns"
   ]
  },
  {
   "cell_type": "code",
   "execution_count": null,
   "metadata": {
    "tags": []
   },
   "outputs": [],
   "source": [
    "df = pd.read_csv(\"data/9_clean_training_data/clean_training_data.csv\")\n",
    "\n",
    "print(\"len before: \", len(df))\n",
    "print(\"number of stations before: \", len(df.id.unique()))\n",
    "# count values by id and remove those with less than 9 values\n",
    "\n",
    "df = df.groupby('id').filter(lambda x : len(x)>8)\n",
    "print(\"len after: \", len(df))\n",
    "print(\"number of stations after: \", len(df.id.unique()))"
   ]
  },
  {
   "cell_type": "code",
   "execution_count": null,
   "metadata": {
    "tags": []
   },
   "outputs": [],
   "source": [
    "explanatory = [\n",
    "    \"doy\",\n",
    "    'VV', 'VH', 'VVVH_ratio', \n",
    "    'precipitation', 'prec_3', 'prec_7', 'prec_30', \n",
    "    'sm_1',  'sm_3', 'sm_7', 'sm_30'\n",
    "]"
   ]
  },
  {
   "cell_type": "code",
   "execution_count": null,
   "metadata": {
    "tags": []
   },
   "outputs": [],
   "source": [
    "variable = 'gwl_cm'\n",
    "\n",
    "training_df = df.copy()\n",
    "row = {}\n",
    "\n",
    "# All but one PHU for training\n",
    "for i, station_id in enumerate(training_df.id.unique()):\n",
    "    explans = []\n",
    "    \n",
    "    station_df = training_df[training_df.id == station_id]\n",
    "\n",
    "    # add correlation of explanatories\n",
    "    for expl in explanatory:\n",
    "        explans.append(station_df[variable].corr(station_df[expl]))\n",
    "\n",
    "    row[station_id] = explans\n",
    "\n",
    "stats_df = pd.DataFrame.from_dict(row, orient='index')"
   ]
  },
  {
   "cell_type": "code",
   "execution_count": null,
   "metadata": {
    "tags": []
   },
   "outputs": [],
   "source": [
    "stats_df.columns = explanatory\n",
    "\n",
    "# Create the mean correlation column and sort\n",
    "stats_df.loc[:, 'mean_'] = stats_df.mean(axis=1)\n",
    "stats_df = stats_df.sort_values(by=['mean_'], ascending=False)\n"
   ]
  },
  {
   "cell_type": "code",
   "execution_count": null,
   "metadata": {
    "tags": []
   },
   "outputs": [],
   "source": [
    "rows_to_display = 30\n",
    "plt.rcParams[\"figure.figsize\"] = (19, rows_to_display / 2)\n",
    "sns.heatmap(stats_df.head(rows_to_display), annot=True)"
   ]
  },
  {
   "cell_type": "code",
   "execution_count": null,
   "metadata": {
    "tags": []
   },
   "outputs": [],
   "source": [
    "# Create a boxplot of the mean correlation\n",
    "sns.set_style(\"whitegrid\")\n",
    "sns.set(rc={'figure.figsize':(8,5)})\n",
    "sns.boxplot(x=\"mean_\", data=stats_df, width=0.5)\n"
   ]
  },
  {
   "cell_type": "code",
   "execution_count": null,
   "metadata": {
    "tags": []
   },
   "outputs": [],
   "source": [
    "threshold = 0.2\n",
    "high_corr = pd.DataFrame(stats_df[stats_df.mean_ >= threshold].index.unique())\n",
    "name = f\"high_corr_{threshold}_temporal_variables_station_ids.csv\"\n",
    "len(high_corr), name"
   ]
  },
  {
   "cell_type": "code",
   "execution_count": null,
   "metadata": {
    "tags": []
   },
   "outputs": [],
   "source": [
    "high_corr.to_csv(f\"data/{name}\", index=False)"
   ]
  },
  {
   "cell_type": "code",
   "execution_count": null,
   "metadata": {},
   "outputs": [],
   "source": [
    "# open unieqe points geopackage file\n",
    "unique_points = gpd.read_file(\"data/0_shp/unique_stations_no_repeated.shp\")\n",
    "\n",
    "# merge the stats_df with the unique_points\n",
    "unique_points = unique_points.merge(stats_df, left_on='id', right_index=True)\n",
    "\n",
    "# save the unique_points as a geopackage file\n",
    "unique_points.to_file(f\"data/0_shp/unique_stations_no_repeated_{name}.gpkg\", driver='GPKG')"
   ]
  }
 ],
 "metadata": {
  "kernelspec": {
   "display_name": "gwl-modeling",
   "language": "python",
   "name": "python3"
  },
  "language_info": {
   "codemirror_mode": {
    "name": "ipython",
    "version": 3
   },
   "file_extension": ".py",
   "mimetype": "text/x-python",
   "name": "python",
   "nbconvert_exporter": "python",
   "pygments_lexer": "ipython3",
   "version": "3.10.12"
  }
 },
 "nbformat": 4,
 "nbformat_minor": 4
}
