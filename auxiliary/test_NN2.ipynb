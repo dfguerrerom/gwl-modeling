{
 "cells": [
  {
   "cell_type": "code",
   "execution_count": null,
   "metadata": {},
   "outputs": [],
   "source": [
    "import matplotlib.pyplot as plt\n",
    "from keras.models import Model\n",
    "from keras.layers import Input, LSTM, Dense, Flatten, Concatenate\n",
    "from gee_scripts.parameters import explain_vars, response_var\n",
    "import pandas as pd\n",
    "from sklearn.model_selection import train_test_split\n",
    "from sklearn.metrics import mean_absolute_error, mean_squared_error, r2_score\n"
   ]
  },
  {
   "cell_type": "code",
   "execution_count": null,
   "metadata": {},
   "outputs": [],
   "source": [
    "df = pd.read_csv(\"data/9_clean_training_data/clean_training_data.csv\")\n",
    "response_var = response_var[0]"
   ]
  },
  {
   "cell_type": "code",
   "execution_count": null,
   "metadata": {},
   "outputs": [],
   "source": [
    "# LSTM Sequence Input\n",
    "sequence_input_1 = Input(shape=(4, 1), name='sequence_input')  # 4 time steps, 1 feature (sm value)\n",
    "lstm_out_1 = LSTM(50)(sequence_input_1)  # 50 LSTM units, can be tuned\n",
    "\n",
    "sequence_input_2 = Input(shape=(4, 1), name='sequence_input')  # 4 time steps, 1 feature (sm value)\n",
    "lstm_out_2 = LSTM(50)(sequence_input_2)  # 50 LSTM units, can be tuned\n",
    "\n",
    "# Dense Input for non-sequential data\n",
    "dense_input = Input(shape=(26,), name='dense_input')  # 26 other explanatory variables\n",
    "dense_out = Dense(50, activation='relu')(dense_input)  # 50 units, can be tuned\n",
    "\n",
    "# Combine LSTM and Dense outputs\n",
    "merged = Concatenate()([lstm_out, dense_out])\n",
    "\n",
    "# Add further dense layers if needed\n",
    "dense_merged_1 = Dense(100, activation='relu')(merged)\n",
    "dense_merged_2 = Dense(50, activation='relu')(dense_merged_1)\n",
    "\n",
    "# Regression output\n",
    "output = Dense(1, activation='linear')(dense_merged_2)\n",
    "\n",
    "# Compile the model\n",
    "model = Model(inputs=[sequence_input, dense_input], outputs=output)\n",
    "model.compile(optimizer='adam', loss='mse', metrics=['mae'])  # Using MSE loss for regression\n",
    "\n",
    "# Print model summary to see the architecture\n",
    "# model.summary()\n"
   ]
  },
  {
   "cell_type": "code",
   "execution_count": null,
   "metadata": {},
   "outputs": [],
   "source": [
    "\n",
    "# Assuming data_X contains your input features and data_y contains the target values\n",
    "data_X = df.drop(response_var, axis=1)\n",
    "data_y = df[response_var]\n",
    "\n",
    "X_train, X_temp, y_train, y_temp = train_test_split(data_X, data_y, test_size=0.3, random_state=42)\n",
    "X_val, X_test, y_val, y_test = train_test_split(X_temp, y_temp, test_size=0.5, random_state=42)"
   ]
  },
  {
   "cell_type": "code",
   "execution_count": null,
   "metadata": {},
   "outputs": [],
   "source": [
    "sm_vars = [\"sm_3\", \"sm_7\", \"sm_30\"]\n",
    "pr_vars = [\"prec_3\", \"prec_7\", \"prec_30\"]\n",
    "dense_vars = [exp for exp in explain_vars if exp not in sm_vars + pr_vars]\n",
    "\n",
    "X_train_lstm_1 = X_train[sm_vars].values.reshape(-1, 3, 1)\n",
    "X_train_lstm_2 = X_train[pr_vars].values.reshape(-1, 3, 1)\n",
    "X_train_dense = X_train[dense_vars].values.reshape(-1, len(dense_vars))"
   ]
  },
  {
   "cell_type": "code",
   "execution_count": null,
   "metadata": {},
   "outputs": [],
   "source": [
    "model.fit([X_train_lstm, X_train_dense], y_train, validation_data=([X_val_lstm, X_val_dense], y_val), epochs=50, batch_size=32)"
   ]
  },
  {
   "cell_type": "code",
   "execution_count": null,
   "metadata": {},
   "outputs": [],
   "source": [
    "y_pred = model.predict([X_test_lstm, X_test_dense])"
   ]
  },
  {
   "cell_type": "code",
   "execution_count": null,
   "metadata": {},
   "outputs": [],
   "source": [
    "mae = mean_absolute_error(y_test, y_pred)\n",
    "mse = mean_squared_error(y_test, y_pred)\n",
    "rmse = mean_squared_error(y_test, y_pred, squared=False)\n",
    "r2 = r2_score(y_test, y_pred)\n",
    "\n",
    "print(f\"Mean Absolute Error: {mae}\")\n",
    "print(f\"Mean Squared Error: {mse}\")\n",
    "print(f\"Root Mean Squared Error: {rmse}\")\n",
    "print(f\"R-squared: {r2}\")"
   ]
  },
  {
   "cell_type": "code",
   "execution_count": null,
   "metadata": {},
   "outputs": [],
   "source": [
    "\n",
    "# Scatter plot of actual vs. predicted\n",
    "plt.figure(figsize=(10,6))\n",
    "plt.scatter(y_test, y_pred, alpha=0.5)\n",
    "plt.plot([min(y_test), max(y_test)], [min(y_test), max(y_test)], color='red')  # 45-degree line\n",
    "plt.xlabel(\"Actual Groundwater Levels\")\n",
    "plt.ylabel(\"Predicted Groundwater Levels\")\n",
    "plt.title(\"Actual vs. Predicted\")\n",
    "plt.show()\n",
    "\n",
    "# Residual plot\n",
    "residuals = y_test - y_pred\n",
    "plt.figure(figsize=(10,6))\n",
    "plt.scatter(y_pred, residuals, alpha=0.5)\n",
    "plt.plot([min(y_pred), max(y_pred)], [0, 0], color='red')\n",
    "plt.xlabel(\"Predicted Groundwater Levels\")\n",
    "plt.ylabel(\"Residuals\")\n",
    "plt.title(\"Residual Plot\")\n",
    "plt.show()"
   ]
  }
 ],
 "metadata": {
  "kernelspec": {
   "display_name": "gwl-modeling",
   "language": "python",
   "name": "python3"
  },
  "language_info": {
   "codemirror_mode": {
    "name": "ipython",
    "version": 3
   },
   "file_extension": ".py",
   "mimetype": "text/x-python",
   "name": "python",
   "nbconvert_exporter": "python",
   "pygments_lexer": "ipython3",
   "version": "3.10.12"
  }
 },
 "nbformat": 4,
 "nbformat_minor": 2
}
