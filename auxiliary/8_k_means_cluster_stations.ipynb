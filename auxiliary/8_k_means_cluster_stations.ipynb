{
 "cells": [
  {
   "cell_type": "code",
   "execution_count": null,
   "id": "dc6ba764-86ea-44b5-81bd-d36f16962ae8",
   "metadata": {},
   "outputs": [],
   "source": [
    "%load_ext autoreload\n",
    "%autoreload 2\n",
    "%matplotlib inline\n",
    "%pylab inline"
   ]
  },
  {
   "cell_type": "code",
   "execution_count": null,
   "id": "6a3c28af-c0f8-4f05-84cd-3fc3e9053be7",
   "metadata": {},
   "outputs": [],
   "source": [
    "import pandas as pd\n",
    "import pandas as pd\n",
    "from sklearn.preprocessing import StandardScaler\n",
    "from sklearn.cluster import KMeans\n",
    "from sklearn.decomposition import PCA\n",
    "import matplotlib.pyplot as plt\n",
    "import seaborn as sns\n",
    "import numpy as np\n",
    "from gee_scripts.parameters import explain_vars, response_var, west_region_ids, center_region_ids\n"
   ]
  },
  {
   "cell_type": "code",
   "execution_count": null,
   "id": "73c5f1bc-f4a2-46cd-8227-f349aa01a644",
   "metadata": {},
   "outputs": [],
   "source": [
    "df = pd.read_csv(\"data/9_clean_training_data/all_training_data_with_extra_and_locations_and_precipSum.csv\", parse_dates=[\"date\"])"
   ]
  },
  {
   "cell_type": "code",
   "execution_count": null,
   "id": "60e98d3a",
   "metadata": {},
   "outputs": [],
   "source": [
    "# Select relevant columns for clustering\n",
    "columns_to_keep = ['id', 'lat', 'lon', 'elevation', 'aspect', 'slope', 'land_cov', 'canopy_height', 'distance', 'dir', 'acc', 'gwl_cm']\n",
    "\n",
    "# Retain only the selected columns\n",
    "df = df[df['region_id'].isin(center_region_ids)]\n",
    "df = df[columns_to_keep]\n",
    "df"
   ]
  },
  {
   "cell_type": "code",
   "execution_count": null,
   "id": "14a6aef7-2336-4cd1-a5fd-ee41c60c1ddd",
   "metadata": {},
   "outputs": [],
   "source": [
    "\n",
    "\n",
    "# Aggregate GWL measurements (e.g., by mean)\n",
    "df_gwl_agg = df.groupby('id').agg({\n",
    "    'lat': 'first',\n",
    "    'lon': 'first',\n",
    "    'elevation': 'first',\n",
    "    'aspect': 'first',\n",
    "    'slope': 'first',\n",
    "    'land_cov': 'first',\n",
    "    'canopy_height': 'first',\n",
    "    'distance': 'first',\n",
    "    'dir': 'first',\n",
    "    'acc': 'first',\n",
    "    'gwl_cm': 'mean'\n",
    "}).reset_index()\n",
    "\n",
    "# Normalize the data for clustering (excluding 'id', 'latitude', 'longitude')\n",
    "features = df_gwl_agg.drop(columns=['id', 'lat', 'lon'])\n",
    "scaler = StandardScaler()\n",
    "normalized_features = scaler.fit_transform(features)\n",
    "\n",
    "# Determine the optimal number of clusters using the elbow method\n",
    "inertia = []\n",
    "for n in range(1, 11):\n",
    "    kmeans = KMeans(n_clusters=n, random_state=42)\n",
    "    kmeans.fit(normalized_features)\n",
    "    inertia.append(kmeans.inertia_)\n",
    "\n",
    "# Plot the elbow curve\n",
    "plt.plot(range(1, 11), inertia, marker='o')\n",
    "plt.xlabel('Number of Clusters')\n",
    "plt.ylabel('Inertia')\n",
    "plt.title('Elbow Method for Optimal Number of Clusters')\n",
    "plt.show()\n",
    "\n",
    "# From the elbow plot, choose the optimal number of clusters (e.g., k=3)\n",
    "optimal_k = 4\n",
    "kmeans = KMeans(n_clusters=optimal_k, random_state=42)\n",
    "clusters = kmeans.fit_predict(normalized_features)\n",
    "\n",
    "# Add cluster labels to the aggregated DataFrame\n",
    "df_gwl_agg['cluster'] = clusters"
   ]
  },
  {
   "cell_type": "code",
   "execution_count": null,
   "id": "3ae1d5e8",
   "metadata": {},
   "outputs": [],
   "source": [
    "df_gwl_agg[[\"id\", \"lat\", \"lon\", \"cluster\"]].to_csv(\"data/14_featureEngineering/kalimantan_4clusters.csv\", index=False)"
   ]
  },
  {
   "cell_type": "code",
   "execution_count": null,
   "id": "08150ce3-4c4d-49d0-8f0a-2a2d6202151d",
   "metadata": {},
   "outputs": [],
   "source": [
    "# Perform PCA to reduce the dimensionality to 2 components\n",
    "pca = PCA(n_components=2)\n",
    "pca_components = pca.fit_transform(normalized_features)\n",
    "\n",
    "# Create a DataFrame with the PCA components and the cluster labels\n",
    "pca_df = pd.DataFrame(data=pca_components, columns=['PC1', 'PC2'])\n",
    "pca_df['cluster'] = clusters\n",
    "\n",
    "# Calculate the loading scores for the original variables\n",
    "loadings = pca.components_.T * np.sqrt(pca.explained_variance_)\n",
    "\n",
    "# Scale the loadings for exaggeration\n",
    "scaling_factor = 3  # Increase this value to exaggerate the vectors more\n",
    "loadings_exaggerated = loadings * scaling_factor\n",
    "\n",
    "# Plot the PCA components with the clusters\n",
    "plt.figure(figsize=(10, 6))\n",
    "sns.scatterplot(x='PC1', y='PC2', hue='cluster', data=pca_df, palette='viridis', s=100)\n",
    "plt.title('PCA Plot of K-means Clusters with Original Variables')\n",
    "plt.xlabel('Principal Component 1')\n",
    "plt.ylabel('Principal Component 2')\n",
    "plt.legend(title='Cluster')\n",
    "\n",
    "# Plot the exaggerated original variables as vectors\n",
    "for i, var in enumerate(features.columns):\n",
    "    plt.arrow(0, 0, loadings_exaggerated[i, 0], loadings_exaggerated[i, 1], color='r', alpha=0.5, head_width=0.2)\n",
    "    plt.text(loadings_exaggerated[i, 0] * 1.15, loadings_exaggerated[i, 1] * 1.15, var, color='black', ha='center', va='center',\n",
    "             bbox=dict(facecolor='white', edgecolor='black', boxstyle='round,pad=0.3'))\n",
    "\n",
    "plt.grid()\n",
    "plt.show()"
   ]
  },
  {
   "cell_type": "code",
   "execution_count": null,
   "id": "2a6df5c2-9776-4089-bd20-b29f8c4b6c1b",
   "metadata": {},
   "outputs": [],
   "source": [
    "#make a boxplot to check for differences in the clusters\n",
    "# Create a boxplot\n",
    "plt.figure(figsize=(10, 6))\n",
    "sns.boxplot(x='cluster', y='gwl_cm', data=df_gwl_agg)\n",
    "plt.title('Boxplot of GWL by Cluster')\n",
    "plt.xlabel('Cluster')\n",
    "plt.ylabel('Groundwater Level (GWL)')\n",
    "plt.show()"
   ]
  },
  {
   "cell_type": "code",
   "execution_count": null,
   "id": "cebd8066-365a-476f-922b-334b696c7108",
   "metadata": {},
   "outputs": [],
   "source": []
  }
 ],
 "metadata": {
  "kernelspec": {
   "display_name": "gwl-modeling",
   "language": "python",
   "name": "python3"
  },
  "language_info": {
   "codemirror_mode": {
    "name": "ipython",
    "version": 3
   },
   "file_extension": ".py",
   "mimetype": "text/x-python",
   "name": "python",
   "nbconvert_exporter": "python",
   "pygments_lexer": "ipython3",
   "version": "3.10.12"
  }
 },
 "nbformat": 4,
 "nbformat_minor": 5
}
