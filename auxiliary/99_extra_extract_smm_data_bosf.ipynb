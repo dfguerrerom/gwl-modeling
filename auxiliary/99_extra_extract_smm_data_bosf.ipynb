{
 "cells": [
  {
   "cell_type": "code",
   "execution_count": null,
   "id": "377202e9-f02e-4c16-8103-8aeffea28e19",
   "metadata": {},
   "outputs": [],
   "source": [
    "from gee_scripts.extract_values import find_pixel_values_for_coordinates, get_image_index, test_find_pixel_values_for_coordinates\n",
    "from pathlib import Path"
   ]
  },
  {
   "cell_type": "markdown",
   "id": "9ee17874-3fd9-4fc7-ac21-f3e6b02eab71",
   "metadata": {},
   "source": [
    "# 1. Retrieve all the images"
   ]
  },
  {
   "cell_type": "code",
   "execution_count": null,
   "id": "6274469a-fc7c-49ac-be50-f18a694c0b3f",
   "metadata": {
    "tags": []
   },
   "outputs": [],
   "source": [
    "# We will extract the SM over all the chips without creating mosaics beforehand (not needed)\n",
    "\n",
    "islands_path = [\n",
    "    \"ALL\",\n",
    "]\n",
    "\n",
    "base_path = Path(\"bosf\")\n",
    "\n",
    "all_images = [list((base_path/island).rglob(\"*.tif\")) for island in islands_path]\n",
    "\n",
    "print([len(group) for group in all_images])\n",
    "\n",
    "all_images = [image for island_images in all_images for image in island_images]\n",
    "print(len(all_images))"
   ]
  },
  {
   "cell_type": "markdown",
   "id": "9101e92e-5509-4953-ab3b-764b31e8313b",
   "metadata": {},
   "source": [
    "# 2. Create an spatial index to all the images"
   ]
  },
  {
   "cell_type": "code",
   "execution_count": null,
   "id": "24eaa60c-433e-41c2-b9c1-93be3b761198",
   "metadata": {
    "tags": []
   },
   "outputs": [],
   "source": [
    "%%time\n",
    "\n",
    "# To improve efficiency, we will create an index that will store\n",
    "# all the bounds of the images, this index will be used to check either\n",
    "# the image has points to be consulted or not.\n",
    "\n",
    "index = get_image_index(all_images)"
   ]
  },
  {
   "cell_type": "markdown",
   "id": "93dfd973-986e-4fab-9677-992b942fc62b",
   "metadata": {},
   "source": [
    "# 3. EXtract the SM values from all images to all the points"
   ]
  },
  {
   "cell_type": "code",
   "execution_count": null,
   "id": "66672722",
   "metadata": {},
   "outputs": [],
   "source": [
    "import geopandas as gpd"
   ]
  },
  {
   "cell_type": "code",
   "execution_count": null,
   "id": "7f671826-1ee6-4ae7-85e3-626964b665ef",
   "metadata": {
    "tags": []
   },
   "outputs": [],
   "source": [
    "# read geopandas file\n",
    "\n",
    "all_points = gpd.read_file(\"bosf/dipwells/bosf_dipwells.shp\")\n",
    "all_points.head(5)"
   ]
  },
  {
   "cell_type": "code",
   "execution_count": null,
   "id": "d1514783",
   "metadata": {},
   "outputs": [],
   "source": [
    "# Create an unique id merging different coordinates\n",
    "\n",
    "all_points[\"id\"] = all_points[\"SiteCd\"].astype(str) + \"_\" + all_points[\"PointRef\"].astype(str) + \"_\" + all_points[\"PointIndex\"].astype(str)"
   ]
  },
  {
   "cell_type": "code",
   "execution_count": null,
   "id": "30a64e99-43e4-497b-b6d3-19d7f2b39821",
   "metadata": {
    "tags": []
   },
   "outputs": [],
   "source": [
    "# Extract the coordinates, the function expects:\n",
    "# ((x,y), id)\n",
    "\n",
    "all_coords = [((row.geometry.x, row.geometry.y),row.id) for _, row in all_points.iterrows()]"
   ]
  },
  {
   "cell_type": "code",
   "execution_count": null,
   "id": "984723cf-d078-4bfd-aae6-bad0b2ad5862",
   "metadata": {
    "tags": []
   },
   "outputs": [],
   "source": [
    "len(all_coords), len(index)"
   ]
  },
  {
   "cell_type": "code",
   "execution_count": null,
   "id": "385385f1-282f-4500-970f-9065a5ae88d6",
   "metadata": {
    "tags": []
   },
   "outputs": [],
   "source": [
    "%%time\n",
    "\n",
    "# Start the calculation, this process will take some time\n",
    "results = find_pixel_values_for_coordinates(index, all_coords)"
   ]
  },
  {
   "cell_type": "code",
   "execution_count": null,
   "id": "d8329c98-53eb-47e7-93d8-2553af37c5ab",
   "metadata": {
    "tags": []
   },
   "outputs": [],
   "source": [
    "# Convert output into a pandas dataframe\n",
    "import pandas as pd\n",
    "results_df = pd.DataFrame(results)\n",
    "results_df"
   ]
  },
  {
   "cell_type": "code",
   "execution_count": null,
   "id": "19ab4958-9741-45a5-98ec-82e1e304d147",
   "metadata": {
    "tags": []
   },
   "outputs": [],
   "source": [
    "# Store the results as csv\n",
    "\n",
    "results_df.to_csv(\"data/all_bosf_extracted_data.csv\", index=False)"
   ]
  },
  {
   "cell_type": "markdown",
   "id": "e78ff173-86cf-4286-b9d6-848b18dd27c6",
   "metadata": {},
   "source": [
    "# 3. Test the value extraction with a sample of three points\n",
    "\n",
    "The following lines ensure that the output from the find_pixel_values_for_coordinates function is <br>\n",
    "consistent, we manually checked the values of some random points and images, and run the process. <br>\n",
    "The returned result from the function has to be the same as the expected that was manually checked <br>\n",
    "in local GIS software."
   ]
  },
  {
   "cell_type": "code",
   "execution_count": null,
   "id": "e31eb800-74aa-4cfd-b2c9-613c8afecbcc",
   "metadata": {
    "tags": []
   },
   "outputs": [],
   "source": [
    "from shapely.geometry import Point, Polygon\n",
    "import geopandas as gpd\n",
    "import pandas as pd\n",
    "import random"
   ]
  },
  {
   "cell_type": "code",
   "execution_count": null,
   "id": "c8d578dd-c215-4273-996a-5d150c36e6d7",
   "metadata": {
    "tags": []
   },
   "outputs": [],
   "source": [
    "# read geopandas file\n",
    "test_sample_points = gpd.read_file(\"test_data/test_sample.shp\")\n",
    "test_sample_points"
   ]
  },
  {
   "cell_type": "code",
   "execution_count": null,
   "id": "741c70a8-f56c-40d6-b350-198225934017",
   "metadata": {
    "tags": []
   },
   "outputs": [],
   "source": [
    "# get the coordinates of each points\n",
    "sample_coords = [(p.x, p.y) for p in test_sample_points[\"geometry\"].tolist()]"
   ]
  },
  {
   "cell_type": "code",
   "execution_count": null,
   "id": "12b3ef62-0d92-44fc-898e-32dc5ad84aab",
   "metadata": {
    "tags": []
   },
   "outputs": [],
   "source": [
    "test_results = find_pixel_values_for_coordinates(index, sample_coords)"
   ]
  },
  {
   "cell_type": "code",
   "execution_count": null,
   "id": "a584f3b7-1b95-4ba2-9899-ba7e276ef603",
   "metadata": {
    "tags": []
   },
   "outputs": [],
   "source": [
    "# set the seed value\n",
    "random.seed(42)\n",
    "\n",
    "# select 10 values \n",
    "random_sample = random.sample(test_results, 10)\n",
    "random_sample = [(point[\"image\"], point[\"value\"]) for point in random_sample]\n",
    "\n",
    "# save\n",
    "random_sample_df = pd.DataFrame(random_sample, columns = [\"image_path\", \"sm\"])\n",
    "random_sample_df.iloc[:5].to_csv(\"test_data/extracted_values.csv\", index = None)"
   ]
  },
  {
   "cell_type": "code",
   "execution_count": null,
   "id": "6eb4f12e-3f46-4c0d-92ba-0e1370074a89",
   "metadata": {
    "tags": []
   },
   "outputs": [],
   "source": [
    "# To just show the image name\n",
    "expected_values = random_sample_df.iloc[:5].copy()\n",
    "expected_values[\"image_path\"]  = expected_values[\"image_path\"].apply(lambda x: Path(x).stem)\n",
    "expected_values"
   ]
  },
  {
   "cell_type": "code",
   "execution_count": null,
   "id": "3986ba88-0d49-4e12-9819-8079aa514af0",
   "metadata": {},
   "outputs": [],
   "source": [
    "test_find_pixel_values_for_coordinates()"
   ]
  }
 ],
 "metadata": {
  "kernelspec": {
   "display_name": "(test) gwl-modeling",
   "language": "python",
   "name": "gwl-modeling"
  },
  "language_info": {
   "codemirror_mode": {
    "name": "ipython",
    "version": 3
   },
   "file_extension": ".py",
   "mimetype": "text/x-python",
   "name": "python",
   "nbconvert_exporter": "python",
   "pygments_lexer": "ipython3",
   "version": "3.10.12"
  }
 },
 "nbformat": 4,
 "nbformat_minor": 5
}
