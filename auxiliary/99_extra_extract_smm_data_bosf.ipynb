{
 "cells": [
  {
   "cell_type": "code",
   "execution_count": null,
   "id": "0",
   "metadata": {},
   "outputs": [],
   "source": [
    "from gee_scripts.extract_values import find_pixel_values_for_coordinates, get_image_index, test_find_pixel_values_for_coordinates\n",
    "from pathlib import Path"
   ]
  },
  {
   "cell_type": "markdown",
   "id": "1",
   "metadata": {},
   "source": [
    "# 1. Retrieve all the images"
   ]
  },
  {
   "cell_type": "code",
   "execution_count": null,
   "id": "2",
   "metadata": {
    "tags": []
   },
   "outputs": [],
   "source": [
    "# We will extract the SM over all the chips without creating mosaics beforehand (not needed)\n",
    "\n",
    "islands_path = [\n",
    "    \"ALL\",\n",
    "]\n",
    "\n",
    "base_path = Path(\"bosf\")\n",
    "\n",
    "all_images = [list((base_path/island).rglob(\"*.tif\")) for island in islands_path]\n",
    "\n",
    "print([len(group) for group in all_images])\n",
    "\n",
    "all_images = [image for island_images in all_images for image in island_images]\n",
    "print(len(all_images))"
   ]
  },
  {
   "cell_type": "markdown",
   "id": "3",
   "metadata": {},
   "source": [
    "# 2. Create an spatial index to all the images"
   ]
  },
  {
   "cell_type": "code",
   "execution_count": null,
   "id": "4",
   "metadata": {
    "tags": []
   },
   "outputs": [],
   "source": [
    "%%time\n",
    "\n",
    "# To improve efficiency, we will create an index that will store\n",
    "# all the bounds of the images, this index will be used to check either\n",
    "# the image has points to be consulted or not.\n",
    "\n",
    "index = get_image_index(all_images)"
   ]
  },
  {
   "cell_type": "markdown",
   "id": "5",
   "metadata": {},
   "source": [
    "# 3. EXtract the SM values from all images to all the points"
   ]
  },
  {
   "cell_type": "code",
   "execution_count": null,
   "id": "6",
   "metadata": {},
   "outputs": [],
   "source": [
    "import geopandas as gpd"
   ]
  },
  {
   "cell_type": "code",
   "execution_count": null,
   "id": "7",
   "metadata": {
    "tags": []
   },
   "outputs": [],
   "source": [
    "# read geopandas file\n",
    "\n",
    "all_points = gpd.read_file(\"bosf/dipwells/bosf_dipwells.shp\")\n",
    "all_points.head(5)"
   ]
  },
  {
   "cell_type": "code",
   "execution_count": null,
   "id": "8",
   "metadata": {},
   "outputs": [],
   "source": [
    "# Create an unique id merging different coordinates\n",
    "\n",
    "all_points[\"id\"] = all_points[\"SiteCd\"].astype(str) + \"_\" + all_points[\"PointRef\"].astype(str) + \"_\" + all_points[\"PointIndex\"].astype(str)"
   ]
  },
  {
   "cell_type": "code",
   "execution_count": null,
   "id": "9",
   "metadata": {
    "tags": []
   },
   "outputs": [],
   "source": [
    "# Extract the coordinates, the function expects:\n",
    "# ((x,y), id)\n",
    "\n",
    "all_coords = [((row.geometry.x, row.geometry.y),row.id) for _, row in all_points.iterrows()]"
   ]
  },
  {
   "cell_type": "code",
   "execution_count": null,
   "id": "10",
   "metadata": {
    "tags": []
   },
   "outputs": [],
   "source": [
    "len(all_coords), len(index)"
   ]
  },
  {
   "cell_type": "code",
   "execution_count": null,
   "id": "11",
   "metadata": {
    "tags": []
   },
   "outputs": [],
   "source": [
    "%%time\n",
    "\n",
    "# Start the calculation, this process will take some time\n",
    "results = find_pixel_values_for_coordinates(index, all_coords)"
   ]
  },
  {
   "cell_type": "code",
   "execution_count": null,
   "id": "12",
   "metadata": {
    "tags": []
   },
   "outputs": [],
   "source": [
    "# Convert output into a pandas dataframe\n",
    "import pandas as pd\n",
    "results_df = pd.DataFrame(results)\n",
    "results_df"
   ]
  },
  {
   "cell_type": "code",
   "execution_count": null,
   "id": "13",
   "metadata": {
    "tags": []
   },
   "outputs": [],
   "source": [
    "# Store the results as csv\n",
    "\n",
    "results_df.to_csv(\"data/all_bosf_extracted_data.csv\", index=False)"
   ]
  },
  {
   "cell_type": "markdown",
   "id": "14",
   "metadata": {},
   "source": [
    "# 3. Test the value extraction with a sample of three points\n",
    "\n",
    "The following lines ensure that the output from the find_pixel_values_for_coordinates function is <br>\n",
    "consistent, we manually checked the values of some random points and images, and run the process. <br>\n",
    "The returned result from the function has to be the same as the expected that was manually checked <br>\n",
    "in local GIS software."
   ]
  },
  {
   "cell_type": "code",
   "execution_count": null,
   "id": "15",
   "metadata": {
    "tags": []
   },
   "outputs": [],
   "source": [
    "from shapely.geometry import Point, Polygon\n",
    "import geopandas as gpd\n",
    "import pandas as pd\n",
    "import random"
   ]
  },
  {
   "cell_type": "code",
   "execution_count": null,
   "id": "16",
   "metadata": {
    "tags": []
   },
   "outputs": [],
   "source": [
    "# read geopandas file\n",
    "test_sample_points = gpd.read_file(\"test_data/test_sample.shp\")\n",
    "test_sample_points"
   ]
  },
  {
   "cell_type": "code",
   "execution_count": null,
   "id": "17",
   "metadata": {
    "tags": []
   },
   "outputs": [],
   "source": [
    "# get the coordinates of each points\n",
    "sample_coords = [(p.x, p.y) for p in test_sample_points[\"geometry\"].tolist()]"
   ]
  },
  {
   "cell_type": "code",
   "execution_count": null,
   "id": "18",
   "metadata": {
    "tags": []
   },
   "outputs": [],
   "source": [
    "test_results = find_pixel_values_for_coordinates(index, sample_coords)"
   ]
  },
  {
   "cell_type": "code",
   "execution_count": null,
   "id": "19",
   "metadata": {
    "tags": []
   },
   "outputs": [],
   "source": [
    "# set the seed value\n",
    "random.seed(42)\n",
    "\n",
    "# select 10 values \n",
    "random_sample = random.sample(test_results, 10)\n",
    "random_sample = [(point[\"image\"], point[\"value\"]) for point in random_sample]\n",
    "\n",
    "# save\n",
    "random_sample_df = pd.DataFrame(random_sample, columns = [\"image_path\", \"sm\"])\n",
    "random_sample_df.iloc[:5].to_csv(\"test_data/extracted_values.csv\", index = None)"
   ]
  },
  {
   "cell_type": "code",
   "execution_count": null,
   "id": "20",
   "metadata": {
    "tags": []
   },
   "outputs": [],
   "source": [
    "# To just show the image name\n",
    "expected_values = random_sample_df.iloc[:5].copy()\n",
    "expected_values[\"image_path\"]  = expected_values[\"image_path\"].apply(lambda x: Path(x).stem)\n",
    "expected_values"
   ]
  },
  {
   "cell_type": "code",
   "execution_count": null,
   "id": "21",
   "metadata": {},
   "outputs": [],
   "source": [
    "test_find_pixel_values_for_coordinates()"
   ]
  }
 ],
 "metadata": {
  "kernelspec": {
   "display_name": "(test) gwl-modeling",
   "language": "python",
   "name": "gwl-modeling"
  },
  "language_info": {
   "codemirror_mode": {
    "name": "ipython",
    "version": 3
   },
   "file_extension": ".py",
   "mimetype": "text/x-python",
   "name": "python",
   "nbconvert_exporter": "python",
   "pygments_lexer": "ipython3",
   "version": "3.10.12"
  }
 },
 "nbformat": 4,
 "nbformat_minor": 5
}
