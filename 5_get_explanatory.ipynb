{
 "cells": [
  {
   "cell_type": "code",
   "execution_count": 3,
   "metadata": {},
   "outputs": [],
   "source": [
    "%load_ext autoreload\n",
    "%autoreload 2"
   ]
  },
  {
   "cell_type": "code",
   "execution_count": 4,
   "metadata": {},
   "outputs": [
    {
     "name": "stderr",
     "output_type": "stream",
     "text": [
      "/home/dguerrero/module-venv/gwl-modeling/lib/python3.10/site-packages/tqdm/auto.py:21: TqdmWarning: IProgress not found. Please update jupyter and ipywidgets. See https://ipywidgets.readthedocs.io/en/stable/user_install.html\n",
      "  from .autonotebook import tqdm as notebook_tqdm\n"
     ]
    }
   ],
   "source": [
    "import concurrent.futures\n",
    "import pandas as pd\n",
    "import geopandas as gpd\n",
    "from pathlib import Path\n",
    "import ee\n",
    "import pickle\n",
    "from tqdm.auto import tqdm\n",
    "\n",
    "import scripts.get_sources as get_sources\n",
    "\n",
    "ee.Initialize(opt_url=\"https://earthengine-highvolume.googleapis.com\")"
   ]
  },
  {
   "cell_type": "code",
   "execution_count": 18,
   "metadata": {},
   "outputs": [],
   "source": [
    "# make dir to store pickle files\n",
    "training_path = Path('data/8_training_data')\n",
    "training_path.mkdir(parents=True, exist_ok=True)"
   ]
  },
  {
   "cell_type": "code",
   "execution_count": 21,
   "metadata": {},
   "outputs": [],
   "source": [
    "def get_explanatories(row):\n",
    "    \n",
    "    date, lon, lat = row['date'], row[\"lon\"], row[\"lat\"]\n",
    "    aoi = ee.Geometry.Point(lon, lat)\n",
    "    \n",
    "    if not get_sources.is_s1_image(date, aoi):\n",
    "        print(\"No S1 image for\", date)\n",
    "        return\n",
    "    \n",
    "    # TS scans will include the s1 image.\n",
    "\n",
    "    def get_images(get_image):\n",
    "\n",
    "        print(\"Processing\", get_image.__name__)\n",
    "        \n",
    "        image = get_image(date, aoi)\n",
    "        \n",
    "        result = (\n",
    "             image.reduceRegion(\n",
    "                reducer=ee.Reducer.toList(),\n",
    "                geometry=aoi.buffer(50),\n",
    "                maxPixels=1e13,\n",
    "                scale=100\n",
    "            )).getInfo()\n",
    "        \n",
    "        print(\"result\", result)\n",
    "        \n",
    "        return result\n",
    "    \n",
    "    sources = [\n",
    "        get_sources.get_s1_image,\n",
    "        get_sources.get_gldas,\n",
    "        get_sources.get_gpm,\n",
    "        get_sources.get_srtm,\n",
    "        get_sources.get_globcover,\n",
    "        get_sources.get_gedi,\n",
    "        get_sources.get_hansen\n",
    "    ]\n",
    "\n",
    "    with concurrent.futures.ThreadPoolExecutor() as executor:\n",
    "\n",
    "        futures = {\n",
    "            executor.submit(get_images, source): source.__name__ for source in sources\n",
    "        }\n",
    "\n",
    "        result = {}\n",
    "\n",
    "        for future in concurrent.futures.as_completed(futures):\n",
    "            future_name = futures[future]\n",
    "            result[future_name] = future.result()\n",
    "\n",
    "    return result"
   ]
  },
  {
   "cell_type": "code",
   "execution_count": 22,
   "metadata": {},
   "outputs": [],
   "source": [
    "df = pd.read_csv('data/field_data_all.csv')\n",
    "high_corr_ids = pd.read_csv('data/ids_high_corr.csv')\n",
    "\n",
    "df = df[df['id'].isin(high_corr_ids['id'])]\n",
    "\n",
    "# Remove those date where the gwl measure is out of reasonable range\n",
    "upper_thres = 20\n",
    "lower_thres = -100\n",
    "\n",
    "df = df[(df.gwl_cm < upper_thres) & (df.gwl_cm > lower_thres)]\n",
    "\n",
    "# save the final points\n",
    "\n",
    "df.to_csv('field_data_high_corr.csv', index=False)"
   ]
  },
  {
   "cell_type": "code",
   "execution_count": 23,
   "metadata": {},
   "outputs": [
    {
     "name": "stderr",
     "output_type": "stream",
     "text": [
      "  0%|          | 0/19904 [00:00<?, ?it/s]"
     ]
    },
    {
     "name": "stdout",
     "output_type": "stream",
     "text": [
      "No S1 image for 2018-11-05\n",
      "No S1 image for 2018-11-15\n",
      "Processing get_s1_image\n",
      "No S1 image for 2018-11-07\n",
      "Processing get_gldas\n",
      "Processing get_gpm\n",
      "No S1 image for 2018-11-08\n",
      "No S1 image for 2018-11-09\n",
      "Processing get_srtm\n",
      "Processing get_globcover\n",
      "Processing get_gedi\n",
      "Processing get_hansen\n",
      "Processing get_s1_image\n",
      "Processing get_gldas\n",
      "Processing get_gpm\n",
      "Processing get_srtm\n",
      "No S1 image for 2018-11-06\n",
      "Processing get_globcover\n",
      "Processing get_gedi\n",
      "Processing get_hansen\n",
      "No S1 image for 2018-11-16\n"
     ]
    },
    {
     "name": "stderr",
     "output_type": "stream",
     "text": [
      "  0%|          | 8/19904 [00:03<2:01:57,  2.72it/s] "
     ]
    },
    {
     "name": "stdout",
     "output_type": "stream",
     "text": [
      "result {'B3': [20], 'B4': [94], 'B5': [79], 'B7': [35], 'ndbri': [0.45736435055732727], 'ndmi': [0.08670520037412643], 'ndvi': [0.6491228342056274]}\n",
      "result {'prec_3': [0.8589665931649506], 'prec_30': [0.4423375053156633], 'prec_7': [0.6814493386294035], 'precipitation': [1.9706513641609087]}\n",
      "No S1 image for 2018-11-17\n"
     ]
    },
    {
     "name": "stderr",
     "output_type": "stream",
     "text": [
      "  0%|          | 10/19904 [00:04<1:41:47,  3.26it/s]"
     ]
    },
    {
     "name": "stdout",
     "output_type": "stream",
     "text": [
      "No S1 image for 2019-01-06\n",
      "No S1 image for 2018-11-19\n",
      "result {'landcover': [14], 'qa': [0]}\n"
     ]
    },
    {
     "name": "stderr",
     "output_type": "stream",
     "text": [
      "  0%|          | 12/19904 [00:04<1:20:26,  4.12it/s]"
     ]
    },
    {
     "name": "stdout",
     "output_type": "stream",
     "text": [
      "No S1 image for 2018-11-18\n",
      "result {'B3': [20], 'B4': [94], 'B5': [79], 'B7': [35], 'ndbri': [0.45736435055732727], 'ndmi': [0.08670520037412643], 'ndvi': [0.6491228342056274]}\n",
      "result {'aspect': [], 'elevation': [], 'slope': []}\n",
      "result {'gldas_mean': [31.17854881286621], 'gldas_stddev': [2.7891483567887083], 'sm_1': [33.2348518371582], 'sm_3': [31.796069780985516], 'sm_30': [31.955757864316304], 'sm_7': [31.918666703360422]}\n",
      "result {'aspect': [], 'elevation': [], 'slope': []}\n",
      "No S1 image for 2019-01-07\n",
      "result {'landcover': [14], 'qa': [0]}\n",
      "result {'canopy_height': [5]}\n",
      "result {'canopy_height': [5]}\n",
      "No S1 image for 2019-01-08\n"
     ]
    },
    {
     "name": "stderr",
     "output_type": "stream",
     "text": [
      "  0%|          | 14/19904 [00:04<1:06:37,  4.98it/s]"
     ]
    },
    {
     "name": "stdout",
     "output_type": "stream",
     "text": [
      "result {'gldas_mean': [31.17854881286621], 'gldas_stddev': [2.7891483567887083], 'sm_1': [31.434782028198242], 'sm_3': [31.874001900355022], 'sm_30': [31.963418404261272], 'sm_7': [31.989962237221853]}\n",
      "result {'LIA': [38.73006646540291], 'VH': [-12.936417268454644], 'VV': [-6.6590500522014215], 'VVVH_ratio': [0.16496376079965408], 'angle': [38.27021408081055], 'layover': [1], 'no_data_mask': [1], 'shadow': [1]}\n"
     ]
    },
    {
     "name": "stderr",
     "output_type": "stream",
     "text": [
      "  0%|          | 17/19904 [00:04<54:39,  6.06it/s]  "
     ]
    },
    {
     "name": "stdout",
     "output_type": "stream",
     "text": [
      "result {'LIA': [35.32718351198208], 'VH': [-12.843637793353764], 'VV': [-5.832198541047288], 'VVVH_ratio': [0.20912787141757533], 'angle': [36.64238357543945], 'layover': [1], 'no_data_mask': [1], 'shadow': [1]}\n",
      "result {'prec_3': [0.66538413829403], 'prec_30': [0.4330924323479382], 'prec_7': [0.4771076363948993], 'precipitation': [0.06060630533223351]}\n",
      "No S1 image for 2019-01-09\n",
      "No S1 image for 2019-01-10\n",
      "No S1 image for 2019-01-11\n",
      "Processing get_s1_image\n",
      "Processing get_gldas\n",
      "Processing get_gpm\n",
      "Processing get_srtm\n",
      "Processing get_globcover\n",
      "Processing get_gedi\n",
      "Processing get_hansen\n",
      "Processing get_s1_image\n",
      "Processing get_gldas\n",
      "Processing get_gpm\n",
      "Processing get_srtm\n",
      "Processing get_globcover\n"
     ]
    },
    {
     "name": "stderr",
     "output_type": "stream",
     "text": [
      "  0%|          | 19/19904 [00:05<1:04:26,  5.14it/s]"
     ]
    },
    {
     "name": "stdout",
     "output_type": "stream",
     "text": [
      "ProcessingProcessing get_hansen\n",
      " get_gedi\n",
      "No S1 image for 2019-01-14\n",
      "No S1 image for 2019-01-15\n"
     ]
    },
    {
     "name": "stderr",
     "output_type": "stream",
     "text": [
      "  0%|          | 21/19904 [00:05<1:00:41,  5.46it/s]"
     ]
    },
    {
     "name": "stdout",
     "output_type": "stream",
     "text": [
      "No S1 image for 2019-01-16\n",
      "No S1 image for 2019-01-21\n"
     ]
    },
    {
     "name": "stderr",
     "output_type": "stream",
     "text": [
      "  0%|          | 24/19904 [00:06<52:02,  6.37it/s]  "
     ]
    },
    {
     "name": "stdout",
     "output_type": "stream",
     "text": [
      "No S1 image for 2019-01-20\n",
      "No S1 image for 2019-01-22\n",
      "result {'canopy_height': [5]}\n",
      "result {'aspect': [], 'elevation': [], 'slope': []}\n",
      "result {'landcover': [14], 'qa': [0]}\n",
      "result {'B3': [19], 'B4': [72], 'B5': [79], 'B7': [38], 'ndbri': [0.30909091234207153], 'ndmi': [-0.046357616782188416], 'ndvi': [0.5824176073074341]}\n",
      "result {'prec_3': [0.6857386878691614], 'prec_30': [0.5593595541063464], 'prec_7': [0.5427172747875253], 'precipitation': [0.012465546631978618]}\n",
      "result {'aspect': [], 'elevation': [], 'slope': []}\n",
      "result {'landcover': [14], 'qa': [0]}\n",
      "result {'B3': [19], 'B4': [72], 'B5': [79], 'B7': [38], 'ndbri': [0.30909091234207153], 'ndmi': [-0.046357616782188416], 'ndvi': [0.5824176073074341]}\n",
      "result {'prec_3': [1.0127291046082973], 'prec_30': [0.5553012520231502], 'prec_7': [0.5341318087854521], 'precipitation': [1.4720223411344564]}\n",
      "result {'LIA': [], 'VH': [], 'VV': [], 'VVVH_ratio': [], 'angle': [], 'layover': [], 'no_data_mask': [], 'shadow': []}\n",
      "result {'canopy_height': [5]}\n"
     ]
    },
    {
     "name": "stderr",
     "output_type": "stream",
     "text": [
      "  0%|          | 28/19904 [00:07<1:29:22,  3.71it/s]"
     ]
    },
    {
     "name": "stdout",
     "output_type": "stream",
     "text": [
      "Processing get_s1_image\n",
      "result {'gldas_mean': [31.17854881286621], 'gldas_stddev': [2.7891483567887083], 'sm_1': [35.136478424072266], 'sm_3': [33.42429892222086], 'sm_30': [32.22818528811137], 'sm_7': [32.71127431733267]}\n",
      "No S1 image for 2019-01-26\n",
      "Processing get_gldas\n",
      "Processing get_gpm\n",
      "Processing get_srtm\n",
      "Processing get_globcover\n",
      "Processing get_gedi\n",
      "Processing get_hansen\n",
      "No S1 image for 2019-01-23\n",
      "result {'LIA': [37.3506070889857], 'VH': [-14.455653613098875], 'VV': [-6.952227276107714], 'VVVH_ratio': [0.16588765145890866], 'angle': [38.27000045776367], 'layover': [1], 'no_data_mask': [1], 'shadow': [1]}\n",
      "result {'gldas_mean': [31.17854881286621], 'gldas_stddev': [2.7891483567887083], 'sm_1': [33.355709075927734], 'sm_3': [33.7418417930603], 'sm_30': [32.27045127550761], 'sm_7': [33.01536440849304]}\n",
      "No S1 image for 2019-01-27\n",
      "No S1 image for 2019-01-28\n",
      "Processing get_s1_image\n",
      "Processing get_gldas\n",
      "Processing get_gpm\n",
      "Processing get_srtm\n",
      "Processing get_globcover\n",
      "Processing get_gedi\n",
      "Processing get_hansen\n"
     ]
    },
    {
     "name": "stderr",
     "output_type": "stream",
     "text": [
      "  0%|          | 31/19904 [00:09<2:19:48,  2.37it/s]"
     ]
    },
    {
     "name": "stdout",
     "output_type": "stream",
     "text": [
      "No S1 image for 2019-01-29\n",
      "No S1 image for 2019-01-30\n",
      "result {'aspect': [], 'elevation': [], 'slope': []}\n",
      "result {'landcover': [14], 'qa': [0]}\n",
      "No S1 image for 2019-02-01\n",
      "result {'prec_3': [0.49514096890754233], 'prec_30': [0.4450455741295822], 'prec_7': [0.23121095269688557], 'precipitation': [0.9955027759075165]}\n"
     ]
    },
    {
     "name": "stderr",
     "output_type": "stream",
     "text": [
      "  0%|          | 34/19904 [00:10<1:40:33,  3.29it/s]"
     ]
    },
    {
     "name": "stdout",
     "output_type": "stream",
     "text": [
      "result {'canopy_height': [5]}\n",
      "No S1 image for 2019-02-02\n",
      "result {'B3': [19], 'B4': [72], 'B5': [79], 'B7': [38], 'ndbri': [0.30909091234207153], 'ndmi': [-0.046357616782188416], 'ndvi': [0.5824176073074341]}\n"
     ]
    },
    {
     "name": "stderr",
     "output_type": "stream",
     "text": [
      "  0%|          | 35/19904 [00:10<1:35:18,  3.47it/s]"
     ]
    },
    {
     "name": "stdout",
     "output_type": "stream",
     "text": [
      "result {'aspect': [], 'elevation': [], 'slope': []}\n",
      "No S1 image for 2019-02-03\n",
      "result {'LIA': [38.729967616592255], 'VH': [-14.04709208369229], 'VV': [-6.806859550771299], 'VVVH_ratio': [0.16921850811754674], 'angle': [38.27011489868164], 'layover': [1], 'no_data_mask': [1], 'shadow': [1]}\n",
      "result {'landcover': [14], 'qa': [0]}\n",
      "result {'B3': [19], 'B4': [72], 'B5': [79], 'B7': [38], 'ndbri': [0.30909091234207153], 'ndmi': [-0.046357616782188416], 'ndvi': [0.5824176073074341]}\n",
      "result {'canopy_height': [5]}\n",
      "result {'prec_3': [0.3803166693833191], 'prec_30': [0.4481434995993272], 'prec_7': [0.24967055899048174], 'precipitation': [0.07992285076114866]}\n"
     ]
    },
    {
     "name": "stderr",
     "output_type": "stream",
     "text": [
      "  0%|          | 36/19904 [00:10<1:41:49,  3.25it/s]"
     ]
    },
    {
     "name": "stdout",
     "output_type": "stream",
     "text": [
      "result {'LIA': [36.38612950547119], 'VH': [-13.155184857994776], 'VV': [-6.405617680093554], 'VVVH_ratio': [0.18043116088553943], 'angle': [36.64291763305664], 'layover': [1], 'no_data_mask': [1], 'shadow': [1]}\n",
      "result {'gldas_mean': [31.17854881286621], 'gldas_stddev': [2.7891483567887083], 'sm_1': [32.869449615478516], 'sm_3': [33.27834018071493], 'sm_30': [32.079336015383404], 'sm_7': [32.28612627301897]}\n",
      "result {'gldas_mean': [31.17854881286621], 'gldas_stddev': [2.7891483567887083], 'sm_1': [31.70171546936035], 'sm_3': [32.94208184878031], 'sm_30': [32.08055719534556], 'sm_7': [32.372323989868164]}\n"
     ]
    },
    {
     "name": "stderr",
     "output_type": "stream",
     "text": [
      "  0%|          | 40/19904 [00:11<1:02:51,  5.27it/s]"
     ]
    },
    {
     "name": "stdout",
     "output_type": "stream",
     "text": [
      "No S1 image for 2019-02-04\n",
      "Processing get_s1_image\n",
      "Processing get_gldas\n",
      "No S1 image for 2019-03-11\n",
      "Processing get_gpm\n",
      "Processing get_srtm\n",
      "Processing get_globcover\n",
      "Processing get_gedi\n",
      "Processing get_hansen\n",
      "No S1 image for 2019-03-12\n",
      "ProcessingProcessing get_gldas\n",
      " get_s1_image\n",
      "Processing get_gpm\n",
      "Processing get_srtm\n",
      "Processing get_globcover\n",
      "Processing get_gedi\n",
      "Processing get_hansen\n"
     ]
    },
    {
     "name": "stderr",
     "output_type": "stream",
     "text": [
      "  0%|          | 41/19904 [00:11<1:33:45,  3.53it/s]"
     ]
    },
    {
     "name": "stdout",
     "output_type": "stream",
     "text": [
      "No S1 image for 2019-03-15\n",
      "Processing get_s1_image\n",
      "Processing get_gldas\n",
      "Processing get_gpm\n",
      "Processing get_srtm\n",
      "Processing get_globcover\n",
      "Processing get_gedi\n",
      "Processing get_hansen\n"
     ]
    },
    {
     "name": "stderr",
     "output_type": "stream",
     "text": [
      "  0%|          | 42/19904 [00:12<1:49:24,  3.03it/s]"
     ]
    },
    {
     "name": "stdout",
     "output_type": "stream",
     "text": [
      "No S1 image for 2019-03-16\n"
     ]
    },
    {
     "name": "stderr",
     "output_type": "stream",
     "text": [
      "  0%|          | 43/19904 [00:13<2:38:33,  2.09it/s]"
     ]
    },
    {
     "name": "stdout",
     "output_type": "stream",
     "text": [
      "result {'landcover': [14], 'qa': [0]}\n",
      "result {'prec_3': [0.44479031959439025], 'prec_30': [0.5039954564486713], 'prec_7': [0.5975593135609657], 'precipitation': [0.6321448344737292]}\n",
      "No S1 image for 2019-03-17\n",
      "result {'canopy_height': [5]}\n",
      "result {'B3': [19], 'B4': [72], 'B5': [79], 'B7': [38], 'ndbri': [0.30909091234207153], 'ndmi': [-0.046357616782188416], 'ndvi': [0.5824176073074341]}\n"
     ]
    },
    {
     "name": "stderr",
     "output_type": "stream",
     "text": [
      "  0%|          | 44/19904 [00:13<2:28:54,  2.22it/s]"
     ]
    },
    {
     "name": "stdout",
     "output_type": "stream",
     "text": [
      "No S1 image for 2019-03-18\n",
      "result {'gldas_mean': [31.17854881286621], 'gldas_stddev': [2.7891483567887083], 'sm_1': [31.35066795349121], 'sm_3': [32.34379720687866], 'sm_30': [32.66858991781871], 'sm_7': [32.40944518361773]}\n",
      "result {'aspect': [], 'elevation': [], 'slope': []}\n",
      "result {'landcover': [14], 'qa': [0]}\n",
      "result {'aspect': [], 'elevation': [], 'slope': []}\n",
      "result {'B3': [19], 'B4': [72], 'B5': [79], 'B7': [38], 'ndbri': [0.30909091234207153], 'ndmi': [-0.046357616782188416], 'ndvi': [0.5824176073074341]}\n",
      "result {'canopy_height': [5]}\n",
      "result {'LIA': [], 'VH': [], 'VV': [], 'VVVH_ratio': [], 'angle': [], 'layover': [], 'no_data_mask': [], 'shadow': []}\n",
      "result {'prec_3': [0.05869631937915279], 'prec_30': [0.6041470429316784], 'prec_7': [0.320413778313029], 'precipitation': [0.15050900106628737]}\n",
      "result {'gldas_mean': [31.17854881286621], 'gldas_stddev': [2.7891483567887083], 'sm_1': [31.656803131103516], 'sm_3': [32.45063519477844], 'sm_30': [32.85701225598653], 'sm_7': [31.67073913982936]}\n",
      "result {'landcover': [14], 'qa': [0]}\n"
     ]
    },
    {
     "name": "stderr",
     "output_type": "stream",
     "text": [
      "  0%|          | 46/19904 [00:14<1:59:45,  2.76it/s]"
     ]
    },
    {
     "name": "stdout",
     "output_type": "stream",
     "text": [
      "result {'aspect': [], 'elevation': [], 'slope': []}\n",
      "result {'canopy_height': [5]}\n",
      "result {'B3': [19], 'B4': [72], 'B5': [79], 'B7': [38], 'ndbri': [0.30909091234207153], 'ndmi': [-0.046357616782188416], 'ndvi': [0.5824176073074341]}\n",
      "No S1 image for 2019-03-19\n",
      "No S1 image for 2019-03-20\n",
      "No S1 image for 2019-03-21\n",
      "result {'LIA': [38.72586682654509], 'VH': [-13.476773487329945], 'VV': [-6.934320661452386], 'VVVH_ratio': [0.15765875427261838], 'angle': [38.266014099121094], 'layover': [1], 'no_data_mask': [1], 'shadow': [1]}\n"
     ]
    },
    {
     "name": "stderr",
     "output_type": "stream",
     "text": [
      "  0%|          | 49/19904 [00:14<1:15:22,  4.39it/s]"
     ]
    },
    {
     "name": "stdout",
     "output_type": "stream",
     "text": [
      "result {'LIA': [], 'VH': [], 'VV': [], 'VVVH_ratio': [], 'angle': [], 'layover': [], 'no_data_mask': [], 'shadow': []}\n",
      "No S1 image for 2019-03-22\n"
     ]
    },
    {
     "name": "stderr",
     "output_type": "stream",
     "text": [
      "  0%|          | 50/19904 [00:14<1:19:25,  4.17it/s]"
     ]
    },
    {
     "name": "stdout",
     "output_type": "stream",
     "text": [
      "result {'gldas_mean': [31.17854881286621], 'gldas_stddev': [2.7891483567887083], 'sm_1': [31.89141082763672], 'sm_3': [32.08890930811564], 'sm_30': [32.83645723660787], 'sm_7': [31.619137627737864]}\n",
      "result {'prec_3': [0.06503822468221188], 'prec_30': [0.6005707506975159], 'prec_7': [0.460697886470246], 'precipitation': [0.020556098885006376]}\n"
     ]
    },
    {
     "name": "stderr",
     "output_type": "stream",
     "text": [
      "  0%|          | 52/19904 [00:14<1:03:11,  5.24it/s]"
     ]
    },
    {
     "name": "stdout",
     "output_type": "stream",
     "text": [
      "No S1 image for 2019-03-23\n"
     ]
    },
    {
     "name": "stderr",
     "output_type": "stream",
     "text": [
      "  0%|          | 54/19904 [00:15<1:02:24,  5.30it/s]"
     ]
    },
    {
     "name": "stdout",
     "output_type": "stream",
     "text": [
      "Processing get_s1_image\n",
      "Processing get_gldas\n",
      "No S1 image for 2019-03-24\n",
      "Processing get_gpm\n",
      "Processing get_s1_image\n",
      "Processing get_gldas\n",
      "Processing get_gpm\n",
      "Processing get_srtm\n",
      "No S1 image for 2019-01-31\n",
      "Processing get_globcover\n",
      "Processing get_gedi\n",
      "Processing get_hansen\n",
      "Processing get_srtm\n",
      "Processing get_globcover\n",
      "Processing get_gedi\n",
      "Processing get_hansen\n"
     ]
    },
    {
     "name": "stderr",
     "output_type": "stream",
     "text": [
      "  0%|          | 55/19904 [00:15<59:51,  5.53it/s]  "
     ]
    },
    {
     "name": "stdout",
     "output_type": "stream",
     "text": [
      "No S1 image for 2019-03-27\n"
     ]
    },
    {
     "name": "stderr",
     "output_type": "stream",
     "text": [
      "  0%|          | 58/19904 [00:15<48:30,  6.82it/s]  "
     ]
    },
    {
     "name": "stdout",
     "output_type": "stream",
     "text": [
      "No S1 image for 2019-03-28\n",
      "No S1 image for 2019-07-04\n",
      "No S1 image for 2019-07-05\n"
     ]
    },
    {
     "name": "stderr",
     "output_type": "stream",
     "text": [
      "  0%|          | 59/19904 [00:17<2:43:45,  2.02it/s]"
     ]
    },
    {
     "name": "stdout",
     "output_type": "stream",
     "text": [
      "result {'aspect': [], 'elevation': [], 'slope': []}\n",
      "No S1 image for 2019-07-07\n",
      "result {'gldas_mean': [31.17854881286621], 'gldas_stddev': [2.7891483567887083], 'sm_1': [30.85331153869629], 'sm_3': [30.117772658665974], 'sm_30': [31.50817719300588], 'sm_7': [29.815066644123622]}\n",
      "result {'landcover': [14], 'qa': [0]}\n",
      "result {'canopy_height': [5]}\n"
     ]
    },
    {
     "name": "stderr",
     "output_type": "stream",
     "text": [
      "  0%|          | 61/19904 [00:17<1:52:50,  2.93it/s]"
     ]
    },
    {
     "name": "stdout",
     "output_type": "stream",
     "text": [
      "result {'LIA': [], 'VH': [], 'VV': [], 'VVVH_ratio': [], 'angle': [], 'layover': [], 'no_data_mask': [], 'shadow': []}\n",
      "result {'B3': [19], 'B4': [72], 'B5': [79], 'B7': [38], 'ndbri': [0.30909091234207153], 'ndmi': [-0.046357616782188416], 'ndvi': [0.5824176073074341]}\n",
      "No S1 image for 2019-07-08\n",
      "result {'B3': [19], 'B4': [72], 'B5': [79], 'B7': [38], 'ndbri': [0.30909091234207153], 'ndmi': [-0.046357616782188416], 'ndvi': [0.5824176073074341]}\n",
      "result {'aspect': [], 'elevation': [], 'slope': []}\n",
      "result {'canopy_height': [5]}\n",
      "result {'prec_3': [0.8958054294053], 'prec_30': [0.3749906129336783], 'prec_7': [0.42122806049245476], 'precipitation': [0.1431239904421899]}\n",
      "result {'landcover': [14], 'qa': [0]}\n",
      "result {'gldas_mean': [31.17854881286621], 'gldas_stddev': [2.7891483567887083], 'sm_1': [31.837167739868164], 'sm_3': [30.575457175572712], 'sm_30': [31.43931091626485], 'sm_7': [30.126545769827707]}\n",
      "result {'prec_3': [0.4654869554032173], 'prec_30': [0.3825031883811744], 'prec_7': [0.5952811827883124], 'precipitation': [1.0723360229570131]}\n"
     ]
    },
    {
     "name": "stderr",
     "output_type": "stream",
     "text": [
      "  0%|          | 64/19904 [00:18<1:01:17,  5.40it/s]"
     ]
    },
    {
     "name": "stdout",
     "output_type": "stream",
     "text": [
      "Processing get_s1_image\n",
      "Processing get_gldas\n",
      "Processing get_gpm\n",
      "Processing get_srtm\n",
      "No S1 image for 2019-07-10\n",
      "Processing get_globcover\n",
      "Processing get_gedi\n",
      "Processing get_hansen\n",
      "No S1 image for 2019-07-09\n",
      "result {'LIA': [], 'VH': [], 'VV': [], 'VVVH_ratio': [], 'angle': [], 'layover': [], 'no_data_mask': [], 'shadow': []}\n"
     ]
    },
    {
     "name": "stderr",
     "output_type": "stream",
     "text": [
      "  0%|          | 65/19904 [00:18<1:24:13,  3.93it/s]"
     ]
    },
    {
     "name": "stdout",
     "output_type": "stream",
     "text": [
      "No S1 image for 2019-07-06\n",
      "Processing get_s1_image\n",
      "Processing get_gldas\n",
      "Processing get_gpm\n",
      "Processing get_srtm\n"
     ]
    },
    {
     "name": "stderr",
     "output_type": "stream",
     "text": [
      "  0%|          | 66/19904 [00:18<1:27:31,  3.78it/s]"
     ]
    },
    {
     "name": "stdout",
     "output_type": "stream",
     "text": [
      "ProcessingProcessing get_gedi\n",
      "No S1 image for 2019-07-13\n",
      " get_globcover\n",
      "Processing get_hansen\n"
     ]
    },
    {
     "name": "stderr",
     "output_type": "stream",
     "text": [
      "  0%|          | 67/19904 [00:19<1:47:23,  3.08it/s]"
     ]
    },
    {
     "name": "stdout",
     "output_type": "stream",
     "text": [
      "No S1 image for 2019-07-14\n"
     ]
    },
    {
     "name": "stderr",
     "output_type": "stream",
     "text": [
      "  0%|          | 68/19904 [00:19<1:59:16,  2.77it/s]"
     ]
    },
    {
     "name": "stdout",
     "output_type": "stream",
     "text": [
      "result {'aspect': [], 'elevation': [], 'slope': []}\n",
      "result {'landcover': [14], 'qa': [0]}\n",
      "result {'canopy_height': [5]}\n",
      "result {'B3': [19], 'B4': [72], 'B5': [79], 'B7': [38], 'ndbri': [0.30909091234207153], 'ndmi': [-0.046357616782188416], 'ndvi': [0.5824176073074341]}\n",
      "No S1 image for 2019-07-16\n"
     ]
    },
    {
     "name": "stderr",
     "output_type": "stream",
     "text": [
      "  0%|          | 70/19904 [00:19<1:14:12,  4.45it/s]"
     ]
    },
    {
     "name": "stdout",
     "output_type": "stream",
     "text": [
      "No S1 image for 2019-07-17\n",
      "No S1 image for 2019-07-15\n",
      "result {'prec_3': [0.036788137028774905], 'prec_30': [0.17401250552922534], 'prec_7': [0.018306738960192255], 'precipitation': [0]}\n",
      "result {'LIA': [38.73052992384703], 'VH': [-15.653242789786487], 'VV': [-7.130219774851712], 'VVVH_ratio': [0.1664257065692081], 'angle': [38.27067565917969], 'layover': [1], 'no_data_mask': [1], 'shadow': [1]}\n"
     ]
    },
    {
     "name": "stderr",
     "output_type": "stream",
     "text": [
      "  0%|          | 71/19904 [00:20<1:28:02,  3.75it/s]"
     ]
    },
    {
     "name": "stdout",
     "output_type": "stream",
     "text": [
      "result {'gldas_mean': [31.17854881286621], 'gldas_stddev': [2.7891483567887083], 'sm_1': [29.705272674560547], 'sm_3': [30.757827520370483], 'sm_30': [30.88825091520945], 'sm_7': [30.416011367525375]}\n",
      "No S1 image for 2019-07-18\n",
      "result {'aspect': [], 'elevation': [], 'slope': []}\n"
     ]
    },
    {
     "name": "stderr",
     "output_type": "stream",
     "text": [
      "  0%|          | 73/19904 [00:20<1:06:54,  4.94it/s]"
     ]
    },
    {
     "name": "stdout",
     "output_type": "stream",
     "text": [
      "result {'canopy_height': [5]}\n",
      "result {'landcover': [14], 'qa': [0]}\n",
      "No S1 image for 2019-07-19\n",
      "result {'B3': [19], 'B4': [72], 'B5': [79], 'B7': [38], 'ndbri': [0.30909091234207153], 'ndmi': [-0.046357616782188416], 'ndvi': [0.5824176073074341]}\n",
      "No S1 image for 2019-07-20\n",
      "result {'prec_3': [0.022887856795870024], 'prec_30': [0.14878893851104086], 'prec_7': [0.018285507343209058], 'precipitation': [0]}\n",
      "result {'LIA': [35.32896002956305], 'VH': [-13.09806981526664], 'VV': [-5.808844622919237], 'VVVH_ratio': [0.21349202255367128], 'angle': [36.644081115722656], 'layover': [1], 'no_data_mask': [1], 'shadow': [1]}\n"
     ]
    },
    {
     "name": "stderr",
     "output_type": "stream",
     "text": [
      "  0%|          | 76/19904 [00:20<51:19,  6.44it/s]  "
     ]
    },
    {
     "name": "stdout",
     "output_type": "stream",
     "text": [
      "No S1 image for 2019-07-21\n",
      "No S1 image for 2019-07-22\n",
      "Processing get_s1_image\n",
      "Processing get_gldas\n",
      "Processing get_gpm\n",
      "Processing get_srtm\n"
     ]
    },
    {
     "name": "stderr",
     "output_type": "stream",
     "text": [
      "  0%|          | 77/19904 [00:21<48:36,  6.80it/s]"
     ]
    },
    {
     "name": "stdout",
     "output_type": "stream",
     "text": [
      "Processing get_globcover\n",
      "Processing get_gedi\n",
      "Processing get_hansen\n",
      "result {'gldas_mean': [31.17854881286621], 'gldas_stddev': [2.7891483567887083], 'sm_1': [29.16617202758789], 'sm_3': [29.94020215670268], 'sm_30': [30.794744888941448], 'sm_7': [30.30244711467198]}\n"
     ]
    },
    {
     "name": "stderr",
     "output_type": "stream",
     "text": [
      "  0%|          | 80/19904 [00:21<52:12,  6.33it/s]  "
     ]
    },
    {
     "name": "stdout",
     "output_type": "stream",
     "text": [
      "No S1 image for 2019-07-25\n",
      "No S1 image for 2019-07-24\n",
      "No S1 image for 2019-07-27\n"
     ]
    },
    {
     "name": "stderr",
     "output_type": "stream",
     "text": [
      "  0%|          | 83/19904 [00:21<44:34,  7.41it/s]"
     ]
    },
    {
     "name": "stdout",
     "output_type": "stream",
     "text": [
      "No S1 image for 2019-07-28\n",
      "No S1 image for 2019-07-29\n",
      "No S1 image for 2019-07-26\n"
     ]
    },
    {
     "name": "stderr",
     "output_type": "stream",
     "text": [
      "  0%|          | 84/19904 [00:22<1:29:51,  3.68it/s]"
     ]
    },
    {
     "name": "stdout",
     "output_type": "stream",
     "text": [
      "result {'aspect': [], 'elevation': [], 'slope': []}\n",
      "result {'canopy_height': [5]}\n",
      "No S1 image for 2019-07-30\n",
      "result {'landcover': [14], 'qa': [0]}\n",
      "result {'B3': [19], 'B4': [72], 'B5': [79], 'B7': [38], 'ndbri': [0.30909091234207153], 'ndmi': [-0.046357616782188416], 'ndvi': [0.5824176073074341]}\n",
      "result {'LIA': [38.72946902616923], 'VH': [-12.817256072883517], 'VV': [-7.222264224770951], 'VVVH_ratio': [0.13729909682279431], 'angle': [38.269615173339844], 'layover': [1], 'no_data_mask': [1], 'shadow': [1]}\n",
      "result {'gldas_mean': [31.17854881286621], 'gldas_stddev': [2.7891483567887083], 'sm_1': [29.037607192993164], 'sm_3': [28.127259333928425], 'sm_30': [29.545010081926982], 'sm_7': [27.756104162761144]}\n"
     ]
    },
    {
     "name": "stderr",
     "output_type": "stream",
     "text": [
      "  0%|          | 87/19904 [00:23<1:03:20,  5.21it/s]"
     ]
    },
    {
     "name": "stdout",
     "output_type": "stream",
     "text": [
      "No S1 image for 2019-07-31\n",
      "result {'prec_3': [0.07125950384264192], 'prec_30': [0.01789934911765158], 'prec_7': [0.031100412992679554], 'precipitation': [0.08120053519748828]}\n",
      "No S1 image for 2019-08-01\n",
      "Processing get_s1_image\n",
      "Processing get_s1_image\n",
      "Processing get_gldas\n",
      "Processing get_gpm\n"
     ]
    },
    {
     "name": "stderr",
     "output_type": "stream",
     "text": [
      "  0%|          | 88/19904 [00:23<59:16,  5.57it/s]  "
     ]
    },
    {
     "name": "stdout",
     "output_type": "stream",
     "text": [
      "Processing get_srtm\n",
      "Processing get_globcover\n",
      "Processing get_gedi\n",
      "Processing get_hansen\n",
      "Processing get_gldas\n",
      "Processing get_gpm\n",
      "No S1 image for 2019-08-03\n",
      "Processing get_srtm\n",
      "Processing get_globcover\n",
      "Processing get_gedi\n",
      "Processing get_hansen\n"
     ]
    },
    {
     "name": "stderr",
     "output_type": "stream",
     "text": [
      "  0%|          | 89/19904 [00:23<1:16:12,  4.33it/s]"
     ]
    },
    {
     "name": "stdout",
     "output_type": "stream",
     "text": [
      "No S1 image for 2019-08-06\n"
     ]
    },
    {
     "name": "stderr",
     "output_type": "stream",
     "text": [
      "  0%|          | 90/19904 [00:23<1:14:24,  4.44it/s]"
     ]
    },
    {
     "name": "stdout",
     "output_type": "stream",
     "text": [
      "No S1 image for 2019-08-02\n"
     ]
    },
    {
     "name": "stderr",
     "output_type": "stream",
     "text": [
      "  0%|          | 92/19904 [00:24<1:12:06,  4.58it/s]"
     ]
    },
    {
     "name": "stdout",
     "output_type": "stream",
     "text": [
      "No S1 image for 2019-08-08\n",
      "No S1 image for 2019-08-07\n"
     ]
    },
    {
     "name": "stderr",
     "output_type": "stream",
     "text": [
      "  0%|          | 93/19904 [00:25<2:23:41,  2.30it/s]"
     ]
    },
    {
     "name": "stdout",
     "output_type": "stream",
     "text": [
      "No S1 image for 2019-08-09\n",
      "result {'B3': [19], 'B4': [72], 'B5': [79], 'B7': [38], 'ndbri': [0.30909091234207153], 'ndmi': [-0.046357616782188416], 'ndvi': [0.5824176073074341]}\n",
      "result {'aspect': [], 'elevation': [], 'slope': []}\n"
     ]
    },
    {
     "name": "stderr",
     "output_type": "stream",
     "text": [
      "  0%|          | 94/19904 [00:25<2:22:52,  2.31it/s]"
     ]
    },
    {
     "name": "stdout",
     "output_type": "stream",
     "text": [
      "result {'landcover': [14], 'qa': [0]}\n",
      "result {'aspect': [], 'elevation': [], 'slope': []}\n",
      "result {'canopy_height': [5]}\n",
      "result {'landcover': [14], 'qa': [0]}\n",
      "result {'canopy_height': [5]}\n",
      "result {'prec_3': [0], 'prec_30': [0.011589697295617978], 'prec_7': [0.00014504980619834817], 'precipitation': [0]}\n",
      "result {'LIA': [], 'VH': [], 'VV': [], 'VVVH_ratio': [], 'angle': [], 'layover': [], 'no_data_mask': [], 'shadow': []}\n",
      "result {'prec_3': [0], 'prec_30': [0.011733686670210937], 'prec_7': [0.00014504980619834817], 'precipitation': [0]}\n",
      "No S1 image for 2019-08-11\n",
      "result {'LIA': [], 'VH': [], 'VV': [], 'VVVH_ratio': [], 'angle': [], 'layover': [], 'no_data_mask': [], 'shadow': []}\n"
     ]
    },
    {
     "name": "stderr",
     "output_type": "stream",
     "text": [
      "  0%|          | 98/19904 [00:25<59:05,  5.59it/s]  "
     ]
    },
    {
     "name": "stdout",
     "output_type": "stream",
     "text": [
      "No S1 image for 2019-08-12\n",
      "result {'B3': [19], 'B4': [72], 'B5': [79], 'B7': [38], 'ndbri': [0.30909091234207153], 'ndmi': [-0.046357616782188416], 'ndvi': [0.5824176073074341]}\n",
      "No S1 image for 2019-08-10\n",
      "No S1 image for 2019-08-13\n",
      "No S1 image for 2019-08-14\n",
      "result {'gldas_mean': [31.17854881286621], 'gldas_stddev': [2.7891483567887083], 'sm_1': [25.62047004699707], 'sm_3': [25.777873675028484], 'sm_30': [28.12122014363607], 'sm_7': [26.591895716530935]}\n",
      "result {'gldas_mean': [31.17854881286621], 'gldas_stddev': [2.7891483567887083], 'sm_1': [25.7111873626709], 'sm_3': [25.621779600779217], 'sm_30': [27.967932502428692], 'sm_7': [26.215370076043264]}\n"
     ]
    },
    {
     "name": "stderr",
     "output_type": "stream",
     "text": [
      "  1%|          | 101/19904 [00:26<54:13,  6.09it/s]"
     ]
    },
    {
     "name": "stdout",
     "output_type": "stream",
     "text": [
      "No S1 image for 2019-08-15\n",
      "ProcessingProcessing get_gldas\n",
      "Processing get_gpm\n",
      " get_s1_image\n",
      "Processing get_srtm\n",
      "Processing get_globcover\n",
      "Processing get_gedi\n",
      "Processing get_hansen\n",
      "Processing get_s1_image\n",
      "Processing get_gldas\n",
      "Processing get_gpm\n",
      "Processing get_srtm\n",
      "Processing get_globcover\n",
      "Processing get_gedi\n",
      "Processing get_hansen\n",
      "No S1 image for 2019-08-19\n"
     ]
    },
    {
     "name": "stderr",
     "output_type": "stream",
     "text": [
      "  1%|          | 106/19904 [00:27<59:21,  5.56it/s]  "
     ]
    },
    {
     "name": "stdout",
     "output_type": "stream",
     "text": [
      "No S1 image for 2019-08-22\n",
      "No S1 image for 2019-08-21\n",
      "No S1 image for 2019-08-23\n",
      "No S1 image for 2019-08-20\n",
      "No S1 image for 2019-08-18\n",
      "result {'canopy_height': [5]}\n",
      "result {'prec_3': [0], 'prec_30': [0.007349140589369888], 'prec_7': [0], 'precipitation': [0]}\n",
      "result {'aspect': [], 'elevation': [], 'slope': []}\n"
     ]
    },
    {
     "name": "stderr",
     "output_type": "stream",
     "text": [
      "  1%|          | 110/19904 [00:29<1:42:02,  3.23it/s]"
     ]
    },
    {
     "name": "stdout",
     "output_type": "stream",
     "text": [
      "No S1 image forresult {'aspect': [], 'elevation': [], 'slope': []}\n",
      " 2019-08-25\n",
      "result {'landcover': [14], 'qa': [0]}\n",
      "result {'canopy_height': [5]}\n",
      "result {'B3': [19], 'B4': [72], 'B5': [79], 'B7': [38], 'ndbri': [0.30909091234207153], 'ndmi': [-0.046357616782188416], 'ndvi': [0.5824176073074341]}\n",
      "No S1 image for 2019-08-26\n",
      "result {'prec_3': [0], 'prec_30': [0.00732480568675608], 'prec_7': [0], 'precipitation': [0]}\n",
      "result {'landcover': [14], 'qa': [0]}\n",
      "Processing get_s1_image\n",
      "Processing get_gldas\n",
      "Processing get_gpm\n",
      "Processing get_srtm\n",
      "result {'B3': [19], 'B4': [72], 'B5': [79], 'B7': [38], 'ndbri': [0.30909091234207153], 'ndmi': [-0.046357616782188416], 'ndvi': [0.5824176073074341]}\n",
      "No S1 image for 2019-08-27\n",
      "Processing get_globcover\n",
      "Processing get_gedi\n",
      "Processing get_hansen\n",
      "result {'gldas_mean': [31.17854881286621], 'gldas_stddev': [2.7891483567887083], 'sm_1': [23.44898796081543], 'sm_3': [23.74486494064331], 'sm_30': [26.222072807947793], 'sm_7': [24.180256537028722]}\n",
      "Processing get_s1_image\n",
      "Processing get_gldas\n",
      "Processing get_gpm\n",
      "result {'LIA': [], 'VH': [], 'VV': [], 'VVVH_ratio': [], 'angle': [], 'layover': [], 'no_data_mask': [], 'shadow': []}\n",
      "No S1 image for 2019-08-24\n",
      "Processing get_srtm\n",
      "Processing get_globcover\n",
      "Processing get_gedi\n",
      "Processing get_hansen\n"
     ]
    },
    {
     "name": "stderr",
     "output_type": "stream",
     "text": [
      "  1%|          | 112/19904 [00:30<1:34:05,  3.51it/s]"
     ]
    },
    {
     "name": "stdout",
     "output_type": "stream",
     "text": [
      "result {'gldas_mean': [31.17854881286621], 'gldas_stddev': [2.7891483567887083], 'sm_1': [23.209842681884766], 'sm_3': [23.464903116226196], 'sm_30': [26.07352734406789], 'sm_7': [23.949447870254517]}\n"
     ]
    },
    {
     "name": "stderr",
     "output_type": "stream",
     "text": [
      "  1%|          | 113/19904 [00:30<1:40:46,  3.27it/s]"
     ]
    },
    {
     "name": "stdout",
     "output_type": "stream",
     "text": [
      "No S1 image for 2019-08-30\n"
     ]
    },
    {
     "name": "stderr",
     "output_type": "stream",
     "text": [
      "  1%|          | 114/19904 [00:30<1:52:09,  2.94it/s]"
     ]
    },
    {
     "name": "stdout",
     "output_type": "stream",
     "text": [
      "result {'LIA': [38.73014561325925], 'VH': [-14.630671325999405], 'VV': [-8.07554891970926], 'VVVH_ratio': [0.12132644511134032], 'angle': [38.27029037475586], 'layover': [1], 'no_data_mask': [1], 'shadow': [1]}\n",
      "No S1 image for 2019-08-31\n",
      "result {'prec_3': [0.4467854658000623], 'prec_30': [0.047693724173211285], 'prec_7': [0.19924216718110885], 'precipitation': [1.3056068047881126]}\n",
      "result {'B3': [19], 'B4': [72], 'B5': [79], 'B7': [38], 'ndbri': [0.30909091234207153], 'ndmi': [-0.046357616782188416], 'ndvi': [0.5824176073074341]}\n"
     ]
    },
    {
     "name": "stderr",
     "output_type": "stream",
     "text": [
      "  1%|          | 116/19904 [00:32<2:14:14,  2.46it/s]"
     ]
    },
    {
     "name": "stdout",
     "output_type": "stream",
     "text": [
      "result {'landcover': [14], 'qa': [0]}\n",
      "result {'gldas_mean': [31.17854881286621], 'gldas_stddev': [2.7891483567887083], 'sm_1': [31.897354125976562], 'sm_3': [23.520660400390625], 'sm_30': [24.227931880950926], 'sm_7': [22.55515558379037]}\n",
      "result {'canopy_height': [5]}\n",
      "result {'B3': [19], 'B4': [72], 'B5': [79], 'B7': [38], 'ndbri': [0.30909091234207153], 'ndmi': [-0.046357616782188416], 'ndvi': [0.5824176073074341]}\n",
      "result {'landcover': [14], 'qa': [0]}\n",
      "No S1 image for 2019-09-01\n",
      "result {'canopy_height': [5]}\n",
      "result {'LIA': [37.34988454238848], 'VH': [-14.282259914738757], 'VV': [-6.396297527469676], 'VVVH_ratio': [0.19197655271445646], 'angle': [38.269283294677734], 'layover': [1], 'no_data_mask': [1], 'shadow': [1]}\n",
      "result {'aspect': [], 'elevation': [], 'slope': []}\n",
      "result {'prec_3': [0.4918859719609221], 'prec_30': [0.048373241221008736], 'prec_7': [0.20220654371692098], 'precipitation': [0.0019063688814640045]}\n",
      "No S1 image for 2019-09-02\n",
      "result {'aspect': [], 'elevation': [], 'slope': []}\n"
     ]
    },
    {
     "name": "stderr",
     "output_type": "stream",
     "text": [
      "  1%|          | 121/19904 [00:32<1:07:31,  4.88it/s]"
     ]
    },
    {
     "name": "stdout",
     "output_type": "stream",
     "text": [
      "result {'LIA': [35.329881970413524], 'VH': [-13.650137026448403], 'VV': [-6.772119503174997], 'VVVH_ratio': [0.16712465136425173], 'angle': [36.64500427246094], 'layover': [1], 'no_data_mask': [1], 'shadow': [1]}\n",
      "No S1 image for 2019-09-03\n",
      "No S1 image for 2019-09-06\n",
      "result {'gldas_mean': [31.17854881286621], 'gldas_stddev': [2.7891483567887083], 'sm_1': [28.49366569519043], 'sm_3': [26.415213505427044], 'sm_30': [24.316815678278605], 'sm_7': [23.674974032810756]}\n",
      "No S1 image for 2019-09-04\n"
     ]
    },
    {
     "name": "stderr",
     "output_type": "stream",
     "text": [
      "  1%|          | 123/19904 [00:32<52:31,  6.28it/s]  "
     ]
    },
    {
     "name": "stdout",
     "output_type": "stream",
     "text": [
      "No S1 image for 2019-09-05\n"
     ]
    },
    {
     "name": "stderr",
     "output_type": "stream",
     "text": [
      "  1%|          | 125/19904 [00:33<1:14:48,  4.41it/s]"
     ]
    },
    {
     "name": "stdout",
     "output_type": "stream",
     "text": [
      "No S1 image for 2019-09-07\n",
      "Processing get_s1_image\n",
      "Processing get_gldas\n",
      "Processing get_gpm\n",
      "Processing get_srtm\n",
      "Processing get_globcover\n",
      "Processing get_gedi\n",
      "Processing get_hansen\n",
      "No S1 image for 2019-09-08\n"
     ]
    },
    {
     "name": "stderr",
     "output_type": "stream",
     "text": [
      "  1%|          | 126/19904 [00:33<1:14:54,  4.40it/s]"
     ]
    },
    {
     "name": "stdout",
     "output_type": "stream",
     "text": [
      "Processing get_s1_image\n",
      "Processing get_gldas\n",
      "Processing get_gpm\n",
      "Processing get_srtm\n",
      "Processing get_globcover\n",
      "Processing get_gedi\n",
      "Processing get_hansen\n",
      "No S1 image for 2019-09-11\n"
     ]
    },
    {
     "name": "stderr",
     "output_type": "stream",
     "text": [
      "  1%|          | 128/19904 [00:33<55:50,  5.90it/s]  "
     ]
    },
    {
     "name": "stdout",
     "output_type": "stream",
     "text": [
      "No S1 image for 2019-09-12\n",
      "No S1 image for 2019-09-13\n",
      "No S1 image for 2019-09-15\n"
     ]
    },
    {
     "name": "stderr",
     "output_type": "stream",
     "text": [
      "  1%|          | 130/19904 [00:34<1:32:05,  3.58it/s]"
     ]
    },
    {
     "name": "stdout",
     "output_type": "stream",
     "text": [
      "No S1 image for 2019-09-14\n"
     ]
    },
    {
     "name": "stderr",
     "output_type": "stream",
     "text": [
      "  1%|          | 131/19904 [00:35<2:16:37,  2.41it/s]"
     ]
    },
    {
     "name": "stdout",
     "output_type": "stream",
     "text": [
      "result {'prec_3': [0.0012752061357369294], 'prec_30': [0.04586772228841011], 'prec_7': [0.0018506113058292721], 'precipitation': [0]}\n",
      "result {'landcover': [14], 'qa': [0]}\n",
      "result {'canopy_height': [5]}\n",
      "result {'aspect': [], 'elevation': [], 'slope': []}\n",
      "result {'B3': [19], 'B4': [72], 'B5': [79], 'B7': [38], 'ndbri': [0.30909091234207153], 'ndmi': [-0.046357616782188416], 'ndvi': [0.5824176073074341]}\n",
      "No S1 image for 2019-09-16\n"
     ]
    },
    {
     "name": "stderr",
     "output_type": "stream",
     "text": [
      "  1%|          | 134/19904 [00:35<1:21:23,  4.05it/s]"
     ]
    },
    {
     "name": "stdout",
     "output_type": "stream",
     "text": [
      "result {'prec_3': [0.0015220202265247222], 'prec_30': [0.046291116647995435], 'prec_7': [0.0009165234768237823], 'precipitation': [0]}\n",
      "result {'gldas_mean': [31.17854881286621], 'gldas_stddev': [2.7891483567887083], 'sm_1': [22.324262619018555], 'sm_3': [22.69353787104289], 'sm_30': [23.837714234987896], 'sm_7': [23.451403515679495]}\n",
      "result {'aspect': [], 'elevation': [], 'slope': []}\n",
      "result {'canopy_height': [5]}\n",
      "No S1 image for 2019-09-17\n",
      "No S1 image for 2019-09-19\n",
      "result {'B3': [19], 'B4': [72], 'B5': [79], 'B7': [38], 'ndbri': [0.30909091234207153], 'ndmi': [-0.046357616782188416], 'ndvi': [0.5824176073074341]}\n",
      "result {'landcover': [14], 'qa': [0]}\n",
      "No S1 image for 2019-09-20\n",
      "Processing get_s1_image\n",
      "Processing get_gldas\n",
      "Processing get_gpm\n",
      "Processing get_srtm\n",
      "Processing get_globcover\n"
     ]
    },
    {
     "name": "stderr",
     "output_type": "stream",
     "text": [
      "  1%|          | 136/19904 [00:35<1:03:52,  5.16it/s]"
     ]
    },
    {
     "name": "stdout",
     "output_type": "stream",
     "text": [
      "No S1 image for 2019-09-18\n",
      "Processing get_gedi\n",
      "result {'LIA': [38.72930133338766], 'VH': [-14.607100818034153], 'VV': [-7.042462869700747], 'VVVH_ratio': [0.16296784343045775], 'angle': [38.269447326660156], 'layover': [1], 'no_data_mask': [1], 'shadow': [1]}\n",
      "Processing get_hansen\n",
      "result {'LIA': [36.38982073666553], 'VH': [-13.06311199339795], 'VV': [-6.771516315803403], 'VVVH_ratio': [0.16090874359302013], 'angle': [36.646427154541016], 'layover': [1], 'no_data_mask': [1], 'shadow': [1]}\n",
      "result {'gldas_mean': [31.17854881286621], 'gldas_stddev': [2.7891483567887083], 'sm_1': [22.048961639404297], 'sm_3': [22.36334792772929], 'sm_30': [23.751501154899596], 'sm_7': [23.08984044619969]}\n",
      "Processing get_s1_image\n",
      "Processing get_gldas\n",
      "Processing get_gpm\n",
      "Processing get_srtm\n",
      "Processing get_globcover\n",
      "Processing get_gedi\n",
      "Processing get_hansen\n"
     ]
    },
    {
     "name": "stderr",
     "output_type": "stream",
     "text": [
      "  1%|          | 140/19904 [00:37<1:32:35,  3.56it/s]"
     ]
    },
    {
     "name": "stdout",
     "output_type": "stream",
     "text": [
      "No S1 image for 2019-09-24\n",
      "No S1 image for 2019-09-23\n",
      "No S1 image for 2019-09-25\n"
     ]
    },
    {
     "name": "stderr",
     "output_type": "stream",
     "text": [
      "  1%|          | 142/19904 [00:37<1:14:17,  4.43it/s]"
     ]
    },
    {
     "name": "stdout",
     "output_type": "stream",
     "text": [
      "result {'aspect': [], 'elevation': [], 'slope': []}\n",
      "result {'landcover': [14], 'qa': [0]}\n",
      "result {'B3': [19], 'B4': [72], 'B5': [79], 'B7': [38], 'ndbri': [0.30909091234207153], 'ndmi': [-0.046357616782188416], 'ndvi': [0.5824176073074341]}\n",
      "No S1 image for 2019-09-27\n",
      "result {'prec_3': [0], 'prec_30': [0.04619534530748542], 'prec_7': [0], 'precipitation': [0]}\n",
      "No S1 image for 2019-09-26\n"
     ]
    },
    {
     "name": "stderr",
     "output_type": "stream",
     "text": [
      "  1%|          | 144/19904 [00:38<1:03:05,  5.22it/s]"
     ]
    },
    {
     "name": "stdout",
     "output_type": "stream",
     "text": [
      "No S1 image for 2019-09-28\n",
      "result {'canopy_height': [5]}\n",
      "result {'gldas_mean': [31.17854881286621], 'gldas_stddev': [2.7891483567887083], 'sm_1': [19.88330841064453], 'sm_3': [20.0433345635732], 'sm_30': [22.864750878016153], 'sm_7': [20.50819662639073]}\n",
      "result {'LIA': [38.73153640189353], 'VH': [-14.315780176136974], 'VV': [-8.001607833249597], 'VVVH_ratio': [0.12141188481066369], 'angle': [38.27168273925781], 'layover': [1], 'no_data_mask': [1], 'shadow': [1]}\n",
      "result {'aspect': [], 'elevation': [], 'slope': []}\n",
      "result {'landcover': [14], 'qa': [0]}\n",
      "result {'canopy_height': [5]}\n",
      "result {'B3': [19], 'B4': [72], 'B5': [79], 'B7': [38], 'ndbri': [0.30909091234207153], 'ndmi': [-0.046357616782188416], 'ndvi': [0.5824176073074341]}\n",
      "result {'prec_3': [0], 'prec_30': [0.046481384597315045], 'prec_7': [0], 'precipitation': [0]}\n"
     ]
    },
    {
     "name": "stderr",
     "output_type": "stream",
     "text": [
      "  1%|          | 147/19904 [00:38<1:00:03,  5.48it/s]"
     ]
    },
    {
     "name": "stdout",
     "output_type": "stream",
     "text": [
      "result {'LIA': [35.32846846906851], 'VH': [-13.62638500479262], 'VV': [-7.340019748374624], 'VVVH_ratio': [0.14111351536136646], 'angle': [36.643577575683594], 'layover': [1], 'no_data_mask': [1], 'shadow': [1]}\n",
      "No S1 image for 2019-09-30\n",
      "No S1 image for 2019-09-29\n",
      "result {'gldas_mean': [31.17854881286621], 'gldas_stddev': [2.7891483567887083], 'sm_1': [19.655250549316406], 'sm_3': [19.85668690999349], 'sm_30': [22.788601032892863], 'sm_7': [20.293160949434554]}\n",
      "ProcessingProcessing get_gldas\n",
      " get_s1_image\n",
      "Processing get_gpm\n",
      "Processing get_srtm\n",
      "Processing get_globcover\n",
      "Processing get_gedi\n",
      "Processing get_hansen\n",
      "Processing get_s1_image\n",
      "Processing get_gldas\n",
      "Processing get_gpm\n",
      "Processing get_srtm\n",
      "Processing get_globcover\n",
      "Processing get_gedi\n",
      "Processing get_hansen\n"
     ]
    },
    {
     "name": "stderr",
     "output_type": "stream",
     "text": [
      "  1%|          | 148/19904 [00:38<1:10:55,  4.64it/s]"
     ]
    },
    {
     "name": "stdout",
     "output_type": "stream",
     "text": [
      "No S1 image for 2019-10-01\n",
      "No S1 image for 2019-10-05\n",
      "No S1 image for 2019-10-02\n"
     ]
    },
    {
     "name": "stderr",
     "output_type": "stream",
     "text": [
      "  1%|          | 153/19904 [00:39<50:18,  6.54it/s]  "
     ]
    },
    {
     "name": "stdout",
     "output_type": "stream",
     "text": [
      "No S1 image for 2019-10-07\n",
      "No S1 image for 2019-10-06\n",
      "No S1 image for 2019-10-08\n",
      "result {'aspect': [], 'elevation': [], 'slope': []}\n",
      "result {'prec_3': [0.012588399274082965], 'prec_30': [0.058071659241845326], 'prec_7': [0.10492139417115917], 'precipitation': [0.025943535298574717]}\n",
      "result {'B3': [19], 'B4': [72], 'B5': [79], 'B7': [38], 'ndbri': [0.30909091234207153], 'ndmi': [-0.046357616782188416], 'ndvi': [0.5824176073074341]}\n",
      "result {'landcover': [14], 'qa': [0]}\n",
      "result {'canopy_height': [5]}\n",
      "result {'landcover': [14], 'qa': [0]}\n"
     ]
    },
    {
     "name": "stderr",
     "output_type": "stream",
     "text": [
      "  1%|          | 156/19904 [00:41<1:34:58,  3.47it/s]"
     ]
    },
    {
     "name": "stdout",
     "output_type": "stream",
     "text": [
      "result {'gldas_mean': [31.17854881286621], 'gldas_stddev': [2.7891483567887083], 'sm_1': [27.18453025817871], 'sm_3': [26.595088402430218], 'sm_30': [22.86524107456207], 'sm_7': [26.822571175439016]}\n",
      "result {'B3': [19], 'B4': [72], 'B5': [79], 'B7': [38], 'ndbri': [0.30909091234207153], 'ndmi': [-0.046357616782188416], 'ndvi': [0.5824176073074341]}\n",
      "No S1 image for 2019-10-09\n",
      "result {'canopy_height': [5]}\n",
      "result {'prec_3': [0.21737595065820237], 'prec_30': [0.08041475755762252], 'prec_7': [0.1908945212300575], 'precipitation': [0.6164607206980387]}\n",
      "No S1 image for 2019-10-11\n",
      "No S1 image for 2019-10-10\n"
     ]
    },
    {
     "name": "stderr",
     "output_type": "stream",
     "text": [
      "  1%|          | 159/19904 [00:41<59:33,  5.53it/s]  "
     ]
    },
    {
     "name": "stdout",
     "output_type": "stream",
     "text": [
      "result {'LIA': [38.91053961310551], 'VH': [-11.610898840639836], 'VV': [-8.61960476479785], 'VVVH_ratio': [0.06840700644813846], 'angle': [38.249717712402344], 'layover': [1], 'no_data_mask': [1], 'shadow': [1]}\n",
      "result {'aspect': [], 'elevation': [], 'slope': []}\n",
      "No S1 image for 2019-10-12\n",
      "No S1 image for 2019-10-13\n",
      "result {'gldas_mean': [31.17854881286621], 'gldas_stddev': [2.7891483567887083], 'sm_1': [29.37063217163086], 'sm_3': [27.341994682947796], 'sm_30': [23.055994470914204], 'sm_7': [27.723041704722814]}\n",
      "No S1 image for 2019-10-14\n",
      "result {'LIA': [36.38858548837851], 'VH': [-12.044926983682068], 'VV': [-6.933316059775879], 'VVVH_ratio': [0.14016712222505345], 'angle': [36.645164489746094], 'layover': [1], 'no_data_mask': [1], 'shadow': [1]}\n",
      "ProcessingProcessing get_gldas\n",
      " get_s1_image\n",
      "Processing get_gpm\n",
      "Processing get_srtm\n",
      "Processing get_globcover\n",
      "Processing get_gedi\n",
      "Processing get_hansen\n"
     ]
    },
    {
     "name": "stderr",
     "output_type": "stream",
     "text": [
      "  1%|          | 164/19904 [00:42<1:08:41,  4.79it/s]"
     ]
    },
    {
     "name": "stdout",
     "output_type": "stream",
     "text": [
      "No S1 image for 2019-10-18\n",
      "No S1 image for 2019-10-17\n",
      "No S1 image for 2019-10-26\n",
      "Processing get_s1_image\n",
      "Processing get_gldas\n",
      "No S1 image for 2019-10-29\n",
      "Processing get_gpm\n",
      "Processing get_srtm\n",
      "Processing get_globcover\n",
      "Processing get_gedi\n",
      "Processing get_hansen\n",
      "Processing get_s1_image\n",
      "Processing get_gldas\n",
      "Processing get_gpm\n",
      "Processing get_srtm\n",
      "Processing get_globcover\n",
      "Processing get_gedi\n",
      "Processing get_hansen\n",
      "Processing get_s1_image\n",
      "Processing get_gldas\n",
      "Processing get_gpm\n",
      "Processing get_srtm\n",
      "Processing get_globcover\n",
      "Processing get_gedi\n",
      "Processing get_hansen\n",
      "result {'prec_3': [0.08010218658091617], 'prec_30': [0.12194599625919415], 'prec_7': [0.03969544167538468], 'precipitation': [0.0071527824038639665]}\n",
      "result {'canopy_height': [5]}\n",
      "result {'landcover': [14], 'qa': [0]}\n",
      "result {'B3': [19], 'B4': [72], 'B5': [79], 'B7': [38], 'ndbri': [0.30909091234207153], 'ndmi': [-0.046357616782188416], 'ndvi': [0.5824176073074341]}\n",
      "result {'gldas_mean': [31.17854881286621], 'gldas_stddev': [2.7891483567887083], 'sm_1': [26.219860076904297], 'sm_3': [27.001682202021282], 'sm_30': [25.18218731880188], 'sm_7': [28.18479916027614]}\n",
      "result {'aspect': [], 'elevation': [], 'slope': []}\n"
     ]
    },
    {
     "name": "stderr",
     "output_type": "stream",
     "text": [
      "  1%|          | 166/19904 [00:45<2:35:53,  2.11it/s]"
     ]
    },
    {
     "name": "stdout",
     "output_type": "stream",
     "text": [
      "No S1 image for 2019-10-30\n"
     ]
    },
    {
     "name": "stderr",
     "output_type": "stream",
     "text": [
      "  1%|          | 167/19904 [00:45<2:23:10,  2.30it/s]"
     ]
    },
    {
     "name": "stdout",
     "output_type": "stream",
     "text": [
      "No S1 image for 2019-10-31\n",
      "result {'prec_3': [0.17799527570605278], 'prec_30': [0.21121758396856466], 'prec_7': [0.33847520489927746], 'precipitation': [0.08150457746038835]}\n"
     ]
    },
    {
     "name": "stderr",
     "output_type": "stream",
     "text": [
      "  1%|          | 168/19904 [00:45<2:19:02,  2.37it/s]"
     ]
    },
    {
     "name": "stdout",
     "output_type": "stream",
     "text": [
      "result {'canopy_height': [5]}\n",
      "result {'landcover': [14], 'qa': [0]}\n",
      "result {'prec_3': [0.30050025494503124], 'prec_30': [0.21511051254752497], 'prec_7': [0.3043320202894175], 'precipitation': [0.34754249453544617]}\n",
      "No S1 image for 2019-11-01\n",
      "result {'aspect': [], 'elevation': [], 'slope': []}\n",
      "result {'B3': [19], 'B4': [72], 'B5': [79], 'B7': [38], 'ndbri': [0.30909091234207153], 'ndmi': [-0.046357616782188416], 'ndvi': [0.5824176073074341]}\n",
      "result {'aspect': [], 'elevation': [], 'slope': []}\n",
      "result {'landcover': [14], 'qa': [0]}\n",
      "result {'aspect': [], 'elevation': [], 'slope': []}\n",
      "result {'landcover': [14], 'qa': [0]}\n",
      "result {'B3': [19], 'B4': [72], 'B5': [79], 'B7': [38], 'ndbri': [0.30909091234207153], 'ndmi': [-0.046357616782188416], 'ndvi': [0.5824176073074341]}\n",
      "result {'canopy_height': [5]}\n",
      "result {'LIA': [37.35087490471398], 'VH': [-14.73801406109602], 'VV': [-7.208307795245949], 'VVVH_ratio': [0.156592799381306], 'angle': [38.27027130126953], 'layover': [1], 'no_data_mask': [1], 'shadow': [1]}\n",
      "result {'B3': [19], 'B4': [72], 'B5': [79], 'B7': [38], 'ndbri': [0.30909091234207153], 'ndmi': [-0.046357616782188416], 'ndvi': [0.5824176073074341]}\n"
     ]
    },
    {
     "name": "stderr",
     "output_type": "stream",
     "text": [
      "  1%|          | 169/19904 [00:45<2:12:57,  2.47it/s]"
     ]
    },
    {
     "name": "stdout",
     "output_type": "stream",
     "text": [
      "result {'gldas_mean': [31.17854881286621], 'gldas_stddev': [2.7891483567887083], 'sm_1': [30.74300193786621], 'sm_3': [30.63397757212321], 'sm_30': [28.836037437121075], 'sm_7': [30.037286724363053]}\n",
      "result {'prec_3': [0.028555822816225842], 'prec_30': [0.12122932273736556], 'prec_7': [0.03625942790981005], 'precipitation': [0.00023766839876770973]}\n",
      "result {'LIA': [35.3301916876294], 'VH': [-12.326690288767551], 'VV': [-5.858563917353318], 'VVVH_ratio': [0.2009801405701358], 'angle': [36.645294189453125], 'layover': [1], 'no_data_mask': [1], 'shadow': [1]}\n",
      "result {'canopy_height': [5]}\n",
      "result {'gldas_mean': [31.17854881286621], 'gldas_stddev': [2.7891483567887083], 'sm_1': [29.765880584716797], 'sm_3': [29.81999659538269], 'sm_30': [28.68081679344177], 'sm_7': [30.03306027821132]}\n",
      "result {'LIA': [35.32683783598247], 'VH': [-13.292542509984298], 'VV': [-6.521676674503908], 'VVVH_ratio': [0.17590359836332664], 'angle': [36.642005920410156], 'layover': [1], 'no_data_mask': [1], 'shadow': [1]}\n",
      "result {'gldas_mean': [31.17854881286621], 'gldas_stddev': [2.7891483567887083], 'sm_1': [25.958906173706055], 'sm_3': [26.438852945963543], 'sm_30': [25.34986395041148], 'sm_7': [27.470577682767594]}\n"
     ]
    },
    {
     "name": "stderr",
     "output_type": "stream",
     "text": [
      "  1%|          | 172/19904 [00:46<1:21:18,  4.05it/s]"
     ]
    },
    {
     "name": "stdout",
     "output_type": "stream",
     "text": [
      "No S1 image for 2019-11-03\n",
      "No S1 image for 2019-11-04\n",
      "No S1 image for 2019-11-02\n"
     ]
    },
    {
     "name": "stderr",
     "output_type": "stream",
     "text": [
      "  1%|          | 175/19904 [00:46<1:04:08,  5.13it/s]"
     ]
    },
    {
     "name": "stdout",
     "output_type": "stream",
     "text": [
      "No S1 image for 2019-11-05\n"
     ]
    },
    {
     "name": "stderr",
     "output_type": "stream",
     "text": [
      "  1%|          | 176/19904 [00:47<1:20:17,  4.10it/s]"
     ]
    },
    {
     "name": "stdout",
     "output_type": "stream",
     "text": [
      "No S1 image for 2019-11-07\n",
      "Processing get_s1_image\n",
      "Processing get_gldas\n",
      "Processing get_gpm\n",
      "Processing get_srtm\n",
      "Processing get_globcover\n",
      "Processing get_gedi\n",
      "Processing get_hansen\n"
     ]
    },
    {
     "name": "stderr",
     "output_type": "stream",
     "text": [
      "  1%|          | 177/19904 [00:47<1:36:50,  3.39it/s]"
     ]
    },
    {
     "name": "stdout",
     "output_type": "stream",
     "text": [
      "No S1 image for 2019-11-10\n",
      "Processing get_s1_image\n",
      "No S1 image for 2019-11-12\n",
      "Processing get_gldas\n",
      "Processing get_gpm\n",
      "Processing get_srtm\n",
      "Processing get_globcover\n",
      "Processing get_gedi\n",
      "Processing get_hansen\n"
     ]
    },
    {
     "name": "stderr",
     "output_type": "stream",
     "text": [
      "  1%|          | 179/19904 [00:47<1:26:12,  3.81it/s]"
     ]
    },
    {
     "name": "stdout",
     "output_type": "stream",
     "text": [
      "No S1 image for 2019-11-06\n",
      "No S1 image for 2019-11-13\n"
     ]
    },
    {
     "name": "stderr",
     "output_type": "stream",
     "text": [
      "  1%|          | 181/19904 [00:48<1:48:47,  3.02it/s]"
     ]
    },
    {
     "name": "stdout",
     "output_type": "stream",
     "text": [
      "result {'LIA': [38.73131139871955], 'VH': [-14.47692594607947], 'VV': [-7.56108155245872], 'VVVH_ratio': [0.1396740247183424], 'angle': [38.27145767211914], 'layover': [1], 'no_data_mask': [1], 'shadow': [1]}\n",
      "result {'prec_3': [0.10583142518545642], 'prec_30': [0.25344646419576494], 'prec_7': [0.1451763126593954], 'precipitation': [0]}\n",
      "result {'aspect': [], 'elevation': [], 'slope': []}\n",
      "result {'gldas_mean': [31.17854881286621], 'gldas_stddev': [2.7891483567887083], 'sm_1': [30.003793716430664], 'sm_3': [30.703750928243], 'sm_30': [29.650555078188578], 'sm_7': [30.184501477650233]}\n",
      "result {'B3': [19], 'B4': [72], 'B5': [79], 'B7': [38], 'ndbri': [0.30909091234207153], 'ndmi': [-0.046357616782188416], 'ndvi': [0.5824176073074341]}\n",
      "result {'canopy_height': [5]}\n",
      "result {'LIA': [38.73006256848406], 'VH': [-15.528327491322534], 'VV': [-8.22389382200645], 'VVVH_ratio': [0.12252509251731492], 'angle': [38.27021026611328], 'layover': [1], 'no_data_mask': [1], 'shadow': [1]}\n"
     ]
    },
    {
     "name": "stderr",
     "output_type": "stream",
     "text": [
      "  1%|          | 183/19904 [00:49<1:51:04,  2.96it/s]"
     ]
    },
    {
     "name": "stdout",
     "output_type": "stream",
     "text": [
      "No S1 image for 2019-11-14\n",
      "result {'prec_3': [0.05737873603557718], 'prec_30': [0.2607501112064778], 'prec_7': [0.1374172679626371], 'precipitation': [0.1512712131847035]}\n",
      "result {'B3': [19], 'B4': [72], 'B5': [79], 'B7': [38], 'ndbri': [0.30909091234207153], 'ndmi': [-0.046357616782188416], 'ndvi': [0.5824176073074341]}\n",
      "result {'aspect': [], 'elevation': [], 'slope': []}\n",
      "No S1 image for 2019-11-15\n",
      "result {'canopy_height': [5]}\n",
      "result {'landcover': [14], 'qa': [0]}\n"
     ]
    },
    {
     "name": "stderr",
     "output_type": "stream",
     "text": [
      "  1%|          | 184/19904 [00:49<1:33:23,  3.52it/s]"
     ]
    },
    {
     "name": "stdout",
     "output_type": "stream",
     "text": [
      "No S1 image for 2019-11-17\n",
      "result {'LIA': [36.385310739954974], 'VH': [-13.874702155391606], 'VV': [-6.77611705583549], 'VVVH_ratio': [0.1691057134213674], 'angle': [36.642032623291016], 'layover': [1], 'no_data_mask': [1], 'shadow': [1]}\n"
     ]
    },
    {
     "name": "stderr",
     "output_type": "stream",
     "text": [
      "  1%|          | 185/19904 [00:50<1:29:22,  3.68it/s]"
     ]
    },
    {
     "name": "stdout",
     "output_type": "stream",
     "text": [
      "No S1 image for 2019-11-18\n"
     ]
    },
    {
     "name": "stderr",
     "output_type": "stream",
     "text": [
      "  1%|          | 187/19904 [00:50<1:11:35,  4.59it/s]"
     ]
    },
    {
     "name": "stdout",
     "output_type": "stream",
     "text": [
      "No S1 image for 2019-11-16\n",
      "result {'landcover': [14], 'qa': [0]}\n"
     ]
    },
    {
     "name": "stderr",
     "output_type": "stream",
     "text": [
      "  1%|          | 188/19904 [00:50<1:10:39,  4.65it/s]"
     ]
    },
    {
     "name": "stdout",
     "output_type": "stream",
     "text": [
      "No S1 image for 2019-11-19\n"
     ]
    },
    {
     "name": "stderr",
     "output_type": "stream",
     "text": [
      "  1%|          | 189/19904 [00:50<1:22:12,  4.00it/s]"
     ]
    },
    {
     "name": "stdout",
     "output_type": "stream",
     "text": [
      "ProcessingProcessing get_gldas\n",
      " get_s1_image\n",
      "Processing get_gpm\n",
      "Processing get_srtm\n",
      "Processing get_globcover\n",
      "result {'gldas_mean': [31.17854881286621], 'gldas_stddev': [2.7891483567887083], 'sm_1': [29.399333953857422], 'sm_3': [30.14807931582133], 'sm_30': [29.675436568260192], 'sm_7': [30.1169171333313]}\n",
      "Processing get_gedi\n",
      "Processing get_hansen\n",
      "No S1 image for 2019-11-22\n",
      "Processing get_s1_image\n",
      "Processing get_gldas\n"
     ]
    },
    {
     "name": "stderr",
     "output_type": "stream",
     "text": [
      "  1%|          | 191/19904 [00:51<1:04:31,  5.09it/s]"
     ]
    },
    {
     "name": "stdout",
     "output_type": "stream",
     "text": [
      "Processing get_gpm\n",
      "Processing get_srtm\n",
      "Processing get_globcover\n",
      "Processing get_gedi\n",
      "Processing get_hansen\n",
      "No S1 image for 2019-11-23\n",
      "No S1 image for 2019-11-24\n"
     ]
    },
    {
     "name": "stderr",
     "output_type": "stream",
     "text": [
      "  1%|          | 193/19904 [00:51<1:02:30,  5.26it/s]"
     ]
    },
    {
     "name": "stdout",
     "output_type": "stream",
     "text": [
      "No S1 image for 2019-11-25\n"
     ]
    },
    {
     "name": "stderr",
     "output_type": "stream",
     "text": [
      "  1%|          | 195/19904 [00:53<2:02:27,  2.68it/s]"
     ]
    },
    {
     "name": "stdout",
     "output_type": "stream",
     "text": [
      "No S1 image for 2019-11-11\n",
      "No S1 image for 2019-11-30\n"
     ]
    },
    {
     "name": "stderr",
     "output_type": "stream",
     "text": [
      "  1%|          | 197/19904 [00:53<1:28:59,  3.69it/s]"
     ]
    },
    {
     "name": "stdout",
     "output_type": "stream",
     "text": [
      "result {'landcover': [14], 'qa': [0]}\n",
      "No S1 image for 2019-11-27\n",
      "result {'gldas_mean': [31.17854881286621], 'gldas_stddev': [2.7891483567887083], 'sm_1': [32.25938415527344], 'sm_3': [31.085816780726116], 'sm_30': [30.18122123082479], 'sm_7': [30.422868251800537]}\n",
      "result {'aspect': [], 'elevation': [], 'slope': []}\n",
      "result {'canopy_height': [5]}\n",
      "result {'LIA': [36.385290872812625], 'VH': [-12.470943269662111], 'VV': [-5.940703472440103], 'VVVH_ratio': [0.1980301431557488], 'angle': [36.641990661621094], 'layover': [1], 'no_data_mask': [1], 'shadow': [1]}\n",
      "result {'prec_3': [0.10910322241515162], 'prec_30': [0.22761176114609544], 'prec_7': [0.09521063794828441], 'precipitation': [0.16526452537315586]}\n",
      "result {'landcover': [14], 'qa': [0]}\n",
      "No S1 image for 2019-11-28\n",
      "result {'B3': [19], 'B4': [72], 'B5': [79], 'B7': [38], 'ndbri': [0.30909091234207153], 'ndmi': [-0.046357616782188416], 'ndvi': [0.5824176073074341]}\n",
      "No S1 image for 2019-11-29\n",
      "result {'canopy_height': [5]}\n",
      "No S1 image for 2019-11-26\n",
      "result {'aspect': [], 'elevation': [], 'slope': []}\n"
     ]
    },
    {
     "name": "stderr",
     "output_type": "stream",
     "text": [
      "  1%|          | 200/19904 [00:53<1:07:55,  4.84it/s]"
     ]
    },
    {
     "name": "stdout",
     "output_type": "stream",
     "text": [
      "result {'gldas_mean': [31.17854881286621], 'gldas_stddev': [2.7891483567887083], 'sm_1': [32.16524887084961], 'sm_3': [29.565671761830647], 'sm_30': [30.12009920279185], 'sm_7': [30.008027042661393]}\n",
      "result {'LIA': [37.35201807849496], 'VH': [-12.710422594147817], 'VV': [-6.040621331790809], 'VVVH_ratio': [0.19527567466971246], 'angle': [38.27141189575195], 'layover': [1], 'no_data_mask': [1], 'shadow': [1]}\n",
      "ProcessingProcessing get_gldas\n",
      " get_s1_image\n",
      "Processing get_gpm\n",
      "Processing get_srtm\n",
      "Processing get_globcover\n",
      "Processing get_gedi\n",
      "Processing get_hansen\n",
      "Processing get_s1_image\n",
      "Processing get_gldas\n",
      "Processing get_gpm\n",
      "Processing get_srtm\n",
      "Processing get_globcover\n",
      "Processing get_gedi\n",
      "Processing get_hansen\n"
     ]
    },
    {
     "name": "stderr",
     "output_type": "stream",
     "text": [
      "  1%|          | 201/19904 [00:54<1:39:39,  3.30it/s]"
     ]
    },
    {
     "name": "stdout",
     "output_type": "stream",
     "text": [
      "No S1 image for 2019-12-04\n",
      "No S1 image for 2019-12-05\n",
      "No S1 image for 2019-12-06\n"
     ]
    },
    {
     "name": "stderr",
     "output_type": "stream",
     "text": [
      "  1%|          | 204/19904 [00:54<1:05:54,  4.98it/s]"
     ]
    },
    {
     "name": "stdout",
     "output_type": "stream",
     "text": [
      "No S1 image for 2019-12-11\n",
      "result {'B3': [19], 'B4': [72], 'B5': [79], 'B7': [38], 'ndbri': [0.30909091234207153], 'ndmi': [-0.046357616782188416], 'ndvi': [0.5824176073074341]}\n",
      "result {'aspect': [], 'elevation': [], 'slope': []}\n",
      "result {'prec_3': [1.0129845560424857], 'prec_30': [0.25599535491625075], 'prec_7': [0.48086444739781226], 'precipitation': [2.5289673124040877]}\n",
      "result {'canopy_height': [5]}\n",
      "result {'gldas_mean': [31.17854881286621], 'gldas_stddev': [2.7891483567887083], 'sm_1': [32.30766677856445], 'sm_3': [31.865360101064045], 'sm_30': [30.56142327785492], 'sm_7': [30.977356365748815]}\n",
      "result {'landcover': [14], 'qa': [0]}\n"
     ]
    },
    {
     "name": "stderr",
     "output_type": "stream",
     "text": [
      "  1%|          | 205/19904 [00:56<2:40:06,  2.05it/s]"
     ]
    },
    {
     "name": "stdout",
     "output_type": "stream",
     "text": [
      "result {'aspect': [], 'elevation': [], 'slope': []}\n",
      "result {'landcover': [14], 'qa': [0]}\n",
      "result {'LIA': [36.38548191681045], 'VH': [-11.872323623549455], 'VV': [-5.870152048556139], 'VVVH_ratio': [0.19383403603488958], 'angle': [36.642173767089844], 'layover': [1], 'no_data_mask': [1], 'shadow': [1]}\n",
      "result {'B3': [19], 'B4': [72], 'B5': [79], 'B7': [38], 'ndbri': [0.30909091234207153], 'ndmi': [-0.046357616782188416], 'ndvi': [0.5824176073074341]}\n",
      "No S1 image for 2019-12-13\n",
      "Processing get_s1_image\n",
      "result {'canopy_height': [5]}\n",
      "Processing get_gldas\n",
      "Processing get_gpm\n",
      "No S1 image for 2019-12-12\n",
      "Processing get_srtm\n",
      "Processing get_globcover\n",
      "Processing get_gedi\n",
      "Processing get_hansen\n",
      "Processing get_s1_image\n",
      "result {'gldas_mean': [31.17854881286621], 'gldas_stddev': [2.7891483567887083], 'sm_1': [33.85939407348633], 'sm_3': [32.22891251246134], 'sm_30': [30.648570879300436], 'sm_7': [31.247984613691056]}\n",
      "Processing get_gldas\n",
      "Processing get_gpm\n",
      "Processing get_srtm\n",
      "Processing get_globcover\n",
      "Processing get_gedi\n",
      "Processing get_hansen\n"
     ]
    },
    {
     "name": "stderr",
     "output_type": "stream",
     "text": [
      "  1%|          | 207/19904 [00:57<2:24:41,  2.27it/s]"
     ]
    },
    {
     "name": "stdout",
     "output_type": "stream",
     "text": [
      "No S1 image for 2019-12-01\n"
     ]
    },
    {
     "name": "stderr",
     "output_type": "stream",
     "text": [
      "  1%|          | 208/19904 [00:58<3:02:36,  1.80it/s]"
     ]
    },
    {
     "name": "stdout",
     "output_type": "stream",
     "text": [
      "No S1 image for 2019-12-16\n",
      "result {'landcover': [14], 'qa': [0]}\n",
      "result {'aspect': [], 'elevation': [], 'slope': []}\n",
      "result {'canopy_height': [5]}\n",
      "result {'canopy_height': [5]}\n",
      "result {'B3': [19], 'B4': [72], 'B5': [79], 'B7': [38], 'ndbri': [0.30909091234207153], 'ndmi': [-0.046357616782188416], 'ndvi': [0.5824176073074341]}\n",
      "result {'aspect': [], 'elevation': [], 'slope': []}\n",
      "result {'landcover': [14], 'qa': [0]}\n",
      "result {'B3': [19], 'B4': [72], 'B5': [79], 'B7': [38], 'ndbri': [0.30909091234207153], 'ndmi': [-0.046357616782188416], 'ndvi': [0.5824176073074341]}\n"
     ]
    },
    {
     "name": "stderr",
     "output_type": "stream",
     "text": [
      "  1%|          | 209/19904 [00:58<3:12:56,  1.70it/s]"
     ]
    },
    {
     "name": "stdout",
     "output_type": "stream",
     "text": [
      "No S1 image for 2019-12-18\n"
     ]
    },
    {
     "name": "stderr",
     "output_type": "stream",
     "text": [
      "  1%|          | 210/19904 [00:59<2:48:01,  1.95it/s]"
     ]
    },
    {
     "name": "stdout",
     "output_type": "stream",
     "text": [
      "No S1 image for 2019-12-19\n"
     ]
    },
    {
     "name": "stderr",
     "output_type": "stream",
     "text": [
      "  1%|          | 211/19904 [00:59<2:42:27,  2.02it/s]"
     ]
    },
    {
     "name": "stdout",
     "output_type": "stream",
     "text": [
      "No S1 image for 2019-12-21\n",
      "result {'LIA': [38.73606064920096], 'VH': [-13.642908669525195], 'VV': [-8.47864458819121], 'VVVH_ratio': [0.0987276218060977], 'angle': [38.276214599609375], 'layover': [1], 'no_data_mask': [1], 'shadow': [1]}\n"
     ]
    },
    {
     "name": "stderr",
     "output_type": "stream",
     "text": [
      "  1%|          | 212/19904 [00:59<2:26:45,  2.24it/s]"
     ]
    },
    {
     "name": "stdout",
     "output_type": "stream",
     "text": [
      "No S1 image for 2019-12-20\n"
     ]
    },
    {
     "name": "stderr",
     "output_type": "stream",
     "text": [
      "  1%|          | 214/19904 [01:00<2:19:50,  2.35it/s]"
     ]
    },
    {
     "name": "stdout",
     "output_type": "stream",
     "text": [
      "No S1 image for 2019-12-22\n",
      "No S1 image for 2019-12-23\n"
     ]
    },
    {
     "name": "stderr",
     "output_type": "stream",
     "text": [
      "  1%|          | 215/19904 [01:01<2:50:51,  1.92it/s]"
     ]
    },
    {
     "name": "stdout",
     "output_type": "stream",
     "text": [
      "result {'LIA': [37.35239202541393], 'VH': [-14.880870647889894], 'VV': [-7.980113995557988], 'VVVH_ratio': [0.1267144802253851], 'angle': [38.271785736083984], 'layover': [1], 'no_data_mask': [1], 'shadow': [1]}\n",
      "No S1 image for 2019-12-24\n"
     ]
    },
    {
     "name": "stderr",
     "output_type": "stream",
     "text": [
      "  1%|          | 216/19904 [01:01<2:19:28,  2.35it/s]"
     ]
    },
    {
     "name": "stdout",
     "output_type": "stream",
     "text": [
      "No S1 image for 2019-12-25\n",
      "result {'LIA': [35.327838670922844], 'VH': [-12.13107436522256], 'VV': [-6.489634847022787], 'VVVH_ratio': [0.16318716702062078], 'angle': [36.64299774169922], 'layover': [1], 'no_data_mask': [1], 'shadow': [1]}\n",
      "ProcessingProcessing get_gldas\n",
      " get_s1_image\n",
      "Processing get_gpm\n",
      "Processing get_srtm\n",
      "result {'prec_3': [0.6382868300788687], 'prec_30': [0.43642402993649376], 'prec_7': [0.5573855278327957], 'precipitation': [1.3893400904937432]}\n",
      "Processing get_globcover\n",
      "Processing get_gedi\n",
      "Processing get_hansen\n",
      "Processing get_s1_image\n",
      "Processing get_gldas\n",
      "Processing get_gpm\n",
      "Processing get_srtm\n",
      "Processing get_globcover\n",
      "Processing get_gedi\n",
      "Processing get_hansen\n"
     ]
    },
    {
     "name": "stderr",
     "output_type": "stream",
     "text": [
      "  1%|          | 217/19904 [01:04<5:34:29,  1.02s/it]"
     ]
    },
    {
     "name": "stdout",
     "output_type": "stream",
     "text": [
      "No S1 image for 2019-12-17\n",
      "result {'aspect': [], 'elevation': [], 'slope': []}\n",
      "result {'landcover': [14], 'qa': [0]}\n",
      "result {'B3': [19], 'B4': [72], 'B5': [79], 'B7': [38], 'ndbri': [0.30909091234207153], 'ndmi': [-0.046357616782188416], 'ndvi': [0.5824176073074341]}\n",
      "result {'canopy_height': [5]}\n",
      "result {'canopy_height': [5]}\n",
      "result {'landcover': [14], 'qa': [0]}\n",
      "result {'aspect': [], 'elevation': [], 'slope': []}\n",
      "result {'B3': [19], 'B4': [72], 'B5': [79], 'B7': [38], 'ndbri': [0.30909091234207153], 'ndmi': [-0.046357616782188416], 'ndvi': [0.5824176073074341]}\n"
     ]
    },
    {
     "name": "stderr",
     "output_type": "stream",
     "text": [
      "  1%|          | 218/19904 [01:05<5:28:07,  1.00s/it]"
     ]
    },
    {
     "name": "stdout",
     "output_type": "stream",
     "text": [
      "No S1 image for 2019-12-28\n"
     ]
    },
    {
     "name": "stderr",
     "output_type": "stream",
     "text": [
      "  1%|          | 219/19904 [01:05<4:47:24,  1.14it/s]"
     ]
    },
    {
     "name": "stdout",
     "output_type": "stream",
     "text": [
      "result {'B3': [19], 'B4': [72], 'B5': [79], 'B7': [38], 'ndbri': [0.30909091234207153], 'ndmi': [-0.046357616782188416], 'ndvi': [0.5824176073074341]}\n",
      "result {'prec_3': [1.0350004103353345], 'prec_30': [0.26520749723395476], 'prec_7': [0.5151218917467687], 'precipitation': [0.2803195156489632]}\n",
      "result {'prec_3': [0.38701108541666857], 'prec_30': [0.22048542107698513], 'prec_7': [0.2013170826726426], 'precipitation': [0.7273885998874903]}\n",
      "ProcessingProcessing get_gldas\n",
      " get_s1_image\n",
      "Processing get_gpm\n",
      "Processing get_srtm\n",
      "Processing get_globcover\n",
      "Processing get_gedi\n",
      "Processing get_hansen\n"
     ]
    },
    {
     "name": "stderr",
     "output_type": "stream",
     "text": [
      "  1%|          | 222/19904 [01:06<3:12:42,  1.70it/s]"
     ]
    },
    {
     "name": "stdout",
     "output_type": "stream",
     "text": [
      "No S1 image for 2020-01-13\n",
      "No S1 image for 2020-01-14\n",
      "No S1 image for 2020-01-09\n",
      "result {'landcover': [14], 'qa': [0]}\n",
      "result {'canopy_height': [5]}\n",
      "result {'aspect': [], 'elevation': [], 'slope': []}\n"
     ]
    },
    {
     "name": "stderr",
     "output_type": "stream",
     "text": [
      "  1%|          | 225/19904 [01:07<2:36:52,  2.09it/s]"
     ]
    },
    {
     "name": "stdout",
     "output_type": "stream",
     "text": [
      "result {'B3': [19], 'B4': [77], 'B5': [77], 'B7': [35], 'ndbri': [0.375], 'ndmi': [0], 'ndvi': [0.6041666865348816]}\n",
      "No S1 image for 2020-01-15\n",
      "No S1 image for 2020-01-16\n",
      "No S1 image for 2020-01-17\n",
      "result {'LIA': [35.32818707950759], 'VH': [-11.677452366262207], 'VV': [-6.053950114441054], 'VVVH_ratio': [0.18012734245897435], 'angle': [36.64335250854492], 'layover': [1], 'no_data_mask': [1], 'shadow': [1]}\n",
      "result {'LIA': [38.735645358397036], 'VH': [-14.927343901938796], 'VV': [-6.173744356786885], 'VVVH_ratio': [0.20918165360613727], 'angle': [38.27579879760742], 'layover': [1], 'no_data_mask': [1], 'shadow': [1]}\n"
     ]
    },
    {
     "name": "stderr",
     "output_type": "stream",
     "text": [
      "  1%|          | 228/19904 [01:08<2:21:03,  2.32it/s]"
     ]
    },
    {
     "name": "stdout",
     "output_type": "stream",
     "text": [
      "No S1 image for 2020-01-18\n",
      "Processing get_s1_image\n",
      "Processing get_gldas\n",
      "Processing get_gpm\n",
      "Processing get_srtm\n",
      "Processing get_globcover\n",
      "Processing get_gedi\n",
      "Processing get_hansen\n"
     ]
    },
    {
     "name": "stderr",
     "output_type": "stream",
     "text": [
      "  1%|          | 229/19904 [01:09<2:48:56,  1.94it/s]"
     ]
    },
    {
     "name": "stdout",
     "output_type": "stream",
     "text": [
      "Processing get_s1_image\n",
      "Processing get_gldas\n",
      "Processing get_gpm\n",
      "Processing get_srtm\n",
      "Processing get_globcover\n",
      "Processing get_gedi\n",
      "Processing get_hansen\n",
      "No S1 image for 2020-01-21\n",
      "result {'canopy_height': [5]}\n",
      "result {'B3': [19], 'B4': [77], 'B5': [77], 'B7': [35], 'ndbri': [0.375], 'ndmi': [0], 'ndvi': [0.6041666865348816]}\n",
      "result {'landcover': [14], 'qa': [0]}\n",
      "result {'aspect': [], 'elevation': [], 'slope': []}\n",
      "result {'LIA': [36.38726043888291], 'VH': [-10.034308616821566], 'VV': [-6.28154352097818], 'VVVH_ratio': [0.13620811564342755], 'angle': [36.64397048950195], 'layover': [1], 'no_data_mask': [1], 'shadow': [1]}\n"
     ]
    },
    {
     "name": "stderr",
     "output_type": "stream",
     "text": [
      "  1%|          | 230/19904 [01:11<3:46:35,  1.45it/s]"
     ]
    },
    {
     "name": "stdout",
     "output_type": "stream",
     "text": [
      "No S1 image for 2020-02-06\n",
      "result {'landcover': [14], 'qa': [0]}\n",
      "result {'canopy_height': [5]}\n",
      "result {'aspect': [], 'elevation': [], 'slope': []}\n",
      "result {'B3': [19], 'B4': [77], 'B5': [77], 'B7': [35], 'ndbri': [0.375], 'ndmi': [0], 'ndvi': [0.6041666865348816]}\n"
     ]
    },
    {
     "name": "stderr",
     "output_type": "stream",
     "text": [
      "  1%|          | 231/19904 [01:12<4:05:45,  1.33it/s]"
     ]
    },
    {
     "name": "stdout",
     "output_type": "stream",
     "text": [
      "result {'prec_3': [0.6061529840397484], 'prec_30': [0.43286581509996075], 'prec_7': [0.3984774185684384], 'precipitation': [0.01641581937049826]}\n",
      "No S1 image for 2020-02-07\n"
     ]
    },
    {
     "name": "stderr",
     "output_type": "stream",
     "text": [
      "  1%|          | 232/19904 [01:13<4:22:43,  1.25it/s]"
     ]
    },
    {
     "name": "stdout",
     "output_type": "stream",
     "text": [
      "No S1 image for 2020-02-08\n"
     ]
    },
    {
     "name": "stderr",
     "output_type": "stream",
     "text": [
      "  1%|          | 233/19904 [01:14<4:40:37,  1.17it/s]"
     ]
    },
    {
     "name": "stdout",
     "output_type": "stream",
     "text": [
      "No S1 image for 2020-02-09\n",
      "result {'LIA': [], 'VH': [], 'VV': [], 'VVVH_ratio': [], 'angle': [], 'layover': [], 'no_data_mask': [], 'shadow': []}\n"
     ]
    },
    {
     "name": "stderr",
     "output_type": "stream",
     "text": [
      "  1%|          | 234/19904 [01:15<4:44:59,  1.15it/s]"
     ]
    },
    {
     "name": "stdout",
     "output_type": "stream",
     "text": [
      "No S1 image for 2020-02-10\n"
     ]
    },
    {
     "name": "stderr",
     "output_type": "stream",
     "text": [
      "  1%|          | 235/19904 [01:16<5:00:05,  1.09it/s]"
     ]
    },
    {
     "name": "stdout",
     "output_type": "stream",
     "text": [
      "No S1 image for 2020-02-11\n",
      "Processing get_s1_image\n",
      "Processing get_gldas\n",
      "Processing get_gpm\n",
      "Processing get_srtm\n",
      "Processing get_globcover\n",
      "Processing get_gedi\n",
      "Processing get_hansen\n",
      "result {'aspect': [], 'elevation': [], 'slope': []}\n",
      "result {'B3': [19], 'B4': [77], 'B5': [77], 'B7': [35], 'ndbri': [0.375], 'ndmi': [0], 'ndvi': [0.6041666865348816]}\n",
      "result {'landcover': [14], 'qa': [0]}\n",
      "result {'canopy_height': [5]}\n",
      "result {'prec_3': [0.34910141391446814], 'prec_30': [0.4835317277346768], 'prec_7': [0.42260921106208116], 'precipitation': [0.7594961501084841]}\n",
      "result {'LIA': [], 'VH': [], 'VV': [], 'VVVH_ratio': [], 'angle': [], 'layover': [], 'no_data_mask': [], 'shadow': []}\n",
      "result {'LIA': [37.3548234721438], 'VH': [-13.827611086796432], 'VV': [-6.909694212645045], 'VVVH_ratio': [0.16229580459054394], 'angle': [38.27420425415039], 'layover': [1], 'no_data_mask': [1], 'shadow': [1]}\n",
      "result {'prec_3': [0.012687262561586168], 'prec_30': [0.37328205720121155], 'prec_7': [0.3615907818648817], 'precipitation': [0.01811421538392703]}\n"
     ]
    }
   ],
   "source": [
    "with tqdm(total=len(df)) as pbar:\n",
    "\n",
    "    with concurrent.futures.ThreadPoolExecutor() as executor:\n",
    "        \n",
    "        futures = {}\n",
    "        for _, row in df.iterrows():\n",
    "            future_name = f\"{row['id']}_{row['date']}\"\n",
    "            future_result_path = training_path / f'{future_name}.p'\n",
    "            \n",
    "            if future_result_path.exists():\n",
    "                pbar.update(1)\n",
    "                continue\n",
    "\n",
    "            futures[executor.submit(get_explanatories, row)] = future_name\n",
    "        \n",
    "        result = {}\n",
    "\n",
    "        for future in concurrent.futures.as_completed(futures):\n",
    "\n",
    "            future_name = futures[future]\n",
    "            if future.result() is not None:\n",
    "\n",
    "                # merge all the sub dicts into one dict\n",
    "                result[future_name] = {k: v for d in list(future.result().values()) for k, v in d.items()}\n",
    "                \n",
    "                future_result_path = training_path / f'{future_name}.p'\n",
    "\n",
    "                # Save the results to a file.\n",
    "                with open(future_result_path, 'wb') as f:\n",
    "                    pickle.dump(result, f)\n",
    "            \n",
    "            pbar.update(1)"
   ]
  },
  {
   "cell_type": "code",
   "execution_count": 17,
   "metadata": {},
   "outputs": [
    {
     "data": {
      "text/plain": [
       "PosixPath('/home/dguerrero/1_modules/data/8_training_data/BRG_150710_02_2019-12-02.p')"
      ]
     },
     "execution_count": 17,
     "metadata": {},
     "output_type": "execute_result"
    }
   ],
   "source": [
    "future_result_path.resolve()"
   ]
  }
 ],
 "metadata": {
  "kernelspec": {
   "display_name": "Python 3",
   "language": "python",
   "name": "python3"
  },
  "language_info": {
   "codemirror_mode": {
    "name": "ipython",
    "version": 3
   },
   "file_extension": ".py",
   "mimetype": "text/x-python",
   "name": "python",
   "nbconvert_exporter": "python",
   "pygments_lexer": "ipython3",
   "version": "3.10.12"
  }
 },
 "nbformat": 4,
 "nbformat_minor": 4
}
