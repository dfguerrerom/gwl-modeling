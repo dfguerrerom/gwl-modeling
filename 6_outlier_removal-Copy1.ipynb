{
 "cells": [
  {
   "cell_type": "code",
   "execution_count": 2,
   "metadata": {
    "tags": []
   },
   "outputs": [],
   "source": [
    "from pathlib import Path\n",
    "import pandas as pd\n",
    "import numpy as np\n",
    "\n",
    "import seaborn as sns\n",
    "import geopandas as gpd\n",
    "from scipy.stats import pearsonr\n",
    "from sklearn.ensemble import RandomForestRegressor\n",
    "\n",
    "import matplotlib.pyplot as plt\n",
    "import matplotlib.dates as mdates\n",
    "from datetime import datetime\n",
    "\n",
    "import random"
   ]
  },
  {
   "cell_type": "code",
   "execution_count": 3,
   "metadata": {
    "tags": []
   },
   "outputs": [
    {
     "name": "stdout",
     "output_type": "stream",
     "text": [
      "%pylab is deprecated, use %matplotlib inline and import the required libraries.\n",
      "Populating the interactive namespace from numpy and matplotlib\n"
     ]
    },
    {
     "name": "stderr",
     "output_type": "stream",
     "text": [
      "/home/sepal-user/module-venv/gwl-modeling/lib/python3.8/site-packages/IPython/core/magics/pylab.py:162: UserWarning: pylab import has clobbered these variables: ['datetime', 'random']\n",
      "`%matplotlib` prevents importing * from pylab and numpy\n",
      "  warn(\"pylab import has clobbered these variables: %s\"  % clobbered +\n"
     ]
    }
   ],
   "source": [
    "#---------------------------------------------------\n",
    "# for plotting purposes we use this iPython magic\n",
    "%matplotlib inline\n",
    "%pylab inline\n",
    "pylab.rcParams['figure.figsize'] = (19, 19)"
   ]
  },
  {
   "cell_type": "code",
   "execution_count": 4,
   "metadata": {
    "tags": []
   },
   "outputs": [
    {
     "data": {
      "text/plain": [
       "29"
      ]
     },
     "execution_count": 4,
     "metadata": {},
     "output_type": "execute_result"
    }
   ],
   "source": [
    "explain_vars = [\n",
    "    \"doy\",\n",
    "    \"LIA\",\n",
    "    \"VH\",\n",
    "    \"VV\",\n",
    "    \"VVVH_ratio\",\n",
    "    \"angle\",\n",
    "    \"sm_1\",\n",
    "    \"sm_3\",\n",
    "    \"sm_7\",\n",
    "    \"sm_30\",\n",
    "    \"precipitation\",\n",
    "    \"prec_3\",\n",
    "    \"prec_7\",\n",
    "    \"prec_30\",\n",
    "    \"elevation\",\n",
    "    \"aspect\",\n",
    "    \"slope\",\n",
    "    \"land_cov\",\n",
    "    \"canopy_height\",\n",
    "    \"gldas_mean\",\n",
    "    \"gldas_stddev\",\n",
    "    \"B3\",\n",
    "    \"B4\",\n",
    "    \"B5\",\n",
    "    \"B7\",\n",
    "    \"ndvi\",\n",
    "    \"ndmi\",\n",
    "    \"ndbri\",\n",
    "    \"doy\"\n",
    "]\n",
    "response_var = [\"gwl_cm\"]\n",
    "len(explain_vars)"
   ]
  },
  {
   "cell_type": "markdown",
   "metadata": {},
   "source": [
    "# 1. Read in the data"
   ]
  },
  {
   "cell_type": "code",
   "execution_count": 5,
   "metadata": {
    "tags": []
   },
   "outputs": [
    {
     "name": "stdout",
     "output_type": "stream",
     "text": [
      "lenght of df:  34230\n",
      "lenght of df after dropping duplicates:  33366\n",
      "lenght of df after droping any nan values:  32340\n"
     ]
    }
   ],
   "source": [
    "explanatory_file_path = \"data/7_training_data/explanatory_with_response_var_and_source.csv\"\n",
    "df = pd.read_csv(explanatory_file_path)\n",
    "print(\"lenght of df: \", len(df))\n",
    "# Drop duplicates on id and date\n",
    "df = df.drop_duplicates(subset=[\"id\", \"date\"])\n",
    "print(\"lenght of df after dropping duplicates: \", len(df))\n",
    "\n",
    "# Find if there are any NaNs and remove them from the dataset \n",
    "# Some NAN values are still present in the dataset, probably due to the fact that some of the\n",
    "# points fall outside bounds of GLDSA dataset\n",
    "df = df[~df.isna().any(axis=1)]\n",
    "\n",
    "print(\"lenght of df after droping any nan values: \", len(df))"
   ]
  },
  {
   "cell_type": "markdown",
   "metadata": {},
   "source": [
    "## 2. Add regions to the points"
   ]
  },
  {
   "cell_type": "markdown",
   "metadata": {},
   "source": [
    "<center><img src=\"img/training_regions.png\" alt=\"image\" width=\"900\"/></center>\n",
    "<p>Below we will add the region attribute to each of the points, this will be useful if we want to train different models over different subsets.</p>"
   ]
  },
  {
   "cell_type": "code",
   "execution_count": 6,
   "metadata": {
    "tags": []
   },
   "outputs": [
    {
     "data": {
      "text/html": [
       "<div>\n",
       "<style scoped>\n",
       "    .dataframe tbody tr th:only-of-type {\n",
       "        vertical-align: middle;\n",
       "    }\n",
       "\n",
       "    .dataframe tbody tr th {\n",
       "        vertical-align: top;\n",
       "    }\n",
       "\n",
       "    .dataframe thead th {\n",
       "        text-align: right;\n",
       "    }\n",
       "</style>\n",
       "<table border=\"1\" class=\"dataframe\">\n",
       "  <thead>\n",
       "    <tr style=\"text-align: right;\">\n",
       "      <th></th>\n",
       "      <th>source</th>\n",
       "      <th>id</th>\n",
       "      <th>date</th>\n",
       "      <th>gwl_cm</th>\n",
       "      <th>lat</th>\n",
       "      <th>lon</th>\n",
       "      <th>LIA</th>\n",
       "      <th>VH</th>\n",
       "      <th>VV</th>\n",
       "      <th>VVVH_ratio</th>\n",
       "      <th>...</th>\n",
       "      <th>gldas_stddev</th>\n",
       "      <th>B3</th>\n",
       "      <th>B4</th>\n",
       "      <th>B5</th>\n",
       "      <th>B7</th>\n",
       "      <th>ndvi</th>\n",
       "      <th>ndmi</th>\n",
       "      <th>ndbri</th>\n",
       "      <th>doy</th>\n",
       "      <th>region_id</th>\n",
       "    </tr>\n",
       "  </thead>\n",
       "  <tbody>\n",
       "    <tr>\n",
       "      <th>0</th>\n",
       "      <td>wal</td>\n",
       "      <td>02_AHL_SBG-B076</td>\n",
       "      <td>2021-06-01</td>\n",
       "      <td>-41.000</td>\n",
       "      <td>3.937760</td>\n",
       "      <td>117.007750</td>\n",
       "      <td>32.785855</td>\n",
       "      <td>-11.481278</td>\n",
       "      <td>-5.556430</td>\n",
       "      <td>0.207099</td>\n",
       "      <td>...</td>\n",
       "      <td>1.817817</td>\n",
       "      <td>21</td>\n",
       "      <td>97</td>\n",
       "      <td>61</td>\n",
       "      <td>25</td>\n",
       "      <td>0.644068</td>\n",
       "      <td>0.227848</td>\n",
       "      <td>0.590164</td>\n",
       "      <td>152</td>\n",
       "      <td>10</td>\n",
       "    </tr>\n",
       "    <tr>\n",
       "      <th>1</th>\n",
       "      <td>wal</td>\n",
       "      <td>02_AHL_SBG-B076</td>\n",
       "      <td>2021-08-24</td>\n",
       "      <td>-38.000</td>\n",
       "      <td>3.937760</td>\n",
       "      <td>117.007750</td>\n",
       "      <td>32.785295</td>\n",
       "      <td>-12.812067</td>\n",
       "      <td>-5.960235</td>\n",
       "      <td>0.201164</td>\n",
       "      <td>...</td>\n",
       "      <td>1.817817</td>\n",
       "      <td>21</td>\n",
       "      <td>97</td>\n",
       "      <td>61</td>\n",
       "      <td>25</td>\n",
       "      <td>0.644068</td>\n",
       "      <td>0.227848</td>\n",
       "      <td>0.590164</td>\n",
       "      <td>236</td>\n",
       "      <td>10</td>\n",
       "    </tr>\n",
       "    <tr>\n",
       "      <th>2</th>\n",
       "      <td>wal</td>\n",
       "      <td>02_AHL_SBG-B076</td>\n",
       "      <td>2022-04-09</td>\n",
       "      <td>-22.000</td>\n",
       "      <td>3.937760</td>\n",
       "      <td>117.007750</td>\n",
       "      <td>32.795191</td>\n",
       "      <td>-18.437775</td>\n",
       "      <td>-10.636812</td>\n",
       "      <td>0.072032</td>\n",
       "      <td>...</td>\n",
       "      <td>1.817817</td>\n",
       "      <td>33</td>\n",
       "      <td>70</td>\n",
       "      <td>96</td>\n",
       "      <td>52</td>\n",
       "      <td>0.359223</td>\n",
       "      <td>-0.156627</td>\n",
       "      <td>0.147541</td>\n",
       "      <td>99</td>\n",
       "      <td>10</td>\n",
       "    </tr>\n",
       "    <tr>\n",
       "      <th>3</th>\n",
       "      <td>wal</td>\n",
       "      <td>02_AHL_SBG-B076</td>\n",
       "      <td>2023-02-15</td>\n",
       "      <td>-31.000</td>\n",
       "      <td>3.937760</td>\n",
       "      <td>117.007750</td>\n",
       "      <td>32.793740</td>\n",
       "      <td>-13.051827</td>\n",
       "      <td>-9.007584</td>\n",
       "      <td>0.076149</td>\n",
       "      <td>...</td>\n",
       "      <td>1.817817</td>\n",
       "      <td>33</td>\n",
       "      <td>70</td>\n",
       "      <td>96</td>\n",
       "      <td>52</td>\n",
       "      <td>0.359223</td>\n",
       "      <td>-0.156627</td>\n",
       "      <td>0.147541</td>\n",
       "      <td>46</td>\n",
       "      <td>10</td>\n",
       "    </tr>\n",
       "    <tr>\n",
       "      <th>4</th>\n",
       "      <td>wal</td>\n",
       "      <td>02_AHL_SBG-B101</td>\n",
       "      <td>2021-06-01</td>\n",
       "      <td>-66.000</td>\n",
       "      <td>3.931860</td>\n",
       "      <td>117.010120</td>\n",
       "      <td>39.267563</td>\n",
       "      <td>-9.778736</td>\n",
       "      <td>-6.648683</td>\n",
       "      <td>0.111111</td>\n",
       "      <td>...</td>\n",
       "      <td>1.811218</td>\n",
       "      <td>21</td>\n",
       "      <td>75</td>\n",
       "      <td>57</td>\n",
       "      <td>25</td>\n",
       "      <td>0.562500</td>\n",
       "      <td>0.136364</td>\n",
       "      <td>0.500000</td>\n",
       "      <td>152</td>\n",
       "      <td>10</td>\n",
       "    </tr>\n",
       "    <tr>\n",
       "      <th>...</th>\n",
       "      <td>...</td>\n",
       "      <td>...</td>\n",
       "      <td>...</td>\n",
       "      <td>...</td>\n",
       "      <td>...</td>\n",
       "      <td>...</td>\n",
       "      <td>...</td>\n",
       "      <td>...</td>\n",
       "      <td>...</td>\n",
       "      <td>...</td>\n",
       "      <td>...</td>\n",
       "      <td>...</td>\n",
       "      <td>...</td>\n",
       "      <td>...</td>\n",
       "      <td>...</td>\n",
       "      <td>...</td>\n",
       "      <td>...</td>\n",
       "      <td>...</td>\n",
       "      <td>...</td>\n",
       "      <td>...</td>\n",
       "      <td>...</td>\n",
       "    </tr>\n",
       "    <tr>\n",
       "      <th>32335</th>\n",
       "      <td>old_brg</td>\n",
       "      <td>kalteng1</td>\n",
       "      <td>2020-03-31</td>\n",
       "      <td>-0.271</td>\n",
       "      <td>-2.319728</td>\n",
       "      <td>114.058131</td>\n",
       "      <td>32.480674</td>\n",
       "      <td>-13.179518</td>\n",
       "      <td>-7.523130</td>\n",
       "      <td>0.128794</td>\n",
       "      <td>...</td>\n",
       "      <td>3.461483</td>\n",
       "      <td>19</td>\n",
       "      <td>81</td>\n",
       "      <td>53</td>\n",
       "      <td>21</td>\n",
       "      <td>0.620000</td>\n",
       "      <td>0.208955</td>\n",
       "      <td>0.588235</td>\n",
       "      <td>91</td>\n",
       "      <td>8</td>\n",
       "    </tr>\n",
       "    <tr>\n",
       "      <th>32336</th>\n",
       "      <td>old_brg</td>\n",
       "      <td>kalteng1</td>\n",
       "      <td>2020-04-12</td>\n",
       "      <td>-0.114</td>\n",
       "      <td>-2.319728</td>\n",
       "      <td>114.058131</td>\n",
       "      <td>32.474638</td>\n",
       "      <td>-12.679995</td>\n",
       "      <td>-7.348031</td>\n",
       "      <td>0.130210</td>\n",
       "      <td>...</td>\n",
       "      <td>3.461483</td>\n",
       "      <td>19</td>\n",
       "      <td>81</td>\n",
       "      <td>53</td>\n",
       "      <td>21</td>\n",
       "      <td>0.620000</td>\n",
       "      <td>0.208955</td>\n",
       "      <td>0.588235</td>\n",
       "      <td>103</td>\n",
       "      <td>8</td>\n",
       "    </tr>\n",
       "    <tr>\n",
       "      <th>32337</th>\n",
       "      <td>old_brg</td>\n",
       "      <td>kecil1</td>\n",
       "      <td>2019-03-01</td>\n",
       "      <td>-2.954</td>\n",
       "      <td>-2.856089</td>\n",
       "      <td>113.805611</td>\n",
       "      <td>35.143679</td>\n",
       "      <td>-10.922965</td>\n",
       "      <td>-7.574065</td>\n",
       "      <td>0.093967</td>\n",
       "      <td>...</td>\n",
       "      <td>3.362376</td>\n",
       "      <td>24</td>\n",
       "      <td>76</td>\n",
       "      <td>69</td>\n",
       "      <td>32</td>\n",
       "      <td>0.520000</td>\n",
       "      <td>0.048276</td>\n",
       "      <td>0.407407</td>\n",
       "      <td>60</td>\n",
       "      <td>8</td>\n",
       "    </tr>\n",
       "    <tr>\n",
       "      <th>32338</th>\n",
       "      <td>old_brg</td>\n",
       "      <td>kecil1</td>\n",
       "      <td>2019-06-29</td>\n",
       "      <td>-2.922</td>\n",
       "      <td>-2.856089</td>\n",
       "      <td>113.805611</td>\n",
       "      <td>35.139013</td>\n",
       "      <td>-11.637249</td>\n",
       "      <td>-7.424729</td>\n",
       "      <td>0.112345</td>\n",
       "      <td>...</td>\n",
       "      <td>3.362376</td>\n",
       "      <td>24</td>\n",
       "      <td>76</td>\n",
       "      <td>69</td>\n",
       "      <td>32</td>\n",
       "      <td>0.520000</td>\n",
       "      <td>0.048276</td>\n",
       "      <td>0.407407</td>\n",
       "      <td>180</td>\n",
       "      <td>8</td>\n",
       "    </tr>\n",
       "    <tr>\n",
       "      <th>32339</th>\n",
       "      <td>old_brg</td>\n",
       "      <td>kecil1</td>\n",
       "      <td>2019-10-27</td>\n",
       "      <td>-3.023</td>\n",
       "      <td>-2.856089</td>\n",
       "      <td>113.805611</td>\n",
       "      <td>35.140643</td>\n",
       "      <td>-14.079809</td>\n",
       "      <td>-7.269069</td>\n",
       "      <td>0.148454</td>\n",
       "      <td>...</td>\n",
       "      <td>3.362376</td>\n",
       "      <td>24</td>\n",
       "      <td>76</td>\n",
       "      <td>69</td>\n",
       "      <td>32</td>\n",
       "      <td>0.520000</td>\n",
       "      <td>0.048276</td>\n",
       "      <td>0.407407</td>\n",
       "      <td>300</td>\n",
       "      <td>8</td>\n",
       "    </tr>\n",
       "  </tbody>\n",
       "</table>\n",
       "<p>32340 rows × 35 columns</p>\n",
       "</div>"
      ],
      "text/plain": [
       "        source               id        date  gwl_cm       lat         lon  \\\n",
       "0          wal  02_AHL_SBG-B076  2021-06-01 -41.000  3.937760  117.007750   \n",
       "1          wal  02_AHL_SBG-B076  2021-08-24 -38.000  3.937760  117.007750   \n",
       "2          wal  02_AHL_SBG-B076  2022-04-09 -22.000  3.937760  117.007750   \n",
       "3          wal  02_AHL_SBG-B076  2023-02-15 -31.000  3.937760  117.007750   \n",
       "4          wal  02_AHL_SBG-B101  2021-06-01 -66.000  3.931860  117.010120   \n",
       "...        ...              ...         ...     ...       ...         ...   \n",
       "32335  old_brg         kalteng1  2020-03-31  -0.271 -2.319728  114.058131   \n",
       "32336  old_brg         kalteng1  2020-04-12  -0.114 -2.319728  114.058131   \n",
       "32337  old_brg           kecil1  2019-03-01  -2.954 -2.856089  113.805611   \n",
       "32338  old_brg           kecil1  2019-06-29  -2.922 -2.856089  113.805611   \n",
       "32339  old_brg           kecil1  2019-10-27  -3.023 -2.856089  113.805611   \n",
       "\n",
       "             LIA         VH         VV  VVVH_ratio  ...  gldas_stddev  B3  B4  \\\n",
       "0      32.785855 -11.481278  -5.556430    0.207099  ...      1.817817  21  97   \n",
       "1      32.785295 -12.812067  -5.960235    0.201164  ...      1.817817  21  97   \n",
       "2      32.795191 -18.437775 -10.636812    0.072032  ...      1.817817  33  70   \n",
       "3      32.793740 -13.051827  -9.007584    0.076149  ...      1.817817  33  70   \n",
       "4      39.267563  -9.778736  -6.648683    0.111111  ...      1.811218  21  75   \n",
       "...          ...        ...        ...         ...  ...           ...  ..  ..   \n",
       "32335  32.480674 -13.179518  -7.523130    0.128794  ...      3.461483  19  81   \n",
       "32336  32.474638 -12.679995  -7.348031    0.130210  ...      3.461483  19  81   \n",
       "32337  35.143679 -10.922965  -7.574065    0.093967  ...      3.362376  24  76   \n",
       "32338  35.139013 -11.637249  -7.424729    0.112345  ...      3.362376  24  76   \n",
       "32339  35.140643 -14.079809  -7.269069    0.148454  ...      3.362376  24  76   \n",
       "\n",
       "       B5  B7      ndvi      ndmi     ndbri  doy  region_id  \n",
       "0      61  25  0.644068  0.227848  0.590164  152         10  \n",
       "1      61  25  0.644068  0.227848  0.590164  236         10  \n",
       "2      96  52  0.359223 -0.156627  0.147541   99         10  \n",
       "3      96  52  0.359223 -0.156627  0.147541   46         10  \n",
       "4      57  25  0.562500  0.136364  0.500000  152         10  \n",
       "...    ..  ..       ...       ...       ...  ...        ...  \n",
       "32335  53  21  0.620000  0.208955  0.588235   91          8  \n",
       "32336  53  21  0.620000  0.208955  0.588235  103          8  \n",
       "32337  69  32  0.520000  0.048276  0.407407   60          8  \n",
       "32338  69  32  0.520000  0.048276  0.407407  180          8  \n",
       "32339  69  32  0.520000  0.048276  0.407407  300          8  \n",
       "\n",
       "[32340 rows x 35 columns]"
      ]
     },
     "execution_count": 6,
     "metadata": {},
     "output_type": "execute_result"
    }
   ],
   "source": [
    "shp_path = Path(\"data/0_shp/\")\n",
    "region_path = \"regions_to_request_explanatory_all.gpkg\"\n",
    "gdf_regions = gpd.GeoDataFrame.from_file(shp_path/region_path)\n",
    "\n",
    "unique_coords = df[[\"id\", 'lon', 'lat']].drop_duplicates()\n",
    "len(df), len(unique_coords)\n",
    "\n",
    "# Create geodataframe from x y coordinates\n",
    "station_with_region_df = gpd.GeoDataFrame(unique_coords, geometry=gpd.points_from_xy(unique_coords.lon, unique_coords.lat), crs=\"EPSG:4326\")\n",
    "\n",
    "# # Add the region id to each point\n",
    "station_with_region_df = gpd.sjoin(station_with_region_df, gdf_regions[[\"region_id\", \"geometry\"]], how=\"left\", predicate=\"within\")\n",
    "\n",
    "# Merge the region id to the main dataframe\n",
    "df = df.merge(station_with_region_df[[\"id\", \"region_id\"]], on=\"id\", how=\"left\")\n",
    "df"
   ]
  },
  {
   "cell_type": "code",
   "execution_count": 7,
   "metadata": {
    "tags": []
   },
   "outputs": [
    {
     "data": {
      "text/plain": [
       "region_id\n",
       "1       248\n",
       "2      3769\n",
       "3        77\n",
       "4      7595\n",
       "5     14076\n",
       "6       397\n",
       "7      2961\n",
       "8      2548\n",
       "9       242\n",
       "10      427\n",
       "Name: id, dtype: int64"
      ]
     },
     "execution_count": 7,
     "metadata": {},
     "output_type": "execute_result"
    }
   ],
   "source": [
    "# count the number of points per region\n",
    "df.groupby(\"region_id\").count()[\"id\"]"
   ]
  },
  {
   "cell_type": "markdown",
   "metadata": {},
   "source": [
    "## Exploratory: Get the count of the number of dates for each point"
   ]
  },
  {
   "cell_type": "code",
   "execution_count": 9,
   "metadata": {
    "tags": []
   },
   "outputs": [
    {
     "data": {
      "text/html": [
       "<div>\n",
       "<style scoped>\n",
       "    .dataframe tbody tr th:only-of-type {\n",
       "        vertical-align: middle;\n",
       "    }\n",
       "\n",
       "    .dataframe tbody tr th {\n",
       "        vertical-align: top;\n",
       "    }\n",
       "\n",
       "    .dataframe thead th {\n",
       "        text-align: right;\n",
       "    }\n",
       "</style>\n",
       "<table border=\"1\" class=\"dataframe\">\n",
       "  <thead>\n",
       "    <tr style=\"text-align: right;\">\n",
       "      <th></th>\n",
       "      <th>id</th>\n",
       "      <th>date_count</th>\n",
       "    </tr>\n",
       "  </thead>\n",
       "  <tbody>\n",
       "    <tr>\n",
       "      <th>1968</th>\n",
       "      <td>BRG_150710_03</td>\n",
       "      <td>261</td>\n",
       "    </tr>\n",
       "    <tr>\n",
       "      <th>1967</th>\n",
       "      <td>BRG_150710_02</td>\n",
       "      <td>229</td>\n",
       "    </tr>\n",
       "    <tr>\n",
       "      <th>1957</th>\n",
       "      <td>BRG_140806_01</td>\n",
       "      <td>228</td>\n",
       "    </tr>\n",
       "    <tr>\n",
       "      <th>745</th>\n",
       "      <td>15_RAPP_PPDV-05a</td>\n",
       "      <td>212</td>\n",
       "    </tr>\n",
       "    <tr>\n",
       "      <th>779</th>\n",
       "      <td>15_RAPP_PPDVIII-23</td>\n",
       "      <td>206</td>\n",
       "    </tr>\n",
       "    <tr>\n",
       "      <th>...</th>\n",
       "      <td>...</td>\n",
       "      <td>...</td>\n",
       "    </tr>\n",
       "    <tr>\n",
       "      <th>1269</th>\n",
       "      <td>199_GAL_B36</td>\n",
       "      <td>1</td>\n",
       "    </tr>\n",
       "    <tr>\n",
       "      <th>262</th>\n",
       "      <td>10_MTI_MTI_H175_P3</td>\n",
       "      <td>1</td>\n",
       "    </tr>\n",
       "    <tr>\n",
       "      <th>272</th>\n",
       "      <td>10_MTI_MTI_H181_P3</td>\n",
       "      <td>1</td>\n",
       "    </tr>\n",
       "    <tr>\n",
       "      <th>280</th>\n",
       "      <td>10_MTI_MTI_H193_P3</td>\n",
       "      <td>1</td>\n",
       "    </tr>\n",
       "    <tr>\n",
       "      <th>1300</th>\n",
       "      <td>199_GAL_I66</td>\n",
       "      <td>1</td>\n",
       "    </tr>\n",
       "  </tbody>\n",
       "</table>\n",
       "<p>2045 rows × 2 columns</p>\n",
       "</div>"
      ],
      "text/plain": [
       "                      id  date_count\n",
       "1968       BRG_150710_03         261\n",
       "1967       BRG_150710_02         229\n",
       "1957       BRG_140806_01         228\n",
       "745     15_RAPP_PPDV-05a         212\n",
       "779   15_RAPP_PPDVIII-23         206\n",
       "...                  ...         ...\n",
       "1269         199_GAL_B36           1\n",
       "262   10_MTI_MTI_H175_P3           1\n",
       "272   10_MTI_MTI_H181_P3           1\n",
       "280   10_MTI_MTI_H193_P3           1\n",
       "1300         199_GAL_I66           1\n",
       "\n",
       "[2045 rows x 2 columns]"
      ]
     },
     "execution_count": 9,
     "metadata": {},
     "output_type": "execute_result"
    }
   ],
   "source": [
    "# group by id and get the number of dates for each id\n",
    "df_grouped = df.groupby(\"id\").count().reset_index()\n",
    "df_grouped = df_grouped[[\"id\", \"date\"]]\n",
    "df_grouped.columns = [\"id\", \"date_count\"]\n",
    "df_grouped.sort_values(by=\"date_count\", ascending=False)"
   ]
  },
  {
   "cell_type": "code",
   "execution_count": 8,
   "metadata": {
    "tags": []
   },
   "outputs": [
    {
     "data": {
      "text/html": [
       "<div>\n",
       "<style scoped>\n",
       "    .dataframe tbody tr th:only-of-type {\n",
       "        vertical-align: middle;\n",
       "    }\n",
       "\n",
       "    .dataframe tbody tr th {\n",
       "        vertical-align: top;\n",
       "    }\n",
       "\n",
       "    .dataframe thead th {\n",
       "        text-align: right;\n",
       "    }\n",
       "</style>\n",
       "<table border=\"1\" class=\"dataframe\">\n",
       "  <thead>\n",
       "    <tr style=\"text-align: right;\">\n",
       "      <th></th>\n",
       "      <th>id</th>\n",
       "      <th>date_count</th>\n",
       "    </tr>\n",
       "  </thead>\n",
       "  <tbody>\n",
       "    <tr>\n",
       "      <th>704</th>\n",
       "      <td>BRG_140806_01</td>\n",
       "      <td>228</td>\n",
       "    </tr>\n",
       "    <tr>\n",
       "      <th>87</th>\n",
       "      <td>15_RAPP_PPDV-05a</td>\n",
       "      <td>212</td>\n",
       "    </tr>\n",
       "    <tr>\n",
       "      <th>121</th>\n",
       "      <td>15_RAPP_PPDVIII-23</td>\n",
       "      <td>206</td>\n",
       "    </tr>\n",
       "    <tr>\n",
       "      <th>324</th>\n",
       "      <td>15_RAPP_TP-IV-23</td>\n",
       "      <td>203</td>\n",
       "    </tr>\n",
       "    <tr>\n",
       "      <th>72</th>\n",
       "      <td>15_RAPP_PPDIV-17</td>\n",
       "      <td>198</td>\n",
       "    </tr>\n",
       "    <tr>\n",
       "      <th>...</th>\n",
       "      <td>...</td>\n",
       "      <td>...</td>\n",
       "    </tr>\n",
       "    <tr>\n",
       "      <th>234</th>\n",
       "      <td>15_RAPP_SKM/XII-10</td>\n",
       "      <td>1</td>\n",
       "    </tr>\n",
       "    <tr>\n",
       "      <th>193</th>\n",
       "      <td>15_RAPP_SKM/IX-17a</td>\n",
       "      <td>1</td>\n",
       "    </tr>\n",
       "    <tr>\n",
       "      <th>233</th>\n",
       "      <td>15_RAPP_SKM/XII-06a</td>\n",
       "      <td>1</td>\n",
       "    </tr>\n",
       "    <tr>\n",
       "      <th>195</th>\n",
       "      <td>15_RAPP_SKM/IX-21</td>\n",
       "      <td>1</td>\n",
       "    </tr>\n",
       "    <tr>\n",
       "      <th>619</th>\n",
       "      <td>47_SPM_TP-HMSC0574</td>\n",
       "      <td>1</td>\n",
       "    </tr>\n",
       "  </tbody>\n",
       "</table>\n",
       "<p>706 rows × 2 columns</p>\n",
       "</div>"
      ],
      "text/plain": [
       "                      id  date_count\n",
       "704        BRG_140806_01         228\n",
       "87      15_RAPP_PPDV-05a         212\n",
       "121   15_RAPP_PPDVIII-23         206\n",
       "324     15_RAPP_TP-IV-23         203\n",
       "72      15_RAPP_PPDIV-17         198\n",
       "..                   ...         ...\n",
       "234   15_RAPP_SKM/XII-10           1\n",
       "193   15_RAPP_SKM/IX-17a           1\n",
       "233  15_RAPP_SKM/XII-06a           1\n",
       "195    15_RAPP_SKM/IX-21           1\n",
       "619   47_SPM_TP-HMSC0574           1\n",
       "\n",
       "[706 rows x 2 columns]"
      ]
     },
     "execution_count": 8,
     "metadata": {},
     "output_type": "execute_result"
    }
   ],
   "source": [
    "df_grouped = df[df.region_id==5].groupby(\"id\").count().reset_index()\n",
    "df_grouped = df_grouped[[\"id\", \"date\"]]\n",
    "df_grouped.columns = [\"id\", \"date_count\"]\n",
    "df_grouped.sort_values(by=\"date_count\", ascending=False)"
   ]
  },
  {
   "cell_type": "markdown",
   "metadata": {},
   "source": [
    "## Create a boxplot showing the number of dates per each point"
   ]
  },
  {
   "cell_type": "code",
   "execution_count": 10,
   "metadata": {
    "tags": []
   },
   "outputs": [
    {
     "data": {
      "image/png": "[encoded data removed]",
      "text/plain": [
       "<Figure size 800x600 with 1 Axes>"
      ]
     },
     "metadata": {},
     "output_type": "display_data"
    }
   ],
   "source": [
    "# Define the dimensions of the plot\n",
    "sns.set(style=\"whitegrid\")\n",
    "plt.figure(figsize=(8, 6))\n",
    "\n",
    "# Create a violin plot for the variable\n",
    "sns.violinplot(x=df_grouped[\"date_count\"])\n",
    "\n",
    "# Set the title and x-axis label\n",
    "plt.title(f\"Frequency dates per point\")\n",
    "plt.xlabel(\"Number of dates per plot\")\n",
    "\n",
    "plt.show()"
   ]
  },
  {
   "cell_type": "markdown",
   "metadata": {},
   "source": [
    "## Question: "
   ]
  },
  {
   "cell_type": "markdown",
   "metadata": {},
   "source": [
    "## Get the percentiles of number of dates per plot distribution"
   ]
  },
  {
   "cell_type": "code",
   "execution_count": 11,
   "metadata": {
    "tags": []
   },
   "outputs": [
    {
     "name": "stdout",
     "output_type": "stream",
     "text": [
      "Percentiles:\n",
      "0th percentile: 1.0\n",
      "5th percentile: 2.0\n",
      "10th percentile: 3.0\n",
      "25th percentile: 4.0\n",
      "50th percentile: 7.0\n",
      "75th percentile: 11.0\n",
      "90th percentile: 21.600000000000136\n",
      "100th percentile: 261.0\n"
     ]
    },
    {
     "data": {
      "text/plain": [
       "[(0, 1.0),\n",
       " (5, 2.0),\n",
       " (10, 3.0),\n",
       " (25, 4.0),\n",
       " (50, 7.0),\n",
       " (75, 11.0),\n",
       " (90, 21.600000000000136),\n",
       " (100, 261.0)]"
      ]
     },
     "execution_count": 11,
     "metadata": {},
     "output_type": "execute_result"
    }
   ],
   "source": [
    "# Define the percentiles you want to calculate as a list\n",
    "percentiles = [0,5,10,25,50,75,90,100]  # You can adjust this list as needed\n",
    "\n",
    "# Calculate the percentiles using numpy.percentile\n",
    "percentile_values = np.percentile(df_grouped[\"date_count\"], percentiles)\n",
    "\n",
    "# Display the percentiles as a list\n",
    "percentile_list = list(zip(percentiles, percentile_values))\n",
    "print(\"Percentiles:\")\n",
    "for p, value in percentile_list:\n",
    "    print(f\"{p}th percentile: {value}\")\n",
    "    \n",
    "percentile_list"
   ]
  },
  {
   "cell_type": "code",
   "execution_count": 27,
   "metadata": {
    "tags": []
   },
   "outputs": [
    {
     "name": "stdout",
     "output_type": "stream",
     "text": [
      "Before filteringout: 32340\n",
      "After filtering 8463\n"
     ]
    }
   ],
   "source": [
    "perc_50_ids = df_grouped[df_grouped.date_count > percentile_list[4][0]].id.unique()\n",
    "\n",
    "perc_df = df[df.id.isin(perc_50_ids)]\n",
    "print(\"Before filteringout:\", len(df))\n",
    "print(\"After filtering\", len(perc_df))"
   ]
  },
  {
   "cell_type": "code",
   "execution_count": 32,
   "metadata": {
    "tags": []
   },
   "outputs": [
    {
     "data": {
      "image/png": "[encoded data removed]",
      "text/plain": [
       "<Figure size 900x1500 with 15 Axes>"
      ]
     },
     "metadata": {},
     "output_type": "display_data"
    }
   ],
   "source": [
    "# Assuming you have a DataFrame named \"df\" with columns \"date,\" \"gwl_cm,\" and \"id\" (which is a string variable)\n",
    "\n",
    "# Get the unique \"id\" values\n",
    "unique_ids = perc_df[\"id\"].unique()\n",
    "\n",
    "# Select 15 random \"id\" values from the unique \"id\" list\n",
    "random_ids = pd.DataFrame(perc_df.id.unique()).sample(15).iloc[:,0].tolist()\n",
    "\n",
    "# Filter the DataFrame to include only the selected random \"id\" values\n",
    "filtered_df = perc_df[perc_df[\"id\"].isin(random_ids)]\n",
    "\n",
    "sns.set(style=\"darkgrid\")\n",
    "g = sns.FacetGrid(filtered_df, col=\"id\", col_wrap=3)\n",
    "g.map(sns.lineplot, \"date\", \"gwl_cm\")\n",
    "g.set_axis_labels(\"Date\", \"GWL (cm)\")\n",
    "g.set_titles(\"ID: {col_name}\")\n",
    "\n",
    "plt.subplots_adjust(top=0.9)\n",
    "g.fig.suptitle(\"GWL (cm) Over Time by ID (Randomly Selected)\")\n",
    "plt.show()"
   ]
  },
  {
   "cell_type": "code",
   "execution_count": null,
   "metadata": {
    "tags": []
   },
   "outputs": [],
   "source": [
    "# get a boxplot of response var per region but use a small graph size\n",
    "\n",
    "# set the seaborn style and size\n",
    "sns.set_style(\"whitegrid\")\n",
    "sns.set(rc={'figure.figsize':(8,5)})\n",
    "sns.boxplot(x=\"region_id\", y=\"gwl_cm\", data=df, width=0.5)"
   ]
  },
  {
   "cell_type": "code",
   "execution_count": null,
   "metadata": {
    "tags": []
   },
   "outputs": [],
   "source": [
    "# Filter the DataFrame for the specific point '15_RAPP_PPDV-05a'\n",
    "point_df = df[df.id == '15_RAPP_PPDV-05a']\n",
    "\n",
    "sns.set(style=\"darkgrid\")\n",
    "plt.figure(figsize=(10, 6))\n",
    "\n",
    "# Create the first y-axis for \"gwl\" data\n",
    "ax1 = sns.lineplot(x=\"date\", y=\"gwl_cm\", data=point_df, label=\"GWL (cm)\")\n",
    "\n",
    "# Set the first y-axis label\n",
    "ax1.set_ylabel(\"GWL (cm)\", color='tab:blue')\n",
    "\n",
    "# Create the second y-axis for \"precipitation\" data\n",
    "ax2 = ax1.twinx()\n",
    "sns.lineplot(x=\"date\", y=\"precipitation\", data=point_df, color='red', label=\"Precipitation (mm)\")\n",
    "\n",
    "# Set the second y-axis label\n",
    "ax2.set_ylabel(\"Precipitation (mm)\", color='tab:red')\n",
    "\n",
    "# Use MonthLocator for sparse labeling\n",
    "ax1.xaxis.set_major_locator(MonthLocator())\n",
    "\n",
    "# Set the title and x-axis label\n",
    "plt.title(f\"Point 15_RAPP_PPDV-05a - GWL and Precipitation Over Time\")\n",
    "plt.xlabel(\"Date\")\n",
    "\n",
    "# Add legends for both y-axes\n",
    "lines1, labels1 = ax1.get_legend_handles_labels()\n",
    "lines2, labels2 = ax2.get_legend_handles_labels()\n",
    "#ax1.legend(lines1 + lines2, labels1 + labels2, loc=\"upper left\")\n",
    "\n",
    "plt.xticks(rotation=45)  # Rotate the x-axis labels for better readability\n",
    "\n",
    "plt.show()"
   ]
  },
  {
   "cell_type": "code",
   "execution_count": null,
   "metadata": {
    "tags": []
   },
   "outputs": [],
   "source": [
    "# Filter the DataFrame for the specific region\n",
    "region_df = df[df.region_id == 8]\n",
    "\n",
    "sns.set(style=\"darkgrid\")\n",
    "plt.figure(figsize=(10, 6))\n",
    "\n",
    "# Create the first y-axis for \"gwl\" data\n",
    "ax1 = sns.lineplot(x=\"date\", y=\"gwl_cm\", data=region_df, label=\"GWL (cm)\")\n",
    "\n",
    "# Set the first y-axis label\n",
    "ax1.set_ylabel(\"GWL (cm)\", color='tab:blue')\n",
    "\n",
    "# Create the second y-axis for \"precipitation\" data\n",
    "ax2 = ax1.twinx()\n",
    "sns.lineplot(x=\"date\", y=\"precipitation\", data=region_df, color='red', label=\"Precipitation (mm)\")\n",
    "\n",
    "# Set the second y-axis label\n",
    "ax2.set_ylabel(\"Precipitation (mm)\", color='tab:red')\n",
    "\n",
    "# Use MonthLocator for sparse labeling\n",
    "ax1.xaxis.set_major_locator(MonthLocator())\n",
    "\n",
    "# Set the title and x-axis label\n",
    "plt.title(f\"Region {8} - GWL and Precipitation Over Time\")\n",
    "plt.xlabel(\"Date\")\n",
    "\n",
    "# Add legends for both y-axes\n",
    "lines1, labels1 = ax1.get_legend_handles_labels()\n",
    "#lines2, labels2 = ax2.get_legend_handles_labels()\n",
    "#ax1.legend(lines1 + lines2, labels1 + labels2, loc=\"upper left\")\n",
    "\n",
    "plt.show()"
   ]
  },
  {
   "cell_type": "markdown",
   "metadata": {},
   "source": [
    "## Compare GWL and simulated Soil Moisture"
   ]
  },
  {
   "cell_type": "code",
   "execution_count": null,
   "metadata": {
    "tags": []
   },
   "outputs": [],
   "source": [
    "# Filter the DataFrame for the specific region\n",
    "region_df = df[df.region_id == 8]\n",
    "\n",
    "sns.set(style=\"darkgrid\")\n",
    "plt.figure(figsize=(10, 6))\n",
    "\n",
    "# Create the first y-axis for \"gwl\" data\n",
    "ax1 = sns.lineplot(x=\"date\", y=\"gwl_cm\", data=region_df, label=\"GWL (cm)\")\n",
    "\n",
    "# Set the first y-axis label\n",
    "ax1.set_ylabel(\"GWL (cm)\", color='tab:blue')\n",
    "\n",
    "# Create the second y-axis for \"precipitation\" data\n",
    "ax2 = ax1.twinx()\n",
    "sns.lineplot(x=\"date\", y=\"sm_1\", data=region_df, color='red', label=\"Soil moisture daily\")\n",
    "\n",
    "# Set the second y-axis label\n",
    "ax2.set_ylabel(\"Soil moisture daily\", color='tab:red')\n",
    "\n",
    "# Use MonthLocator for sparse labeling\n",
    "ax1.xaxis.set_major_locator(MonthLocator())\n",
    "\n",
    "# Set the title and x-axis label\n",
    "plt.title(f\"Region {8} - GWL and Soil moisture daily Over Time\")\n",
    "plt.xlabel(\"Date\")\n",
    "\n",
    "# Add legends for both y-axes\n",
    "lines1, labels1 = ax1.get_legend_handles_labels()\n",
    "#lines2, labels2 = ax2.get_legend_handles_labels()\n",
    "#ax1.legend(lines1 + lines2, labels1 + labels2, loc=\"upper left\")\n",
    "\n",
    "plt.show()"
   ]
  },
  {
   "cell_type": "code",
   "execution_count": null,
   "metadata": {
    "tags": []
   },
   "outputs": [],
   "source": [
    "# Filter the DataFrame for the specific region\n",
    "region_df = df[df.region_id == 4]\n",
    "\n",
    "sns.set(style=\"darkgrid\")\n",
    "plt.figure(figsize=(10, 6))\n",
    "\n",
    "# Create the first y-axis for \"gwl\" data\n",
    "ax1 = sns.lineplot(x=\"date\", y=\"gwl_cm\", data=region_df, label=\"GWL (cm)\")\n",
    "\n",
    "# Set the first y-axis label\n",
    "ax1.set_ylabel(\"GWL (cm)\", color='tab:blue')\n",
    "\n",
    "# Create the second y-axis for \"precipitation\" data\n",
    "ax2 = ax1.twinx()\n",
    "sns.lineplot(x=\"date\", y=\"precipitation\", data=region_df, color='red', label=\"Precipitation (mm)\")\n",
    "\n",
    "# Set the second y-axis label\n",
    "ax2.set_ylabel(\"Precipitation (mm)\", color='tab:red')\n",
    "\n",
    "# Set the title and x-axis label\n",
    "plt.title(f\"Region {4} - GWL and Precipitation Over Time\")\n",
    "plt.xlabel(\"Date\")\n",
    "\n",
    "# Use MonthLocator for sparse labeling\n",
    "ax1.xaxis.set_major_locator(MonthLocator())\n",
    "\n",
    "# Add legends for both y-axes\n",
    "lines1, labels1 = ax1.get_legend_handles_labels()\n",
    "#lines2, labels2 = ax2.get_legend_handles_labels()\n",
    "#ax1.legend(lines1 + lines2, labels1 + labels2, loc=\"upper left\")\n",
    "\n",
    "plt.show()"
   ]
  },
  {
   "cell_type": "markdown",
   "metadata": {},
   "source": [
    "# 3. Identify outliers\n",
    "\n",
    "\n",
    "When dealing with outliers in data, it's essential to adopt a systematic approach, and there are various statistical methods to identify and handle them. Here are some commonly used techniques to detect and remove outliers:\n",
    "\n",
    "### Z-Score:\n",
    "\n",
    "The Z-score represents the number of standard deviations a data point is from the mean.\n",
    "Typically, if the Z-score is greater than 3 or less than -3, the data point can be classified as an outlier.\n",
    "\n",
    "\n",
    "### Interquartile Range (IQR):\n",
    "\n",
    "The IQR is the range between the first quartile (25th percentile) and the third quartile (75th percentile) of the data.\n",
    "Data points that lie 1.5 times the IQR below the first quartile or above the third quartile can be classified as outliers.\n",
    "\n",
    "### Visual Methods:\n",
    "\n",
    "Box plots (as you've shown) can visually represent outliers.\n",
    "Scatter plots can also help visualize outliers in multi-dimensional data.\n",
    "\n",
    "\n",
    "### Domain Knowledge:\n",
    "\n",
    "Sometimes, domain expertise can provide thresholds beyond which values are implausible.\n"
   ]
  },
  {
   "cell_type": "code",
   "execution_count": 29,
   "metadata": {
    "tags": []
   },
   "outputs": [
    {
     "name": "stdout",
     "output_type": "stream",
     "text": [
      "-----------------------------------------------------------------number of data with outliers\n"
     ]
    },
    {
     "data": {
      "text/plain": [
       "32340"
      ]
     },
     "execution_count": 29,
     "metadata": {},
     "output_type": "execute_result"
    }
   ],
   "source": [
    "print(\"-----------------------------------------------------------------number of data with outliers\")\n",
    "len(df)"
   ]
  },
  {
   "cell_type": "markdown",
   "metadata": {
    "tags": []
   },
   "source": [
    "### Calculate z-scores"
   ]
  },
  {
   "cell_type": "code",
   "execution_count": 30,
   "metadata": {
    "tags": []
   },
   "outputs": [],
   "source": [
    "from scipy import stats\n",
    "\n",
    "# Calculate z-scores for the data\n",
    "z_scores = stats.zscore(df['gwl_cm'])\n",
    "\n",
    "# Define a threshold for considering values as outliers (e.g., z-score greater than 3)\n",
    "threshold = 3\n",
    "\n",
    "# Remove rows with values that have z-scores greater than the threshold\n",
    "data_no_outliers = df[(z_scores < threshold) & (z_scores > -threshold)]"
   ]
  },
  {
   "cell_type": "code",
   "execution_count": 31,
   "metadata": {
    "tags": []
   },
   "outputs": [
    {
     "name": "stdout",
     "output_type": "stream",
     "text": [
      "-----------------------------------------------------------------number of data with no outliers applying z-scores\n"
     ]
    },
    {
     "data": {
      "text/plain": [
       "32258"
      ]
     },
     "execution_count": 31,
     "metadata": {},
     "output_type": "execute_result"
    }
   ],
   "source": [
    "print(\"-----------------------------------------------------------------number of data with no outliers applying z-scores\")\n",
    "len(data_no_outliers)"
   ]
  },
  {
   "cell_type": "markdown",
   "metadata": {},
   "source": [
    "### Check regions 3 and 9"
   ]
  },
  {
   "cell_type": "code",
   "execution_count": null,
   "metadata": {
    "tags": []
   },
   "outputs": [],
   "source": [
    "# Create descriptive statistics\n",
    "df_region_3 = df[df.region_id == 3]\n",
    "df_region_9 = df[df.region_id == 9]\n",
    "\n",
    "problematic_regions = [3, 9]"
   ]
  },
  {
   "cell_type": "code",
   "execution_count": null,
   "metadata": {
    "tags": []
   },
   "outputs": [],
   "source": [
    "from matplotlib.dates import MonthLocator\n",
    "\n",
    "\n",
    "# Set the figure size\n",
    "fig, axs = plt.subplots(len(problematic_regions), 1, figsize=(6, 3*len(problematic_regions)))\n",
    "\n",
    "# Iterate over the region IDs and create a separate plot for each region\n",
    "for i, region_id in enumerate(problematic_regions):\n",
    "    ax = axs[i]\n",
    "    sns.lineplot(x=\"date\", y=\"gwl_cm\", data=df[df.region_id==region_id], ax=ax)\n",
    "    ax.set_title(f\"Region {region_id}\")\n",
    "    ax.set_xlabel(\"Date\")\n",
    "    ax.set_ylabel(\"GWL (cm)\")\n",
    "\n",
    "    # Use MonthLocator for sparse labeling\n",
    "    ax.xaxis.set_major_locator(MonthLocator())\n",
    "\n",
    "\n",
    "# Adjust the spacing between the subplots\n",
    "plt.tight_layout()\n",
    "\n",
    "# Show the plots\n",
    "plt.show()"
   ]
  },
  {
   "cell_type": "markdown",
   "metadata": {},
   "source": [
    "## Discuss: Does the displayed values for this point make sense?\n",
    "\n",
    "- Consider to remove problematic regions."
   ]
  },
  {
   "cell_type": "markdown",
   "metadata": {},
   "source": []
  },
  {
   "cell_type": "code",
   "execution_count": null,
   "metadata": {
    "tags": []
   },
   "outputs": [],
   "source": [
    "df = df[~df.region_id.isin(problematic_regions)]"
   ]
  },
  {
   "cell_type": "code",
   "execution_count": null,
   "metadata": {
    "tags": []
   },
   "outputs": [],
   "source": [
    "# get a boxplot of response var per region but use a small graph size\n",
    "\n",
    "# set the seaborn style and size\n",
    "sns.set_style(\"whitegrid\")\n",
    "sns.set(rc={'figure.figsize':(8,5)})\n",
    "sns.boxplot(x=\"region_id\", y=\"gwl_cm\", data=df, width=0.5)"
   ]
  },
  {
   "cell_type": "code",
   "execution_count": null,
   "metadata": {
    "tags": []
   },
   "outputs": [],
   "source": [
    "# Calculate Q1 and Q3 for each region\n",
    "Q1 = df.groupby('region_id')['gwl_cm'].quantile(0.25)\n",
    "Q3 = df.groupby('region_id')['gwl_cm'].quantile(0.75)\n",
    "\n",
    "# Calculate IQR for each region\n",
    "IQR = Q3 - Q1\n",
    "\n",
    "# Define bounds for outliers for each region\n",
    "lower_bound = Q1 - 1.5 * IQR\n",
    "upper_bound = Q3 + 1.5 * IQR\n",
    "\n",
    "# Map the lower and upper bounds for each region_id in df\n",
    "df_lower_bound = df['region_id'].map(lower_bound)\n",
    "df_upper_bound = df['region_id'].map(upper_bound)\n",
    "\n",
    "# Filter out outliers\n",
    "filtered_df = df[~((df['gwl_cm'] < df_lower_bound) | (df['gwl_cm'] > df_upper_bound))]\n",
    "filtered_df"
   ]
  },
  {
   "cell_type": "code",
   "execution_count": null,
   "metadata": {
    "tags": []
   },
   "outputs": [],
   "source": [
    "# set the seaborn style and size\n",
    "sns.set_style(\"whitegrid\")\n",
    "sns.set(rc={'figure.figsize':(8,5)})\n",
    "sns.boxplot(x=\"region_id\", y=\"gwl_cm\", data=filtered_df, width=0.5)"
   ]
  },
  {
   "cell_type": "markdown",
   "metadata": {},
   "source": [
    "## Question: What to do with values above 0?"
   ]
  },
  {
   "cell_type": "code",
   "execution_count": null,
   "metadata": {
    "tags": []
   },
   "outputs": [],
   "source": [
    "import matplotlib.pyplot as plt\n",
    "\n",
    "# Get the unique region IDs\n",
    "region_ids = sorted(filtered_df.region_id.unique())\n",
    "\n",
    "# Set the figure size\n",
    "fig, axs = plt.subplots(len(region_ids), 1, figsize=(9, 4*len(region_ids)))\n",
    "\n",
    "# Iterate over the region IDs and create a separate plot for each region\n",
    "for i, region_id in enumerate(region_ids):\n",
    "    ax = axs[i]\n",
    "    sns.lineplot(x=\"date\", y=\"sm_1\", data=filtered_df[filtered_df.region_id==region_id], ax=ax)\n",
    "    ax.set_title(f\"Region {region_id}\")\n",
    "    ax.set_xlabel(\"Date\")\n",
    "    ax.set_ylabel(\"GWL (cm)\")\n",
    "\n",
    "    # Rotate x-axis labels\n",
    "    ax.tick_params(axis='x', rotation=45)\n",
    "\n",
    "    # Use MonthLocator for sparse labeling\n",
    "    ax.xaxis.set_major_locator(MonthLocator())\n",
    "\n",
    "# Adjust the spacing between the subplots\n",
    "plt.tight_layout()\n",
    "\n",
    "# Show the plots\n",
    "plt.show()"
   ]
  },
  {
   "cell_type": "markdown",
   "metadata": {},
   "source": [
    "# 3.1 Use the Domain Knowledge to further filter the data (if required)\n",
    "\n",
    "Visually, does this data make sense?"
   ]
  },
  {
   "cell_type": "markdown",
   "metadata": {},
   "source": [
    "# 4. Export the cleaned dataset to a CSV file"
   ]
  },
  {
   "cell_type": "code",
   "execution_count": null,
   "metadata": {},
   "outputs": [],
   "source": [
    "filtered_df.to_csv(\"data/9_clean_training_data/clean_training_data.csv\", index=False)"
   ]
  }
 ],
 "metadata": {
  "kernelspec": {
   "display_name": "(test) gwl-modeling",
   "language": "python",
   "name": "gwl-modeling"
  },
  "language_info": {
   "codemirror_mode": {
    "name": "ipython",
    "version": 3
   },
   "file_extension": ".py",
   "mimetype": "text/x-python",
   "name": "python",
   "nbconvert_exporter": "python",
   "pygments_lexer": "ipython3",
   "version": "3.8.10"
  }
 },
 "nbformat": 4,
 "nbformat_minor": 4
}
