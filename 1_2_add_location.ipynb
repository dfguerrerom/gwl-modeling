{
 "cells": [
  {
   "cell_type": "code",
   "execution_count": 1,
   "metadata": {},
   "outputs": [],
   "source": [
    "%load_ext autoreload\n",
    "%autoreload 2"
   ]
  },
  {
   "cell_type": "code",
   "execution_count": null,
   "metadata": {},
   "outputs": [],
   "source": [
    "import pandas as pd\n",
    "from pathlib import Path\n",
    "import geopandas as gpd"
   ]
  },
  {
   "cell_type": "markdown",
   "metadata": {},
   "source": [
    "# 1. Read in the data"
   ]
  },
  {
   "cell_type": "code",
   "execution_count": null,
   "metadata": {},
   "outputs": [],
   "source": [
    "explanatory_file_path = \"data/7_training_data/explanatory_with_response_var_and_source_extra_sum_prec.csv\"\n",
    "base_df = pd.read_csv(explanatory_file_path)\n",
    "print(\"lenght of base_df: \", len(base_df))\n",
    "# Drop duplicates on id and date\n",
    "base_df = base_df.drop_duplicates(subset=[\"id\", \"date\"])\n",
    "print(\"lenght of base_df after dropping duplicates: \", len(base_df))\n",
    "\n",
    "# Find if there are any NaNs and remove them from the dataset \n",
    "# Some NAN values are still present in the dataset, probably due to the fact that some of the\n",
    "# points fall outside bounds of GLDSA dataset\n",
    "base_df = base_df[~base_df.isna().any(axis=1)]\n",
    "\n",
    "print(\"lenght of base_df after droping any nan values: \", len(base_df))\n",
    "\n",
    "unique_coords = base_df[[\"id\", 'lon', 'lat']].drop_duplicates()\n",
    "print(len(base_df), len(unique_coords))"
   ]
  },
  {
   "cell_type": "markdown",
   "metadata": {},
   "source": [
    "## 2. Add regions to the points"
   ]
  },
  {
   "cell_type": "markdown",
   "metadata": {},
   "source": [
    "<center><img src=\"img/training_regions.png\" alt=\"image\" width=\"900\"/></center>\n",
    "<p>Below we will add the region attribute to each of the points, this will be useful if we want to train different models over different subsets.</p>"
   ]
  },
  {
   "cell_type": "code",
   "execution_count": null,
   "metadata": {},
   "outputs": [],
   "source": [
    "shp_path = Path(\"data/0_shp/\")\n",
    "region_path = \"regions_to_request_explanatory_all.gpkg\"\n",
    "gdf_regions = gpd.GeoDataFrame.from_file(shp_path/region_path)\n",
    "\n",
    "unique_coords = base_df[[\"id\", 'lon', 'lat']].drop_duplicates()\n",
    "print(len(base_df), len(unique_coords))\n",
    "\n",
    "# Create geodataframe from x y coordinates\n",
    "station_with_region_df = gpd.GeoDataFrame(unique_coords, geometry=gpd.points_from_xy(unique_coords.lon, unique_coords.lat), crs=\"EPSG:4326\")\n",
    "\n",
    "# # Add the region id to each point\n",
    "station_with_region_df = gpd.sjoin(station_with_region_df, gdf_regions[[\"region_id\", \"geometry\"]], how=\"left\", predicate=\"within\")\n",
    "\n",
    "print(\"lenght of station_with_region_df: \", len(station_with_region_df))\n",
    "\n",
    "# Merge the region id to the main dataframe\n",
    "df = base_df.merge(station_with_region_df[[\"id\", \"region_id\"]], on=\"id\", how=\"left\")\n",
    "\n",
    "# print the number of unique regions\n",
    "print(\"lengh of df: \", len(df))\n",
    "\n",
    "# Convert to GeoDataFrame\n",
    "df = gpd.GeoDataFrame(df, geometry=gpd.points_from_xy(df.lon, df.lat))\n",
    "# Set CRS to WGS84\n",
    "df.crs = \"EPSG:4326\"\n",
    "\n",
    "# read phu regions shapefile\n",
    "phu_regions = gpd.read_file(\"data/0_shp/all_phus_numbered.gpkg\")\n",
    "\n",
    "# add phu region to each point\n",
    "df = gpd.sjoin(df, phu_regions, how=\"left\", predicate=\"within\")\n",
    "print(\"lenght of df after adding phu regions: \", len(df))"
   ]
  },
  {
   "cell_type": "code",
   "execution_count": null,
   "metadata": {},
   "outputs": [],
   "source": [
    "# I want to use that dataframe as the base for all the calculations, save it to a file\n",
    "df.to_csv(\"data/9_clean_training_data/all_training_data_with_extra_and_locations_and_precipSum.csv\")"
   ]
  }
 ],
 "metadata": {
  "kernelspec": {
   "display_name": "Python 3",
   "language": "python",
   "name": "python3"
  },
  "language_info": {
   "codemirror_mode": {
    "name": "ipython",
    "version": 3
   },
   "file_extension": ".py",
   "mimetype": "text/x-python",
   "name": "python",
   "nbconvert_exporter": "python",
   "pygments_lexer": "ipython3",
   "version": "3.10.12"
  }
 },
 "nbformat": 4,
 "nbformat_minor": 4
}
