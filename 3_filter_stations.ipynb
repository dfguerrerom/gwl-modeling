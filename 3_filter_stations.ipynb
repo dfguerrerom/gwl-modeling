{
 "cells": [
  {
   "cell_type": "code",
   "execution_count": 1,
   "metadata": {},
   "outputs": [],
   "source": [
    "import geopandas as gpd\n",
    "import pandas as pd\n",
    "import ee\n",
    "ee.Initialize()"
   ]
  },
  {
   "cell_type": "code",
   "execution_count": 5,
   "metadata": {},
   "outputs": [
    {
     "data": {
      "text/plain": [
       "2002"
      ]
     },
     "execution_count": 5,
     "metadata": {},
     "output_type": "execute_result"
    }
   ],
   "source": [
    "gdf = gpd.read_file(\"data/0_shp/unique_stations_no_repeated.shp\")\n",
    "len(gdf)"
   ]
  },
  {
   "cell_type": "code",
   "execution_count": 3,
   "metadata": {},
   "outputs": [],
   "source": [
    "table = ee.FeatureCollection(\"users/dfgm2006/FAO/unique_stations_indonesia\")\n",
    "\n",
    "# Import the Landsat 8 TOA image collection.\n",
    "l8 = ee.ImageCollection('LANDSAT/LC08/C02/T1_TOA');\n",
    "\n",
    "point = table.filter(ee.Filter.eq(\"id\", \"BRG_150710_03\")).first()\n",
    "point = ee.Feature(point).buffer(30).geometry().bounds()\n",
    "\n",
    "\n",
    "ic = ee.ImageCollection(\n",
    "  l8.filterBounds(table)\n",
    "    .filterDate('2020-01-01', '2020-06-30')\n",
    ");\n",
    "\n",
    "def get_ndvi(image):\n",
    "  # Compute the Normalized Difference Vegetation Index (NDVI).\n",
    "  nir = image.select('B5');\n",
    "  red = image.select('B4');\n",
    "  return nir.subtract(red).divide(nir.add(red)).rename('NDVI');\n",
    "  \n",
    "ndvi = ic.map(get_ndvi).reduce(ee.Reducer.mean())\n",
    "\n",
    "\n",
    "result_0 = ee.Image(ndvi).reduceRegion(**{\n",
    "  \"reducer\" : ee.Reducer.mean(),\n",
    "  \"geometry\" : point,\n",
    "  \"scale\" : 30\n",
    "})\n",
    "\n",
    "result = ee.Image(ndvi).reduceRegions(**{\n",
    "    \"collection\": table,  \n",
    "    \"reducer\": ee.Reducer.mean(),\n",
    "    \"scale\": 30\n",
    "}).getInfo()"
   ]
  },
  {
   "cell_type": "code",
   "execution_count": 4,
   "metadata": {},
   "outputs": [],
   "source": [
    "avg_ndvi = pd.DataFrame([(feature[\"properties\"][\"id\"], feature[\"properties\"][\"mean\"]) for feature in result[\"features\"]])\n",
    "avg_ndvi.columns = [\"id\", \"ndvi\"]"
   ]
  },
  {
   "cell_type": "code",
   "execution_count": 5,
   "metadata": {},
   "outputs": [
    {
     "data": {
      "image/png": "[encoded data removed]",
      "text/plain": [
       "<Figure size 640x480 with 1 Axes>"
      ]
     },
     "metadata": {},
     "output_type": "display_data"
    }
   ],
   "source": [
    "# plot boxplot of ndvi\n",
    "import matplotlib.pyplot as plt\n",
    "import seaborn as sns\n",
    "sns.set_theme(style=\"whitegrid\")\n",
    "ax = sns.boxplot(x=avg_ndvi[\"ndvi\"])\n",
    "plt.show()"
   ]
  },
  {
   "cell_type": "code",
   "execution_count": 7,
   "metadata": {},
   "outputs": [
    {
     "data": {
      "text/plain": [
       "count    2002.000000\n",
       "mean        0.384861\n",
       "std         0.092269\n",
       "min         0.137151\n",
       "25%         0.319824\n",
       "50%         0.386196\n",
       "75%         0.449266\n",
       "max         0.629946\n",
       "Name: ndvi, dtype: float64"
      ]
     },
     "execution_count": 7,
     "metadata": {},
     "output_type": "execute_result"
    }
   ],
   "source": [
    "# describe the ndvi\n",
    "avg_ndvi[\"ndvi\"].describe()"
   ]
  },
  {
   "cell_type": "code",
   "execution_count": 8,
   "metadata": {},
   "outputs": [
    {
     "data": {
      "text/html": [
       "<div>\n",
       "<style scoped>\n",
       "    .dataframe tbody tr th:only-of-type {\n",
       "        vertical-align: middle;\n",
       "    }\n",
       "\n",
       "    .dataframe tbody tr th {\n",
       "        vertical-align: top;\n",
       "    }\n",
       "\n",
       "    .dataframe thead th {\n",
       "        text-align: right;\n",
       "    }\n",
       "</style>\n",
       "<table border=\"1\" class=\"dataframe\">\n",
       "  <thead>\n",
       "    <tr style=\"text-align: right;\">\n",
       "      <th></th>\n",
       "      <th>id</th>\n",
       "      <th>ndvi</th>\n",
       "    </tr>\n",
       "  </thead>\n",
       "  <tbody>\n",
       "    <tr>\n",
       "      <th>3</th>\n",
       "      <td>15_RAPP_TP-VI-8</td>\n",
       "      <td>0.326582</td>\n",
       "    </tr>\n",
       "    <tr>\n",
       "      <th>4</th>\n",
       "      <td>15_RAPP_TP-XII-3a</td>\n",
       "      <td>0.379156</td>\n",
       "    </tr>\n",
       "    <tr>\n",
       "      <th>6</th>\n",
       "      <td>15_RAPP_TP-XIII-61</td>\n",
       "      <td>0.270214</td>\n",
       "    </tr>\n",
       "    <tr>\n",
       "      <th>7</th>\n",
       "      <td>15_RAPP_TP-XII-32b</td>\n",
       "      <td>0.321629</td>\n",
       "    </tr>\n",
       "    <tr>\n",
       "      <th>8</th>\n",
       "      <td>15_RAPP_PPDVI-11a</td>\n",
       "      <td>0.313400</td>\n",
       "    </tr>\n",
       "    <tr>\n",
       "      <th>...</th>\n",
       "      <td>...</td>\n",
       "      <td>...</td>\n",
       "    </tr>\n",
       "    <tr>\n",
       "      <th>1995</th>\n",
       "      <td>32_BAP_ASH1010</td>\n",
       "      <td>0.362954</td>\n",
       "    </tr>\n",
       "    <tr>\n",
       "      <th>1996</th>\n",
       "      <td>32_BAP_SJO6050</td>\n",
       "      <td>0.340956</td>\n",
       "    </tr>\n",
       "    <tr>\n",
       "      <th>1999</th>\n",
       "      <td>10_MTI_MTI_J135_P1</td>\n",
       "      <td>0.361369</td>\n",
       "    </tr>\n",
       "    <tr>\n",
       "      <th>2000</th>\n",
       "      <td>32_BAP_BRF3120</td>\n",
       "      <td>0.320919</td>\n",
       "    </tr>\n",
       "    <tr>\n",
       "      <th>2001</th>\n",
       "      <td>15_RAPP_PPDV-20</td>\n",
       "      <td>0.365405</td>\n",
       "    </tr>\n",
       "  </tbody>\n",
       "</table>\n",
       "<p>1001 rows × 2 columns</p>\n",
       "</div>"
      ],
      "text/plain": [
       "                      id      ndvi\n",
       "3        15_RAPP_TP-VI-8  0.326582\n",
       "4      15_RAPP_TP-XII-3a  0.379156\n",
       "6     15_RAPP_TP-XIII-61  0.270214\n",
       "7     15_RAPP_TP-XII-32b  0.321629\n",
       "8      15_RAPP_PPDVI-11a  0.313400\n",
       "...                  ...       ...\n",
       "1995      32_BAP_ASH1010  0.362954\n",
       "1996      32_BAP_SJO6050  0.340956\n",
       "1999  10_MTI_MTI_J135_P1  0.361369\n",
       "2000      32_BAP_BRF3120  0.320919\n",
       "2001     15_RAPP_PPDV-20  0.365405\n",
       "\n",
       "[1001 rows x 2 columns]"
      ]
     },
     "execution_count": 8,
     "metadata": {},
     "output_type": "execute_result"
    }
   ],
   "source": [
    "avg_ndvi[avg_ndvi.ndvi <= 0.386196]"
   ]
  },
  {
   "cell_type": "code",
   "execution_count": 10,
   "metadata": {},
   "outputs": [],
   "source": [
    "# Export ids of stations with ndvi <= 0.386196\n",
    "avg_ndvi[avg_ndvi.ndvi <= 0.386196][\"id\"].to_csv(\"data/ids_low_ndvi.csv\", index=False)"
   ]
  },
  {
   "cell_type": "markdown",
   "metadata": {},
   "source": [
    "## FIlter stations by correlation"
   ]
  },
  {
   "cell_type": "code",
   "execution_count": 2,
   "metadata": {},
   "outputs": [],
   "source": [
    "import pandas as pd\n",
    "import geopandas as gpd"
   ]
  },
  {
   "cell_type": "code",
   "execution_count": 6,
   "metadata": {},
   "outputs": [
    {
     "data": {
      "text/html": [
       "<div>\n",
       "<style scoped>\n",
       "    .dataframe tbody tr th:only-of-type {\n",
       "        vertical-align: middle;\n",
       "    }\n",
       "\n",
       "    .dataframe tbody tr th {\n",
       "        vertical-align: top;\n",
       "    }\n",
       "\n",
       "    .dataframe thead th {\n",
       "        text-align: right;\n",
       "    }\n",
       "</style>\n",
       "<table border=\"1\" class=\"dataframe\">\n",
       "  <thead>\n",
       "    <tr style=\"text-align: right;\">\n",
       "      <th></th>\n",
       "      <th>source</th>\n",
       "      <th>id</th>\n",
       "      <th>lon</th>\n",
       "      <th>lat</th>\n",
       "      <th>date</th>\n",
       "      <th>gwl_cm</th>\n",
       "    </tr>\n",
       "  </thead>\n",
       "  <tbody>\n",
       "    <tr>\n",
       "      <th>0</th>\n",
       "      <td>ach</td>\n",
       "      <td>BRG_140301_01</td>\n",
       "      <td>102.099167</td>\n",
       "      <td>1.519444</td>\n",
       "      <td>2018-10-15</td>\n",
       "      <td>-14.4</td>\n",
       "    </tr>\n",
       "    <tr>\n",
       "      <th>1</th>\n",
       "      <td>ach</td>\n",
       "      <td>BRG_140301_01</td>\n",
       "      <td>102.099167</td>\n",
       "      <td>1.519444</td>\n",
       "      <td>2018-10-16</td>\n",
       "      <td>-17.9</td>\n",
       "    </tr>\n",
       "    <tr>\n",
       "      <th>2</th>\n",
       "      <td>ach</td>\n",
       "      <td>BRG_140301_01</td>\n",
       "      <td>102.099167</td>\n",
       "      <td>1.519444</td>\n",
       "      <td>2018-10-17</td>\n",
       "      <td>-20.6</td>\n",
       "    </tr>\n",
       "    <tr>\n",
       "      <th>3</th>\n",
       "      <td>ach</td>\n",
       "      <td>BRG_140301_01</td>\n",
       "      <td>102.099167</td>\n",
       "      <td>1.519444</td>\n",
       "      <td>2018-10-18</td>\n",
       "      <td>-18.1</td>\n",
       "    </tr>\n",
       "    <tr>\n",
       "      <th>4</th>\n",
       "      <td>ach</td>\n",
       "      <td>BRG_140301_01</td>\n",
       "      <td>102.099167</td>\n",
       "      <td>1.519444</td>\n",
       "      <td>2018-10-19</td>\n",
       "      <td>-23.1</td>\n",
       "    </tr>\n",
       "    <tr>\n",
       "      <th>...</th>\n",
       "      <td>...</td>\n",
       "      <td>...</td>\n",
       "      <td>...</td>\n",
       "      <td>...</td>\n",
       "      <td>...</td>\n",
       "      <td>...</td>\n",
       "    </tr>\n",
       "    <tr>\n",
       "      <th>244187</th>\n",
       "      <td>wal</td>\n",
       "      <td>138_NBR_M13</td>\n",
       "      <td>135.275777</td>\n",
       "      <td>-3.407239</td>\n",
       "      <td>2023-05-26</td>\n",
       "      <td>-45.0</td>\n",
       "    </tr>\n",
       "    <tr>\n",
       "      <th>244188</th>\n",
       "      <td>wal</td>\n",
       "      <td>138_NBR_M13</td>\n",
       "      <td>135.275777</td>\n",
       "      <td>-3.407239</td>\n",
       "      <td>2023-06-13</td>\n",
       "      <td>-14.0</td>\n",
       "    </tr>\n",
       "    <tr>\n",
       "      <th>244189</th>\n",
       "      <td>wal</td>\n",
       "      <td>138_NBR_M13</td>\n",
       "      <td>135.275777</td>\n",
       "      <td>-3.407239</td>\n",
       "      <td>2023-06-26</td>\n",
       "      <td>-30.0</td>\n",
       "    </tr>\n",
       "    <tr>\n",
       "      <th>244190</th>\n",
       "      <td>wal</td>\n",
       "      <td>138_NBR_M13</td>\n",
       "      <td>135.275777</td>\n",
       "      <td>-3.407239</td>\n",
       "      <td>2023-07-15</td>\n",
       "      <td>-27.0</td>\n",
       "    </tr>\n",
       "    <tr>\n",
       "      <th>244191</th>\n",
       "      <td>wal</td>\n",
       "      <td>138_NBR_M13</td>\n",
       "      <td>135.275777</td>\n",
       "      <td>-3.407239</td>\n",
       "      <td>2023-07-28</td>\n",
       "      <td>-33.0</td>\n",
       "    </tr>\n",
       "  </tbody>\n",
       "</table>\n",
       "<p>244192 rows × 6 columns</p>\n",
       "</div>"
      ],
      "text/plain": [
       "       source             id         lon       lat        date  gwl_cm\n",
       "0         ach  BRG_140301_01  102.099167  1.519444  2018-10-15   -14.4\n",
       "1         ach  BRG_140301_01  102.099167  1.519444  2018-10-16   -17.9\n",
       "2         ach  BRG_140301_01  102.099167  1.519444  2018-10-17   -20.6\n",
       "3         ach  BRG_140301_01  102.099167  1.519444  2018-10-18   -18.1\n",
       "4         ach  BRG_140301_01  102.099167  1.519444  2018-10-19   -23.1\n",
       "...       ...            ...         ...       ...         ...     ...\n",
       "244187    wal    138_NBR_M13  135.275777 -3.407239  2023-05-26   -45.0\n",
       "244188    wal    138_NBR_M13  135.275777 -3.407239  2023-06-13   -14.0\n",
       "244189    wal    138_NBR_M13  135.275777 -3.407239  2023-06-26   -30.0\n",
       "244190    wal    138_NBR_M13  135.275777 -3.407239  2023-07-15   -27.0\n",
       "244191    wal    138_NBR_M13  135.275777 -3.407239  2023-07-28   -33.0\n",
       "\n",
       "[244192 rows x 6 columns]"
      ]
     },
     "execution_count": 6,
     "metadata": {},
     "output_type": "execute_result"
    }
   ],
   "source": [
    "df = pd.read_csv(\"data/field_data_all.csv\")\n"
   ]
  }
 ],
 "metadata": {
  "kernelspec": {
   "display_name": "gwl-modeling",
   "language": "python",
   "name": "python3"
  },
  "language_info": {
   "codemirror_mode": {
    "name": "ipython",
    "version": 3
   },
   "file_extension": ".py",
   "mimetype": "text/x-python",
   "name": "python",
   "nbconvert_exporter": "python",
   "pygments_lexer": "ipython3",
   "version": "3.10.12"
  }
 },
 "nbformat": 4,
 "nbformat_minor": 2
}
