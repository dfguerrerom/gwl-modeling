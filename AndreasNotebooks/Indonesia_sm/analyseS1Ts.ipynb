{
 "cells": [
  {
   "cell_type": "code",
   "execution_count": 53,
   "metadata": {},
   "outputs": [
    {
     "name": "stdout",
     "output_type": "stream",
     "text": [
      "Populating the interactive namespace from numpy and matplotlib\n"
     ]
    },
    {
     "name": "stderr",
     "output_type": "stream",
     "text": [
      "/usr/local/lib/python3.6/dist-packages/IPython/core/magics/pylab.py:160: UserWarning: pylab import has clobbered these variables: ['mean']\n",
      "`%matplotlib` prevents importing * from pylab and numpy\n",
      "  \"\\n`%matplotlib` prevents importing * from pylab and numpy\"\n"
     ]
    }
   ],
   "source": [
    "from pathlib import Path\n",
    "import geopandas as gpd\n",
    "import pandas as pd\n",
    "import numpy as np\n",
    "\n",
    "from datetime import datetime as dt, timedelta\n",
    "from calendar import isleap\n",
    "\n",
    "#---------------------------------------------------\n",
    "# for plotting purposes we use this iPython magic\n",
    "%matplotlib inline\n",
    "%pylab inline\n",
    "pylab.rcParams['figure.figsize'] = (19, 19)\n",
    "#---------------------------------------------------"
   ]
  },
  {
   "cell_type": "code",
   "execution_count": 54,
   "metadata": {},
   "outputs": [],
   "source": [
    "def date_as_float(date):\n",
    "    size_of_day = 1. / 366.\n",
    "    size_of_second = size_of_day / (24. * 60. * 60.)\n",
    "    days_from_jan1 = date - dt(date.year, 1, 1)\n",
    "\n",
    "    if not isleap(date.year) and days_from_jan1.days >= 31 + 28:\n",
    "        days_from_jan1 += timedelta(1)\n",
    "\n",
    "    return (\n",
    "            date.year + days_from_jan1.days * size_of_day +\n",
    "            days_from_jan1.seconds * size_of_second\n",
    "    )\n",
    "\n",
    "\n",
    "def difference_in_years(start, end):\n",
    "    return date_as_float(end) - date_as_float(start)\n",
    "\n",
    "\n",
    "def get_harmonics(df, polarisation, date):\n",
    "    # construct independent variables\n",
    "    dates, sines, cosines, intercept = [], [], [], []\n",
    "    two_pi = np.multiply(2, np.pi)\n",
    "\n",
    "    for date in sorted(df.index):\n",
    "        date = dt.strftime(date, \"%y%m%d\")\n",
    "\n",
    "        delta = difference_in_years(\n",
    "            dt.strptime('140101', \"%y%m%d\"),\n",
    "            dt.strptime(date, \"%y%m%d\")\n",
    "        )\n",
    "\n",
    "        dates.append(delta)\n",
    "        sines.append(np.sin(np.multiply(two_pi, delta)))\n",
    "        cosines.append(np.cos(np.multiply(two_pi, delta)))\n",
    "        intercept.append(1)\n",
    "\n",
    "    x_array = np.array([dates, cosines, sines, intercept])\n",
    "\n",
    "    x, residuals, _, _ = np.linalg.lstsq(x_array.T, df[pol], rcond=-1)\n",
    "\n",
    "    y_pred = []\n",
    "    for date in sorted(df.index):\n",
    "        date_str = dt.strftime(date, \"%y%m%d\")\n",
    "\n",
    "        delta = difference_in_years(\n",
    "            dt.strptime('140101', \"%y%m%d\"),\n",
    "            dt.strptime(date_str, \"%y%m%d\")\n",
    "        )\n",
    "\n",
    "        date = delta * x[0]\n",
    "        cos_term = np.cos(np.multiply(two_pi, delta)) * x[1]\n",
    "        sin_term = np.sin(np.multiply(two_pi, delta)) * x[2]\n",
    "        intercept = 1*x[3]\n",
    "\n",
    "\n",
    "        y = date + sin_term + cos_term + intercept \n",
    "        y_pred.append(y)\n",
    "\n",
    "    amplitude = np.hypot(x[1], x[2])\n",
    "    phase = np.arctan2(x[2], x[1])\n",
    "    residuals = np.sqrt(np.divide(residuals, len(df)))[0]\n",
    "    slope = x[0]\n",
    "    mean = x[3]\n",
    "\n",
    "    return amplitude, phase, residuals, slope, mean"
   ]
  },
  {
   "cell_type": "code",
   "execution_count": 55,
   "metadata": {},
   "outputs": [],
   "source": [
    "stations = gpd.read_file('/home/vollrath/Indonesia_sm/stations_pix_corr.shp')\n",
    "d = {}\n",
    "for i, row in stations.iterrows():\n",
    "    station = row['stasiun']\n",
    "     \n",
    "    \n",
    "    file =  list(Path('/home/vollrath/Indonesia_sm/s1_timeseries/').glob(f'*{station}.s1.ts.pickle'))[0]\n",
    "    df = pd.read_pickle(file)\n",
    "    df['date'] = pd.to_datetime(df['date'])\n",
    "    df = df.set_index('date').dropna()\n",
    "    for pol in ['VV', 'VH']:\n",
    "        row[f'amplitude_{pol}'], row[f'phase_{pol}'], row[f'residuals_{pol}'], row[f'slope_{pol}'], row[f'mean_{pol}'] = get_harmonics(df, pol, dt.strptime('2018-01-01', '%Y-%m-%d'))\n",
    "    \n",
    "    d[station] = row\n",
    "    \n",
    "df = pd.DataFrame.from_dict(d, orient='index')"
   ]
  },
  {
   "cell_type": "code",
   "execution_count": null,
   "metadata": {},
   "outputs": [],
   "source": [
    "import datetime\n",
    "#df = df[df['track'] == 18]\n",
    "print(len(df))\n",
    "dfilter = datetime.datetime.strptime('2016-01-01', '%Y-%m-%d')\n",
    "df = df[df.index >= dfilter]\n",
    "print(len(df))"
   ]
  },
  {
   "cell_type": "code",
   "execution_count": null,
   "metadata": {},
   "outputs": [],
   "source": [
    "#df['VV'] = to_power(df['VV'].values)"
   ]
  },
  {
   "cell_type": "code",
   "execution_count": null,
   "metadata": {},
   "outputs": [],
   "source": [
    "df['VV_pred'] = y_pred\n",
    "df['VV_pred'].plot()\n",
    "#df['VV'].plot()\n",
    "df['VV'].plot() #.resample('Q').mean().plot()\n",
    "df['VV'].mean()"
   ]
  },
  {
   "cell_type": "code",
   "execution_count": 57,
   "metadata": {},
   "outputs": [
    {
     "name": "stdout",
     "output_type": "stream",
     "text": [
      "-0.003629197027678518 -0.0036291970276785116\n"
     ]
    }
   ],
   "source": [
    "from scipy.stats import pearsonr\n",
    "\n",
    "r, p = pearsonr(df['corr_gwl'], df['amplitude_VV'])\n",
    "r2 = df['corr_gwl'].corr(df['amplitude_VV'])\n",
    "print(r, r2)"
   ]
  },
  {
   "cell_type": "markdown",
   "metadata": {},
   "source": [
    "### file =  list(Path('/home/vollrath/Indonesia_sm/s1_timeseries/').glob('*BRG_150503_01.s1.ts.pickle'))[0]\n",
    "df = pd.read_pickle(file)"
   ]
  },
  {
   "cell_type": "code",
   "execution_count": 23,
   "metadata": {},
   "outputs": [],
   "source": [
    "df['date'] = pd.to_datetime(df['date'])\n",
    "df = df.set_index('date')"
   ]
  },
  {
   "cell_type": "code",
   "execution_count": 64,
   "metadata": {},
   "outputs": [
    {
     "data": {
      "text/plain": [
       "<AxesSubplot:xlabel='corr_sm', ylabel='mean_VH'>"
      ]
     },
     "execution_count": 64,
     "metadata": {},
     "output_type": "execute_result"
    },
    {
     "data": {
      "image/png": "[encoded data removed]",
      "text/plain": [
       "<Figure size 1368x1368 with 1 Axes>"
      ]
     },
     "metadata": {
      "needs_background": "light"
     },
     "output_type": "display_data"
    }
   ],
   "source": [
    "df.plot('corr_sm', 'mean_VH', kind='scatter')"
   ]
  },
  {
   "cell_type": "code",
   "execution_count": null,
   "metadata": {},
   "outputs": [],
   "source": []
  }
 ],
 "metadata": {
  "kernelspec": {
   "display_name": "Python 3",
   "language": "python",
   "name": "python3"
  },
  "language_info": {
   "codemirror_mode": {
    "name": "ipython",
    "version": 3
   },
   "file_extension": ".py",
   "mimetype": "text/x-python",
   "name": "python",
   "nbconvert_exporter": "python",
   "pygments_lexer": "ipython3",
   "version": "3.8.10"
  }
 },
 "nbformat": 4,
 "nbformat_minor": 4
}
