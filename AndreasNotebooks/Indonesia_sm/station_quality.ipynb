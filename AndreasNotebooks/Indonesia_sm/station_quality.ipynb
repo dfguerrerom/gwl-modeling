{
 "cells": [
  {
   "cell_type": "code",
   "execution_count": 1,
   "metadata": {},
   "outputs": [],
   "source": [
    "from pathlib import Path\n",
    "import pandas as pd\n",
    "import numpy as np\n",
    "\n",
    "import seaborn as sns\n",
    "import geopandas as gpd\n",
    "from sklearn.ensemble import RandomForestRegressor\n",
    "from sklearn.model_selection import train_test_split\n",
    "from sklearn.preprocessing import RobustScaler\n",
    "from sklearn.metrics import r2_score, mean_squared_error"
   ]
  },
  {
   "cell_type": "code",
   "execution_count": 2,
   "metadata": {},
   "outputs": [],
   "source": [
    "gdf = gpd.read_file('/home/vollrath/Indonesia_sm/gdf_s1_aux.gpkg')\n",
    "stations = gpd.read_file('/home/vollrath/Indonesia_sm/stations_pix_corr.shp')\n",
    "\n",
    "station_trusted = [\n",
    "    'BRG_621103_05',\n",
    "    'BRG_621103_04',\n",
    "    'BRG_621103_01',\n",
    "    'BRG_621103_02',\n",
    "    'BRG_621103_06',\n",
    "    'BRG_621103_03'\n",
    "]\n",
    "\n",
    "stat_high = stations.stasiun[(stations['corr_gwl'] >= 0.5)]\n",
    "stat_med = stations.stasiun[(stations['corr_gwl'] < 0.5) & (stations['corr_gwl'] >= 0.3)]\n",
    "stat_low = stations.stasiun[(stations['corr_gwl'] < 0.3)]"
   ]
  },
  {
   "cell_type": "code",
   "execution_count": 49,
   "metadata": {},
   "outputs": [],
   "source": [
    "d = {}\n",
    "for i, station in enumerate(gdf.station.unique()):\n",
    "\n",
    "    #print(station)\n",
    "    \n",
    "    # create a df for training without the station\n",
    "    gdf_train = gdf[gdf.station != station]\n",
    "    \n",
    "    # create a df for test of the station\n",
    "    gdf_test = gdf[gdf.station == station]\n",
    "    #print(len(gdf), len(gdf_train), len(gdf_test))\n",
    "    \n",
    "    st = stations[stations.stasiun == station]\n",
    "    #print(gdf_test.VV_stdDev.median(), st.corr_sm.values)\n",
    "    \n",
    "    \n",
    "    d[station] = gdf_test.kVV_stdDev.median(), st.corr_sm.values[0]"
   ]
  },
  {
   "cell_type": "code",
   "execution_count": 50,
   "metadata": {},
   "outputs": [
    {
     "data": {
      "text/plain": [
       "RangeIndex(start=0, stop=2, step=1)"
      ]
     },
     "execution_count": 50,
     "metadata": {},
     "output_type": "execute_result"
    }
   ],
   "source": [
    "stat = pd.DataFrame.from_dict(d, orient='index')\n",
    "stat.columns"
   ]
  },
  {
   "cell_type": "code",
   "execution_count": 51,
   "metadata": {},
   "outputs": [
    {
     "name": "stdout",
     "output_type": "stream",
     "text": [
      "Index(['sd', 'corr'], dtype='object')\n"
     ]
    },
    {
     "data": {
      "text/plain": [
       "<AxesSubplot:xlabel='sd', ylabel='corr'>"
      ]
     },
     "execution_count": 51,
     "metadata": {},
     "output_type": "execute_result"
    },
    {
     "data": {
      "image/png": "[encoded data removed]",
      "text/plain": [
       "<Figure size 432x288 with 1 Axes>"
      ]
     },
     "metadata": {
      "needs_background": "light"
     },
     "output_type": "display_data"
    }
   ],
   "source": [
    "stat.columns = ['sd', 'corr']\n",
    "print(stat.columns)\n",
    "stat.plot(kind='scatter', x='sd', y='corr')"
   ]
  },
  {
   "cell_type": "code",
   "execution_count": null,
   "metadata": {},
   "outputs": [],
   "source": [
    "stations = gpd.read_file('/home/vollrath/Indonesia_sm/stations_pix_corr.shp')\n",
    "\n",
    " \n",
    "len(stat_high)"
   ]
  },
  {
   "cell_type": "code",
   "execution_count": null,
   "metadata": {},
   "outputs": [],
   "source": [
    "bandlist = [\n",
    "     #'orbit_direction',\n",
    "     'VV', 'VH', 'VVVH_ratio', 'angle', 'LIA', #'layover', 'shadow', 'no_data_mask', \n",
    "     'precipitation', 'prec_3', 'prec_7', 'prec_30', \n",
    "     #'gldas_mean', 'gldas_stddev',\n",
    "     'sm_1',  'sm_3', 'sm_7', 'sm_30',\n",
    "     'elevation', 'aspect', 'slope', \n",
    "     'landcover',\n",
    "     'kVV_mean', 'kVV_stdDev', \n",
    "     'kVV_p5', 'kVV_p95',\n",
    "     'kVH_mean', 'kVH_stdDev', \n",
    "     'kVH_p5', 'kVH_p95', \n",
    "     'VV_mean', 'VV_stdDev', \n",
    "     'VV_p5', 'VV_p95', \n",
    "     'VH_mean', 'VH_stdDev', \n",
    "     'VH_p5', 'VH_p95'\n",
    "    ]\n",
    "\n",
    "#X = gdf_high[bandlist]\n",
    "#y = gdf_high['SM_rata']\n",
    "#X_train, X_test, y_train, y_test = train_test_split(X, y, test_size=0.3, random_state=42)"
   ]
  },
  {
   "cell_type": "code",
   "execution_count": null,
   "metadata": {},
   "outputs": [],
   "source": [
    "gdf_high = gdf[gdf.station.isin(stat_high)].copy()\n",
    "\n",
    "for i, station in enumerate(gdf_high.station.unique()):\n",
    "\n",
    "    # create a df for training without the station\n",
    "    gdf_train = gdf_high[gdf_high.station != station]\n",
    "    \n",
    "    # create a df for test of the station\n",
    "    gdf_test = gdf_high[gdf_high.station == station]\n",
    "    print(len(gdf_high), len(gdf_train), len(gdf_test))\n",
    "    \n",
    "    X_train, X_test = gdf_train[bandlist], gdf_test[bandlist]\n",
    "    y_train, y_test = gdf_train['GWL_rata'], gdf_test['GWL_rata']\n",
    "    \n",
    "    regr = RandomForestRegressor(n_estimators=250, min_samples_leaf=1, random_state=42, oob_score=True, criterion='mse')\n",
    "    regr.fit(X_train, y_train)\n",
    "    y_pred_test = regr.predict(X_test)\n",
    "    y_pred_train = regr.predict(X_train)\n",
    "    \n",
    "    r2_train = r2_score(y_train, y_pred_train)\n",
    "    r2_test = r2_score(y_test, y_pred_test)\n",
    "    mse_test = np.sqrt(mean_squared_error(y_test, y_pred_test))\n",
    "    mse_train = np.sqrt(mean_squared_error(y_train, y_pred_train))\n",
    "    print(station, r2_train, r2_test, mse_train, mse_test, y_train.max(), y_train.min(), y_test.mean(), y_test.std())\n",
    "    d = {}\n",
    "    d[station] = [len(gdf_train), len(gdf_test), r2_train, r2_test, mse_train, mse_test, y_test.mean(), y_test.std()]\n",
    "    if i == 0:\n",
    "        df = pd.DataFrame.from_dict(d, orient='index')\n",
    "    else: \n",
    "        df = pd.concat([df, pd.DataFrame.from_dict(d, orient='index')])\n",
    "        "
   ]
  },
  {
   "cell_type": "code",
   "execution_count": null,
   "metadata": {},
   "outputs": [],
   "source": [
    "df.columns = ['samples_train', 'samples_test', 'r2train', 'r2test', 'rmse2train', 'rmse2test', 'test_mean_sm', 'test_sd_sm']\n",
    "df = df.sort_values('r2test', ascending=False)"
   ]
  },
  {
   "cell_type": "code",
   "execution_count": null,
   "metadata": {},
   "outputs": [],
   "source": [
    "df"
   ]
  },
  {
   "cell_type": "code",
   "execution_count": null,
   "metadata": {},
   "outputs": [],
   "source": [
    "from pandas.plotting import table\n",
    "from matplotlib import pylab as plt"
   ]
  },
  {
   "cell_type": "code",
   "execution_count": null,
   "metadata": {},
   "outputs": [],
   "source": [
    "ax = plt.subplot(111, frame_on=False) # no visible frame\n",
    "ax.xaxis.set_visible(False)  # hide the x axis\n",
    "ax.yaxis.set_visible(False)  # hide the y axis\n",
    "\n",
    "table(ax, df)  # where df is your data frame\n",
    "\n",
    "plt.savefig('mytable.png')"
   ]
  },
  {
   "cell_type": "code",
   "execution_count": null,
   "metadata": {},
   "outputs": [],
   "source": [
    "import seaborn as sns\n",
    "plt.figure(figsize=(20,20)) \n",
    "sns.heatmap(df, annot=True)"
   ]
  },
  {
   "cell_type": "code",
   "execution_count": null,
   "metadata": {},
   "outputs": [],
   "source": []
  },
  {
   "cell_type": "code",
   "execution_count": null,
   "metadata": {},
   "outputs": [],
   "source": [
    "df"
   ]
  },
  {
   "cell_type": "code",
   "execution_count": null,
   "metadata": {},
   "outputs": [],
   "source": []
  }
 ],
 "metadata": {
  "kernelspec": {
   "display_name": "Python 3",
   "language": "python",
   "name": "python3"
  },
  "language_info": {
   "codemirror_mode": {
    "name": "ipython",
    "version": 3
   },
   "file_extension": ".py",
   "mimetype": "text/x-python",
   "name": "python",
   "nbconvert_exporter": "python",
   "pygments_lexer": "ipython3",
   "version": "3.6.9"
  }
 },
 "nbformat": 4,
 "nbformat_minor": 4
}
