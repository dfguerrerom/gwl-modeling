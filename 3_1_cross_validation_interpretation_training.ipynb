{
 "cells": [
  {
   "cell_type": "code",
   "execution_count": null,
   "metadata": {},
   "outputs": [],
   "source": [
    "%load_ext autoreload\n",
    "%autoreload 2"
   ]
  },
  {
   "cell_type": "code",
   "execution_count": null,
   "metadata": {},
   "outputs": [],
   "source": [
    "import pandas as pd\n",
    "import matplotlib.pyplot as plt\n",
    "import numpy as np"
   ]
  },
  {
   "cell_type": "code",
   "execution_count": null,
   "metadata": {},
   "outputs": [],
   "source": [
    "results_df = pd.read_csv('data/13_estimation_results/kalimantan_multiple_models_cross_validation_results_sorted.csv')\n",
    "\n",
    "# Remove results from linear model (we already know that gwl is not linear)\n",
    "results_df = results_df[results_df['estimator_name'] != 'LinearRegression']\n",
    "len(results_df)"
   ]
  },
  {
   "cell_type": "code",
   "execution_count": null,
   "metadata": {},
   "outputs": [],
   "source": [
    "# dont use e notation\n",
    "pd.set_option('display.float_format', lambda x: '%.5f' % x)\n",
    "\n",
    "summary_stats = results_df[['r2_score', 'rmse', 'pearson_r']].describe()\n",
    "summary_stats\n",
    "\n"
   ]
  },
  {
   "cell_type": "code",
   "execution_count": null,
   "metadata": {},
   "outputs": [],
   "source": [
    "# Performance by model type\n",
    "model_performance = results_df.groupby('estimator_name')[['r2_score', 'rmse', 'pearson_r']].mean()\n",
    "model_performance"
   ]
  },
  {
   "cell_type": "code",
   "execution_count": null,
   "metadata": {},
   "outputs": [],
   "source": [
    "# Analyze performance by split type\n",
    "split_performance = results_df.groupby('validation')[['r2_score', 'rmse', 'pearson_r']].mean()\n",
    "split_performance\n"
   ]
  },
  {
   "cell_type": "code",
   "execution_count": null,
   "metadata": {},
   "outputs": [],
   "source": [
    "# Calculating mean R2 and RMSE for each PHU\n",
    "phu_split_performance = results_df.groupby(['phu_id', 'validation']).agg({\n",
    "    'pearson_r': 'mean',\n",
    "    'r2_score': 'mean',\n",
    "    'rmse': 'mean',\n",
    "    'no_obs': 'mean'  # Total number of observations for each PHU\n",
    "}).reset_index()\n",
    "# Sort by R2 score\n",
    "phu_split_performance.sort_values(by='r2_score', ascending=False, inplace=True)\n",
    "# don't show the exponential notation\n",
    "pd.options.display.float_format = '{:.4f}'.format\n",
    "phu_split_performance\n"
   ]
  },
  {
   "cell_type": "code",
   "execution_count": null,
   "metadata": {},
   "outputs": [],
   "source": [
    "# Calculating mean R2 and RMSE for each PHU\n",
    "df_filter = (~results_df.estimator_name.isin([\"Sequential\"]))\n",
    "phu_split_performance = results_df[df_filter].groupby(['phu_id']).agg({\n",
    "    'pearson_r': 'median',\n",
    "    'r2_score': 'median',\n",
    "    'rmse': 'median',\n",
    "    'no_obs': 'median'  # Total number of observations for each PHU\n",
    "}).reset_index()\n",
    "# Sort by R2 score\n",
    "phu_split_performance.sort_values(by='r2_score', ascending=False, inplace=True)\n",
    "# don't show the exponential notation\n",
    "pd.options.display.float_format = '{:.4f}'.format\n",
    "phu_split_performance.head()\n",
    "\n",
    "phu_split_performance"
   ]
  },
  {
   "cell_type": "code",
   "execution_count": null,
   "metadata": {},
   "outputs": [],
   "source": [
    "best_phus = phu_split_performance.head(5).phu_id.values\n",
    "best_phus"
   ]
  },
  {
   "cell_type": "markdown",
   "metadata": {},
   "source": [
    "## Train the model"
   ]
  },
  {
   "cell_type": "code",
   "execution_count": null,
   "metadata": {},
   "outputs": [],
   "source": [
    "from gee_scripts.parameters import explain_vars\n",
    "from gee_scripts.models import get_random_forest\n",
    "from scipy.stats import pearsonr\n",
    "from sklearn.metrics import r2_score, mean_squared_error\n",
    "from gee_scripts.plots import plot_observed_vs_predicted\n",
    "\n",
    "import seaborn as sns\n"
   ]
  },
  {
   "cell_type": "code",
   "execution_count": null,
   "metadata": {},
   "outputs": [],
   "source": [
    "# USER PARAMETERS\n",
    "\n",
    "# Select the region where to work\n",
    "region = \"kalimantan\"\n",
    "\n",
    "## List of specific id values to remove\n",
    "# These stations were selected based on the results of the previous analysis\n",
    "bad_stations = ['batok1','batok2','brg11','brg13','brg16','BRG_620309_01','BRG_620309_02','BRG_630805_01','BRG_630708_01']\n"
   ]
  },
  {
   "cell_type": "code",
   "execution_count": null,
   "metadata": {},
   "outputs": [],
   "source": [
    "df = pd.read_csv(\"data/9_clean_training_data/all_training_data_with_extra_and_locations_and_precipSum.csv\", parse_dates=[\"date\"])\n",
    "assert len(df) == 32783, \"The length of the dataframe is not correct\"\n",
    "data = df[(~df.id.isin(bad_stations)) & (df.phu_id.isin(best_phus))].copy()\n",
    "print(len(data))"
   ]
  },
  {
   "cell_type": "code",
   "execution_count": null,
   "metadata": {},
   "outputs": [],
   "source": [
    "data.id.nunique()"
   ]
  },
  {
   "cell_type": "code",
   "execution_count": null,
   "metadata": {},
   "outputs": [],
   "source": [
    "23*4*4*10"
   ]
  },
  {
   "cell_type": "code",
   "execution_count": null,
   "metadata": {},
   "outputs": [],
   "source": [
    "test_months = [1,2,3]\n",
    "train_months = [m for m in range(1,13) if m not in test_months]\n",
    "\n",
    "train_data = data[data[\"date\"].dt.month.isin(train_months)]\n",
    "test_data = data[(data[\"date\"].dt.month.isin(test_months)) & (data.gwl_cm>-150)]\n",
    "\n",
    "X_train, X_test = train_data[explain_vars], test_data[explain_vars]\n",
    "y_train, y_test = train_data[\"gwl_cm\"], test_data[\"gwl_cm\"]\n",
    "\n",
    "print(\"lenght of train and test\", len(X_train), len(X_test))\n",
    "\n",
    "####################### TRAIN\n",
    "\n",
    "regr = get_random_forest()\n",
    "\n",
    "regr.fit(X_train, y_train)\n",
    "y_pred_test = regr.predict(X_test)\n",
    "\n",
    "r, p = pearsonr(y_test, y_pred_test)\n",
    "r2_score_val = r2_score(y_test, y_pred_test)\n",
    "rmse = np.sqrt(mean_squared_error(y_test, y_pred_test))\n",
    "\n",
    "# print all the metrics\n",
    "print(f\"r2_score: {r2_score_val}\")\n",
    "print(f\"rmse: {rmse}\")\n",
    "print(f\"pearson r: {r}\")\n",
    "print(f\"p-value: {p}\")\n",
    "\n",
    "# print train and test months\n",
    "print(f\"Train months: {train_months}\")\n",
    "print(f\"Test months: {test_months}\")\n",
    "plot_observed_vs_predicted(y_test, y_pred_test, color = 1)"
   ]
  },
  {
   "cell_type": "code",
   "execution_count": null,
   "metadata": {},
   "outputs": [],
   "source": [
    "# divide test/train by random sampling\n",
    "\n",
    "# randomly select 80% as train and the rest as test\n",
    "\n",
    "# train_data = data[data.gwl_cm>-150].sample(frac=0.8)\n",
    "# test_data = data[data.gwl_cm>-150].drop(train_data.index)\n",
    "\n",
    "# best_kalimantan_phus = [357., 297., 350., 351., 352.]\n",
    "\n",
    "# Create a new feature that indicates if an area is flooded or not\n",
    "\n",
    "train_data = df[\n",
    "    (df.gwl_cm>-150)\n",
    "    & (df.gwl_cm<5) \n",
    "    & (df.phu_id.isin([350, 351, 379, ])) \n",
    "    & (~df.id.isin(bad_stations))\n",
    "]\n",
    "\n",
    "test_data = df[\n",
    "    (df.gwl_cm>-150) \n",
    "    & (df.gwl_cm<5) \n",
    "    & (df.phu_id.isin([357]))\n",
    "    &(~df.id.isin(bad_stations))\n",
    "    \n",
    "    \n",
    "]\n",
    "\n",
    "# test_data = df[\n",
    "#     (df.id == \"BRG_630801_01\") & (df.gwl_cm>-150)\n",
    "# ]\n",
    "\n",
    "X_train, X_test = train_data[explain_vars], test_data[explain_vars]\n",
    "y_train, y_test = train_data[\"gwl_cm\"], test_data[\"gwl_cm\"]\n",
    "\n",
    "print(\"lenght of train and test\", len(X_train), len(X_test))\n",
    "\n",
    "####################### TRAIN\n",
    "\n",
    "regr = get_random_forest()\n",
    "\n",
    "regr.fit(X_train, y_train)\n",
    "y_pred_test = regr.predict(X_test)\n",
    "\n",
    "r, p = pearsonr(y_test, y_pred_test)\n",
    "r2_score_val = r2_score(y_test, y_pred_test)\n",
    "rmse = np.sqrt(mean_squared_error(y_test, y_pred_test))\n",
    "\n",
    "# print all the metrics\n",
    "print(f\"r2_score: {r2_score_val}\")\n",
    "print(f\"rmse: {rmse}\")\n",
    "print(f\"pearson r: {r}\")\n",
    "print(f\"p-value: {p}\")\n",
    "\n",
    "\n",
    "plot_observed_vs_predicted(y_test, y_pred_test, color=0)"
   ]
  },
  {
   "cell_type": "code",
   "execution_count": null,
   "metadata": {},
   "outputs": [],
   "source": [
    "from gee_scripts.models import bootstrap"
   ]
  },
  {
   "cell_type": "code",
   "execution_count": null,
   "metadata": {},
   "outputs": [],
   "source": [
    "bootrap_result = bootstrap(data[data.gwl_cm>-150], \"gwl_cm\", 25, 0.8, explain_vars)\n",
    "bootrap_result"
   ]
  }
 ],
 "metadata": {
  "kernelspec": {
   "display_name": "(test) gwl-modeling",
   "language": "python",
   "name": "gwl-modeling"
  },
  "language_info": {
   "codemirror_mode": {
    "name": "ipython",
    "version": 3
   },
   "file_extension": ".py",
   "mimetype": "text/x-python",
   "name": "python",
   "nbconvert_exporter": "python",
   "pygments_lexer": "ipython3",
   "version": "3.10.12"
  }
 },
 "nbformat": 4,
 "nbformat_minor": 2
}
