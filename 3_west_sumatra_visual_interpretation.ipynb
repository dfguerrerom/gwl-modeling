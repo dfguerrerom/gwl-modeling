{
 "cells": [
  {
   "cell_type": "code",
   "execution_count": 1,
   "metadata": {},
   "outputs": [
    {
     "name": "stdout",
     "output_type": "stream",
     "text": [
      "%pylab is deprecated, use %matplotlib inline and import the required libraries.\n",
      "Populating the interactive namespace from numpy and matplotlib\n"
     ]
    }
   ],
   "source": [
    "%load_ext autoreload\n",
    "%autoreload 2\n",
    "%matplotlib inline\n",
    "%pylab inline"
   ]
  },
  {
   "cell_type": "code",
   "execution_count": 2,
   "metadata": {
    "tags": []
   },
   "outputs": [
    {
     "name": "stderr",
     "output_type": "stream",
     "text": [
      "2024-06-10 14:19:33.164792: I tensorflow/core/util/port.cc:110] oneDNN custom operations are on. You may see slightly different numerical results due to floating-point round-off errors from different computation orders. To turn them off, set the environment variable `TF_ENABLE_ONEDNN_OPTS=0`.\n",
      "2024-06-10 14:19:33.166276: I tensorflow/tsl/cuda/cudart_stub.cc:28] Could not find cuda drivers on your machine, GPU will not be used.\n",
      "2024-06-10 14:19:33.190088: I tensorflow/tsl/cuda/cudart_stub.cc:28] Could not find cuda drivers on your machine, GPU will not be used.\n",
      "2024-06-10 14:19:33.190945: I tensorflow/core/platform/cpu_feature_guard.cc:182] This TensorFlow binary is optimized to use available CPU instructions in performance-critical operations.\n",
      "To enable the following instructions: AVX2 AVX_VNNI FMA, in other operations, rebuild TensorFlow with the appropriate compiler flags.\n",
      "2024-06-10 14:19:33.969467: W tensorflow/compiler/tf2tensorrt/utils/py_utils.cc:38] TF-TRT Warning: Could not find TensorRT\n"
     ]
    }
   ],
   "source": [
    "import pandas as pd\n",
    "import matplotlib.pyplot as plt\n",
    "from sklearn.metrics import r2_score, mean_squared_error\n",
    "import numpy as np\n",
    "from gee_scripts.parameters import explain_vars, response_var, west_region_ids, center_region_ids\n",
    "from scipy.stats import pearsonr\n",
    "from gee_scripts.models import get_random_forest, get_regressors\n",
    "import tensorflow as tf\n",
    "from sklearn.discriminant_analysis import StandardScaler\n",
    "from gee_scripts.models import split_dataset\n"
   ]
  },
  {
   "cell_type": "code",
   "execution_count": null,
   "metadata": {},
   "outputs": [],
   "source": [
    "# # split the training_df into training and test where test is the last year\n",
    "\n",
    "# # Train by year\n",
    "# # train_data = train_df[train_df[\"date\"].dt.year.isin([2020,2021,2022])]\n",
    "# # test_data = train_df[train_df[\"date\"].dt.year.isin([2023])]\n",
    "\n",
    "# # # train and test selection by month\n",
    "# # train_data = train_df[train_df[\"date\"].dt.month.isin([1,2,4,5,7,8,10,11,12])]\n",
    "# # test_data = train_df[train_df[\"date\"].dt.month.isin([3,6,9])]\n",
    "\n",
    "# X_train, X_test = train_data[explain_vars], test_data[explain_vars]\n",
    "# y_train, y_test = train_data[\"gwl_cm\"], test_data[\"gwl_cm\"]\n",
    "\n",
    "# print(\"lenght of train and test\", len(X_train), len(X_test))\n",
    "\n",
    "# ####################### TRAIN THE MODEL ############################\n",
    "\n",
    "# regr.fit(X_train, y_train)\n",
    "# y_pred_test = regr.predict(X_test)\n",
    "\n",
    "# r, p = pearsonr(y_test, y_pred_test)\n",
    "# r2_score_val = r2_score(y_test, y_pred_test)\n",
    "# rmse = np.sqrt(mean_squared_error(y_test, y_pred_test))\n",
    "\n",
    "# # print all the metrics\n",
    "# print(f\"r2_score: {r2_score_val}\")\n",
    "# print(f\"rmse: {rmse}\")\n",
    "# print(f\"pearson r: {r}\")\n",
    "# print(f\"p-value: {p}\")\n",
    "\n",
    "# # Plot the observed vs predicted with labels and title\n",
    "# plt.scatter(y_test, y_pred_test)\n",
    "# plt.xlabel(\"Observed\")\n",
    "# plt.ylabel(\"Predicted\")\n",
    "# plt.title(\"Observed vs Predicted\")\n",
    "# plt.show()"
   ]
  },
  {
   "cell_type": "markdown",
   "metadata": {},
   "source": [
    "# 1. Read training data"
   ]
  },
  {
   "cell_type": "code",
   "execution_count": null,
   "metadata": {},
   "outputs": [],
   "source": [
    "df = pd.read_csv(\"data/9_clean_training_data/all_training_data_with_extra_and_locations_and_precipSum.csv\", parse_dates=[\"date\"])\n",
    "df = df[df.region_id.isin(center_region_ids)]\n",
    "# assert df[[\"date\"]].dtypes.iloc[0] == \"datetime64[ns]\"\n",
    "len(df)"
   ]
  },
  {
   "cell_type": "code",
   "execution_count": null,
   "metadata": {},
   "outputs": [],
   "source": [
    "# filter_condition = df.phu_id==71\n",
    "# train_df = df[filter_condition]\n",
    "# len(train_df)"
   ]
  },
  {
   "cell_type": "code",
   "execution_count": null,
   "metadata": {},
   "outputs": [],
   "source": [
    "# get a boxplot of response var per region but use a small graph size\n",
    "\n",
    "# set the seaborn style and size\n",
    "# sns.set_style(\"whitegrid\");\n",
    "# sns.set(rc={'figure.figsize':(8,5)});\n",
    "# sns.boxplot(x=\"region_id\", y=\"gwl_cm\", data=train_df, width=0.5)"
   ]
  },
  {
   "cell_type": "code",
   "execution_count": null,
   "metadata": {},
   "outputs": [],
   "source": [
    "# # Get a table with the count of the number of observations per month\n",
    "# train_df[\"month\"] = train_df[\"date\"].dt.month\n",
    "# train_df[\"year\"] = train_df[\"date\"].dt.year\n",
    "# train_df[\"month_year\"] = train_df[\"date\"].dt.to_period('M')\n",
    "# train_df[train_df.id == \"15_RAPP_LGBI-001a\"].groupby(\"month_year\").size().reset_index(name='counts')"
   ]
  },
  {
   "cell_type": "code",
   "execution_count": null,
   "metadata": {},
   "outputs": [],
   "source": [
    "# train_df[\"date\"] = pd.to_datetime(train_df[\"date\"])\n",
    "# get_precipitation_plot(train_df, group_by=\"station\", value=\"15_RAPP_LGBI-001a\")"
   ]
  },
  {
   "cell_type": "code",
   "execution_count": null,
   "metadata": {},
   "outputs": [],
   "source": [
    "# # group by id and get the number of dates for each id\n",
    "# group_by = \"id\"\n",
    "# df_grouped = train_df.groupby(group_by).count().reset_index()\n",
    "# df_grouped = df_grouped[[group_by, \"date\"]]\n",
    "# df_grouped.columns = [\"name\", \"date_count\"]\n",
    "# df_grouped.sort_values(by=\"date_count\", ascending=False);"
   ]
  },
  {
   "cell_type": "code",
   "execution_count": null,
   "metadata": {},
   "outputs": [],
   "source": [
    "# # drop all stations with less tan 9 observations\n",
    "# min_obs = 0\n",
    "# train_df.groupby('id').agg({'date': 'count'}).sort_values(by='date', ascending=False).reset_index()\n",
    "# train_df = train_df.groupby('id').filter(lambda group: len(group) >= min_obs)"
   ]
  },
  {
   "cell_type": "code",
   "execution_count": null,
   "metadata": {},
   "outputs": [],
   "source": [
    "# running cross validation on 23 phu_ids\n",
    "# processing phu_id 407.0 with No. of observations 199\n",
    "# Splitting by station with 34 categories\n"
   ]
  },
  {
   "cell_type": "code",
   "execution_count": null,
   "metadata": {},
   "outputs": [],
   "source": [
    "x_df = df[df.phu_id==407]"
   ]
  },
  {
   "cell_type": "code",
   "execution_count": null,
   "metadata": {},
   "outputs": [],
   "source": [
    "(next(iter(split_dataset(x_df, test_size=0.2, by=\"station\"))))"
   ]
  },
  {
   "cell_type": "code",
   "execution_count": null,
   "metadata": {},
   "outputs": [],
   "source": [
    "train_df, test_df = next(iter(split_dataset(x_df, test_size=0.2, by=\"year\")))"
   ]
  },
  {
   "cell_type": "code",
   "execution_count": null,
   "metadata": {},
   "outputs": [],
   "source": [
    "def evaluate_models(data, target_column, n_splits):\n",
    "    \"\"\"Evaluate the performance of different regression models on the dataset using cross-validation.\"\"\"\n",
    "\n",
    "    data = data.copy()\n",
    "\n",
    "    results = []\n",
    "    \n",
    "    # Loop through each split type\n",
    "    for split_type in [\"station\", \"year\", \"month\"]:\n",
    "        \n",
    "        train_test_splits = split_dataset(data, by=split_type, n_splits=n_splits)\n",
    "\n",
    "        if split_type == \"station\":\n",
    "            split_type = \"id\"\n",
    "\n",
    "        for train_data, test_data in train_test_splits:\n",
    "\n",
    "            if len(test_data) == 0:\n",
    "                results.append({\n",
    "                    \"phu_id\": data[\"phu_id\"].iloc[0],\n",
    "                    \"split_type\": split_type,\n",
    "                    \"no_obs\": len(data),\n",
    "                    \"train_obs\": 0,\n",
    "                    \"test_obs\": 0,\n",
    "                    \"estimator_name\": None,\n",
    "                    \"validation\" : f\"cross validation {split_type}\",\n",
    "                    \"test_ids\": None,\n",
    "                    \"train_ids\": None,\n",
    "                    \"r2_score\": None,\n",
    "                    \"rmse\": None,\n",
    "                    \"pearson_r\": None,\n",
    "                    \"p_value\": None,\n",
    "                })\n",
    "                continue\n",
    "            \n",
    "            X_train, X_test = train_data[explain_vars], test_data[explain_vars]\n",
    "            y_train, y_test = train_data[target_column], test_data[target_column]\n",
    "\n",
    "            input_dim = X_train.shape[1]  # Number of explanatory variables\n",
    "\n",
    "            for regr in get_regressors(input_dim):\n",
    "                print(f\"Training {regr.__class__.__name__} on {len(train_data)} observations and testing on {len(test_data)} observations\")\n",
    "\n",
    "                if isinstance(regr, tf.keras.Model):  # Check if the model is a Keras model\n",
    "                    # Neural network requires normalization and batch processing\n",
    "                    scaler = StandardScaler()\n",
    "                    X_train_scaled = scaler.fit_transform(X_train)\n",
    "                    X_test_scaled = scaler.transform(X_test)\n",
    "                    \n",
    "                    # Fit the model\n",
    "                    regr.fit(X_train_scaled, y_train, epochs=5, batch_size=8, verbose=0)\n",
    "                    \n",
    "                    # Predict\n",
    "                    y_pred_test = regr.predict(X_test_scaled).flatten()  # Flatten to convert 2D predictions to 1D\n",
    "                else:\n",
    "                    # Fit traditional models\n",
    "                    regr.fit(X_train, y_train)\n",
    "                    \n",
    "                    # Predict\n",
    "                    y_pred_test = regr.predict(X_test)\n",
    "\n",
    "\n",
    "                r, p = pearsonr(y_test, y_pred_test)\n",
    "                r2_score_val = r2_score(y_test, y_pred_test)\n",
    "                rmse = np.sqrt(mean_squared_error(y_test, y_pred_test))\n",
    "\n",
    "                results.append({\n",
    "                    \"phu_id\": train_data[\"phu_id\"].iloc[0],\n",
    "                    \"no_obs\": len(data),\n",
    "                    \"train_obs\": len(train_data),\n",
    "                    \"test_obs\": len(test_data),\n",
    "                    \"estimator_name\": regr.__class__.__name__,\n",
    "                    \"validation\" : f\"cross validation {split_type}\",\n",
    "                    \"train_ids\": train_data[split_type].unique(),\n",
    "                    \"test_ids\": test_data[split_type].unique(),\n",
    "                    \"r2_score\": r2_score_val,\n",
    "                    \"rmse\": rmse,\n",
    "                    \"pearson_r\": r,\n",
    "                    \"p_value\": p,\n",
    "                })\n",
    "\n",
    "    return results"
   ]
  },
  {
   "cell_type": "code",
   "execution_count": null,
   "metadata": {},
   "outputs": [],
   "source": [
    "phu_cross_validation_results = []\n",
    "print(f\"running cross validation on {df.phu_id.nunique()} phu_ids\")\n",
    "for phu_id in df.phu_id.unique():\n",
    "    if  pd.isnull(phu_id):\n",
    "        continue\n",
    "    print(\"processing phu_id\", phu_id, \"with No. of observations\", len(df[df.phu_id==phu_id]))\n",
    "    filter_condition = df.phu_id==phu_id\n",
    "    train_df = df[filter_condition]\n",
    "    results = evaluate_models(train_df, \"gwl_cm\", n_splits=10)\n",
    "    phu_cross_validation_results.extend(results)"
   ]
  },
  {
   "cell_type": "code",
   "execution_count": null,
   "metadata": {},
   "outputs": [],
   "source": [
    "# # Create a dataframe from the results\n",
    "# results_df = pd.DataFrame(phu_cross_validation_results)\n",
    "# # results_df.to_csv(\"data/13_estimation_results/cross_validation_results.xlsx\", index=False)"
   ]
  },
  {
   "cell_type": "code",
   "execution_count": null,
   "metadata": {},
   "outputs": [],
   "source": [
    "# Sort the results by r2_score and phu_id\n",
    "results_df.sort_values(by=[\"r2_score\", \"phu_id\"], ascending=False, inplace=True)\n",
    "results_df.to_csv(\"data/13_estimation_results/center_multiple_models_cross_validation_results_sorted.csv\", index=False)"
   ]
  },
  {
   "cell_type": "code",
   "execution_count": null,
   "metadata": {},
   "outputs": [],
   "source": [
    "plt.boxplot(evaluation_results)\n",
    "plt.title('Model Performance Across Random Splits')\n",
    "plt.ylabel('RMSE')\n",
    "plt.show()\n",
    "\n",
    "print(\"Average RMSE across splits:\", np.mean(evaluation_results))\n"
   ]
  },
  {
   "cell_type": "code",
   "execution_count": 4,
   "metadata": {},
   "outputs": [],
   "source": [
    "results_df = pd.read_csv(\"data/13_estimation_results/center_multiple_models_cross_validation_results_sorted_2.csv\")"
   ]
  },
  {
   "cell_type": "code",
   "execution_count": 5,
   "metadata": {},
   "outputs": [
    {
     "data": {
      "image/png": "[encoded data removed]",
      "text/plain": [
       "<Figure size 1200x600 with 1 Axes>"
      ]
     },
     "metadata": {},
     "output_type": "display_data"
    },
    {
     "ename": "KeyError",
     "evalue": "'split_type'",
     "output_type": "error",
     "traceback": [
      "\u001b[0;31m---------------------------------------------------------------------------\u001b[0m",
      "\u001b[0;31mKeyError\u001b[0m                                  Traceback (most recent call last)",
      "Cell \u001b[0;32mIn[5], line 22\u001b[0m\n\u001b[1;32m     19\u001b[0m plt\u001b[38;5;241m.\u001b[39mshow()\n\u001b[1;32m     21\u001b[0m \u001b[38;5;66;03m# Analyze performance by split type\u001b[39;00m\n\u001b[0;32m---> 22\u001b[0m split_performance \u001b[38;5;241m=\u001b[39m \u001b[43mresults_df\u001b[49m\u001b[38;5;241;43m.\u001b[39;49m\u001b[43mgroupby\u001b[49m\u001b[43m(\u001b[49m\u001b[38;5;124;43m'\u001b[39;49m\u001b[38;5;124;43msplit_type\u001b[39;49m\u001b[38;5;124;43m'\u001b[39;49m\u001b[43m)\u001b[49m[[\u001b[38;5;124m'\u001b[39m\u001b[38;5;124mr2_score\u001b[39m\u001b[38;5;124m'\u001b[39m, \u001b[38;5;124m'\u001b[39m\u001b[38;5;124mrmse\u001b[39m\u001b[38;5;124m'\u001b[39m, \u001b[38;5;124m'\u001b[39m\u001b[38;5;124mpearson_r\u001b[39m\u001b[38;5;124m'\u001b[39m]]\u001b[38;5;241m.\u001b[39mmean()\n\u001b[1;32m     24\u001b[0m \u001b[38;5;66;03m# Print the summary statistics and model performance\u001b[39;00m\n\u001b[1;32m     25\u001b[0m \u001b[38;5;28mprint\u001b[39m(summary_stats)\n",
      "File \u001b[0;32m~/module-venv/gwl-modeling/lib/python3.10/site-packages/pandas/core/frame.py:9183\u001b[0m, in \u001b[0;36mDataFrame.groupby\u001b[0;34m(self, by, axis, level, as_index, sort, group_keys, observed, dropna)\u001b[0m\n\u001b[1;32m   9180\u001b[0m \u001b[38;5;28;01mif\u001b[39;00m level \u001b[38;5;129;01mis\u001b[39;00m \u001b[38;5;28;01mNone\u001b[39;00m \u001b[38;5;129;01mand\u001b[39;00m by \u001b[38;5;129;01mis\u001b[39;00m \u001b[38;5;28;01mNone\u001b[39;00m:\n\u001b[1;32m   9181\u001b[0m     \u001b[38;5;28;01mraise\u001b[39;00m \u001b[38;5;167;01mTypeError\u001b[39;00m(\u001b[38;5;124m\"\u001b[39m\u001b[38;5;124mYou have to supply one of \u001b[39m\u001b[38;5;124m'\u001b[39m\u001b[38;5;124mby\u001b[39m\u001b[38;5;124m'\u001b[39m\u001b[38;5;124m and \u001b[39m\u001b[38;5;124m'\u001b[39m\u001b[38;5;124mlevel\u001b[39m\u001b[38;5;124m'\u001b[39m\u001b[38;5;124m\"\u001b[39m)\n\u001b[0;32m-> 9183\u001b[0m \u001b[38;5;28;01mreturn\u001b[39;00m \u001b[43mDataFrameGroupBy\u001b[49m\u001b[43m(\u001b[49m\n\u001b[1;32m   9184\u001b[0m \u001b[43m    \u001b[49m\u001b[43mobj\u001b[49m\u001b[38;5;241;43m=\u001b[39;49m\u001b[38;5;28;43mself\u001b[39;49m\u001b[43m,\u001b[49m\n\u001b[1;32m   9185\u001b[0m \u001b[43m    \u001b[49m\u001b[43mkeys\u001b[49m\u001b[38;5;241;43m=\u001b[39;49m\u001b[43mby\u001b[49m\u001b[43m,\u001b[49m\n\u001b[1;32m   9186\u001b[0m \u001b[43m    \u001b[49m\u001b[43maxis\u001b[49m\u001b[38;5;241;43m=\u001b[39;49m\u001b[43maxis\u001b[49m\u001b[43m,\u001b[49m\n\u001b[1;32m   9187\u001b[0m \u001b[43m    \u001b[49m\u001b[43mlevel\u001b[49m\u001b[38;5;241;43m=\u001b[39;49m\u001b[43mlevel\u001b[49m\u001b[43m,\u001b[49m\n\u001b[1;32m   9188\u001b[0m \u001b[43m    \u001b[49m\u001b[43mas_index\u001b[49m\u001b[38;5;241;43m=\u001b[39;49m\u001b[43mas_index\u001b[49m\u001b[43m,\u001b[49m\n\u001b[1;32m   9189\u001b[0m \u001b[43m    \u001b[49m\u001b[43msort\u001b[49m\u001b[38;5;241;43m=\u001b[39;49m\u001b[43msort\u001b[49m\u001b[43m,\u001b[49m\n\u001b[1;32m   9190\u001b[0m \u001b[43m    \u001b[49m\u001b[43mgroup_keys\u001b[49m\u001b[38;5;241;43m=\u001b[39;49m\u001b[43mgroup_keys\u001b[49m\u001b[43m,\u001b[49m\n\u001b[1;32m   9191\u001b[0m \u001b[43m    \u001b[49m\u001b[43mobserved\u001b[49m\u001b[38;5;241;43m=\u001b[39;49m\u001b[43mobserved\u001b[49m\u001b[43m,\u001b[49m\n\u001b[1;32m   9192\u001b[0m \u001b[43m    \u001b[49m\u001b[43mdropna\u001b[49m\u001b[38;5;241;43m=\u001b[39;49m\u001b[43mdropna\u001b[49m\u001b[43m,\u001b[49m\n\u001b[1;32m   9193\u001b[0m \u001b[43m\u001b[49m\u001b[43m)\u001b[49m\n",
      "File \u001b[0;32m~/module-venv/gwl-modeling/lib/python3.10/site-packages/pandas/core/groupby/groupby.py:1329\u001b[0m, in \u001b[0;36mGroupBy.__init__\u001b[0;34m(self, obj, keys, axis, level, grouper, exclusions, selection, as_index, sort, group_keys, observed, dropna)\u001b[0m\n\u001b[1;32m   1326\u001b[0m \u001b[38;5;28mself\u001b[39m\u001b[38;5;241m.\u001b[39mdropna \u001b[38;5;241m=\u001b[39m dropna\n\u001b[1;32m   1328\u001b[0m \u001b[38;5;28;01mif\u001b[39;00m grouper \u001b[38;5;129;01mis\u001b[39;00m \u001b[38;5;28;01mNone\u001b[39;00m:\n\u001b[0;32m-> 1329\u001b[0m     grouper, exclusions, obj \u001b[38;5;241m=\u001b[39m \u001b[43mget_grouper\u001b[49m\u001b[43m(\u001b[49m\n\u001b[1;32m   1330\u001b[0m \u001b[43m        \u001b[49m\u001b[43mobj\u001b[49m\u001b[43m,\u001b[49m\n\u001b[1;32m   1331\u001b[0m \u001b[43m        \u001b[49m\u001b[43mkeys\u001b[49m\u001b[43m,\u001b[49m\n\u001b[1;32m   1332\u001b[0m \u001b[43m        \u001b[49m\u001b[43maxis\u001b[49m\u001b[38;5;241;43m=\u001b[39;49m\u001b[43maxis\u001b[49m\u001b[43m,\u001b[49m\n\u001b[1;32m   1333\u001b[0m \u001b[43m        \u001b[49m\u001b[43mlevel\u001b[49m\u001b[38;5;241;43m=\u001b[39;49m\u001b[43mlevel\u001b[49m\u001b[43m,\u001b[49m\n\u001b[1;32m   1334\u001b[0m \u001b[43m        \u001b[49m\u001b[43msort\u001b[49m\u001b[38;5;241;43m=\u001b[39;49m\u001b[43msort\u001b[49m\u001b[43m,\u001b[49m\n\u001b[1;32m   1335\u001b[0m \u001b[43m        \u001b[49m\u001b[43mobserved\u001b[49m\u001b[38;5;241;43m=\u001b[39;49m\u001b[38;5;28;43;01mFalse\u001b[39;49;00m\u001b[43m \u001b[49m\u001b[38;5;28;43;01mif\u001b[39;49;00m\u001b[43m \u001b[49m\u001b[43mobserved\u001b[49m\u001b[43m \u001b[49m\u001b[38;5;129;43;01mis\u001b[39;49;00m\u001b[43m \u001b[49m\u001b[43mlib\u001b[49m\u001b[38;5;241;43m.\u001b[39;49m\u001b[43mno_default\u001b[49m\u001b[43m \u001b[49m\u001b[38;5;28;43;01melse\u001b[39;49;00m\u001b[43m \u001b[49m\u001b[43mobserved\u001b[49m\u001b[43m,\u001b[49m\n\u001b[1;32m   1336\u001b[0m \u001b[43m        \u001b[49m\u001b[43mdropna\u001b[49m\u001b[38;5;241;43m=\u001b[39;49m\u001b[38;5;28;43mself\u001b[39;49m\u001b[38;5;241;43m.\u001b[39;49m\u001b[43mdropna\u001b[49m\u001b[43m,\u001b[49m\n\u001b[1;32m   1337\u001b[0m \u001b[43m    \u001b[49m\u001b[43m)\u001b[49m\n\u001b[1;32m   1339\u001b[0m \u001b[38;5;28;01mif\u001b[39;00m observed \u001b[38;5;129;01mis\u001b[39;00m lib\u001b[38;5;241m.\u001b[39mno_default:\n\u001b[1;32m   1340\u001b[0m     \u001b[38;5;28;01mif\u001b[39;00m \u001b[38;5;28many\u001b[39m(ping\u001b[38;5;241m.\u001b[39m_passed_categorical \u001b[38;5;28;01mfor\u001b[39;00m ping \u001b[38;5;129;01min\u001b[39;00m grouper\u001b[38;5;241m.\u001b[39mgroupings):\n",
      "File \u001b[0;32m~/module-venv/gwl-modeling/lib/python3.10/site-packages/pandas/core/groupby/grouper.py:1043\u001b[0m, in \u001b[0;36mget_grouper\u001b[0;34m(obj, key, axis, level, sort, observed, validate, dropna)\u001b[0m\n\u001b[1;32m   1041\u001b[0m         in_axis, level, gpr \u001b[38;5;241m=\u001b[39m \u001b[38;5;28;01mFalse\u001b[39;00m, gpr, \u001b[38;5;28;01mNone\u001b[39;00m\n\u001b[1;32m   1042\u001b[0m     \u001b[38;5;28;01melse\u001b[39;00m:\n\u001b[0;32m-> 1043\u001b[0m         \u001b[38;5;28;01mraise\u001b[39;00m \u001b[38;5;167;01mKeyError\u001b[39;00m(gpr)\n\u001b[1;32m   1044\u001b[0m \u001b[38;5;28;01melif\u001b[39;00m \u001b[38;5;28misinstance\u001b[39m(gpr, Grouper) \u001b[38;5;129;01mand\u001b[39;00m gpr\u001b[38;5;241m.\u001b[39mkey \u001b[38;5;129;01mis\u001b[39;00m \u001b[38;5;129;01mnot\u001b[39;00m \u001b[38;5;28;01mNone\u001b[39;00m:\n\u001b[1;32m   1045\u001b[0m     \u001b[38;5;66;03m# Add key to exclusions\u001b[39;00m\n\u001b[1;32m   1046\u001b[0m     exclusions\u001b[38;5;241m.\u001b[39madd(gpr\u001b[38;5;241m.\u001b[39mkey)\n",
      "\u001b[0;31mKeyError\u001b[0m: 'split_type'"
     ]
    }
   ],
   "source": [
    "import pandas as pd\n",
    "import matplotlib.pyplot as plt\n",
    "import seaborn as sns\n",
    "\n",
    "# Assuming phu_cross_validation_results is a list of dictionaries\n",
    "results_df = pd.DataFrame(results_df)\n",
    "\n",
    "# Summary statistics\n",
    "summary_stats = results_df[['r2_score', 'rmse', 'pearson_r']].describe()\n",
    "\n",
    "# Performance by model type\n",
    "model_performance = results_df.groupby('estimator_name')[['r2_score', 'rmse', 'pearson_r']].mean()\n",
    "\n",
    "# Plotting model performance\n",
    "plt.figure(figsize=(12, 6))\n",
    "sns.barplot(x='estimator_name', y='r2_score', data=results_df)\n",
    "plt.title('Average R2 Score by Model Type')\n",
    "plt.xticks(rotation=45)\n",
    "plt.show()\n",
    "\n",
    "# Analyze performance by split type\n",
    "split_performance = results_df.groupby('split_type')[['r2_score', 'rmse', 'pearson_r']].mean()\n",
    "\n",
    "# Print the summary statistics and model performance\n",
    "print(summary_stats)\n",
    "print(model_performance)\n",
    "print(split_performance)\n",
    "\n",
    "# Handle failures\n",
    "print(\"Failed PHUs:\", failed_phus)\n"
   ]
  },
  {
   "cell_type": "code",
   "execution_count": null,
   "metadata": {},
   "outputs": [],
   "source": []
  },
  {
   "cell_type": "code",
   "execution_count": null,
   "metadata": {},
   "outputs": [],
   "source": []
  },
  {
   "cell_type": "code",
   "execution_count": null,
   "metadata": {},
   "outputs": [],
   "source": []
  },
  {
   "cell_type": "code",
   "execution_count": null,
   "metadata": {},
   "outputs": [],
   "source": []
  },
  {
   "cell_type": "code",
   "execution_count": null,
   "metadata": {},
   "outputs": [],
   "source": [
    "\n",
    "# PCA TEST\n",
    "\n",
    "# Divide train and test by PCA and year\n",
    "# train_data = train_df[train_df.id.isin(pca1_and_pca2_1stq_ids) & train_df[\"date\"].dt.year.isin([2020,2021,2022])]\n",
    "# test_data = train_df[train_df.id.isin(pca1_and_pca2_1stq_ids) & train_df[\"date\"].dt.year.isin([2023])]\n",
    "\n",
    "# # Divide train and test by PCA and month\n",
    "train_data = train_df[train_df.id.isin(pca1_and_pca2_1stq_ids) & (train_df[\"date\"].dt.month.isin([1,2,4,5,7,8,10,11,12]))]\n",
    "test_data = train_df[train_df.id.isin(pca1_and_pca2_1stq_ids) & (train_df[\"date\"].dt.month.isin([3,6,9]))]\n",
    "\n",
    "\n",
    "X_train, X_test = train_data[explain_vars], test_data[explain_vars]\n",
    "y_train, y_test = train_data[\"gwl_cm\"], test_data[\"gwl_cm\"]\n",
    "\n",
    "print(\"lenght of train and test\", len(X_train), len(X_test))\n",
    "\n",
    "####################### TRAIN\n",
    "\n",
    "regr = get_random_forest()\n",
    "\n",
    "regr.fit(X_train, y_train)\n",
    "y_pred_test = regr.predict(X_test)\n",
    "\n",
    "r, p = pearsonr(y_test, y_pred_test)\n",
    "r2_score_val = r2_score(y_test, y_pred_test)\n",
    "rmse = np.sqrt(mean_squared_error(y_test, y_pred_test))\n",
    "\n",
    "# print all the metrics\n",
    "print(f\"r2_score: {r2_score_val}\")\n",
    "print(f\"rmse: {rmse}\")\n",
    "print(f\"pearson r: {r}\")\n",
    "print(f\"p-value: {p}\")\n",
    "\n",
    "# Plot the observed vs predicted with labels and title\n",
    "plt.scatter(y_test, y_pred_test)\n",
    "plt.xlabel(\"Observed\")\n",
    "plt.ylabel(\"Predicted\")\n",
    "plt.title(\"Observed vs Predicted\")\n",
    "plt.show()"
   ]
  },
  {
   "cell_type": "code",
   "execution_count": null,
   "metadata": {},
   "outputs": [],
   "source": [
    "\n",
    "print(\"dependent var\", response_var)\n",
    "print(\"explanatory lenght\", len(explain_vars))\n",
    "print(explain_vars)"
   ]
  },
  {
   "cell_type": "code",
   "execution_count": null,
   "metadata": {},
   "outputs": [],
   "source": [
    "# bootstrap_result = bootstrap(df = train_df, variable=\"gwl_cm\", iterations=100, train_size=0.8, explain_vars=explain_vars, bootstrap_by=\"observations\")\n",
    "# bootstrap_result"
   ]
  },
  {
   "cell_type": "code",
   "execution_count": null,
   "metadata": {},
   "outputs": [],
   "source": [
    "# Now I want to test the model on unseen data and see how it performs\n",
    "from gee_scripts.models import get_random_forest\n",
    "\n",
    "# train the model on all the data\n",
    "regressor = get_random_forest()\n",
    "regressor.fit(train_df[explain_vars], train_df['gwl_cm'])"
   ]
  },
  {
   "cell_type": "code",
   "execution_count": null,
   "metadata": {},
   "outputs": [],
   "source": [
    "from sklearn.model_selection import GridSearchCV\n",
    "\n",
    "param_grid = {\n",
    "    'n_estimators': [100, 200, 300, 350, 500],\n",
    "    'max_depth': [None, 10, 20, 30],\n",
    "    'min_samples_split': [2, 5, 10],\n",
    "    'min_samples_leaf': [1, 2, 4]\n",
    "}\n",
    "\n",
    "# Assume get_regressor() is your function to get the base model\n",
    "base_model = get_regressor()\n",
    "grid_search = GridSearchCV(estimator=base_model, param_grid=param_grid, cv=5, scoring='neg_mean_squared_error', verbose=1, n_jobs=-1)\n",
    "X_train, y_train = df[explain_vars], df['gwl_cm']\n",
    "grid_search.fit(X_train, y_train)"
   ]
  },
  {
   "cell_type": "code",
   "execution_count": null,
   "metadata": {},
   "outputs": [],
   "source": [
    "print(\"Best parameters:\", grid_search.best_params_)\n",
    "best_model = grid_search.best_estimator_"
   ]
  },
  {
   "cell_type": "code",
   "execution_count": null,
   "metadata": {},
   "outputs": [],
   "source": [
    "from scipy.stats import pearsonr\n",
    "from sklearn.metrics import r2_score, mean_squared_error\n"
   ]
  },
  {
   "cell_type": "code",
   "execution_count": null,
   "metadata": {},
   "outputs": [],
   "source": [
    "# Test on unseen data\n",
    "test_df = df[df.phu_id == 169]\n",
    "# test_df"
   ]
  },
  {
   "cell_type": "code",
   "execution_count": null,
   "metadata": {},
   "outputs": [],
   "source": [
    "\n",
    "X_test, y_test = test_df[explain_vars], test_df['gwl_cm']\n",
    "\n",
    "y_pred = regressor.predict(X_test)\n",
    "r, p = pearsonr(y_test, y_pred)\n",
    "r\n"
   ]
  },
  {
   "cell_type": "code",
   "execution_count": null,
   "metadata": {},
   "outputs": [],
   "source": [
    "r2_score(y_test, y_pred)"
   ]
  },
  {
   "cell_type": "code",
   "execution_count": null,
   "metadata": {},
   "outputs": [],
   "source": [
    "test_df"
   ]
  },
  {
   "cell_type": "code",
   "execution_count": null,
   "metadata": {},
   "outputs": [],
   "source": [
    "pd.DataFrame({\"y_test\": y_test, \"y_pred\": y_pred})"
   ]
  },
  {
   "cell_type": "code",
   "execution_count": null,
   "metadata": {},
   "outputs": [],
   "source": [
    "pd.DataFrame({\"y_test\": y_test, \"y_pred\": y_pred}).plot.scatter(x=\"y_test\", y=\"y_pred\")"
   ]
  },
  {
   "cell_type": "code",
   "execution_count": null,
   "metadata": {},
   "outputs": [],
   "source": [
    "from sklearn.metrics import mean_squared_error\n",
    "mean_squared_error(y_test, y_pred)\n",
    "\n"
   ]
  },
  {
   "cell_type": "code",
   "execution_count": null,
   "metadata": {},
   "outputs": [],
   "source": []
  }
 ],
 "metadata": {
  "kernelspec": {
   "display_name": "gwl-modeling",
   "language": "python",
   "name": "python3"
  },
  "language_info": {
   "codemirror_mode": {
    "name": "ipython",
    "version": 3
   },
   "file_extension": ".py",
   "mimetype": "text/x-python",
   "name": "python",
   "nbconvert_exporter": "python",
   "pygments_lexer": "ipython3",
   "version": "3.10.12"
  }
 },
 "nbformat": 4,
 "nbformat_minor": 4
}
