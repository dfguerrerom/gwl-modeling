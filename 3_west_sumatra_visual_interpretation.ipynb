{
 "cells": [
  {
   "cell_type": "code",
   "execution_count": 1,
   "metadata": {},
   "outputs": [
    {
     "name": "stdout",
     "output_type": "stream",
     "text": [
      "%pylab is deprecated, use %matplotlib inline and import the required libraries.\n",
      "Populating the interactive namespace from numpy and matplotlib\n"
     ]
    }
   ],
   "source": [
    "%load_ext autoreload\n",
    "%autoreload 2\n",
    "%matplotlib inline\n",
    "%pylab inline"
   ]
  },
  {
   "cell_type": "code",
   "execution_count": 83,
   "metadata": {
    "tags": []
   },
   "outputs": [],
   "source": [
    "import pandas as pd\n",
    "import seaborn as sns\n",
    "import matplotlib.pyplot as plt\n",
    "from matplotlib.dates import MonthLocator\n",
    "from sklearn.metrics import r2_score, mean_squared_error\n",
    "import numpy as np\n",
    "from gee_scripts.parameters import explain_vars, response_var, biophysical_vars\n",
    "from gee_scripts.randomforest import bootstrap\n",
    "from scipy.stats import pearsonr\n",
    "from gee_scripts.plots import get_precipitation_plot\n",
    "from gee_scripts.randomforest import get_regressor\n",
    "import geopandas as gpd\n",
    "\n",
    "\n",
    "# TO PCA\n",
    "# Create a PCA with all the variables\n",
    "from sklearn.decomposition import PCA"
   ]
  },
  {
   "cell_type": "markdown",
   "metadata": {},
   "source": [
    "# 1. Read training data"
   ]
  },
  {
   "cell_type": "code",
   "execution_count": 103,
   "metadata": {},
   "outputs": [
    {
     "data": {
      "text/plain": [
       "31547"
      ]
     },
     "execution_count": 103,
     "metadata": {},
     "output_type": "execute_result"
    }
   ],
   "source": [
    "df = pd.read_csv(\"data/9_clean_training_data/all_training_data_with_extra_and_locations_and_precipSum.csv\", parse_dates=[\"date\"])\n",
    "assert df[[\"date\"]].dtypes.iloc[0] == \"datetime64[ns]\"\n",
    "len(df)"
   ]
  },
  {
   "cell_type": "code",
   "execution_count": 161,
   "metadata": {},
   "outputs": [
    {
     "data": {
      "text/plain": [
       "2702"
      ]
     },
     "execution_count": 161,
     "metadata": {},
     "output_type": "execute_result"
    }
   ],
   "source": [
    "filter_condition = df.phu_id==71\n",
    "train_df = df[filter_condition]\n",
    "len(train_df)"
   ]
  },
  {
   "cell_type": "code",
   "execution_count": 1,
   "metadata": {},
   "outputs": [],
   "source": [
    "# get a boxplot of response var per region but use a small graph size\n",
    "\n",
    "# set the seaborn style and size\n",
    "# sns.set_style(\"whitegrid\");\n",
    "# sns.set(rc={'figure.figsize':(8,5)});\n",
    "# sns.boxplot(x=\"region_id\", y=\"gwl_cm\", data=train_df, width=0.5)"
   ]
  },
  {
   "cell_type": "code",
   "execution_count": 163,
   "metadata": {},
   "outputs": [],
   "source": [
    "# # Get a table with the count of the number of observations per month\n",
    "# train_df[\"month\"] = train_df[\"date\"].dt.month\n",
    "# train_df[\"year\"] = train_df[\"date\"].dt.year\n",
    "# train_df[\"month_year\"] = train_df[\"date\"].dt.to_period('M')\n",
    "# train_df[train_df.id == \"15_RAPP_LGBI-001a\"].groupby(\"month_year\").size().reset_index(name='counts')"
   ]
  },
  {
   "cell_type": "code",
   "execution_count": 164,
   "metadata": {},
   "outputs": [],
   "source": [
    "# train_df[\"date\"] = pd.to_datetime(train_df[\"date\"])\n",
    "# get_precipitation_plot(train_df, group_by=\"station\", value=\"15_RAPP_LGBI-001a\")"
   ]
  },
  {
   "cell_type": "code",
   "execution_count": 165,
   "metadata": {},
   "outputs": [
    {
     "data": {
      "text/html": [
       "<div>\n",
       "<style scoped>\n",
       "    .dataframe tbody tr th:only-of-type {\n",
       "        vertical-align: middle;\n",
       "    }\n",
       "\n",
       "    .dataframe tbody tr th {\n",
       "        vertical-align: top;\n",
       "    }\n",
       "\n",
       "    .dataframe thead th {\n",
       "        text-align: right;\n",
       "    }\n",
       "</style>\n",
       "<table border=\"1\" class=\"dataframe\">\n",
       "  <thead>\n",
       "    <tr style=\"text-align: right;\">\n",
       "      <th></th>\n",
       "      <th>name</th>\n",
       "      <th>date_count</th>\n",
       "    </tr>\n",
       "  </thead>\n",
       "  <tbody>\n",
       "    <tr>\n",
       "      <th>33</th>\n",
       "      <td>15_RAPP_PPDV-05a</td>\n",
       "      <td>212</td>\n",
       "    </tr>\n",
       "    <tr>\n",
       "      <th>67</th>\n",
       "      <td>15_RAPP_PPDVIII-23</td>\n",
       "      <td>206</td>\n",
       "    </tr>\n",
       "    <tr>\n",
       "      <th>18</th>\n",
       "      <td>15_RAPP_PPDIV-17</td>\n",
       "      <td>191</td>\n",
       "    </tr>\n",
       "    <tr>\n",
       "      <th>70</th>\n",
       "      <td>15_RAPP_PPDX-16</td>\n",
       "      <td>140</td>\n",
       "    </tr>\n",
       "    <tr>\n",
       "      <th>31</th>\n",
       "      <td>15_RAPP_PPDIX-40</td>\n",
       "      <td>140</td>\n",
       "    </tr>\n",
       "    <tr>\n",
       "      <th>...</th>\n",
       "      <td>...</td>\n",
       "      <td>...</td>\n",
       "    </tr>\n",
       "    <tr>\n",
       "      <th>71</th>\n",
       "      <td>15_RAPP_PPDX-21</td>\n",
       "      <td>5</td>\n",
       "    </tr>\n",
       "    <tr>\n",
       "      <th>12</th>\n",
       "      <td>15_RAPP_PPDIII-06a</td>\n",
       "      <td>5</td>\n",
       "    </tr>\n",
       "    <tr>\n",
       "      <th>48</th>\n",
       "      <td>15_RAPP_PPDVI-19a</td>\n",
       "      <td>5</td>\n",
       "    </tr>\n",
       "    <tr>\n",
       "      <th>53</th>\n",
       "      <td>15_RAPP_PPDVI-44</td>\n",
       "      <td>4</td>\n",
       "    </tr>\n",
       "    <tr>\n",
       "      <th>50</th>\n",
       "      <td>15_RAPP_PPDVI-33a</td>\n",
       "      <td>3</td>\n",
       "    </tr>\n",
       "  </tbody>\n",
       "</table>\n",
       "<p>92 rows × 2 columns</p>\n",
       "</div>"
      ],
      "text/plain": [
       "                  name  date_count\n",
       "33    15_RAPP_PPDV-05a         212\n",
       "67  15_RAPP_PPDVIII-23         206\n",
       "18    15_RAPP_PPDIV-17         191\n",
       "70     15_RAPP_PPDX-16         140\n",
       "31    15_RAPP_PPDIX-40         140\n",
       "..                 ...         ...\n",
       "71     15_RAPP_PPDX-21           5\n",
       "12  15_RAPP_PPDIII-06a           5\n",
       "48   15_RAPP_PPDVI-19a           5\n",
       "53    15_RAPP_PPDVI-44           4\n",
       "50   15_RAPP_PPDVI-33a           3\n",
       "\n",
       "[92 rows x 2 columns]"
      ]
     },
     "execution_count": 165,
     "metadata": {},
     "output_type": "execute_result"
    }
   ],
   "source": [
    "# group by id and get the number of dates for each id\n",
    "group_by = \"id\"\n",
    "df_grouped = train_df.groupby(group_by).count().reset_index()\n",
    "df_grouped = df_grouped[[group_by, \"date\"]]\n",
    "df_grouped.columns = [\"name\", \"date_count\"]\n",
    "df_grouped.sort_values(by=\"date_count\", ascending=False)"
   ]
  },
  {
   "cell_type": "code",
   "execution_count": 166,
   "metadata": {},
   "outputs": [],
   "source": [
    "# drop all stations with less tan 9 observations\n",
    "min_obs = 0\n",
    "train_df.groupby('id').agg({'date': 'count'}).sort_values(by='date', ascending=False).reset_index()\n",
    "train_df = train_df.groupby('id').filter(lambda group: len(group) >= min_obs)"
   ]
  },
  {
   "cell_type": "code",
   "execution_count": 3,
   "metadata": {},
   "outputs": [],
   "source": [
    "# pca1_and_pca2_1stq_ids = stations_pca[(stations_pca.PCA1 >= 0.38) & (stations_pca.PCA2 >= 0.6)].id\n",
    "# len(pca1_and_pca2_1stq_ids)"
   ]
  },
  {
   "cell_type": "code",
   "execution_count": 2,
   "metadata": {},
   "outputs": [
    {
     "ename": "NameError",
     "evalue": "name 'train_df' is not defined",
     "output_type": "error",
     "traceback": [
      "\u001b[0;31m---------------------------------------------------------------------------\u001b[0m",
      "\u001b[0;31mNameError\u001b[0m                                 Traceback (most recent call last)",
      "Cell \u001b[0;32mIn[2], line 1\u001b[0m\n\u001b[0;32m----> 1\u001b[0m train_df[\u001b[38;5;124m'\u001b[39m\u001b[38;5;124mmonth_year\u001b[39m\u001b[38;5;124m'\u001b[39m] \u001b[38;5;241m=\u001b[39m \u001b[43mtrain_df\u001b[49m\u001b[38;5;241m.\u001b[39mindex\u001b[38;5;241m.\u001b[39mto_period(\u001b[38;5;124m'\u001b[39m\u001b[38;5;124mM\u001b[39m\u001b[38;5;124m'\u001b[39m)\n\u001b[1;32m      2\u001b[0m unique_months \u001b[38;5;241m=\u001b[39m train_df[\u001b[38;5;124m'\u001b[39m\u001b[38;5;124mmonth_year\u001b[39m\u001b[38;5;124m'\u001b[39m]\u001b[38;5;241m.\u001b[39munique()\n\u001b[1;32m      4\u001b[0m results \u001b[38;5;241m=\u001b[39m []\n",
      "\u001b[0;31mNameError\u001b[0m: name 'train_df' is not defined"
     ]
    }
   ],
   "source": [
    "train_df['month_year'] = train_df.index.to_period('M')\n",
    "unique_months = train_df['month_year'].unique()\n",
    "\n",
    "results = []\n",
    "\n",
    "for _ in range(5):\n",
    "    # Randomly select 20% of months for testing\n",
    "    test_months = np.random.choice(unique_months, size=int(len(unique_months) * 0.2), replace=False)\n",
    "    train_df = train_df[~train_df['month_year'].isin(test_months)]\n",
    "    test_df = train_df[train_df['month_year'].isin(test_months)]\n"
   ]
  },
  {
   "cell_type": "code",
   "execution_count": 169,
   "metadata": {},
   "outputs": [
    {
     "name": "stdout",
     "output_type": "stream",
     "text": [
      "lenght of train and test 2381 321\n",
      "r2_score: -0.6027758552156453\n",
      "rmse: 6.79076641022576\n",
      "pearson r: 0.17362319955528632\n",
      "p-value: 0.0017942731045447094\n"
     ]
    },
    {
     "data": {
      "image/png": "[encoded data removed]",
      "text/plain": [
       "<Figure size 800x500 with 1 Axes>"
      ]
     },
     "metadata": {},
     "output_type": "display_data"
    }
   ],
   "source": [
    "# split the training_df into training and test where test is the last year\n",
    "\n",
    "# Train by year\n",
    "# train_data = train_df[train_df[\"date\"].dt.year.isin([2020,2021,2022])]\n",
    "# test_data = train_df[train_df[\"date\"].dt.year.isin([2023])]\n",
    "\n",
    "# # train and test selection by month\n",
    "# train_data = train_df[train_df[\"date\"].dt.month.isin([1,2,4,5,7,8,10,11,12])]\n",
    "# test_data = train_df[train_df[\"date\"].dt.month.isin([3,6,9])]\n",
    "\n",
    "X_train, X_test = train_data[explain_vars], test_data[explain_vars]\n",
    "y_train, y_test = train_data[\"gwl_cm\"], test_data[\"gwl_cm\"]\n",
    "\n",
    "print(\"lenght of train and test\", len(X_train), len(X_test))\n",
    "\n",
    "####################### TRAIN THE MODEL ############################\n",
    "regr = get_regressor()\n",
    "\n",
    "regr.fit(X_train, y_train)\n",
    "y_pred_test = regr.predict(X_test)\n",
    "\n",
    "r, p = pearsonr(y_test, y_pred_test)\n",
    "r2_score_val = r2_score(y_test, y_pred_test)\n",
    "rmse = np.sqrt(mean_squared_error(y_test, y_pred_test))\n",
    "\n",
    "# print all the metrics\n",
    "print(f\"r2_score: {r2_score_val}\")\n",
    "print(f\"rmse: {rmse}\")\n",
    "print(f\"pearson r: {r}\")\n",
    "print(f\"p-value: {p}\")\n",
    "\n",
    "# Plot the observed vs predicted with labels and title\n",
    "plt.scatter(y_test, y_pred_test)\n",
    "plt.xlabel(\"Observed\")\n",
    "plt.ylabel(\"Predicted\")\n",
    "plt.title(\"Observed vs Predicted\")\n",
    "plt.show()"
   ]
  },
  {
   "cell_type": "code",
   "execution_count": null,
   "metadata": {},
   "outputs": [],
   "source": [
    "\n",
    "\n",
    "test_months = np.random.choice(unique_months, size=n_test_months, replace=False)\n",
    "train_mask = ~data.index.to_period('M').isin(test_months)\n",
    "test_mask = data.index.to_period('M').isin(test_months)\n",
    "\n",
    "train_data = data[train_mask]\n",
    "test_data = data[test_mask]\n",
    "\n"
   ]
  },
  {
   "cell_type": "code",
   "execution_count": null,
   "metadata": {},
   "outputs": [],
   "source": [
    "import numpy as np\n",
    "import pandas as pd\n",
    "\n",
    "# Assuming 'data' is your DataFrame with a datetime index\n",
    "unique_months = pd.to_datetime(data.index).to_period('M').unique()\n",
    "n_test_months = int(len(unique_months) * 0.2)  # 20% of months for testing"
   ]
  },
  {
   "cell_type": "code",
   "execution_count": null,
   "metadata": {},
   "outputs": [],
   "source": []
  },
  {
   "cell_type": "code",
   "execution_count": null,
   "metadata": {},
   "outputs": [],
   "source": []
  },
  {
   "cell_type": "code",
   "execution_count": null,
   "metadata": {},
   "outputs": [],
   "source": []
  },
  {
   "cell_type": "code",
   "execution_count": 160,
   "metadata": {},
   "outputs": [
    {
     "name": "stdout",
     "output_type": "stream",
     "text": [
      "lenght of train and test 330 108\n",
      "r2_score: 0.0955321955539894\n",
      "rmse: 6.363447741128552\n",
      "pearson r: 0.3384881365721063\n",
      "p-value: 0.00033952312558220343\n"
     ]
    },
    {
     "data": {
      "image/png": "[encoded data removed]",
      "text/plain": [
       "<Figure size 800x500 with 1 Axes>"
      ]
     },
     "metadata": {},
     "output_type": "display_data"
    }
   ],
   "source": [
    "\n",
    "# PCA TEST\n",
    "\n",
    "# Divide train and test by PCA and year\n",
    "# train_data = train_df[train_df.id.isin(pca1_and_pca2_1stq_ids) & train_df[\"date\"].dt.year.isin([2020,2021,2022])]\n",
    "# test_data = train_df[train_df.id.isin(pca1_and_pca2_1stq_ids) & train_df[\"date\"].dt.year.isin([2023])]\n",
    "\n",
    "# # Divide train and test by PCA and month\n",
    "train_data = train_df[train_df.id.isin(pca1_and_pca2_1stq_ids) & (train_df[\"date\"].dt.month.isin([1,2,4,5,7,8,10,11,12]))]\n",
    "test_data = train_df[train_df.id.isin(pca1_and_pca2_1stq_ids) & (train_df[\"date\"].dt.month.isin([3,6,9]))]\n",
    "\n",
    "\n",
    "X_train, X_test = train_data[explain_vars], test_data[explain_vars]\n",
    "y_train, y_test = train_data[\"gwl_cm\"], test_data[\"gwl_cm\"]\n",
    "\n",
    "print(\"lenght of train and test\", len(X_train), len(X_test))\n",
    "\n",
    "####################### TRAIN\n",
    "\n",
    "regr = get_regressor()\n",
    "\n",
    "regr.fit(X_train, y_train)\n",
    "y_pred_test = regr.predict(X_test)\n",
    "\n",
    "r, p = pearsonr(y_test, y_pred_test)\n",
    "r2_score_val = r2_score(y_test, y_pred_test)\n",
    "rmse = np.sqrt(mean_squared_error(y_test, y_pred_test))\n",
    "\n",
    "# print all the metrics\n",
    "print(f\"r2_score: {r2_score_val}\")\n",
    "print(f\"rmse: {rmse}\")\n",
    "print(f\"pearson r: {r}\")\n",
    "print(f\"p-value: {p}\")\n",
    "\n",
    "# Plot the observed vs predicted with labels and title\n",
    "plt.scatter(y_test, y_pred_test)\n",
    "plt.xlabel(\"Observed\")\n",
    "plt.ylabel(\"Predicted\")\n",
    "plt.title(\"Observed vs Predicted\")\n",
    "plt.show()"
   ]
  },
  {
   "cell_type": "code",
   "execution_count": null,
   "metadata": {},
   "outputs": [],
   "source": [
    "\n",
    "print(\"dependent var\", response_var)\n",
    "print(\"explanatory lenght\", len(explain_vars))\n",
    "print(explain_vars)"
   ]
  },
  {
   "cell_type": "code",
   "execution_count": null,
   "metadata": {},
   "outputs": [],
   "source": [
    "# bootstrap_result = bootstrap(df = train_df, variable=\"gwl_cm\", iterations=100, train_size=0.8, explain_vars=explain_vars, bootstrap_by=\"observations\")\n",
    "# bootstrap_result"
   ]
  },
  {
   "cell_type": "code",
   "execution_count": null,
   "metadata": {},
   "outputs": [],
   "source": [
    "# Now I want to test the model on unseen data and see how it performs\n",
    "from gee_scripts.randomforest import get_regressor\n",
    "\n",
    "# train the model on all the data\n",
    "regressor = get_regressor()\n",
    "regressor.fit(train_df[explain_vars], train_df['gwl_cm'])"
   ]
  },
  {
   "cell_type": "code",
   "execution_count": null,
   "metadata": {},
   "outputs": [],
   "source": [
    "from sklearn.model_selection import GridSearchCV\n",
    "\n",
    "param_grid = {\n",
    "    'n_estimators': [100, 200, 300, 350, 500],\n",
    "    'max_depth': [None, 10, 20, 30],\n",
    "    'min_samples_split': [2, 5, 10],\n",
    "    'min_samples_leaf': [1, 2, 4]\n",
    "}\n",
    "\n",
    "# Assume get_regressor() is your function to get the base model\n",
    "base_model = get_regressor()\n",
    "grid_search = GridSearchCV(estimator=base_model, param_grid=param_grid, cv=5, scoring='neg_mean_squared_error', verbose=1, n_jobs=-1)\n",
    "X_train, y_train = df[explain_vars], df['gwl_cm']\n",
    "grid_search.fit(X_train, y_train)"
   ]
  },
  {
   "cell_type": "code",
   "execution_count": null,
   "metadata": {},
   "outputs": [],
   "source": [
    "print(\"Best parameters:\", grid_search.best_params_)\n",
    "best_model = grid_search.best_estimator_"
   ]
  },
  {
   "cell_type": "code",
   "execution_count": null,
   "metadata": {},
   "outputs": [],
   "source": [
    "from scipy.stats import pearsonr\n",
    "from sklearn.metrics import r2_score, mean_squared_error\n"
   ]
  },
  {
   "cell_type": "code",
   "execution_count": null,
   "metadata": {},
   "outputs": [],
   "source": [
    "# Test on unseen data\n",
    "test_df = df[df.phu_id == 169]\n",
    "# test_df"
   ]
  },
  {
   "cell_type": "code",
   "execution_count": null,
   "metadata": {},
   "outputs": [],
   "source": [
    "\n",
    "X_test, y_test = test_df[explain_vars], test_df['gwl_cm']\n",
    "\n",
    "y_pred = regressor.predict(X_test)\n",
    "r, p = pearsonr(y_test, y_pred)\n",
    "r\n"
   ]
  },
  {
   "cell_type": "code",
   "execution_count": null,
   "metadata": {},
   "outputs": [],
   "source": [
    "r2_score(y_test, y_pred)"
   ]
  },
  {
   "cell_type": "code",
   "execution_count": null,
   "metadata": {},
   "outputs": [],
   "source": [
    "test_df"
   ]
  },
  {
   "cell_type": "code",
   "execution_count": null,
   "metadata": {},
   "outputs": [],
   "source": [
    "pd.DataFrame({\"y_test\": y_test, \"y_pred\": y_pred})"
   ]
  },
  {
   "cell_type": "code",
   "execution_count": null,
   "metadata": {},
   "outputs": [],
   "source": [
    "pd.DataFrame({\"y_test\": y_test, \"y_pred\": y_pred}).plot.scatter(x=\"y_test\", y=\"y_pred\")"
   ]
  },
  {
   "cell_type": "code",
   "execution_count": null,
   "metadata": {},
   "outputs": [],
   "source": [
    "from sklearn.metrics import mean_squared_error\n",
    "mean_squared_error(y_test, y_pred)\n",
    "\n"
   ]
  },
  {
   "cell_type": "code",
   "execution_count": null,
   "metadata": {},
   "outputs": [],
   "source": []
  }
 ],
 "metadata": {
  "kernelspec": {
   "display_name": "gwl-modeling",
   "language": "python",
   "name": "python3"
  },
  "language_info": {
   "codemirror_mode": {
    "name": "ipython",
    "version": 3
   },
   "file_extension": ".py",
   "mimetype": "text/x-python",
   "name": "python",
   "nbconvert_exporter": "python",
   "pygments_lexer": "ipython3",
   "version": "3.10.12"
  }
 },
 "nbformat": 4,
 "nbformat_minor": 4
}
