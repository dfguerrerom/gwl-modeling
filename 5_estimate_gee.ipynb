{
 "cells": [
  {
   "cell_type": "code",
   "execution_count": 1,
   "metadata": {
    "tags": []
   },
   "outputs": [],
   "source": [
    "%load_ext autoreload\n",
    "%autoreload 2"
   ]
  },
  {
   "cell_type": "code",
   "execution_count": 2,
   "metadata": {
    "tags": []
   },
   "outputs": [],
   "source": [
    "import datetime\n",
    "from gee_scripts.get_sources import get_explanatory_composite\n",
    "from gee_scripts.parameters import explain_vars\n",
    "from gee_scripts.get_sources import get_s1_dates\n",
    "from gee_scripts.gee import export_classifier\n",
    "from gee_scripts.directories import get_export_folder\n",
    "from gee_scripts import init_ee\n",
    "\n",
    "init_ee()\n",
    "import ee\n"
   ]
  },
  {
   "cell_type": "markdown",
   "metadata": {},
   "source": [
    "## 1. Train the classifier in GEE and save the model as asset"
   ]
  },
  {
   "cell_type": "code",
   "execution_count": null,
   "metadata": {},
   "outputs": [],
   "source": [
    "# This table contains the training data for the model\n",
    "training_data = ee.FeatureCollection(\"projects/ee-marortpab/assets/FAO/indonesia/gwl/df_with_models\")"
   ]
  },
  {
   "cell_type": "code",
   "execution_count": null,
   "metadata": {},
   "outputs": [],
   "source": [
    "# We have intentified three potential models: model5, model7, and model17\n",
    "# export_classifier(training_data, \"model7\")\n",
    "\n",
    "# I have already processed and exported the models, the function above\n",
    "# can be used to export different models.\n",
    "# Check the function `export_classifier` for more details.\n",
    "\n",
    "ee_model_17 = \"projects/sepal-ui-421413/assets/gwl-modeling/models/RandomForest_model17\"\n",
    "ee_model_5 = \"projects/sepal-ui-421413/assets/gwl-modeling/models/RandomForest_model5\"\n",
    "ee_model_7 = \"projects/sepal-ui-421413/assets/gwl-modeling/models/RandomForest_model7\""
   ]
  },
  {
   "cell_type": "markdown",
   "metadata": {},
   "source": [
    "## 2. Estimate using the trained model"
   ]
  },
  {
   "cell_type": "markdown",
   "metadata": {},
   "source": [
    "https://code.earthengine.google.com/1fd31fe53d5a8cf8b812552f901325a0"
   ]
  },
  {
   "cell_type": "markdown",
   "metadata": {},
   "source": [
    "## 2.1. Set parameters"
   ]
  },
  {
   "cell_type": "code",
   "execution_count": null,
   "metadata": {},
   "outputs": [],
   "source": []
  },
  {
   "cell_type": "code",
   "execution_count": null,
   "metadata": {},
   "outputs": [],
   "source": [
    "# This lie will take some time to run, because it will do a GEE request\n",
    "all_s1_dates = get_s1_dates(aoi=target_phu)"
   ]
  },
  {
   "cell_type": "code",
   "execution_count": null,
   "metadata": {},
   "outputs": [],
   "source": [
    "all_str_date = [\n",
    "    datetime.datetime.fromtimestamp(date/1000).strftime('%Y-%m-%d') for date in all_s1_dates\n",
    "]"
   ]
  },
  {
   "cell_type": "code",
   "execution_count": null,
   "metadata": {},
   "outputs": [],
   "source": []
  },
  {
   "cell_type": "code",
   "execution_count": null,
   "metadata": {},
   "outputs": [],
   "source": [
    "ee.Date('2015-01-02')"
   ]
  },
  {
   "cell_type": "code",
   "execution_count": null,
   "metadata": {},
   "outputs": [],
   "source": [
    "def export_estimation(model_name, aoi_name, str_date, target_phu, ee_classifier, ee_aoi):\n",
    "    \"\"\"Export the estimated GWL image for a given model and target date.\"\"\"\n",
    "\n",
    "    # Get explanatory composite closest to target date\n",
    "    image = get_explanatory_composite(\n",
    "        target_date=str_date, \n",
    "        ee_region=target_phu, \n",
    "        max_days_offset=1\n",
    "    ).select(explain_vars)\n",
    "\n",
    "    output_image_name = f\"{model_name}_{aoi_name}_{str_date}\"\n",
    "    estimated_image = image.select(explain_vars).classify(ee_classifier).set({\"model\": model_name, \"date\": str_date})\n",
    "\n",
    "    # create export task\n",
    "    task = ee.batch.Export.image.toAsset(\n",
    "        **{\n",
    "            \"image\": estimated_image,\n",
    "            \"description\": output_image_name,\n",
    "            \"assetId\": str(get_export_folder(output_folder=f\"estimation/{model_name}\")/output_image_name),\n",
    "            \"region\": ee_aoi,\n",
    "            \"scale\": 100,\n",
    "        }\n",
    "    )\n",
    "    return task"
   ]
  },
  {
   "cell_type": "code",
   "execution_count": null,
   "metadata": {},
   "outputs": [],
   "source": [
    "model_name = \"model7\"\n",
    "ee_aoi = phus.filter(ee.Filter.eq(\"PHU_NAME\", \"KHG Sungai Siak - Sungai Kampar\")).geometry()\n",
    "aoi_name = \"PHU_SungaiKampar\"\n",
    "ee_classifier = ee_model_7\n",
    "phus = ee.FeatureCollection(\"users/marortpab/FAO/SEPAL/2023_trainings/smm/AOI__Province__865_PHUs__INDONESIA\")\n",
    "\n",
    "tasks = [export_estimation(model_name, target_date, target_phu, ee_classifier) for target_date in all_str_date[:10]]"
   ]
  },
  {
   "cell_type": "code",
   "execution_count": null,
   "metadata": {},
   "outputs": [],
   "source": [
    "[task.start() for task in tasks]"
   ]
  }
 ],
 "metadata": {
  "kernelspec": {
   "display_name": "Python 3",
   "language": "python",
   "name": "python3"
  },
  "language_info": {
   "codemirror_mode": {
    "name": "ipython",
    "version": 3
   },
   "file_extension": ".py",
   "mimetype": "text/x-python",
   "name": "python",
   "nbconvert_exporter": "python",
   "pygments_lexer": "ipython3",
   "version": "3.10.12"
  }
 },
 "nbformat": 4,
 "nbformat_minor": 4
}
