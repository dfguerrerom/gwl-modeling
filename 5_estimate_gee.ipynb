{
 "cells": [
  {
   "cell_type": "code",
   "execution_count": 1,
   "metadata": {
    "tags": []
   },
   "outputs": [],
   "source": [
    "%load_ext autoreload\n",
    "%autoreload 2"
   ]
  },
  {
   "cell_type": "code",
   "execution_count": 2,
   "metadata": {
    "tags": []
   },
   "outputs": [
    {
     "name": "stdout",
     "output_type": "stream",
     "text": [
      "Earth Engine initialized successfully, with ee-indonesia-gwl\n"
     ]
    }
   ],
   "source": [
    "import pandas as pd\n",
    "import datetime\n",
    "from gee_scripts.get_sources import get_explanatory_composite\n",
    "from gee_scripts.parameters import explain_vars\n",
    "from gee_scripts.get_sources import get_s1_dates\n",
    "from gee_scripts.gee import export_classifier\n",
    "from gee_scripts.directories import get_export_folder\n",
    "from gee_scripts import init_ee\n",
    "\n",
    "import ee\n"
   ]
  },
  {
   "cell_type": "markdown",
   "metadata": {},
   "source": [
    "## 1. Train the classifier in GEE and save the model as asset"
   ]
  },
  {
   "cell_type": "code",
   "execution_count": 3,
   "metadata": {},
   "outputs": [],
   "source": [
    "df = pd.read_csv(\"data/9_clean_training_data/all_training_data_with_extra_and_locations_and_precipSum.csv\", parse_dates=[\"date\"])"
   ]
  },
  {
   "cell_type": "code",
   "execution_count": 4,
   "metadata": {},
   "outputs": [],
   "source": [
    "# This table contains the training data for the model\n",
    "training_data = ee.FeatureCollection(\"projects/ee-indonesia-gwl/assets/all_training_data_with_extra_and_locations_and_precipSum\")"
   ]
  },
  {
   "cell_type": "code",
   "execution_count": 5,
   "metadata": {},
   "outputs": [
    {
     "data": {
      "text/plain": [
       "3837"
      ]
     },
     "execution_count": 5,
     "metadata": {},
     "output_type": "execute_result"
    }
   ],
   "source": [
    "best_kalimantan_phus = [297, 351, 352, 256, 340]\n",
    "training_data = training_data.filter(ee.Filter.inList(\"phu_id\", best_kalimantan_phus))\n",
    "training_data.size().getInfo()"
   ]
  },
  {
   "cell_type": "code",
   "execution_count": 19,
   "metadata": {},
   "outputs": [],
   "source": [
    "# model_gee_id = export_classifier(training_data, \"kalimantan_phu_model_297_351_352_256_340\")\n",
    "model_gee_id = \"projects/ee-indonesia-gwl/assets/gwl-modeling/models/RandomForest_kalimantan_phu_model_297_351_352_256_340_trees_250\""
   ]
  },
  {
   "cell_type": "markdown",
   "metadata": {},
   "source": [
    "## 2. Estimate using the trained model"
   ]
  },
  {
   "cell_type": "markdown",
   "metadata": {},
   "source": [
    "https://code.earthengine.google.com/1fd31fe53d5a8cf8b812552f901325a0"
   ]
  },
  {
   "cell_type": "markdown",
   "metadata": {},
   "source": [
    "## 2.1. Set parameters"
   ]
  },
  {
   "cell_type": "code",
   "execution_count": 8,
   "metadata": {},
   "outputs": [],
   "source": [
    "target_phu_number = 351\n",
    "target_phu = ee.FeatureCollection(\"projects/ee-indonesia-gwl/assets/all_phus_numbered\").filter(\n",
    "    ee.Filter.eq(\"phu_id\", target_phu_number)).first(\\\n",
    ").geometry().bounds()"
   ]
  },
  {
   "cell_type": "code",
   "execution_count": 9,
   "metadata": {},
   "outputs": [],
   "source": [
    "# This lie will take some time to run, because it will do a GEE request\n",
    "all_s1_dates = get_s1_dates(aoi=target_phu)"
   ]
  },
  {
   "cell_type": "code",
   "execution_count": 10,
   "metadata": {},
   "outputs": [],
   "source": [
    "all_str_date = [\n",
    "    datetime.datetime.fromtimestamp(date/1000).strftime('%Y-%m-%d') for date in all_s1_dates\n",
    "]"
   ]
  },
  {
   "cell_type": "code",
   "execution_count": 11,
   "metadata": {},
   "outputs": [
    {
     "data": {
      "text/plain": [
       "264"
      ]
     },
     "execution_count": 11,
     "metadata": {},
     "output_type": "execute_result"
    }
   ],
   "source": [
    "dates_df = pd.DataFrame(all_str_date, columns=[\"date\"])\n",
    "# drop duplicates\n",
    "dates_df = dates_df.drop_duplicates()\n",
    "dates_df[\"date\"] = pd.to_datetime(dates_df[\"date\"])\n",
    "# Only keep the dates after 2019\n",
    "dates = dates_df[dates_df[\"date\"] > \"2019-09-22\"]\n",
    "len(dates)\n",
    "\n",
    "all_str_date = dates[\"date\"].dt.strftime('%Y-%m-%d').tolist()\n",
    "len(all_str_date)"
   ]
  },
  {
   "cell_type": "code",
   "execution_count": 20,
   "metadata": {},
   "outputs": [],
   "source": [
    "def export_estimation(model_name, aoi_name, ee_aoi, str_date, ee_classifier, ):\n",
    "    \"\"\"Export the estimated GWL image for a given model and target date.\"\"\"\n",
    "\n",
    "    # Get explanatory composite closest to target date\n",
    "    image = get_explanatory_composite(\n",
    "        target_date=str_date, \n",
    "        ee_region=ee_aoi, \n",
    "    ).select(explain_vars)\n",
    "\n",
    "    output_image_name = f\"{aoi_name}_{str_date}\"\n",
    "    estimated_image = image.select(explain_vars).classify(ee_classifier).set({\"model\": model_name, \"date\": str_date})\n",
    "\n",
    "    # create export task\n",
    "    task = ee.batch.Export.image.toAsset(\n",
    "        **{\n",
    "            \"image\": estimated_image,\n",
    "            \"description\": output_image_name,\n",
    "            \"assetId\": str(get_export_folder(output_folder=f\"estimation/best_model\")/output_image_name),\n",
    "            \"region\": ee_aoi,\n",
    "            \"scale\": 100,\n",
    "        }\n",
    "    ).start()"
   ]
  },
  {
   "cell_type": "code",
   "execution_count": 21,
   "metadata": {},
   "outputs": [
    {
     "name": "stdout",
     "output_type": "stream",
     "text": [
      "target_date 2019-09-28\n",
      "start_date 2019-09-27 00:00:00\n",
      "end_date 2019-09-29 00:00:00\n",
      "target_date 2019-10-10\n",
      "start_date 2019-10-09 00:00:00\n",
      "end_date 2019-10-11 00:00:00\n",
      "target_date 2019-10-16\n",
      "start_date 2019-10-15 00:00:00\n",
      "end_date 2019-10-17 00:00:00\n",
      "target_date 2019-10-22\n",
      "start_date 2019-10-21 00:00:00\n",
      "end_date 2019-10-23 00:00:00\n",
      "target_date 2019-10-27\n",
      "start_date 2019-10-26 00:00:00\n",
      "end_date 2019-10-28 00:00:00\n",
      "target_date 2019-11-03\n",
      "start_date 2019-11-02 00:00:00\n",
      "end_date 2019-11-04 00:00:00\n",
      "target_date 2019-11-08\n",
      "start_date 2019-11-07 00:00:00\n",
      "end_date 2019-11-09 00:00:00\n",
      "target_date 2019-11-15\n",
      "start_date 2019-11-14 00:00:00\n",
      "end_date 2019-11-16 00:00:00\n",
      "target_date 2019-11-20\n",
      "start_date 2019-11-19 00:00:00\n",
      "end_date 2019-11-21 00:00:00\n"
     ]
    }
   ],
   "source": [
    "aoi_name = f\"PHU_{target_phu_number}\"\n",
    "ee_classifier = ee.Classifier.load(model_gee_id)\n",
    "model_name = \"kalimantan_phu_model_297_351_352_256_340\"\n",
    "phus = ee.FeatureCollection(\"projects/ee-indonesia-gwl/assets/All_phus_numbered\")\n",
    "\n",
    "tasks = [\n",
    "    export_estimation(model_name, aoi_name, target_phu, target_date, ee_classifier) \n",
    "    for target_date \n",
    "    in all_str_date\n",
    "]"
   ]
  },
  {
   "cell_type": "code",
   "execution_count": null,
   "metadata": {},
   "outputs": [],
   "source": [
    "[task.start() for task in tasks]"
   ]
  },
  {
   "cell_type": "code",
   "execution_count": null,
   "metadata": {},
   "outputs": [],
   "source": [
    "list_of_images = ee.data.listImages(\"projects/ee-indonesia-gwl/assets/gwl-modeling/estimation/kalimantan_phu_model_297_351_352_256_340\")\n",
    "list_of_images = [image[\"id\"] for image in list_of_images[\"images\"]]"
   ]
  },
  {
   "cell_type": "code",
   "execution_count": null,
   "metadata": {},
   "outputs": [],
   "source": [
    "from pathlib import Path\n",
    "\n",
    "image_collection = \"projects/ee-indonesia-gwl/assets/gwl-modeling/estimation/best_model\"\n",
    "destination_id = Path(image_collection)/Path(list_of_images[0]).name\n",
    "str(destination_id)"
   ]
  },
  {
   "cell_type": "code",
   "execution_count": null,
   "metadata": {},
   "outputs": [],
   "source": [
    "ic = ee.ImageCollection(\"projects/ee-indonesia-gwl/assets/gwl-modeling/estimation/best_model\")"
   ]
  },
  {
   "cell_type": "code",
   "execution_count": null,
   "metadata": {},
   "outputs": [],
   "source": [
    "ic.first().get(\"date\").getInfo()"
   ]
  },
  {
   "cell_type": "code",
   "execution_count": null,
   "metadata": {},
   "outputs": [],
   "source": [
    "running = [operation for operation in ee.data.listOperations() if operation[\"metadata\"][\"state\"] == \"RUNNING\"]\n",
    "pending = [operation for operation in ee.data.listOperations() if operation[\"metadata\"][\"state\"] == \"PENDING\"]\n",
    "\n",
    "print(f\"Running: {len(running)}, Pending: {len(pending)}\")"
   ]
  },
  {
   "cell_type": "code",
   "execution_count": null,
   "metadata": {},
   "outputs": [],
   "source": [
    "running"
   ]
  },
  {
   "cell_type": "code",
   "execution_count": null,
   "metadata": {},
   "outputs": [],
   "source": [
    "[ee.data.cancelOperation(operation[\"name\"]) for operation in pending]"
   ]
  },
  {
   "cell_type": "code",
   "execution_count": null,
   "metadata": {},
   "outputs": [],
   "source": [
    "image_ids = ic.toList(ic.size()).getInfo()\n",
    "image_ids = [image[\"id\"] for image in image_ids]\n",
    "\n",
    "for image_id in image_ids:\n",
    "\n",
    "    image = ee.Image(image_id)\n",
    "    date = image.get(\"date\")\n",
    "    image.set({\"system:time_start\": date})\n",
    "\n",
    "    ee.data.updateAsset(image_id, image, [])\n",
    "\n",
    "    break    "
   ]
  }
 ],
 "metadata": {
  "kernelspec": {
   "display_name": "Python 3",
   "language": "python",
   "name": "python3"
  },
  "language_info": {
   "codemirror_mode": {
    "name": "ipython",
    "version": 3
   },
   "file_extension": ".py",
   "mimetype": "text/x-python",
   "name": "python",
   "nbconvert_exporter": "python",
   "pygments_lexer": "ipython3",
   "version": "3.10.12"
  }
 },
 "nbformat": 4,
 "nbformat_minor": 4
}
