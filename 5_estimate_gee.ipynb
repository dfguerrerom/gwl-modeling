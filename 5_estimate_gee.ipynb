{
 "cells": [
  {
   "cell_type": "markdown",
   "metadata": {},
   "source": [
    "# 5. Estimate GWL from the given data on GEE"
   ]
  },
  {
   "cell_type": "code",
   "execution_count": 1,
   "metadata": {
    "tags": []
   },
   "outputs": [],
   "source": [
    "%load_ext autoreload\n",
    "%autoreload 2"
   ]
  },
  {
   "cell_type": "code",
   "execution_count": 2,
   "metadata": {
    "tags": []
   },
   "outputs": [
    {
     "name": "stdout",
     "output_type": "stream",
     "text": [
      "Earth Engine initialized successfully, with ee-indonesia-gwl\n"
     ]
    }
   ],
   "source": [
    "import pandas as pd\n",
    "from gee_scripts.get_sources import get_explanatory_composite\n",
    "from gee_scripts.parameters import explain_vars\n",
    "from gee_scripts.get_sources import get_s1_str_dates\n",
    "from gee_scripts.gee import export_classifier, estimate_to_gee\n",
    "\n",
    "import ee"
   ]
  },
  {
   "cell_type": "markdown",
   "metadata": {},
   "source": [
    "## 1. 📰 Read the data"
   ]
  },
  {
   "cell_type": "code",
   "execution_count": 3,
   "metadata": {},
   "outputs": [],
   "source": [
    "# This dataframe contains all the field + explanatory variables (training data)\n",
    "df = pd.read_csv(\"data/9_clean_training_data/all_training_data_with_extra_and_locations_and_precipSum.csv\", parse_dates=[\"date\"])\n",
    "assert len(df) == 32783, \"The length of the dataframe is not correct\" # Check that the length of the dataframe is correct"
   ]
  },
  {
   "cell_type": "code",
   "execution_count": 4,
   "metadata": {},
   "outputs": [
    {
     "name": "stdout",
     "output_type": "stream",
     "text": [
      "Both the dataframe and the table have the same number of features and rows\n"
     ]
    }
   ],
   "source": [
    "# This table contains the training data for the model (field + explanatory variables) but as a gee table\n",
    "training_data = ee.FeatureCollection(\"projects/ee-indonesia-gwl/assets/all_training_data_with_extra_and_locations_and_precipSum\")\n",
    "\n",
    "# Check the consistency of the dataframe and the table\n",
    "assert len(df.columns) == len(training_data.first().propertyNames().getInfo()), \"The number of features in the dataframe and the table are not the same\"\n",
    "assert 32783 == training_data.size().getInfo(), \"The number of rows in the dataframe and the table are not the same\"\n",
    "\n",
    "print(\"Both the dataframe and the table have the same number of features and rows\")"
   ]
  },
  {
   "cell_type": "markdown",
   "metadata": {},
   "source": [
    "## 2. ✅ Subset of the data to train the model (training data)"
   ]
  },
  {
   "cell_type": "code",
   "execution_count": 5,
   "metadata": {},
   "outputs": [
    {
     "data": {
      "text/plain": [
       "1546"
      ]
     },
     "execution_count": 5,
     "metadata": {},
     "output_type": "execute_result"
    }
   ],
   "source": [
    "# The following code is used to filter the training data according with previous analysis\n",
    "\n",
    "# best_kalimantan_phus = [297., 350., 351., 352., 357., ]\n",
    "best_kalimantan_phus = [350, 351, 357, 379] # This is Pablo's selection\n",
    "bad_stations = ['batok1','batok2','brg11','brg13','brg16','BRG_620309_01','BRG_620309_02','BRG_630805_01','BRG_630708_01']\n",
    "\n",
    "# We filter the training data (in the gee table) to only include the best phus and exclude the bad stations\n",
    "training_data = (\n",
    "    training_data\n",
    "        .filter(\n",
    "            ee.Filter.And(\n",
    "                ee.Filter.inList(\"phu_id\", best_kalimantan_phus),\n",
    "                ee.Filter.inList(\"id\", bad_stations).Not()\n",
    "            )\n",
    "        )\n",
    ")\n",
    "training_data.size().getInfo()"
   ]
  },
  {
   "cell_type": "code",
   "execution_count": 10,
   "metadata": {},
   "outputs": [
    {
     "name": "stdout",
     "output_type": "stream",
     "text": [
      "Exporting model kalimantan_phu_model_350_351_357_379_Pablo_no_bad_stations with 1546 samples\n",
      "Alert!!! Model projects/ee-indonesia-gwl/assets/gwl-modeling/models/RandomForest_kalimantan_phu_model_350_351_357_379_Pablo_no_bad_stations_trees_250 already exists\n"
     ]
    }
   ],
   "source": [
    "# Train a model using the training data and save it to the gee as an asset\n",
    "\n",
    "# Define a meaningful name for the model\n",
    "model_name = \"kalimantan_phu_model_350_351_357_379_Pablo_no_bad_stations\"\n",
    "\n",
    "# This function exports the classifier to the gee (track the task in https://code.earthengine.google.com/tasks)\n",
    "model_gee_id = export_classifier(training_data, model_name)"
   ]
  },
  {
   "cell_type": "markdown",
   "metadata": {},
   "source": [
    " ## 📊 3. Estimate using the trained model "
   ]
  },
  {
   "cell_type": "markdown",
   "metadata": {},
   "source": [
    "##############################################"
   ]
  },
  {
   "cell_type": "code",
   "execution_count": 16,
   "metadata": {},
   "outputs": [
    {
     "name": "stdout",
     "output_type": "stream",
     "text": [
      "There are 400 images/dates to export\n",
      "First date: 2018-01-05\n",
      "Last date: 2024-06-27\n"
     ]
    }
   ],
   "source": [
    "#####################################\n",
    "# SET PARAMETERS FOR THE ESTIMATION #\n",
    "#####################################\n",
    "\n",
    "phus_asset_id = \"projects/ee-indonesia-gwl/assets/all_phus_numbered\"\n",
    "target_phu_number = 353\n",
    "target_aoi = ee.FeatureCollection(phus_asset_id).filter(\n",
    "    ee.Filter.eq(\"phu_id\", target_phu_number)\n",
    ").first().geometry().bounds()\n",
    "\n",
    "# define a range of dates export the images\n",
    "start_date = \"2018-01-01\"\n",
    "end_date = \"2024-07-01\"\n",
    "\n",
    "all_str_date = get_s1_str_dates(target_aoi, start_date, end_date)\n",
    "\n",
    "print(f\"There are {len(all_str_date)} images/dates to export\")\n",
    "print(f\"First date: {all_str_date[0]}\")\n",
    "print(f\"Last date: {all_str_date[-1]}\")"
   ]
  },
  {
   "cell_type": "markdown",
   "metadata": {},
   "source": [
    "##############################################"
   ]
  },
  {
   "cell_type": "markdown",
   "metadata": {},
   "source": [
    "## ⚙️ Run the model "
   ]
  },
  {
   "cell_type": "code",
   "execution_count": 17,
   "metadata": {},
   "outputs": [
    {
     "name": "stdout",
     "output_type": "stream",
     "text": [
      "Composite for date:  2018-01-05  created.\n",
      "Composite for date:  2018-01-12  created.\n",
      "Composite for date:  2018-01-17  created.\n",
      "Composite for date:  2018-01-24  created.\n",
      "Composite for date:  2018-01-29  created.\n",
      "Composite for date:  2018-02-05  created.\n",
      "Composite for date:  2018-02-17  created.\n",
      "Composite for date:  2018-02-22  created.\n"
     ]
    }
   ],
   "source": [
    "# Create the tasks!!!\n",
    "\n",
    "aoi_name = f\"PHU_{target_phu_number}\"\n",
    "ee_classifier = ee.Classifier.load(model_gee_id)\n",
    "\n",
    "# Next line will create a list of tasks to export the images to the gee\n",
    "tasks = [\n",
    "    estimate_to_gee(aoi_name, target_aoi, target_date, ee_classifier).start()\n",
    "    for target_date \n",
    "    in all_str_date\n",
    "]"
   ]
  },
  {
   "cell_type": "code",
   "execution_count": 15,
   "metadata": {},
   "outputs": [],
   "source": [
    "# Run the tasks\n",
    "\n",
    "# [task.start() for task in tasks]\n",
    "\n",
    "# Monitor them in https://code.earthengine.google.com/tasks"
   ]
  },
  {
   "cell_type": "markdown",
   "metadata": {},
   "source": [
    "# 🚨 Do not run the code below 🚨"
   ]
  },
  {
   "cell_type": "code",
   "execution_count": null,
   "metadata": {},
   "outputs": [],
   "source": [
    "ee_point = ee.Geometry.Point([114.23777564628143, -2.6220828236265583])"
   ]
  },
  {
   "cell_type": "code",
   "execution_count": null,
   "metadata": {},
   "outputs": [],
   "source": [
    "model_gee_id = \"projects/ee-indonesia-gwl/assets/gwl-modeling/models/RandomForest_kalimantan_phu_model_357_297_350_351_352_no_bad_stations_trees_250\"\n",
    "ee_classifier = ee.Classifier.load(model_gee_id)\n"
   ]
  },
  {
   "cell_type": "code",
   "execution_count": null,
   "metadata": {},
   "outputs": [],
   "source": [
    "str_date = get_s1_str_dates(ee_point, start_date, end_date)[0]"
   ]
  },
  {
   "cell_type": "code",
   "execution_count": null,
   "metadata": {},
   "outputs": [],
   "source": [
    "# Get explanatory composite closest to target date\n",
    "image = get_explanatory_composite(\n",
    "    target_date=str_date, \n",
    "    ee_region=ee_point, \n",
    ").select(explain_vars)\n",
    "\n",
    "estimated_image = image.select(explain_vars).classify(ee_classifier).set({\"model\": model_name, \"date\": str_date})\n",
    "\n",
    "estimated_image.reduceRegion(ee.Reducer.mean(), ee_point, 100).getInfo()"
   ]
  },
  {
   "cell_type": "code",
   "execution_count": null,
   "metadata": {},
   "outputs": [],
   "source": [
    "from pathlib import Path\n",
    "\n",
    "image_collection = \"projects/ee-indonesia-gwl/assets/gwl-modeling/estimation/best_model\"\n",
    "destination_id = Path(image_collection)/Path(list_of_images[0]).name\n",
    "str(destination_id)"
   ]
  },
  {
   "cell_type": "code",
   "execution_count": null,
   "metadata": {},
   "outputs": [],
   "source": [
    "ic = ee.ImageCollection(\"projects/ee-indonesia-gwl/assets/gwl-modeling/estimation/best_model\")"
   ]
  },
  {
   "cell_type": "code",
   "execution_count": null,
   "metadata": {},
   "outputs": [],
   "source": [
    "ic.first().get(\"date\").getInfo()"
   ]
  },
  {
   "cell_type": "code",
   "execution_count": 13,
   "metadata": {},
   "outputs": [
    {
     "name": "stdout",
     "output_type": "stream",
     "text": [
      "Running: 3, Pending: 190\n"
     ]
    }
   ],
   "source": [
    "running = [operation for operation in ee.data.listOperations() if operation[\"metadata\"][\"state\"] == \"RUNNING\"]\n",
    "pending = [operation for operation in ee.data.listOperations() if operation[\"metadata\"][\"state\"] == \"PENDING\"]\n",
    "\n",
    "print(f\"Running: {len(running)}, Pending: {len(pending)}\")"
   ]
  },
  {
   "cell_type": "code",
   "execution_count": 14,
   "metadata": {},
   "outputs": [
    {
     "data": {
      "text/plain": [
       "[None,\n",
       " None,\n",
       " None,\n",
       " None,\n",
       " None,\n",
       " None,\n",
       " None,\n",
       " None,\n",
       " None,\n",
       " None,\n",
       " None,\n",
       " None,\n",
       " None,\n",
       " None,\n",
       " None,\n",
       " None,\n",
       " None,\n",
       " None,\n",
       " None,\n",
       " None,\n",
       " None,\n",
       " None,\n",
       " None,\n",
       " None,\n",
       " None,\n",
       " None,\n",
       " None,\n",
       " None,\n",
       " None,\n",
       " None,\n",
       " None,\n",
       " None,\n",
       " None,\n",
       " None,\n",
       " None,\n",
       " None,\n",
       " None,\n",
       " None,\n",
       " None,\n",
       " None,\n",
       " None,\n",
       " None,\n",
       " None,\n",
       " None,\n",
       " None,\n",
       " None,\n",
       " None,\n",
       " None,\n",
       " None,\n",
       " None,\n",
       " None,\n",
       " None,\n",
       " None,\n",
       " None,\n",
       " None,\n",
       " None,\n",
       " None,\n",
       " None,\n",
       " None,\n",
       " None,\n",
       " None,\n",
       " None,\n",
       " None,\n",
       " None,\n",
       " None,\n",
       " None,\n",
       " None,\n",
       " None,\n",
       " None,\n",
       " None,\n",
       " None,\n",
       " None,\n",
       " None,\n",
       " None,\n",
       " None,\n",
       " None,\n",
       " None,\n",
       " None,\n",
       " None,\n",
       " None,\n",
       " None,\n",
       " None,\n",
       " None,\n",
       " None,\n",
       " None,\n",
       " None,\n",
       " None,\n",
       " None,\n",
       " None,\n",
       " None,\n",
       " None,\n",
       " None,\n",
       " None,\n",
       " None,\n",
       " None,\n",
       " None,\n",
       " None,\n",
       " None,\n",
       " None,\n",
       " None,\n",
       " None,\n",
       " None,\n",
       " None,\n",
       " None,\n",
       " None,\n",
       " None,\n",
       " None,\n",
       " None,\n",
       " None,\n",
       " None,\n",
       " None,\n",
       " None,\n",
       " None,\n",
       " None,\n",
       " None,\n",
       " None,\n",
       " None,\n",
       " None,\n",
       " None,\n",
       " None,\n",
       " None,\n",
       " None,\n",
       " None,\n",
       " None,\n",
       " None,\n",
       " None,\n",
       " None,\n",
       " None,\n",
       " None,\n",
       " None,\n",
       " None,\n",
       " None,\n",
       " None,\n",
       " None,\n",
       " None,\n",
       " None,\n",
       " None,\n",
       " None,\n",
       " None,\n",
       " None,\n",
       " None,\n",
       " None,\n",
       " None,\n",
       " None,\n",
       " None,\n",
       " None,\n",
       " None,\n",
       " None,\n",
       " None,\n",
       " None,\n",
       " None,\n",
       " None,\n",
       " None,\n",
       " None,\n",
       " None,\n",
       " None,\n",
       " None,\n",
       " None,\n",
       " None,\n",
       " None,\n",
       " None,\n",
       " None,\n",
       " None,\n",
       " None,\n",
       " None,\n",
       " None,\n",
       " None,\n",
       " None,\n",
       " None,\n",
       " None,\n",
       " None,\n",
       " None,\n",
       " None,\n",
       " None,\n",
       " None,\n",
       " None,\n",
       " None,\n",
       " None,\n",
       " None,\n",
       " None,\n",
       " None,\n",
       " None,\n",
       " None,\n",
       " None,\n",
       " None,\n",
       " None,\n",
       " None,\n",
       " None,\n",
       " None,\n",
       " None,\n",
       " None,\n",
       " None,\n",
       " None]"
      ]
     },
     "execution_count": 14,
     "metadata": {},
     "output_type": "execute_result"
    }
   ],
   "source": [
    "[ee.data.cancelOperation(operation[\"name\"]) for operation in pending+running]"
   ]
  },
  {
   "cell_type": "code",
   "execution_count": null,
   "metadata": {},
   "outputs": [],
   "source": [
    "image_ids = ic.toList(ic.size()).getInfo()\n",
    "image_ids = [image[\"id\"] for image in image_ids]\n",
    "\n",
    "for image_id in image_ids:\n",
    "\n",
    "    image = ee.Image(image_id)\n",
    "    date = image.get(\"date\")\n",
    "    image.set({\"system:time_start\": date})\n",
    "\n",
    "    ee.data.updateAsset(image_id, image, [])\n",
    "\n",
    "    break    "
   ]
  }
 ],
 "metadata": {
  "kernelspec": {
   "display_name": "(test) gwl-modeling",
   "language": "python",
   "name": "gwl-modeling"
  },
  "language_info": {
   "codemirror_mode": {
    "name": "ipython",
    "version": 3
   },
   "file_extension": ".py",
   "mimetype": "text/x-python",
   "name": "python",
   "nbconvert_exporter": "python",
   "pygments_lexer": "ipython3",
   "version": "3.10.12"
  }
 },
 "nbformat": 4,
 "nbformat_minor": 4
}
