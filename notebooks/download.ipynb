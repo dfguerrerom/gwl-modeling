{
 "cells": [
  {
   "cell_type": "code",
   "execution_count": 1,
   "metadata": {},
   "outputs": [],
   "source": [
    "%load_ext autoreload\n",
    "%autoreload 2"
   ]
  },
  {
   "cell_type": "code",
   "execution_count": 2,
   "metadata": {},
   "outputs": [],
   "source": [
    "import sys\n",
    "sys.path.append('../')"
   ]
  },
  {
   "cell_type": "code",
   "execution_count": 3,
   "metadata": {},
   "outputs": [
    {
     "name": "stderr",
     "output_type": "stream",
     "text": [
      "/home/dguerrero/module-venv/gwl-modeling/lib/python3.10/site-packages/tqdm/auto.py:21: TqdmWarning: IProgress not found. Please update jupyter and ipywidgets. See https://ipywidgets.readthedocs.io/en/stable/user_install.html\n",
      "  from .autonotebook import tqdm as notebook_tqdm\n"
     ]
    }
   ],
   "source": [
    "import concurrent.futures\n",
    "import pandas as pd\n",
    "import geopandas as gpd\n",
    "from pathlib import Path\n",
    "import ee\n",
    "import pickle\n",
    "from tqdm.auto import tqdm\n",
    "\n",
    "import scripts.get_sources as get_sources\n",
    "\n",
    "ee.Initialize(opt_url=\"https://earthengine-highvolume.googleapis.com\", project=\"indonesiatest\")"
   ]
  },
  {
   "cell_type": "code",
   "execution_count": 4,
   "metadata": {},
   "outputs": [],
   "source": [
    "# make dir to store pickle files\n",
    "training_path = Path('../data/7_training_data')\n",
    "training_path.mkdir(parents=True, exist_ok=True)"
   ]
  },
  {
   "cell_type": "code",
   "execution_count": 5,
   "metadata": {},
   "outputs": [],
   "source": [
    "\n",
    "def get_explanatories(row):\n",
    "    \n",
    "    date, lon, lat = row['date'], *row[\"coordinate\"]\n",
    "    aoi = ee.Geometry.Point(lon, lat)\n",
    "    \n",
    "    if not get_sources.is_s1_image(date, aoi):\n",
    "        return\n",
    "    \n",
    "    # TS scans will include the s1 image.\n",
    "\n",
    "    def get_images(get_image):\n",
    "\n",
    "        print(\"Processing\", get_image.__name__)\n",
    "        \n",
    "        image = get_image(date, aoi)\n",
    "        \n",
    "        result = (\n",
    "             image.reduceRegion(\n",
    "                reducer=ee.Reducer.toList(),\n",
    "                geometry=aoi.buffer(50),\n",
    "                maxPixels=1e13,\n",
    "                scale=100\n",
    "            )).getInfo()\n",
    "        \n",
    "        print(\"Done\", get_image.__name__)\n",
    "\n",
    "        return result\n",
    "    \n",
    "    sources = [\n",
    "        get_sources.get_tsscans,\n",
    "        get_sources.get_gldas,\n",
    "        get_sources.get_gpm,\n",
    "        get_sources.get_srtm,\n",
    "        get_sources.get_globcover,\n",
    "        get_sources.get_gedi,\n",
    "        get_sources.get_hansen\n",
    "    ]\n",
    "\n",
    "    with concurrent.futures.ThreadPoolExecutor() as executor:\n",
    "\n",
    "        futures = {\n",
    "            executor.submit(get_images, source): source.__name__ for source in sources\n",
    "        }\n",
    "\n",
    "        result = {}\n",
    "\n",
    "        for future in concurrent.futures.as_completed(futures):\n",
    "            future_name = futures[future]\n",
    "            result[future_name] = future.result()\n",
    "\n",
    "    return result"
   ]
  },
  {
   "cell_type": "code",
   "execution_count": 6,
   "metadata": {},
   "outputs": [],
   "source": [
    "df = pd.read_csv('../data/6_extracted_sm_data/all_extracted_data.csv')\n",
    "df[\"coordinate\"] = df[\"coordinate\"].apply(lambda x: eval(x))"
   ]
  },
  {
   "cell_type": "code",
   "execution_count": 7,
   "metadata": {},
   "outputs": [
    {
     "name": "stdout",
     "output_type": "stream",
     "text": [
      "  0%|          | 0/427757 [00:00<?, ?it/s]"
     ]
    }
   ],
   "source": [
    "with tqdm(total=len(df), file=sys.stdout) as pbar:\n",
    "\n",
    "    with concurrent.futures.ThreadPoolExecutor() as executor:\n",
    "        \n",
    "        futures = {}\n",
    "        for _, row in df.iterrows():\n",
    "            \n",
    "            future_name = (row[\"point_id\"], row[\"date\"], (row[\"coordinate\"]))\n",
    "            future_result_path = training_path / f'{future_name}.p'\n",
    "            \n",
    "            if future_result_path.exists():\n",
    "                pbar.update(1)\n",
    "                continue\n",
    "\n",
    "            futures[executor.submit(get_explanatories, row)] = future_name\n",
    "        \n",
    "        result = {}\n",
    "\n",
    "        for future in concurrent.futures.as_completed(futures):\n",
    "\n",
    "            future_name = futures[future]\n",
    "            if future.result() is not None:\n",
    "\n",
    "                # merge all the sub dicts into one dict\n",
    "                result[future_name] = {k: v for d in list(future.result().values()) for k, v in d.items()}\n",
    "                \n",
    "                future_result_path = training_path / f'{future_name}.p'\n",
    "\n",
    "                # Save the results to a file.\n",
    "                with open(future_result_path, 'wb') as f:\n",
    "                    pickle.dump(result, f)\n",
    "            \n",
    "            pbar.update(1)"
   ]
  },
  {
   "cell_type": "code",
   "execution_count": null,
   "metadata": {},
   "outputs": [],
   "source": [
    "result"
   ]
  },
  {
   "cell_type": "code",
   "execution_count": null,
   "metadata": {},
   "outputs": [],
   "source": [
    "pd.DataFrame.from_dict(result, orient=\"index\")"
   ]
  },
  {
   "cell_type": "code",
   "execution_count": null,
   "metadata": {},
   "outputs": [],
   "source": [
    "date = \"2024-04-16\"\n",
    "get_hansen(date).getInfo()"
   ]
  },
  {
   "cell_type": "code",
   "execution_count": null,
   "metadata": {},
   "outputs": [],
   "source": [
    "_, row = next(iter(df.iterrows()))\n",
    "date, lon, lat = row['date'], *row[\"coordinate\"]\n",
    "date, lon, lat"
   ]
  },
  {
   "cell_type": "code",
   "execution_count": null,
   "metadata": {},
   "outputs": [],
   "source": [
    "for i, file in enumerate(Path('/home/vollrath/Indonesia_sm/samples_all/').glob('*.gpm.pickle')):\n",
    "#    print(file)\n",
    "    if i == 0:\n",
    "        df = pd.read_pickle(file)\n",
    "    else:\n",
    "        df = pd.concat([df, pd.read_pickle(file)])"
   ]
  },
  {
   "cell_type": "code",
   "execution_count": null,
   "metadata": {},
   "outputs": [],
   "source": [
    "df.columns"
   ]
  },
  {
   "cell_type": "code",
   "execution_count": null,
   "metadata": {},
   "outputs": [],
   "source": [
    "df_no_nans = df.dropna()\n",
    "print(len(df))\n",
    "print(len(df_no_nans))\n",
    "gdf = gpd.GeoDataFrame(df_no_nans, geometry=gpd.points_from_xy(df_no_nans.lon, df_no_nans.lat))\n",
    "gdf.to_file('/home/vollrath/Indonesia_sm/samples_all/combined_s1_extract.gpkg', driver='GPKG')"
   ]
  },
  {
   "cell_type": "code",
   "execution_count": null,
   "metadata": {},
   "outputs": [],
   "source": [
    "c = gpd.read_file('/home/vollrath/Indonesia_sm/samples_all/combined_s1_extract.gpkg')\n",
    "len(c)"
   ]
  },
  {
   "cell_type": "code",
   "execution_count": null,
   "metadata": {},
   "outputs": [],
   "source": []
  }
 ],
 "metadata": {
  "kernelspec": {
   "display_name": "Python 3",
   "language": "python",
   "name": "python3"
  },
  "language_info": {
   "codemirror_mode": {
    "name": "ipython",
    "version": 3
   },
   "file_extension": ".py",
   "mimetype": "text/x-python",
   "name": "python",
   "nbconvert_exporter": "python",
   "pygments_lexer": "ipython3",
   "version": "3.10.12"
  }
 },
 "nbformat": 4,
 "nbformat_minor": 4
}
