{
 "cells": [
  {
   "cell_type": "code",
   "execution_count": null,
   "metadata": {},
   "outputs": [],
   "source": [
    "%load_ext autoreload\n",
    "%autoreload 2"
   ]
  },
  {
   "cell_type": "code",
   "execution_count": null,
   "metadata": {},
   "outputs": [],
   "source": [
    "import sys\n",
    "sys.path.append('../')"
   ]
  },
  {
   "cell_type": "code",
   "execution_count": null,
   "metadata": {},
   "outputs": [],
   "source": [
    "import concurrent.futures\n",
    "import pandas as pd\n",
    "import geopandas as gpd\n",
    "from pathlib import Path\n",
    "from tqdm import tqdm\n",
    "import ee\n",
    "ee.Initialize()\n",
    "\n",
    "\n",
    "import scripts.get_sources as get_sources"
   ]
  },
  {
   "cell_type": "code",
   "execution_count": null,
   "metadata": {},
   "outputs": [],
   "source": [
    "def get_explanatories(row):\n",
    "    \n",
    "    date, lon, lat = row['date'], *row[\"coordinate\"]\n",
    "    aoi = ee.Geometry.Point(lon, lat)\n",
    "    \n",
    "    if not get_sources.is_s1_image(date, aoi):\n",
    "        return\n",
    "    \n",
    "    # TS scans will include the s1 image.\n",
    "    print(\"Processing image\", date, lon, lat)\n",
    "\n",
    "    def get_images(get_image):\n",
    "        \n",
    "        image = get_image(date, aoi)\n",
    "\n",
    "        print(\"Processing band\", get_image.__name__, date, lon, lat)\n",
    "\n",
    "        result = (\n",
    "             image.reduceRegion(\n",
    "                reducer=ee.Reducer.toList(),\n",
    "                geometry=aoi.buffer(50),\n",
    "                maxPixels=1e13,\n",
    "                scale=50\n",
    "            ).getInfo())\n",
    "\n",
    "        print(\"Processing band\", get_image.__name__, date, lon, lat, \"Done!\")\n",
    "\n",
    "        return result\n",
    "    \n",
    "    sources = [\n",
    "        get_sources.get_tsscans,\n",
    "        get_sources.get_gldas,\n",
    "        get_sources.get_gpm,\n",
    "        get_sources.get_srtm,\n",
    "        get_sources.get_globcover,\n",
    "        get_sources.get_gedi,\n",
    "        get_sources.get_hansen\n",
    "    ]\n",
    "\n",
    "    with concurrent.futures.ThreadPoolExecutor(max_workers=3) as executor:\n",
    "\n",
    "        futures = {\n",
    "            executor.submit(get_images, source): (date, lon, lat) for source in sources\n",
    "        }\n",
    "\n",
    "        result = {}\n",
    "\n",
    "        for future in concurrent.futures.as_completed(futures):\n",
    "            future_name = futures[future]\n",
    "            result[future_name] = future.result()\n",
    "\n",
    "    # props = image.getInfo()['properties']\n",
    "    # scene_id = props['system:index']\n",
    "    # ee_time = image.date().getInfo()\n",
    "    # ee_geom = image.geometry().getInfo()\n",
    "    # orbit_direction = 1 if props['orbitProperties_pass'] == 'ASCENDING' else 2\n",
    "    # acq_date = scene_id[17:25]\n",
    "\n",
    "    #         'scene_id': scene_id,\n",
    "    #         'acq_date': acq_date,\n",
    "    #         'ee_time': ee_time,\n",
    "    #         'ee_geom': ee_geom,\n",
    "    #         'orbit_direction': orbit_direction\n",
    "\n",
    "        \n",
    "    print(result)\n",
    "\n",
    "\n",
    "    # bandlist = [\n",
    "    #  'VV', 'VH', 'VVVH_ratio', 'angle', 'LIA', #'layover', 'shadow', 'no_data_mask', \n",
    "    #  'precipitation', 'prec_3', 'prec_7', 'prec_30', \n",
    "    #  'gldas_mean', 'gldas_stddev', 'sm_gldas', 'sm_3', 'sm_7', 'sm_30',\n",
    "    #  'elevation', 'aspect', 'slope', \n",
    "    #  'landcover',\n",
    "    #  'kVV_mean', 'kVV_stdDev', 'kVV_p5', 'kVV_p95', 'kVH_mean', 'kVH_stdDev', 'kVH_p5', 'kVH_p95', \n",
    "    #  'VV_mean', 'VV_stdDev', 'VV_p5', 'VV_p95', 'VH_mean', 'VH_stdDev', 'VH_p5', 'VH_p95'\n",
    "    #  'canopy_height',\n",
    "    #  'B7', 'B5', 'B4', 'B3', 'ndvi', 'ndmi', 'ndbri'\n",
    "    # ]\n",
    "\n",
    "    # for band in bandlist:\n",
    "    #     if band == 'landcover':\n",
    "    #         counts = np.bincount(data_dict[band])\n",
    "    #         row[band] = np.argmax(counts)\n",
    "    #     else:\n",
    "    #         row[band] = np.mean(data_dict[band])\n",
    "\n",
    "    # d = {}\n",
    "    # d[i] = row\n",
    "    # df = pd.DataFrame.from_dict(d, orient='index')\n",
    "    # df.to_pickle(f'/home/vollrath/Indonesia_sm/samples_all/{i}.gpm.pickle')\n",
    "    "
   ]
  },
  {
   "cell_type": "code",
   "execution_count": null,
   "metadata": {},
   "outputs": [],
   "source": [
    "df = pd.read_csv('../data/6_extracted_sm_data/all_extracted_data.csv')[:10]\n",
    "df[\"coordinate\"] = df[\"coordinate\"].apply(lambda x: eval(x))\n",
    "df.head()"
   ]
  },
  {
   "cell_type": "code",
   "execution_count": null,
   "metadata": {},
   "outputs": [],
   "source": [
    "# with tqdm(total=len(gdf), file=sys.stdout) as pbar:\n",
    "\n",
    "with concurrent.futures.ThreadPoolExecutor(max_workers=3) as executor:\n",
    "    \n",
    "    futures = {\n",
    "        executor.submit(get_explanatories, row) : (row[\"date\"], (row[\"coordinate\"]))  for _, row in df.iterrows()\n",
    "    }\n",
    "\n",
    "    result = {}\n",
    "\n",
    "    for future in concurrent.futures.as_completed(futures):\n",
    "        \n",
    "        result[future] = future.result()\n",
    "\n",
    "\n",
    "\n",
    "            # pbar.set_description('processed: %d' % (i))\n",
    "            # pbar.update(1)\n",
    "            "
   ]
  },
  {
   "cell_type": "code",
   "execution_count": null,
   "metadata": {},
   "outputs": [],
   "source": [
    "_, row = next(iter(df.iterrows()))\n",
    "date, lon, lat = row['date'], *row[\"coordinate\"]\n",
    "date, lon, lat"
   ]
  },
  {
   "cell_type": "code",
   "execution_count": null,
   "metadata": {},
   "outputs": [],
   "source": [
    "for i, file in enumerate(Path('/home/vollrath/Indonesia_sm/samples_all/').glob('*.gpm.pickle')):\n",
    "#    print(file)\n",
    "    if i == 0:\n",
    "        df = pd.read_pickle(file)\n",
    "    else:\n",
    "        df = pd.concat([df, pd.read_pickle(file)])"
   ]
  },
  {
   "cell_type": "code",
   "execution_count": null,
   "metadata": {},
   "outputs": [],
   "source": [
    "df.columns"
   ]
  },
  {
   "cell_type": "code",
   "execution_count": null,
   "metadata": {},
   "outputs": [],
   "source": [
    "df_no_nans = df.dropna()\n",
    "print(len(df))\n",
    "print(len(df_no_nans))\n",
    "gdf = gpd.GeoDataFrame(df_no_nans, geometry=gpd.points_from_xy(df_no_nans.lon, df_no_nans.lat))\n",
    "gdf.to_file('/home/vollrath/Indonesia_sm/samples_all/combined_s1_extract.gpkg', driver='GPKG')"
   ]
  },
  {
   "cell_type": "code",
   "execution_count": null,
   "metadata": {},
   "outputs": [],
   "source": [
    "c = gpd.read_file('/home/vollrath/Indonesia_sm/samples_all/combined_s1_extract.gpkg')\n",
    "len(c)"
   ]
  },
  {
   "cell_type": "code",
   "execution_count": null,
   "metadata": {},
   "outputs": [],
   "source": []
  }
 ],
 "metadata": {
  "kernelspec": {
   "display_name": "Python 3",
   "language": "python",
   "name": "python3"
  },
  "language_info": {
   "codemirror_mode": {
    "name": "ipython",
    "version": 3
   },
   "file_extension": ".py",
   "mimetype": "text/x-python",
   "name": "python",
   "nbconvert_exporter": "python",
   "pygments_lexer": "ipython3",
   "version": "3.10.12"
  }
 },
 "nbformat": 4,
 "nbformat_minor": 4
}
