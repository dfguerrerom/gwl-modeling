{
 "cells": [
  {
   "cell_type": "markdown",
   "metadata": {},
   "source": [
    "# 4. Estimate GWL from the given data on GEE"
   ]
  },
  {
   "cell_type": "code",
   "execution_count": 2,
   "metadata": {
    "tags": []
   },
   "outputs": [],
   "source": [
    "%load_ext autoreload\n",
    "%autoreload 2"
   ]
  },
  {
   "cell_type": "code",
   "execution_count": 3,
   "metadata": {
    "tags": []
   },
   "outputs": [
    {
     "name": "stdout",
     "output_type": "stream",
     "text": [
      "Earth Engine initialized successfully, with ee-dfgm2006\n"
     ]
    }
   ],
   "source": [
    "import pandas as pd\n",
    "from gee_scripts.get_sources import get_explanatory_composite\n",
    "from gee_scripts.parameters import explain_vars\n",
    "from gee_scripts.get_sources import get_s1_str_dates\n",
    "from gee_scripts.gee import export_classifier, estimate_to_gee\n",
    "\n",
    "import ee"
   ]
  },
  {
   "cell_type": "markdown",
   "metadata": {},
   "source": [
    "## 1. 📰 Read the data"
   ]
  },
  {
   "cell_type": "code",
   "execution_count": 4,
   "metadata": {},
   "outputs": [],
   "source": [
    "# This dataframe contains all the field + explanatory variables (training data)\n",
    "df = pd.read_csv(\"data/9_clean_training_data/all_training_data_with_extra_and_locations_and_precipSum.csv\", parse_dates=[\"date\"])\n",
    "assert len(df) == 32783, \"The length of the dataframe is not correct\" # Check that the length of the dataframe is correct"
   ]
  },
  {
   "cell_type": "code",
   "execution_count": 5,
   "metadata": {},
   "outputs": [
    {
     "name": "stdout",
     "output_type": "stream",
     "text": [
      "Both the dataframe and the table have the same number of features and rows\n"
     ]
    }
   ],
   "source": [
    "# This table contains the training data for the model (field + explanatory variables) but as a gee table\n",
    "training_data = ee.FeatureCollection(\"projects/ee-indonesia-gwl/assets/all_training_data_with_extra_and_locations_and_precipSum\")\n",
    "\n",
    "# Check the consistency of the dataframe and the table\n",
    "assert len(df.columns) == len(training_data.first().propertyNames().getInfo()), \"The number of features in the dataframe and the table are not the same\"\n",
    "assert 32783 == training_data.size().getInfo(), \"The number of rows in the dataframe and the table are not the same\"\n",
    "\n",
    "print(\"Both the dataframe and the table have the same number of features and rows\")"
   ]
  },
  {
   "cell_type": "markdown",
   "metadata": {},
   "source": [
    "## 2. ✅ Subset of the data to train the model (training data)"
   ]
  },
  {
   "cell_type": "code",
   "execution_count": 6,
   "metadata": {},
   "outputs": [
    {
     "data": {
      "text/plain": [
       "1546"
      ]
     },
     "execution_count": 6,
     "metadata": {},
     "output_type": "execute_result"
    }
   ],
   "source": [
    "# The following code is used to filter the training data according with previous analysis\n",
    "\n",
    "# best_kalimantan_phus = [297., 350., 351., 352., 357., ]\n",
    "best_kalimantan_phus = [350, 351, 357, 379] # This is the list of the best phus obtained from the previous analysis\n",
    "bad_stations = ['batok1','batok2','brg11','brg13','brg16','BRG_620309_01','BRG_620309_02','BRG_630805_01','BRG_630708_01']\n",
    "\n",
    "# We filter the training data (in the gee table) to only include the best phus and exclude the bad stations\n",
    "training_data = (\n",
    "    training_data\n",
    "        .filter(\n",
    "            ee.Filter.And(\n",
    "                ee.Filter.inList(\"phu_id\", best_kalimantan_phus),\n",
    "                ee.Filter.inList(\"id\", bad_stations).Not()\n",
    "            )\n",
    "        )\n",
    ")\n",
    "training_data.size().getInfo()"
   ]
  },
  {
   "cell_type": "code",
   "execution_count": 7,
   "metadata": {},
   "outputs": [
    {
     "name": "stdout",
     "output_type": "stream",
     "text": [
      "Exporting model kalimantan_phu_model_350_351_357_379_no_bad_stations with 1546 samples\n",
      "Exported model projects/ee-dfgm2006/assets/gwl-modeling/models/RandomForest_kalimantan_phu_model_350_351_357_379_no_bad_stations_trees_250\n"
     ]
    }
   ],
   "source": [
    "# Train a model using the training data and save it to the gee as an asset\n",
    "\n",
    "# Define a meaningful name for the model\n",
    "model_name = \"kalimantan_phu_model_350_351_357_379_no_bad_stations\"\n",
    "\n",
    "# This function exports the classifier to the gee (track the task in https://code.earthengine.google.com/tasks)\n",
    "model_gee_id = export_classifier(training_data, model_name)"
   ]
  },
  {
   "cell_type": "markdown",
   "metadata": {},
   "source": [
    " ## 📊 3. Estimate using the trained model "
   ]
  },
  {
   "cell_type": "markdown",
   "metadata": {},
   "source": [
    "##############################################"
   ]
  },
  {
   "cell_type": "code",
   "execution_count": 8,
   "metadata": {},
   "outputs": [
    {
     "name": "stdout",
     "output_type": "stream",
     "text": [
      "There are 303 images/dates to export\n",
      "First date: 2018-01-06\n",
      "Last date: 2024-06-27\n"
     ]
    }
   ],
   "source": [
    "#####################################\n",
    "# SET PARAMETERS FOR THE ESTIMATION #\n",
    "#####################################\n",
    "\n",
    "phus_asset_id = \"projects/ee-indonesia-gwl/assets/all_phus_numbered\"\n",
    "target_phu_number = 375\n",
    "target_aoi = ee.FeatureCollection(phus_asset_id).filter(\n",
    "    ee.Filter.eq(\"phu_id\", target_phu_number)\n",
    ").first().geometry().bounds()\n",
    "\n",
    "# define a range of dates export the images\n",
    "start_date = \"2018-01-01\"\n",
    "end_date = \"2024-07-01\"\n",
    "\n",
    "all_str_date = get_s1_str_dates(target_aoi, start_date, end_date)\n",
    "\n",
    "print(f\"There are {len(all_str_date)} images/dates to export\")\n",
    "print(f\"First date: {all_str_date[0]}\")\n",
    "print(f\"Last date: {all_str_date[-1]}\")"
   ]
  },
  {
   "cell_type": "markdown",
   "metadata": {},
   "source": [
    "##############################################"
   ]
  },
  {
   "cell_type": "markdown",
   "metadata": {},
   "source": [
    "## ⚙️ Run the model "
   ]
  },
  {
   "cell_type": "code",
   "execution_count": 9,
   "metadata": {},
   "outputs": [
    {
     "name": "stderr",
     "output_type": "stream",
     "text": [
      "/home/dguerrero/module-venv/gwl-modeling/lib/python3.10/site-packages/ee/deprecation.py:204: DeprecationWarning: \n",
      "\n",
      "Attention required for UMD/hansen/global_forest_change_2018_v1_6! You are using a deprecated asset.\n",
      "To ensure continued functionality, please update it.\n",
      "Learn more: https://developers.google.com/earth-engine/datasets/catalog/UMD_hansen_global_forest_change_2018_v1_6\n",
      "\n",
      "  warnings.warn(warning, category=DeprecationWarning)\n"
     ]
    },
    {
     "name": "stdout",
     "output_type": "stream",
     "text": [
      "Composite for date:  2018-01-05  created.\n",
      "Composite for date:  2018-01-10  created.\n",
      "Composite for date:  2018-01-17  created.\n",
      "Composite for date:  2018-01-22  created.\n",
      "Composite for date:  2018-01-29  created.\n",
      "Composite for date:  2018-02-03  created.\n",
      "Composite for date:  2018-02-15  created.\n",
      "Composite for date:  2018-02-22  created.\n",
      "Composite for date:  2018-02-27  created.\n",
      "Composite for date:  2018-03-06  created.\n",
      "Composite for date:  2018-03-11  created.\n",
      "Composite for date:  2018-03-18  created.\n",
      "Composite for date:  2018-03-23  created.\n",
      "Composite for date:  2018-03-30  created.\n",
      "Composite for date:  2018-04-04  created.\n",
      "Composite for date:  2018-04-11  created.\n",
      "Composite for date:  2018-04-16  created.\n",
      "Composite for date:  2018-04-23  created.\n",
      "Composite for date:  2018-04-28  created.\n",
      "Composite for date:  2018-05-05  created.\n",
      "Composite for date:  2018-05-10  created.\n",
      "Composite for date:  2018-05-17  created.\n",
      "Composite for date:  2018-05-22  created.\n",
      "Composite for date:  2018-05-29  created.\n",
      "Composite for date:  2018-06-03  created.\n",
      "Composite for date:  2018-06-10  created.\n",
      "Composite for date:  2018-06-15  created.\n",
      "Composite for date:  2018-06-22  created.\n",
      "Composite for date:  2018-06-27  created.\n",
      "Composite for date:  2018-07-04  created.\n",
      "Composite for date:  2018-07-09  created.\n",
      "Composite for date:  2018-07-16  created.\n",
      "Composite for date:  2018-07-21  created.\n",
      "Composite for date:  2018-07-28  created.\n",
      "Composite for date:  2018-08-02  created.\n",
      "Composite for date:  2018-08-09  created.\n",
      "Composite for date:  2018-08-14  created.\n",
      "Composite for date:  2018-08-21  created.\n",
      "Composite for date:  2018-08-26  created.\n",
      "Composite for date:  2018-09-02  created.\n",
      "Composite for date:  2018-09-07  created.\n",
      "Composite for date:  2018-09-14  created.\n",
      "Composite for date:  2018-09-19  created.\n",
      "Composite for date:  2018-09-26  created.\n",
      "Composite for date:  2018-10-01  created.\n",
      "Composite for date:  2018-10-08  created.\n",
      "Composite for date:  2018-10-13  created.\n",
      "Composite for date:  2018-10-20  created.\n",
      "Composite for date:  2018-10-25  created.\n",
      "Composite for date:  2018-11-01  created.\n",
      "Composite for date:  2018-11-06  created.\n",
      "Composite for date:  2018-11-13  created.\n",
      "Composite for date:  2018-11-18  created.\n",
      "Composite for date:  2018-11-25  created.\n",
      "Composite for date:  2018-11-30  created.\n",
      "Composite for date:  2018-12-07  created.\n",
      "Composite for date:  2018-12-12  created.\n",
      "Composite for date:  2018-12-19  created.\n",
      "Composite for date:  2018-12-24  created.\n"
     ]
    },
    {
     "name": "stderr",
     "output_type": "stream",
     "text": [
      "/home/dguerrero/module-venv/gwl-modeling/lib/python3.10/site-packages/ee/deprecation.py:204: DeprecationWarning: \n",
      "\n",
      "Attention required for UMD/hansen/global_forest_change_2019_v1_7! You are using a deprecated asset.\n",
      "To ensure continued functionality, please update it.\n",
      "Learn more: https://developers.google.com/earth-engine/datasets/catalog/UMD_hansen_global_forest_change_2019_v1_7\n",
      "\n",
      "  warnings.warn(warning, category=DeprecationWarning)\n"
     ]
    },
    {
     "name": "stdout",
     "output_type": "stream",
     "text": [
      "Composite for date:  2018-12-31  created.\n",
      "Composite for date:  2019-01-05  created.\n",
      "Composite for date:  2019-01-12  created.\n",
      "Composite for date:  2019-01-17  created.\n",
      "Composite for date:  2019-01-24  created.\n",
      "Composite for date:  2019-01-29  created.\n",
      "Composite for date:  2019-02-05  created.\n",
      "Composite for date:  2019-02-10  created.\n",
      "Composite for date:  2019-02-17  created.\n",
      "Composite for date:  2019-02-22  created.\n",
      "Composite for date:  2019-03-01  created.\n",
      "Composite for date:  2019-03-06  created.\n",
      "Composite for date:  2019-03-13  created.\n",
      "Composite for date:  2019-03-18  created.\n",
      "Composite for date:  2019-03-25  created.\n",
      "Composite for date:  2019-03-30  created.\n",
      "Composite for date:  2019-04-06  created.\n",
      "Composite for date:  2019-04-11  created.\n",
      "Composite for date:  2019-04-18  created.\n",
      "Composite for date:  2019-04-23  created.\n",
      "Composite for date:  2019-04-30  created.\n",
      "Composite for date:  2019-05-05  created.\n",
      "Composite for date:  2019-05-12  created.\n",
      "Composite for date:  2019-05-17  created.\n",
      "Composite for date:  2019-05-29  created.\n",
      "Composite for date:  2019-06-05  created.\n",
      "Composite for date:  2019-06-10  created.\n",
      "Composite for date:  2019-06-17  created.\n",
      "Composite for date:  2019-06-22  created.\n",
      "Composite for date:  2019-06-29  created.\n",
      "Composite for date:  2019-07-04  created.\n",
      "Composite for date:  2019-07-11  created.\n",
      "Composite for date:  2019-07-16  created.\n",
      "Composite for date:  2019-07-23  created.\n",
      "Composite for date:  2019-07-28  created.\n",
      "Composite for date:  2019-08-04  created.\n",
      "Composite for date:  2019-08-09  created.\n",
      "Composite for date:  2019-08-16  created.\n",
      "Composite for date:  2019-08-21  created.\n",
      "Composite for date:  2019-08-28  created.\n",
      "Composite for date:  2019-09-02  created.\n",
      "Composite for date:  2019-09-09  created.\n",
      "Composite for date:  2019-09-14  created.\n",
      "Composite for date:  2019-09-21  created.\n",
      "Composite for date:  2019-09-26  created.\n",
      "Composite for date:  2019-10-08  created.\n",
      "Composite for date:  2019-10-15  created.\n",
      "Composite for date:  2019-10-20  created.\n",
      "Composite for date:  2019-10-27  created.\n",
      "Composite for date:  2019-11-01  created.\n",
      "Composite for date:  2019-11-08  created.\n",
      "Composite for date:  2019-11-13  created.\n",
      "Composite for date:  2019-11-20  created.\n",
      "Composite for date:  2019-11-25  created.\n",
      "Composite for date:  2019-12-02  created.\n",
      "Composite for date:  2019-12-07  created.\n",
      "Composite for date:  2019-12-14  created.\n",
      "Composite for date:  2019-12-19  created.\n",
      "Composite for date:  2019-12-26  created.\n"
     ]
    },
    {
     "name": "stderr",
     "output_type": "stream",
     "text": [
      "/home/dguerrero/module-venv/gwl-modeling/lib/python3.10/site-packages/ee/deprecation.py:204: DeprecationWarning: \n",
      "\n",
      "Attention required for UMD/hansen/global_forest_change_2020_v1_8! You are using a deprecated asset.\n",
      "To ensure continued functionality, please update it.\n",
      "Learn more: https://developers.google.com/earth-engine/datasets/catalog/UMD_hansen_global_forest_change_2020_v1_8\n",
      "\n",
      "  warnings.warn(warning, category=DeprecationWarning)\n"
     ]
    },
    {
     "name": "stdout",
     "output_type": "stream",
     "text": [
      "Composite for date:  2019-12-31  created.\n",
      "Composite for date:  2020-01-07  created.\n",
      "Composite for date:  2020-01-12  created.\n",
      "Composite for date:  2020-01-24  created.\n",
      "Composite for date:  2020-01-31  created.\n",
      "Composite for date:  2020-02-05  created.\n",
      "Composite for date:  2020-02-12  created.\n",
      "Composite for date:  2020-02-17  created.\n",
      "Composite for date:  2020-02-24  created.\n",
      "Composite for date:  2020-02-29  created.\n",
      "Composite for date:  2020-03-07  created.\n",
      "Composite for date:  2020-03-12  created.\n",
      "Composite for date:  2020-03-19  created.\n",
      "Composite for date:  2020-03-24  created.\n",
      "Composite for date:  2020-03-31  created.\n",
      "Composite for date:  2020-04-05  created.\n",
      "Composite for date:  2020-04-12  created.\n",
      "Composite for date:  2020-04-17  created.\n",
      "Composite for date:  2020-04-24  created.\n",
      "Composite for date:  2020-04-29  created.\n",
      "Composite for date:  2020-05-11  created.\n",
      "Composite for date:  2020-05-18  created.\n",
      "Composite for date:  2020-06-04  created.\n",
      "Composite for date:  2020-06-11  created.\n",
      "Composite for date:  2020-06-16  created.\n",
      "Composite for date:  2020-06-23  created.\n",
      "Composite for date:  2020-06-28  created.\n",
      "Composite for date:  2020-08-10  created.\n",
      "Composite for date:  2020-08-15  created.\n",
      "Composite for date:  2020-08-22  created.\n",
      "Composite for date:  2020-08-27  created.\n",
      "Composite for date:  2020-09-03  created.\n",
      "Composite for date:  2020-09-08  created.\n",
      "Composite for date:  2020-09-15  created.\n",
      "Composite for date:  2020-09-20  created.\n",
      "Composite for date:  2020-09-27  created.\n",
      "Composite for date:  2020-10-02  created.\n",
      "Composite for date:  2020-10-09  created.\n",
      "Composite for date:  2020-10-14  created.\n",
      "Composite for date:  2020-10-21  created.\n",
      "Composite for date:  2020-10-26  created.\n",
      "Composite for date:  2020-11-02  created.\n",
      "Composite for date:  2020-11-07  created.\n",
      "Composite for date:  2020-11-14  created.\n",
      "Composite for date:  2020-11-19  created.\n",
      "Composite for date:  2020-11-26  created.\n",
      "Composite for date:  2020-12-01  created.\n",
      "Composite for date:  2020-12-08  created.\n",
      "Composite for date:  2020-12-13  created.\n",
      "Composite for date:  2020-12-20  created.\n",
      "Composite for date:  2020-12-25  created.\n"
     ]
    },
    {
     "name": "stderr",
     "output_type": "stream",
     "text": [
      "/home/dguerrero/module-venv/gwl-modeling/lib/python3.10/site-packages/ee/deprecation.py:204: DeprecationWarning: \n",
      "\n",
      "Attention required for UMD/hansen/global_forest_change_2021_v1_9! You are using a deprecated asset.\n",
      "To ensure continued functionality, please update it.\n",
      "Learn more: https://developers.google.com/earth-engine/datasets/catalog/UMD_hansen_global_forest_change_2021_v1_9\n",
      "\n",
      "  warnings.warn(warning, category=DeprecationWarning)\n"
     ]
    },
    {
     "name": "stdout",
     "output_type": "stream",
     "text": [
      "Composite for date:  2021-01-01  created.\n",
      "Composite for date:  2021-01-06  created.\n",
      "Composite for date:  2021-01-13  created.\n",
      "Composite for date:  2021-01-18  created.\n",
      "Composite for date:  2021-01-25  created.\n",
      "Composite for date:  2021-01-30  created.\n",
      "Composite for date:  2021-02-06  created.\n",
      "Composite for date:  2021-02-11  created.\n",
      "Composite for date:  2021-02-18  created.\n",
      "Composite for date:  2021-02-23  created.\n",
      "Composite for date:  2021-03-02  created.\n",
      "Composite for date:  2021-03-07  created.\n",
      "Composite for date:  2021-03-14  created.\n",
      "Composite for date:  2021-03-19  created.\n",
      "Composite for date:  2021-03-26  created.\n",
      "Composite for date:  2021-03-31  created.\n",
      "Composite for date:  2021-04-12  created.\n",
      "Composite for date:  2021-04-19  created.\n",
      "Composite for date:  2021-04-24  created.\n",
      "Composite for date:  2021-05-01  created.\n",
      "Composite for date:  2021-05-13  created.\n",
      "Composite for date:  2021-06-30  created.\n",
      "Composite for date:  2021-07-24  created.\n",
      "Composite for date:  2021-08-05  created.\n",
      "Composite for date:  2021-08-10  created.\n",
      "Composite for date:  2021-08-17  created.\n",
      "Composite for date:  2021-08-22  created.\n",
      "Composite for date:  2021-08-29  created.\n",
      "Composite for date:  2021-09-03  created.\n",
      "Composite for date:  2021-09-10  created.\n",
      "Composite for date:  2021-09-15  created.\n",
      "Composite for date:  2021-09-22  created.\n",
      "Composite for date:  2021-09-27  created.\n",
      "Composite for date:  2021-10-04  created.\n",
      "Composite for date:  2021-10-09  created.\n",
      "Composite for date:  2021-10-16  created.\n",
      "Composite for date:  2021-10-21  created.\n",
      "Composite for date:  2021-10-28  created.\n",
      "Composite for date:  2021-11-02  created.\n",
      "Composite for date:  2021-11-09  created.\n",
      "Composite for date:  2021-11-14  created.\n",
      "Composite for date:  2021-11-21  created.\n",
      "Composite for date:  2021-11-26  created.\n",
      "Composite for date:  2021-12-03  created.\n",
      "Composite for date:  2021-12-08  created.\n",
      "Composite for date:  2021-12-15  created.\n",
      "Composite for date:  2021-12-27  created.\n"
     ]
    },
    {
     "name": "stderr",
     "output_type": "stream",
     "text": [
      "/home/dguerrero/module-venv/gwl-modeling/lib/python3.10/site-packages/ee/deprecation.py:204: DeprecationWarning: \n",
      "\n",
      "Attention required for UMD/hansen/global_forest_change_2022_v1_10! You are using a deprecated asset.\n",
      "To ensure continued functionality, please update it.\n",
      "Learn more: https://developers.google.com/earth-engine/datasets/catalog/UMD_hansen_global_forest_change_2022_v1_10\n",
      "\n",
      "  warnings.warn(warning, category=DeprecationWarning)\n"
     ]
    },
    {
     "name": "stdout",
     "output_type": "stream",
     "text": [
      "Composite for date:  2022-01-01  created.\n",
      "Composite for date:  2022-01-08  created.\n",
      "Composite for date:  2022-01-13  created.\n",
      "Composite for date:  2022-01-20  created.\n",
      "Composite for date:  2022-01-25  created.\n",
      "Composite for date:  2022-02-01  created.\n",
      "Composite for date:  2022-02-06  created.\n",
      "Composite for date:  2022-02-13  created.\n",
      "Composite for date:  2022-02-18  created.\n",
      "Composite for date:  2022-02-25  created.\n",
      "Composite for date:  2022-03-02  created.\n",
      "Composite for date:  2022-03-09  created.\n",
      "Composite for date:  2022-03-14  created.\n",
      "Composite for date:  2022-03-21  created.\n",
      "Composite for date:  2022-03-26  created.\n",
      "Composite for date:  2022-04-02  created.\n",
      "Composite for date:  2022-04-07  created.\n",
      "Composite for date:  2022-04-14  created.\n",
      "Composite for date:  2022-04-26  created.\n",
      "Composite for date:  2022-05-01  created.\n",
      "Composite for date:  2022-05-08  created.\n",
      "Composite for date:  2022-06-13  created.\n",
      "Composite for date:  2022-06-25  created.\n",
      "Composite for date:  2022-07-07  created.\n",
      "Composite for date:  2022-08-12  created.\n",
      "Composite for date:  2022-08-17  created.\n",
      "Composite for date:  2022-08-24  created.\n",
      "Composite for date:  2022-08-29  created.\n",
      "Composite for date:  2022-09-05  created.\n",
      "Composite for date:  2022-09-10  created.\n",
      "Composite for date:  2022-09-17  created.\n",
      "Composite for date:  2022-09-22  created.\n",
      "Composite for date:  2022-09-29  created.\n",
      "Composite for date:  2022-10-04  created.\n",
      "Composite for date:  2022-10-11  created.\n",
      "Composite for date:  2022-10-28  created.\n",
      "Composite for date:  2022-11-09  created.\n",
      "Composite for date:  2022-11-21  created.\n",
      "Composite for date:  2022-12-03  created.\n",
      "Composite for date:  2022-12-10  created.\n",
      "Composite for date:  2022-12-15  created.\n",
      "Composite for date:  2022-12-27  created.\n",
      "Composite for date:  2023-01-08  created.\n",
      "Composite for date:  2023-01-20  created.\n",
      "Composite for date:  2023-02-01  created.\n",
      "Composite for date:  2023-02-13  created.\n",
      "Composite for date:  2023-02-25  created.\n",
      "Composite for date:  2023-03-09  created.\n",
      "Composite for date:  2023-03-21  created.\n",
      "Composite for date:  2023-04-02  created.\n",
      "Composite for date:  2023-04-14  created.\n",
      "Composite for date:  2023-04-26  created.\n",
      "Composite for date:  2023-05-27  created.\n",
      "Composite for date:  2023-06-01  created.\n",
      "Composite for date:  2023-06-08  created.\n",
      "Composite for date:  2023-06-13  created.\n",
      "Composite for date:  2023-07-02  created.\n",
      "Composite for date:  2023-07-26  created.\n",
      "Composite for date:  2023-07-31  created.\n",
      "Composite for date:  2023-08-12  created.\n",
      "Composite for date:  2023-08-24  created.\n",
      "Composite for date:  2023-09-05  created.\n",
      "Composite for date:  2023-09-17  created.\n",
      "Composite for date:  2023-09-29  created.\n",
      "Composite for date:  2023-10-11  created.\n",
      "Composite for date:  2023-10-23  created.\n",
      "Composite for date:  2023-11-04  created.\n",
      "Composite for date:  2023-11-16  created.\n",
      "Composite for date:  2023-11-28  created.\n",
      "Composite for date:  2023-12-10  created.\n",
      "Composite for date:  2023-12-22  created.\n",
      "Composite for date:  2024-01-03  created.\n",
      "Composite for date:  2024-01-15  created.\n",
      "Composite for date:  2024-01-27  created.\n",
      "Composite for date:  2024-02-08  created.\n",
      "Composite for date:  2024-02-15  created.\n",
      "Composite for date:  2024-02-20  created.\n",
      "Composite for date:  2024-03-03  created.\n",
      "Composite for date:  2024-03-15  created.\n",
      "Composite for date:  2024-03-27  created.\n",
      "Composite for date:  2024-04-08  created.\n",
      "Composite for date:  2024-04-20  created.\n",
      "Composite for date:  2024-05-02  created.\n",
      "Composite for date:  2024-05-14  created.\n",
      "Composite for date:  2024-05-21  created.\n",
      "Composite for date:  2024-05-26  created.\n",
      "Composite for date:  2024-06-26  created.\n"
     ]
    }
   ],
   "source": [
    "# Create the tasks!!!\n",
    "\n",
    "aoi_name = f\"PHU_{target_phu_number}\"\n",
    "ee_classifier = ee.Classifier.load(model_gee_id)\n",
    "\n",
    "# Next line will create a list of tasks to export the images to the gee\n",
    "tasks = [\n",
    "    estimate_to_gee(aoi_name, target_aoi, target_date, ee_classifier).start()\n",
    "    for target_date \n",
    "    in all_str_date\n",
    "]"
   ]
  },
  {
   "cell_type": "code",
   "execution_count": 15,
   "metadata": {},
   "outputs": [],
   "source": [
    "# Run the tasks\n",
    "\n",
    "# [task.start() for task in tasks]\n",
    "\n",
    "# Monitor them in https://code.earthengine.google.com/tasks"
   ]
  },
  {
   "cell_type": "markdown",
   "metadata": {},
   "source": [
    "# 🚨 Do not run the code below: it will stop all the tasks in GEE 🚨"
   ]
  },
  {
   "cell_type": "code",
   "execution_count": null,
   "metadata": {},
   "outputs": [],
   "source": [
    "from pathlib import Path\n",
    "\n",
    "image_collection = \"projects/ee-indonesia-gwl/assets/gwl-modeling/estimation/best_model\"\n",
    "destination_id = Path(image_collection)/Path(list_of_images[0]).name\n",
    "str(destination_id)"
   ]
  },
  {
   "cell_type": "code",
   "execution_count": null,
   "metadata": {},
   "outputs": [],
   "source": [
    "ic = ee.ImageCollection(\"projects/ee-indonesia-gwl/assets/gwl-modeling/estimation/best_model\")"
   ]
  },
  {
   "cell_type": "code",
   "execution_count": null,
   "metadata": {},
   "outputs": [],
   "source": [
    "ic.first().get(\"date\").getInfo()"
   ]
  },
  {
   "cell_type": "code",
   "execution_count": 22,
   "metadata": {},
   "outputs": [
    {
     "name": "stdout",
     "output_type": "stream",
     "text": [
      "Running: 3, Pending: 425\n"
     ]
    }
   ],
   "source": [
    "running = [operation for operation in ee.data.listOperations() if operation[\"metadata\"][\"state\"] == \"RUNNING\"]\n",
    "pending = [operation for operation in ee.data.listOperations() if operation[\"metadata\"][\"state\"] == \"PENDING\"]\n",
    "\n",
    "print(f\"Running: {len(running)}, Pending: {len(pending)}\")"
   ]
  }
 ],
 "metadata": {
  "kernelspec": {
   "display_name": "(test) gwl-modeling",
   "language": "python",
   "name": "gwl-modeling"
  },
  "language_info": {
   "codemirror_mode": {
    "name": "ipython",
    "version": 3
   },
   "file_extension": ".py",
   "mimetype": "text/x-python",
   "name": "python",
   "nbconvert_exporter": "python",
   "pygments_lexer": "ipython3",
   "version": "3.10.12"
  }
 },
 "nbformat": 4,
 "nbformat_minor": 4
}
