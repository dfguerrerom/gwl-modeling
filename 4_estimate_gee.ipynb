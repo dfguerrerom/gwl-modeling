{
 "cells": [
  {
   "cell_type": "markdown",
   "metadata": {},
   "source": [
    "# 4. Estimate GWL from the given data on GEE"
   ]
  },
  {
   "cell_type": "code",
   "execution_count": null,
   "metadata": {
    "tags": []
   },
   "outputs": [],
   "source": [
    "%load_ext autoreload\n",
    "%autoreload 2"
   ]
  },
  {
   "cell_type": "code",
   "execution_count": null,
   "metadata": {
    "tags": []
   },
   "outputs": [],
   "source": [
    "import pandas as pd\n",
    "from gee_scripts.get_sources import get_explanatory_composite\n",
    "from gee_scripts.parameters import explain_vars\n",
    "from gee_scripts.get_sources import get_s1_str_dates\n",
    "from gee_scripts.gee import export_classifier, estimate_to_gee\n",
    "\n",
    "import ee"
   ]
  },
  {
   "cell_type": "markdown",
   "metadata": {},
   "source": [
    "## 1. 📰 Read the data"
   ]
  },
  {
   "cell_type": "code",
   "execution_count": null,
   "metadata": {},
   "outputs": [],
   "source": [
    "# This dataframe contains all the field + explanatory variables (training data)\n",
    "df = pd.read_csv(\"data/9_clean_training_data/all_training_data_with_extra_and_locations_and_precipSum.csv\", parse_dates=[\"date\"])\n",
    "assert len(df) == 32783, \"The length of the dataframe is not correct\" # Check that the length of the dataframe is correct"
   ]
  },
  {
   "cell_type": "code",
   "execution_count": null,
   "metadata": {},
   "outputs": [],
   "source": [
    "# This table contains the training data for the model (field + explanatory variables) but as a gee table\n",
    "training_data = ee.FeatureCollection(\"projects/ee-indonesia-gwl/assets/all_training_data_with_extra_and_locations_and_precipSum\")\n",
    "\n",
    "# Check the consistency of the dataframe and the table\n",
    "assert len(df.columns) == len(training_data.first().propertyNames().getInfo()), \"The number of features in the dataframe and the table are not the same\"\n",
    "assert 32783 == training_data.size().getInfo(), \"The number of rows in the dataframe and the table are not the same\"\n",
    "\n",
    "print(\"Both the dataframe and the table have the same number of features and rows\")"
   ]
  },
  {
   "cell_type": "markdown",
   "metadata": {},
   "source": [
    "## 2. ✅ Subset of the data to train the model (training data)"
   ]
  },
  {
   "cell_type": "code",
   "execution_count": null,
   "metadata": {},
   "outputs": [],
   "source": [
    "# The following code is used to filter the training data according with previous analysis\n",
    "\n",
    "# best_kalimantan_phus = [297., 350., 351., 352., 357., ]\n",
    "best_kalimantan_phus = [350, 351, 357, 379] # This is the list of the best phus obtained from the previous analysis\n",
    "bad_stations = ['batok1','batok2','brg11','brg13','brg16','BRG_620309_01','BRG_620309_02','BRG_630805_01','BRG_630708_01']\n",
    "\n",
    "# We filter the training data (in the gee table) to only include the best phus and exclude the bad stations\n",
    "training_data = (\n",
    "    training_data\n",
    "        .filter(\n",
    "            ee.Filter.And(\n",
    "                ee.Filter.inList(\"phu_id\", best_kalimantan_phus),\n",
    "                ee.Filter.inList(\"id\", bad_stations).Not()\n",
    "            )\n",
    "        )\n",
    ")\n",
    "training_data.size().getInfo()"
   ]
  },
  {
   "cell_type": "code",
   "execution_count": null,
   "metadata": {},
   "outputs": [],
   "source": [
    "# Train a model using the training data and save it to the gee as an asset\n",
    "\n",
    "# Define a meaningful name for the model\n",
    "model_name = \"kalimantan_phu_model_350_351_357_379_no_bad_stations\"\n",
    "\n",
    "# This function exports the classifier to the gee (track the task in https://code.earthengine.google.com/tasks)\n",
    "model_gee_id = export_classifier(training_data, model_name)"
   ]
  },
  {
   "cell_type": "markdown",
   "metadata": {},
   "source": [
    " ## 📊 3. Estimate using the trained model "
   ]
  },
  {
   "cell_type": "markdown",
   "metadata": {},
   "source": [
    "##############################################"
   ]
  },
  {
   "cell_type": "code",
   "execution_count": null,
   "metadata": {},
   "outputs": [],
   "source": [
    "#####################################\n",
    "# SET PARAMETERS FOR THE ESTIMATION #\n",
    "#####################################\n",
    "\n",
    "phus_asset_id = \"projects/ee-indonesia-gwl/assets/all_phus_numbered\"\n",
    "target_phu_number = 253\n",
    "target_aoi = ee.FeatureCollection(phus_asset_id).filter(\n",
    "    ee.Filter.eq(\"phu_id\", target_phu_number)\n",
    ").first().geometry().bounds()\n",
    "\n",
    "# define a range of dates export the images\n",
    "start_date = \"2024-05-01\"\n",
    "end_date = \"2024-07-01\"\n",
    "\n",
    "all_str_date = get_s1_str_dates(target_aoi, start_date, end_date)\n",
    "\n",
    "print(f\"There are {len(all_str_date)} images/dates to export\")\n",
    "print(f\"First date: {all_str_date[0]}\")\n",
    "print(f\"Last date: {all_str_date[-1]}\")"
   ]
  },
  {
   "cell_type": "markdown",
   "metadata": {},
   "source": [
    "##############################################"
   ]
  },
  {
   "cell_type": "markdown",
   "metadata": {},
   "source": [
    "## ⚙️ Run the model "
   ]
  },
  {
   "cell_type": "code",
   "execution_count": null,
   "metadata": {},
   "outputs": [],
   "source": [
    "# Create the tasks!!!\n",
    "\n",
    "aoi_name = f\"PHU_{target_phu_number}\"\n",
    "ee_classifier = ee.Classifier.load(model_gee_id)\n",
    "\n",
    "# Next line will create a list of tasks to export the images to the gee\n",
    "tasks = [\n",
    "    estimate_to_gee(aoi_name, target_aoi, target_date, ee_classifier)\n",
    "    .start()\n",
    "    for target_date \n",
    "    in all_str_date\n",
    "]"
   ]
  },
  {
   "cell_type": "code",
   "execution_count": null,
   "metadata": {},
   "outputs": [],
   "source": [
    "# Run the tasks\n",
    "\n",
    "# [task.start() for task in tasks]\n",
    "\n",
    "# Monitor them in https://code.earthengine.google.com/tasks"
   ]
  },
  {
   "cell_type": "markdown",
   "metadata": {},
   "source": [
    "# 🚨 Do not run the code below: it will stop all the tasks in GEE 🚨"
   ]
  },
  {
   "cell_type": "code",
   "execution_count": null,
   "metadata": {},
   "outputs": [],
   "source": [
    "from pathlib import Path\n",
    "\n",
    "image_collection = \"projects/ee-indonesia-gwl/assets/gwl-modeling/estimation/best_model\"\n",
    "destination_id = Path(image_collection)/Path(list_of_images[0]).name\n",
    "str(destination_id)"
   ]
  },
  {
   "cell_type": "code",
   "execution_count": null,
   "metadata": {},
   "outputs": [],
   "source": [
    "ic = ee.ImageCollection(\"projects/ee-indonesia-gwl/assets/gwl-modeling/estimation/best_model\")"
   ]
  },
  {
   "cell_type": "code",
   "execution_count": null,
   "metadata": {},
   "outputs": [],
   "source": [
    "ic.first().get(\"date\").getInfo()"
   ]
  },
  {
   "cell_type": "code",
   "execution_count": null,
   "metadata": {},
   "outputs": [],
   "source": [
    "running = [operation for operation in ee.data.listOperations() if operation[\"metadata\"][\"state\"] == \"RUNNING\"]\n",
    "pending = [operation for operation in ee.data.listOperations() if operation[\"metadata\"][\"state\"] == \"PENDING\"]\n",
    "\n",
    "print(f\"Running: {len(running)}, Pending: {len(pending)}\")"
   ]
  }
 ],
 "metadata": {
  "kernelspec": {
   "display_name": "(test) gwl-modeling",
   "language": "python",
   "name": "gwl-modeling"
  },
  "language_info": {
   "codemirror_mode": {
    "name": "ipython",
    "version": 3
   },
   "file_extension": ".py",
   "mimetype": "text/x-python",
   "name": "python",
   "nbconvert_exporter": "python",
   "pygments_lexer": "ipython3",
   "version": "3.10.12"
  }
 },
 "nbformat": 4,
 "nbformat_minor": 4
}
