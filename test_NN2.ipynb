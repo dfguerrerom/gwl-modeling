{
 "cells": [
  {
   "cell_type": "code",
   "execution_count": 2,
   "metadata": {},
   "outputs": [],
   "source": [
    "from keras.models import Model\n",
    "from keras.layers import Input, LSTM, Dense, Flatten, Concatenate\n",
    "from gee_scripts.parameters import explain_vars, response_var\n",
    "import pandas as pd"
   ]
  },
  {
   "cell_type": "code",
   "execution_count": 5,
   "metadata": {},
   "outputs": [],
   "source": [
    "df = pd.read_csv(\"data/9_clean_training_data/clean_training_data.csv\")"
   ]
  },
  {
   "cell_type": "code",
   "execution_count": 1,
   "metadata": {},
   "outputs": [
    {
     "name": "stderr",
     "output_type": "stream",
     "text": [
      "2023-11-02 10:35:23.654105: I tensorflow/tsl/cuda/cudart_stub.cc:28] Could not find cuda drivers on your machine, GPU will not be used.\n",
      "2023-11-02 10:35:23.714462: I tensorflow/tsl/cuda/cudart_stub.cc:28] Could not find cuda drivers on your machine, GPU will not be used.\n",
      "2023-11-02 10:35:23.715456: I tensorflow/core/platform/cpu_feature_guard.cc:182] This TensorFlow binary is optimized to use available CPU instructions in performance-critical operations.\n",
      "To enable the following instructions: AVX2 FMA, in other operations, rebuild TensorFlow with the appropriate compiler flags.\n",
      "2023-11-02 10:35:24.826464: W tensorflow/compiler/tf2tensorrt/utils/py_utils.cc:38] TF-TRT Warning: Could not find TensorRT\n",
      "2023-11-02 10:35:26.028849: E tensorflow/compiler/xla/stream_executor/cuda/cuda_driver.cc:266] failed call to cuInit: CUDA_ERROR_NO_DEVICE: no CUDA-capable device is detected\n"
     ]
    },
    {
     "name": "stdout",
     "output_type": "stream",
     "text": [
      "Model: \"model\"\n",
      "__________________________________________________________________________________________________\n",
      " Layer (type)                   Output Shape         Param #     Connected to                     \n",
      "==================================================================================================\n",
      " sequence_input (InputLayer)    [(None, 4, 1)]       0           []                               \n",
      "                                                                                                  \n",
      " dense_input (InputLayer)       [(None, 26)]         0           []                               \n",
      "                                                                                                  \n",
      " lstm (LSTM)                    (None, 50)           10400       ['sequence_input[0][0]']         \n",
      "                                                                                                  \n",
      " dense (Dense)                  (None, 50)           1350        ['dense_input[0][0]']            \n",
      "                                                                                                  \n",
      " concatenate (Concatenate)      (None, 100)          0           ['lstm[0][0]',                   \n",
      "                                                                  'dense[0][0]']                  \n",
      "                                                                                                  \n",
      " dense_1 (Dense)                (None, 100)          10100       ['concatenate[0][0]']            \n",
      "                                                                                                  \n",
      " dense_2 (Dense)                (None, 50)           5050        ['dense_1[0][0]']                \n",
      "                                                                                                  \n",
      " dense_3 (Dense)                (None, 1)            51          ['dense_2[0][0]']                \n",
      "                                                                                                  \n",
      "==================================================================================================\n",
      "Total params: 26,951\n",
      "Trainable params: 26,951\n",
      "Non-trainable params: 0\n",
      "__________________________________________________________________________________________________\n"
     ]
    },
    {
     "name": "stderr",
     "output_type": "stream",
     "text": [
      "2023-11-02 10:35:26.307564: I tensorflow/core/common_runtime/executor.cc:1197] [/device:CPU:0] (DEBUG INFO) Executor start aborting (this does not indicate an error and you can ignore this message): INVALID_ARGUMENT: You must feed a value for placeholder tensor 'gradients/split_2_grad/concat/split_2/split_dim' with dtype int32\n",
      "\t [[{{node gradients/split_2_grad/concat/split_2/split_dim}}]]\n",
      "2023-11-02 10:35:26.309871: I tensorflow/core/common_runtime/executor.cc:1197] [/device:CPU:0] (DEBUG INFO) Executor start aborting (this does not indicate an error and you can ignore this message): INVALID_ARGUMENT: You must feed a value for placeholder tensor 'gradients/split_grad/concat/split/split_dim' with dtype int32\n",
      "\t [[{{node gradients/split_grad/concat/split/split_dim}}]]\n",
      "2023-11-02 10:35:26.311758: I tensorflow/core/common_runtime/executor.cc:1197] [/device:CPU:0] (DEBUG INFO) Executor start aborting (this does not indicate an error and you can ignore this message): INVALID_ARGUMENT: You must feed a value for placeholder tensor 'gradients/split_1_grad/concat/split_1/split_dim' with dtype int32\n",
      "\t [[{{node gradients/split_1_grad/concat/split_1/split_dim}}]]\n"
     ]
    }
   ],
   "source": [
    "# LSTM Sequence Input\n",
    "sequence_input_1 = Input(shape=(4, 1), name='sequence_input')  # 4 time steps, 1 feature (sm value)\n",
    "lstm_out_1 = LSTM(50)(sequence_input_1)  # 50 LSTM units, can be tuned\n",
    "\n",
    "sequence_input_2 = Input(shape=(4, 1), name='sequence_input')  # 4 time steps, 1 feature (sm value)\n",
    "lstm_out_2 = LSTM(50)(sequence_input_2)  # 50 LSTM units, can be tuned\n",
    "\n",
    "# Dense Input for non-sequential data\n",
    "dense_input = Input(shape=(26,), name='dense_input')  # 26 other explanatory variables\n",
    "dense_out = Dense(50, activation='relu')(dense_input)  # 50 units, can be tuned\n",
    "\n",
    "# Combine LSTM and Dense outputs\n",
    "merged = Concatenate()([lstm_out, dense_out])\n",
    "\n",
    "# Add further dense layers if needed\n",
    "dense_merged_1 = Dense(100, activation='relu')(merged)\n",
    "dense_merged_2 = Dense(50, activation='relu')(dense_merged_1)\n",
    "\n",
    "# Regression output\n",
    "output = Dense(1, activation='linear')(dense_merged_2)\n",
    "\n",
    "# Compile the model\n",
    "model = Model(inputs=[sequence_input, dense_input], outputs=output)\n",
    "model.compile(optimizer='adam', loss='mse', metrics=['mae'])  # Using MSE loss for regression\n",
    "\n",
    "# Print model summary to see the architecture\n",
    "model.summary()\n"
   ]
  },
  {
   "cell_type": "code",
   "execution_count": 10,
   "metadata": {},
   "outputs": [],
   "source": [
    "sm_vars = [\"sm_3\", \"sm_7\", \"sm_30\"]\n",
    "pr_vars = [\"prec_3\", \"prec_7\", \"prec_30\"]\n",
    "dense_vars = [exp for exp in explain_vars if exp not in sm_vars + pr_vars]\n",
    "\n",
    "sm_sequence_data = df[sm_vars].values.reshape(-1, 3, 1)\n",
    "pr_sequence_data = df[pr_vars].values.reshape(-1, 3, 1)\n",
    "dense_data = df[dense_vars].values.reshape(-1, len(dense_vars))"
   ]
  },
  {
   "cell_type": "code",
   "execution_count": null,
   "metadata": {},
   "outputs": [],
   "source": [
    "model.fit([sm_sequence_data, pr_sequence_data, dense_data], target_values, epochs=10, batch_size=32)"
   ]
  },
  {
   "cell_type": "code",
   "execution_count": null,
   "metadata": {},
   "outputs": [],
   "source": [
    "# Dummy data with 1000 samples and 30 features\n",
    "X = df[explain_vars].values\n",
    "y = df[response_var].values"
   ]
  }
 ],
 "metadata": {
  "kernelspec": {
   "display_name": "gwl-modeling",
   "language": "python",
   "name": "python3"
  },
  "language_info": {
   "codemirror_mode": {
    "name": "ipython",
    "version": 3
   },
   "file_extension": ".py",
   "mimetype": "text/x-python",
   "name": "python",
   "nbconvert_exporter": "python",
   "pygments_lexer": "ipython3",
   "version": "3.10.12"
  }
 },
 "nbformat": 4,
 "nbformat_minor": 2
}
