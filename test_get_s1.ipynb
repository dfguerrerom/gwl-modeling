{
 "cells": [
  {
   "cell_type": "code",
   "execution_count": 1,
   "metadata": {},
   "outputs": [],
   "source": [
    "%load_ext autoreload\n",
    "%autoreload 2"
   ]
  },
  {
   "cell_type": "code",
   "execution_count": 6,
   "metadata": {},
   "outputs": [],
   "source": [
    "from gee_scripts.get_sources import get_s1_image\n",
    "import ee\n",
    "ee.Initialize(project=\"ee-dfgm2006\")"
   ]
  },
  {
   "cell_type": "code",
   "execution_count": 8,
   "metadata": {},
   "outputs": [],
   "source": [
    "date=ee.DateRange('2020-01-01', '2020-01-31')\n",
    "aoi_point = ee.Geometry.Point(-122.4439, 37.7538)"
   ]
  },
  {
   "cell_type": "code",
   "execution_count": 10,
   "metadata": {},
   "outputs": [
    {
     "data": {
      "text/plain": [
       "['VV', 'VH', 'angle', 'LIA', 'layover', 'shadow', 'no_data_mask', 'VVVH_ratio']"
      ]
     },
     "execution_count": 10,
     "metadata": {},
     "output_type": "execute_result"
    }
   ],
   "source": [
    "get_s1_image(\n",
    "    date,\n",
    "    aoi_point,\n",
    ").bandNames().getInfo()"
   ]
  },
  {
   "cell_type": "code",
   "execution_count": null,
   "metadata": {},
   "outputs": [],
   "source": [
    "collection = ee.ImageCollection('COPERNICUS/S1_GRD_FLOAT') \\\n",
    "    .filterBounds(aoi_point) \\\n",
    "    .filterDate(date.start(), date.end()) \\\n",
    "    .filterMetadata('resolution_meters', 'equals', 10) \\\n",
    "    .filter(ee.Filter.eq('instrumentMode', 'IW')) \\\n",
    "    .filter(ee.Filter.And(\n",
    "    ee.Filter.listContains('transmitterReceiverPolarisation', 'VV'),\n",
    "    ee.Filter.listContains('transmitterReceiverPolarisation', 'VH')\n",
    ")) \\\n"
   ]
  }
 ],
 "metadata": {
  "kernelspec": {
   "display_name": "gwl-modeling",
   "language": "python",
   "name": "python3"
  },
  "language_info": {
   "codemirror_mode": {
    "name": "ipython",
    "version": 3
   },
   "file_extension": ".py",
   "mimetype": "text/x-python",
   "name": "python",
   "nbconvert_exporter": "python",
   "pygments_lexer": "ipython3",
   "version": "3.10.12"
  }
 },
 "nbformat": 4,
 "nbformat_minor": 2
}
