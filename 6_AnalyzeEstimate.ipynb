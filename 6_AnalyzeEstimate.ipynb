{
 "cells": [
  {
   "cell_type": "markdown",
   "metadata": {},
   "source": [
    "# 6. Evaluate the GWL modeling map"
   ]
  },
  {
   "cell_type": "markdown",
   "metadata": {},
   "source": [
    "This notebook evaluates the the result of the GWL modeling maps produced with the notebook 5. estimage_gee.ipynb. <br>\n",
    "The evaluation is done by comparing the GWL modeling average values of the maps (time series) within a given PHU with the average values of the GWL measurements within the same PHU. <br>"
   ]
  },
  {
   "cell_type": "code",
   "execution_count": null,
   "metadata": {},
   "outputs": [],
   "source": [
    "%load_ext autoreload\n",
    "%autoreload 2"
   ]
  },
  {
   "cell_type": "code",
   "execution_count": null,
   "metadata": {},
   "outputs": [],
   "source": [
    "import ee\n",
    "from sepal_ui.mapping import SepalMap\n",
    "from gee_scripts.gee import reduce_to, get_footprint, reduce_df_by\n",
    "import gee_scripts.parameters as params\n",
    "import pandas as pd\n",
    "import matplotlib.pyplot as plt\n"
   ]
  },
  {
   "cell_type": "markdown",
   "metadata": {},
   "source": [
    "## 6.1. Visualizae data"
   ]
  },
  {
   "cell_type": "code",
   "execution_count": null,
   "metadata": {},
   "outputs": [],
   "source": [
    " # Set up the input parameters\n",
    "\n",
    "# Set the image collection\n",
    "# image_collection_id = \"projects/ee-marortpab/assets/gwl-modeling/estimation/best_models/RandomForest_kalimantan_phu_model_350_351_357_379_Pablo_no_bad_stations_trees_250\"\n",
    "\n",
    "image_collection_id = \"projects/ee-indonesia-gwl/assets/gwl-modeling/estimation/best_models/RandomForest_kalimantan_phu_model_350_351_357_379_Pablo_no_bad_stations_trees_250\"\n",
    "\n",
    "training_data = ee.FeatureCollection(\"projects/ee-indonesia-gwl/assets/all_training_data_with_extra_and_locations_and_precipSum\")\n",
    "\n",
    "# Define the asset id for the phus\n",
    "phus_asset_id = \"projects/ee-indonesia-gwl/assets/all_phus_numbered\"\n",
    "\n",
    "\n",
    "df = pd.read_csv(\"data/9_clean_training_data/all_training_data_with_extra_and_locations_and_precipSum.csv\", parse_dates=[\"date\"])"
   ]
  },
  {
   "cell_type": "code",
   "execution_count": null,
   "metadata": {},
   "outputs": [],
   "source": [
    "ee_modeled_ic = ee.ImageCollection(image_collection_id)\n",
    "ee_phus = ee.FeatureCollection(phus_asset_id)\n",
    "ee_model_phu_sources = ee_phus.filter(ee.Filter.inList(\"phu_id\", ee.List([350,351,357,379])))"
   ]
  },
  {
   "cell_type": "code",
   "execution_count": null,
   "metadata": {},
   "outputs": [],
   "source": [
    "ee_footprints_fc = ee.FeatureCollection(ee_modeled_ic.map(get_footprint).toList(ee_modeled_ic.size()))"
   ]
  },
  {
   "cell_type": "markdown",
   "metadata": {},
   "source": [
    "## 6.2. Select the target PHU"
   ]
  },
  {
   "cell_type": "markdown",
   "metadata": {},
   "source": [
    "We can only evaluate the model where we have GWL measurements. <br>\n",
    "The map below show the following layers:\n",
    "- The PHU boundaries (red)\n",
    "- The PHU which where used to train the GWL model (black)\n",
    "- The GWL field measurements (white)\n",
    "- The GWL modeling boundaries: the footprint of the GWL modeling map (blue)\n",
    "\n",
    "By using the inspector tool, we can select a PHU where we have already an estimated GWL TS (blue) and the GWL measurements (white)."
   ]
  },
  {
   "cell_type": "code",
   "execution_count": null,
   "metadata": {},
   "outputs": [],
   "source": [
    "map_ = SepalMap(vinspector=True, basemaps=[\"SATELLITE\"])\n",
    "map_.centerObject(ee_footprints_fc)\n",
    "map_.addLayer(ee_phus, {\"color\": \"red\"}, \"all phus\")\n",
    "map_.addLayer(ee_model_phu_sources, {\"color\": \"black\"}, \"phus used to train the model\")\n",
    "map_.addLayer(training_data, {\"color\": \"white\"}, \"training data\")\n",
    "map_.addLayer(ee_footprints_fc, {\"color\": \"blue\"}, \"estimated footprints\")\n",
    "map_"
   ]
  },
  {
   "cell_type": "markdown",
   "metadata": {},
   "source": [
    "## 6.3. Evaluate the GWL modeling map"
   ]
  },
  {
   "cell_type": "code",
   "execution_count": null,
   "metadata": {},
   "outputs": [],
   "source": [
    "# Set the parameters for the reduction\n",
    "reduce_by = \"mean\""
   ]
  },
  {
   "cell_type": "markdown",
   "metadata": {},
   "source": [
    "### 6.3.1. Calculate the [mean, std or median] of the GWL modeling map within the selected PHU"
   ]
  },
  {
   "cell_type": "code",
   "execution_count": null,
   "metadata": {},
   "outputs": [],
   "source": [
    "target_phu_id = 352\n",
    "target_phu = ee_phus.filter(ee.Filter.eq(\"phu_id\", target_phu_id)).first().geometry()"
   ]
  },
  {
   "cell_type": "code",
   "execution_count": null,
   "metadata": {},
   "outputs": [],
   "source": [
    "# Filter the collection to only show the images that intersect with the target phu\n",
    "ee_ic_filtered = ee_modeled_ic.filter(ee.Filter.bounds(target_phu.centroid()))\n",
    "ee_filtered_footprints_fc = ee.FeatureCollection(ee_ic_filtered.map(get_footprint\n",
    "    ).toList(ee_modeled_ic.size())\n",
    ")"
   ]
  },
  {
   "cell_type": "code",
   "execution_count": null,
   "metadata": {},
   "outputs": [],
   "source": [
    "# Add the target phu to the map\n",
    "map_.addLayer(ee_filtered_footprints_fc, {\"color\": \"red\"}, \"target phu\")"
   ]
  },
  {
   "cell_type": "code",
   "execution_count": null,
   "metadata": {},
   "outputs": [],
   "source": [
    "# Extract the mean values \n",
    "# The line below will calculate the [mean, std, median] of the modeled time series for the target phu\n",
    "# this process might take a while\n",
    "model_ts_features = ee_ic_filtered.map(lambda image: reduce_to(image, target_phu, reduce_by)).getInfo()\n",
    "\n",
    "# print the number of images in the collection\n",
    "print(len(model_ts_features[\"features\"]))"
   ]
  },
  {
   "cell_type": "code",
   "execution_count": null,
   "metadata": {},
   "outputs": [],
   "source": [
    "# Convert the list of features to a pandas DataFrame.\n",
    "model_ts_data = [feature[\"properties\"] for feature in model_ts_features[\"features\"]]\n",
    "\n",
    "reduced_model_df = pd.DataFrame(model_ts_data)\n",
    "reduced_model_df['date'] = pd.to_datetime(reduced_model_df['date'])\n",
    "reduced_model_df = reduced_model_df.sort_values('date')\n",
    "reduced_model_df = reduced_model_df.dropna()\n",
    "reduced_model_df = reduced_model_df.set_index('date')\n",
    "\n",
    "print(len(reduced_model_df))\n",
    "reduced_model_df.head()"
   ]
  },
  {
   "cell_type": "markdown",
   "metadata": {},
   "source": [
    "### 6.3.2. Calculate the [mean, std or median] of the field GWL measurements within the selected PHU"
   ]
  },
  {
   "cell_type": "code",
   "execution_count": null,
   "metadata": {},
   "outputs": [],
   "source": [
    "# Subset the mean values from the field data for all the stations within the target phu\n",
    "\n",
    "reduced_field_df = reduce_df_by(\n",
    "    grouped_df = df[(df.phu_id==target_phu_id) & (df.gwl_cm>-200) ].groupby([\"date\"])[\"gwl_cm\"],\n",
    "    reduce_by = reduce_by\n",
    ")\n",
    "\n",
    "# rename the column\n",
    "reduced_field_df = reduced_field_df.reset_index()\n",
    "\n",
    "# Set the date as the index\n",
    "reduced_field_df = reduced_field_df.set_index(\"date\")\n",
    "\n",
    "reduced_field_df.head()"
   ]
  },
  {
   "cell_type": "code",
   "execution_count": null,
   "metadata": {},
   "outputs": [],
   "source": [
    "# plot mean_estimation and mean_field_data\n",
    "\n",
    "plt.plot(reduced_model_df.index, reduced_model_df['reduced_value'], label=f\"{reduce_by} modeled {target_phu_id}\")\n",
    "plt.plot(reduced_field_df.index, reduced_field_df.gwl_cm, label=f\"{reduce_by} field data {target_phu_id}\")\n",
    "plt.legend()\n",
    "plt.show()"
   ]
  },
  {
   "cell_type": "code",
   "execution_count": null,
   "metadata": {},
   "outputs": [],
   "source": [
    "# plot observed vs estimated where dates match\n",
    "\n",
    "reduced_field_df = reduced_field_df[reduced_field_df.index.isin(reduced_model_df.index)]\n",
    "reduced_field_df = reduced_field_df.sort_index()\n",
    "\n",
    "plt.plot(reduced_field_df.index, reduced_field_df['gwl_cm'], label=f\"{reduce_by} modeled {target_phu_id}\")\n",
    "plt.plot(reduced_field_df.index, reduced_model_df.loc[reduced_field_df.index, 'reduced_value'], label=f\"{reduce_by} field data {target_phu_id}\")\n",
    "plt.legend()\n",
    "plt.show()\n",
    "\n",
    "# observed vs estimated scatter plot\n",
    "\n",
    "plt.scatter(reduced_field_df['gwl_cm'], reduced_model_df.loc[reduced_field_df.index, 'reduced_value'])\n",
    "plt.xlabel(\"Observed\")\n",
    "plt.ylabel(\"Estimated\")\n",
    "plt.show()"
   ]
  }
 ],
 "metadata": {
  "kernelspec": {
   "display_name": "(test) gwl-modeling",
   "language": "python",
   "name": "gwl-modeling"
  },
  "language_info": {
   "codemirror_mode": {
    "name": "ipython",
    "version": 3
   },
   "file_extension": ".py",
   "mimetype": "text/x-python",
   "name": "python",
   "nbconvert_exporter": "python",
   "pygments_lexer": "ipython3",
   "version": "3.10.12"
  }
 },
 "nbformat": 4,
 "nbformat_minor": 2
}
