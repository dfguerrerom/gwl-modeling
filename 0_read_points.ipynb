{
 "cells": [
  {
   "cell_type": "code",
   "execution_count": 1,
   "metadata": {
    "tags": []
   },
   "outputs": [],
   "source": [
    "import pandas as pd\n",
    "from pathlib import Path"
   ]
  },
  {
   "cell_type": "markdown",
   "metadata": {},
   "source": [
    "# Set data paths"
   ]
  },
  {
   "cell_type": "code",
   "execution_count": 2,
   "metadata": {
    "tags": []
   },
   "outputs": [],
   "source": [
    "# Explore data sources from .csv files, merge them and save them\n",
    "brg_path = Path(\"data/2_brg/brg_raw.csv\")\n",
    "pkeg_path = Path(\"data/3_pkeg/pkeg_raw.csv\")\n",
    "old_brg_path = Path(\"data/4_brg_old/brg_old.csv\")\n",
    "\n",
    "DATA_COLS = [\"source\", \"id\", \"lon\", \"lat\", \"date\", \"gwl_cm\"]"
   ]
  },
  {
   "cell_type": "markdown",
   "metadata": {},
   "source": [
    "# 1. Read data"
   ]
  },
  {
   "cell_type": "markdown",
   "metadata": {},
   "source": [
    "### BRGM new data"
   ]
  },
  {
   "cell_type": "code",
   "execution_count": 3,
   "metadata": {
    "tags": []
   },
   "outputs": [],
   "source": [
    "brg_df = pd.read_csv(brg_path)"
   ]
  },
  {
   "cell_type": "code",
   "execution_count": 4,
   "metadata": {
    "tags": []
   },
   "outputs": [
    {
     "name": "stderr",
     "output_type": "stream",
     "text": [
      "/tmp/ipykernel_166369/2616001532.py:9: UserWarning: Could not infer format, so each element will be parsed individually, falling back to `dateutil`. To ensure parsing is consistent and as-expected, please specify a format.\n",
      "  brg_df[\"date\"] = pd.to_datetime(brg_df[\"date\"])\n"
     ]
    },
    {
     "data": {
      "text/html": [
       "<div>\n",
       "<style scoped>\n",
       "    .dataframe tbody tr th:only-of-type {\n",
       "        vertical-align: middle;\n",
       "    }\n",
       "\n",
       "    .dataframe tbody tr th {\n",
       "        vertical-align: top;\n",
       "    }\n",
       "\n",
       "    .dataframe thead th {\n",
       "        text-align: right;\n",
       "    }\n",
       "</style>\n",
       "<table border=\"1\" class=\"dataframe\">\n",
       "  <thead>\n",
       "    <tr style=\"text-align: right;\">\n",
       "      <th></th>\n",
       "      <th>source</th>\n",
       "      <th>id</th>\n",
       "      <th>lon</th>\n",
       "      <th>lat</th>\n",
       "      <th>date</th>\n",
       "      <th>gwl_cm</th>\n",
       "    </tr>\n",
       "  </thead>\n",
       "  <tbody>\n",
       "    <tr>\n",
       "      <th>0</th>\n",
       "      <td>brg</td>\n",
       "      <td>BRG_140301_01</td>\n",
       "      <td>102.099167</td>\n",
       "      <td>1.519444</td>\n",
       "      <td>2018-10-15</td>\n",
       "      <td>-14.4</td>\n",
       "    </tr>\n",
       "    <tr>\n",
       "      <th>1</th>\n",
       "      <td>brg</td>\n",
       "      <td>BRG_140301_01</td>\n",
       "      <td>102.099167</td>\n",
       "      <td>1.519444</td>\n",
       "      <td>2018-10-16</td>\n",
       "      <td>-17.9</td>\n",
       "    </tr>\n",
       "    <tr>\n",
       "      <th>2</th>\n",
       "      <td>brg</td>\n",
       "      <td>BRG_140301_01</td>\n",
       "      <td>102.099167</td>\n",
       "      <td>1.519444</td>\n",
       "      <td>2018-10-17</td>\n",
       "      <td>-20.6</td>\n",
       "    </tr>\n",
       "    <tr>\n",
       "      <th>3</th>\n",
       "      <td>brg</td>\n",
       "      <td>BRG_140301_01</td>\n",
       "      <td>102.099167</td>\n",
       "      <td>1.519444</td>\n",
       "      <td>2018-10-18</td>\n",
       "      <td>-18.1</td>\n",
       "    </tr>\n",
       "    <tr>\n",
       "      <th>4</th>\n",
       "      <td>brg</td>\n",
       "      <td>BRG_140301_01</td>\n",
       "      <td>102.099167</td>\n",
       "      <td>1.519444</td>\n",
       "      <td>2018-10-19</td>\n",
       "      <td>-23.1</td>\n",
       "    </tr>\n",
       "  </tbody>\n",
       "</table>\n",
       "</div>"
      ],
      "text/plain": [
       "  source             id         lon       lat       date  gwl_cm\n",
       "0    brg  BRG_140301_01  102.099167  1.519444 2018-10-15   -14.4\n",
       "1    brg  BRG_140301_01  102.099167  1.519444 2018-10-16   -17.9\n",
       "2    brg  BRG_140301_01  102.099167  1.519444 2018-10-17   -20.6\n",
       "3    brg  BRG_140301_01  102.099167  1.519444 2018-10-18   -18.1\n",
       "4    brg  BRG_140301_01  102.099167  1.519444 2018-10-19   -23.1"
      ]
     },
     "execution_count": 4,
     "metadata": {},
     "output_type": "execute_result"
    }
   ],
   "source": [
    "brg_cols_rename = {\n",
    "    \"gwl_rata\" : \"gwl_cm\",\n",
    "}\n",
    "\n",
    "# rename columns\n",
    "brg_df.rename(columns=brg_cols_rename, inplace=True)\n",
    "\n",
    "# Convert date column to datetime\n",
    "brg_df[\"date\"] = pd.to_datetime(brg_df[\"date\"])\n",
    "\n",
    "# multiply gwl_cm by 100 to convert it to cm\n",
    "brg_df[\"gwl_cm\"] = brg_df[\"gwl_cm\"] * 100\n",
    "\n",
    "# set a new column for source\n",
    "brg_df[\"source\"] = \"brg\"\n",
    "\n",
    "brg_df = brg_df[DATA_COLS]\n",
    "brg_df.head()"
   ]
  },
  {
   "cell_type": "code",
   "execution_count": 5,
   "metadata": {
    "tags": []
   },
   "outputs": [
    {
     "data": {
      "text/plain": [
       "array(['BRG_140301_01', 'BRG_140301_02', 'BRG_140302_01', 'BRG_140302_02',\n",
       "       'BRG_140802_02', 'brg8', 'BRG_140802_01', 'BRG_140802_03',\n",
       "       'BRG_140806_01', 'BRG_150710_02', 'BRG_150706_01', 'BRG_150709_01',\n",
       "       'BRG_150709_02', 'BRG_150710_01', 'BRG_150710_03', 'BRG_621107_04',\n",
       "       'BRG_621107_05', 'BRG_621107_06', 'BRG_621107_07', 'BRG_621107_08',\n",
       "       'BRG_627104_06', 'BRG_621103_05', 'BRG_621105_02', 'BRG_621105_03',\n",
       "       'BRG_621107_02', 'BRG_621107_03', 'BRG_621101_02'], dtype=object)"
      ]
     },
     "execution_count": 5,
     "metadata": {},
     "output_type": "execute_result"
    }
   ],
   "source": [
    "brg_df.id.unique()"
   ]
  },
  {
   "cell_type": "markdown",
   "metadata": {},
   "source": [
    "### PKEG data"
   ]
  },
  {
   "cell_type": "code",
   "execution_count": 6,
   "metadata": {},
   "outputs": [],
   "source": [
    "# Read pkeg's data\n",
    "pkeg_df = pd.read_csv(pkeg_path, sep=\";\")"
   ]
  },
  {
   "cell_type": "code",
   "execution_count": 7,
   "metadata": {
    "tags": []
   },
   "outputs": [
    {
     "data": {
      "text/html": [
       "<div>\n",
       "<style scoped>\n",
       "    .dataframe tbody tr th:only-of-type {\n",
       "        vertical-align: middle;\n",
       "    }\n",
       "\n",
       "    .dataframe tbody tr th {\n",
       "        vertical-align: top;\n",
       "    }\n",
       "\n",
       "    .dataframe thead th {\n",
       "        text-align: right;\n",
       "    }\n",
       "</style>\n",
       "<table border=\"1\" class=\"dataframe\">\n",
       "  <thead>\n",
       "    <tr style=\"text-align: right;\">\n",
       "      <th></th>\n",
       "      <th>source</th>\n",
       "      <th>id</th>\n",
       "      <th>lon</th>\n",
       "      <th>lat</th>\n",
       "      <th>date</th>\n",
       "      <th>gwl_cm</th>\n",
       "    </tr>\n",
       "  </thead>\n",
       "  <tbody>\n",
       "    <tr>\n",
       "      <th>0</th>\n",
       "      <td>pkeg</td>\n",
       "      <td>121_APC_A21</td>\n",
       "      <td>96.451939</td>\n",
       "      <td>3.809687</td>\n",
       "      <td>2020-11-14 00:00:00</td>\n",
       "      <td>-10.0</td>\n",
       "    </tr>\n",
       "    <tr>\n",
       "      <th>1</th>\n",
       "      <td>pkeg</td>\n",
       "      <td>121_APC_A21</td>\n",
       "      <td>96.451939</td>\n",
       "      <td>3.809687</td>\n",
       "      <td>2020-11-26 00:00:00</td>\n",
       "      <td>-12.0</td>\n",
       "    </tr>\n",
       "    <tr>\n",
       "      <th>2</th>\n",
       "      <td>pkeg</td>\n",
       "      <td>121_APC_A21</td>\n",
       "      <td>96.451939</td>\n",
       "      <td>3.809687</td>\n",
       "      <td>2020-12-02 00:00:00</td>\n",
       "      <td>-30.0</td>\n",
       "    </tr>\n",
       "    <tr>\n",
       "      <th>3</th>\n",
       "      <td>pkeg</td>\n",
       "      <td>121_APC_A21</td>\n",
       "      <td>96.451939</td>\n",
       "      <td>3.809687</td>\n",
       "      <td>2020-12-16 00:00:00</td>\n",
       "      <td>-60.0</td>\n",
       "    </tr>\n",
       "    <tr>\n",
       "      <th>4</th>\n",
       "      <td>pkeg</td>\n",
       "      <td>121_APC_A21</td>\n",
       "      <td>96.451939</td>\n",
       "      <td>3.809687</td>\n",
       "      <td>2021-07-12 00:00:00</td>\n",
       "      <td>-25.0</td>\n",
       "    </tr>\n",
       "  </tbody>\n",
       "</table>\n",
       "</div>"
      ],
      "text/plain": [
       "  source           id        lon       lat                 date  gwl_cm\n",
       "0   pkeg  121_APC_A21  96.451939  3.809687  2020-11-14 00:00:00   -10.0\n",
       "1   pkeg  121_APC_A21  96.451939  3.809687  2020-11-26 00:00:00   -12.0\n",
       "2   pkeg  121_APC_A21  96.451939  3.809687  2020-12-02 00:00:00   -30.0\n",
       "3   pkeg  121_APC_A21  96.451939  3.809687  2020-12-16 00:00:00   -60.0\n",
       "4   pkeg  121_APC_A21  96.451939  3.809687  2021-07-12 00:00:00   -25.0"
      ]
     },
     "execution_count": 7,
     "metadata": {},
     "output_type": "execute_result"
    }
   ],
   "source": [
    "pkeg_cols_rename = {\n",
    "    \"date(dd/mm/yyyy)\" : \"date\",\n",
    "    \"gwl(cm)\" : \"gwl_cm\",\n",
    "    \"coor_y(dd)\" : \"lat\",\n",
    "    \"coor_x(dd)\" : \"lon\",\n",
    "}\n",
    "\n",
    "# Rename columns\n",
    "pkeg_df.rename(columns=pkeg_cols_rename, inplace=True)\n",
    "\n",
    "# combine \"kode_perusahaan\"\tand \"kode_titik\" to create a unique id\n",
    "pkeg_df.loc[:, \"id\"] = pkeg_df[\"kode_perusahaan\"] + \"_\" + pkeg_df[\"kode_titik\"]\n",
    "\n",
    "# Convert date column to datetime\n",
    "pkeg_df.loc[:, \"date\"] = pd.to_datetime(pkeg_df[\"date\"], dayfirst=True)\n",
    "\n",
    "# set a new column for source\n",
    "pkeg_df[\"source\"] = \"pkeg\"\n",
    "\n",
    "# Only select columns that are needed\n",
    "pkeg_df = pkeg_df[DATA_COLS]\n",
    "pkeg_df.head()"
   ]
  },
  {
   "cell_type": "markdown",
   "metadata": {},
   "source": [
    "### Previous BRG data"
   ]
  },
  {
   "cell_type": "code",
   "execution_count": 8,
   "metadata": {},
   "outputs": [],
   "source": [
    "old_brg_df = pd.read_csv(old_brg_path)"
   ]
  },
  {
   "cell_type": "code",
   "execution_count": 9,
   "metadata": {
    "tags": []
   },
   "outputs": [
    {
     "data": {
      "text/html": [
       "<div>\n",
       "<style scoped>\n",
       "    .dataframe tbody tr th:only-of-type {\n",
       "        vertical-align: middle;\n",
       "    }\n",
       "\n",
       "    .dataframe tbody tr th {\n",
       "        vertical-align: top;\n",
       "    }\n",
       "\n",
       "    .dataframe thead th {\n",
       "        text-align: right;\n",
       "    }\n",
       "</style>\n",
       "<table border=\"1\" class=\"dataframe\">\n",
       "  <thead>\n",
       "    <tr style=\"text-align: right;\">\n",
       "      <th></th>\n",
       "      <th>source</th>\n",
       "      <th>id</th>\n",
       "      <th>lon</th>\n",
       "      <th>lat</th>\n",
       "      <th>date</th>\n",
       "      <th>gwl_cm</th>\n",
       "    </tr>\n",
       "  </thead>\n",
       "  <tbody>\n",
       "    <tr>\n",
       "      <th>0</th>\n",
       "      <td>old_brg</td>\n",
       "      <td>BRG_150503_01</td>\n",
       "      <td>103.928286</td>\n",
       "      <td>-1.545325</td>\n",
       "      <td>2019-07-06 00:00:00</td>\n",
       "      <td>-304.0</td>\n",
       "    </tr>\n",
       "    <tr>\n",
       "      <th>1</th>\n",
       "      <td>old_brg</td>\n",
       "      <td>BRG_150503_01</td>\n",
       "      <td>103.928286</td>\n",
       "      <td>-1.545325</td>\n",
       "      <td>2019-07-07 00:00:00</td>\n",
       "      <td>-304.0</td>\n",
       "    </tr>\n",
       "    <tr>\n",
       "      <th>2</th>\n",
       "      <td>old_brg</td>\n",
       "      <td>BRG_150503_01</td>\n",
       "      <td>103.928286</td>\n",
       "      <td>-1.545325</td>\n",
       "      <td>2019-07-08 00:00:00</td>\n",
       "      <td>-304.0</td>\n",
       "    </tr>\n",
       "    <tr>\n",
       "      <th>3</th>\n",
       "      <td>old_brg</td>\n",
       "      <td>BRG_150503_01</td>\n",
       "      <td>103.928286</td>\n",
       "      <td>-1.545325</td>\n",
       "      <td>2019-07-09 00:00:00</td>\n",
       "      <td>-304.0</td>\n",
       "    </tr>\n",
       "    <tr>\n",
       "      <th>4</th>\n",
       "      <td>old_brg</td>\n",
       "      <td>BRG_150503_01</td>\n",
       "      <td>103.928286</td>\n",
       "      <td>-1.545325</td>\n",
       "      <td>2019-07-10 00:00:00</td>\n",
       "      <td>-304.0</td>\n",
       "    </tr>\n",
       "  </tbody>\n",
       "</table>\n",
       "</div>"
      ],
      "text/plain": [
       "    source             id         lon       lat                 date  gwl_cm\n",
       "0  old_brg  BRG_150503_01  103.928286 -1.545325  2019-07-06 00:00:00  -304.0\n",
       "1  old_brg  BRG_150503_01  103.928286 -1.545325  2019-07-07 00:00:00  -304.0\n",
       "2  old_brg  BRG_150503_01  103.928286 -1.545325  2019-07-08 00:00:00  -304.0\n",
       "3  old_brg  BRG_150503_01  103.928286 -1.545325  2019-07-09 00:00:00  -304.0\n",
       "4  old_brg  BRG_150503_01  103.928286 -1.545325  2019-07-10 00:00:00  -304.0"
      ]
     },
     "execution_count": 9,
     "metadata": {},
     "output_type": "execute_result"
    }
   ],
   "source": [
    "old_brg_df.loc[:, \"source\"] = \"old_brg\"\n",
    "old_brg_df.loc[:, \"date\"] = pd.to_datetime(old_brg_df[\"date\"], dayfirst=True)\n",
    "\n",
    "# Multiply gwl_cm by 100 to convert it to cm\n",
    "old_brg_df[\"gwl_cm\"] = old_brg_df[\"gwl_cm\"] * 100\n",
    "old_brg_df = old_brg_df[DATA_COLS]\n",
    "old_brg_df.head()"
   ]
  },
  {
   "cell_type": "markdown",
   "metadata": {},
   "source": [
    "### Concatenate all data sources"
   ]
  },
  {
   "cell_type": "code",
   "execution_count": 10,
   "metadata": {},
   "outputs": [
    {
     "data": {
      "text/html": [
       "<div>\n",
       "<style scoped>\n",
       "    .dataframe tbody tr th:only-of-type {\n",
       "        vertical-align: middle;\n",
       "    }\n",
       "\n",
       "    .dataframe tbody tr th {\n",
       "        vertical-align: top;\n",
       "    }\n",
       "\n",
       "    .dataframe thead th {\n",
       "        text-align: right;\n",
       "    }\n",
       "</style>\n",
       "<table border=\"1\" class=\"dataframe\">\n",
       "  <thead>\n",
       "    <tr style=\"text-align: right;\">\n",
       "      <th></th>\n",
       "      <th>source</th>\n",
       "      <th>id</th>\n",
       "      <th>lon</th>\n",
       "      <th>lat</th>\n",
       "      <th>date</th>\n",
       "      <th>gwl_cm</th>\n",
       "    </tr>\n",
       "  </thead>\n",
       "  <tbody>\n",
       "    <tr>\n",
       "      <th>0</th>\n",
       "      <td>brg</td>\n",
       "      <td>BRG_140301_01</td>\n",
       "      <td>102.099167</td>\n",
       "      <td>1.519444</td>\n",
       "      <td>2018-10-15 00:00:00</td>\n",
       "      <td>-14.4</td>\n",
       "    </tr>\n",
       "    <tr>\n",
       "      <th>1</th>\n",
       "      <td>brg</td>\n",
       "      <td>BRG_140301_01</td>\n",
       "      <td>102.099167</td>\n",
       "      <td>1.519444</td>\n",
       "      <td>2018-10-16 00:00:00</td>\n",
       "      <td>-17.9</td>\n",
       "    </tr>\n",
       "    <tr>\n",
       "      <th>2</th>\n",
       "      <td>brg</td>\n",
       "      <td>BRG_140301_01</td>\n",
       "      <td>102.099167</td>\n",
       "      <td>1.519444</td>\n",
       "      <td>2018-10-17 00:00:00</td>\n",
       "      <td>-20.6</td>\n",
       "    </tr>\n",
       "    <tr>\n",
       "      <th>3</th>\n",
       "      <td>brg</td>\n",
       "      <td>BRG_140301_01</td>\n",
       "      <td>102.099167</td>\n",
       "      <td>1.519444</td>\n",
       "      <td>2018-10-18 00:00:00</td>\n",
       "      <td>-18.1</td>\n",
       "    </tr>\n",
       "    <tr>\n",
       "      <th>4</th>\n",
       "      <td>brg</td>\n",
       "      <td>BRG_140301_01</td>\n",
       "      <td>102.099167</td>\n",
       "      <td>1.519444</td>\n",
       "      <td>2018-10-19 00:00:00</td>\n",
       "      <td>-23.1</td>\n",
       "    </tr>\n",
       "  </tbody>\n",
       "</table>\n",
       "</div>"
      ],
      "text/plain": [
       "  source             id         lon       lat                 date  gwl_cm\n",
       "0    brg  BRG_140301_01  102.099167  1.519444  2018-10-15 00:00:00   -14.4\n",
       "1    brg  BRG_140301_01  102.099167  1.519444  2018-10-16 00:00:00   -17.9\n",
       "2    brg  BRG_140301_01  102.099167  1.519444  2018-10-17 00:00:00   -20.6\n",
       "3    brg  BRG_140301_01  102.099167  1.519444  2018-10-18 00:00:00   -18.1\n",
       "4    brg  BRG_140301_01  102.099167  1.519444  2018-10-19 00:00:00   -23.1"
      ]
     },
     "execution_count": 10,
     "metadata": {},
     "output_type": "execute_result"
    }
   ],
   "source": [
    "# Merge the two dataframes\n",
    "df = pd.concat([brg_df, pkeg_df, old_brg_df], ignore_index=True)\n",
    "df.head()"
   ]
  },
  {
   "cell_type": "code",
   "execution_count": 11,
   "metadata": {},
   "outputs": [],
   "source": [
    "# save the dataframe as csv\n",
    "df.to_csv(\"data/field_data_all_with_old.csv\", index=False)"
   ]
  },
  {
   "cell_type": "code",
   "execution_count": 12,
   "metadata": {},
   "outputs": [
    {
     "name": "stdout",
     "output_type": "stream",
     "text": [
      "Before removing duplicates 306132\n",
      "After removing duplicates 298827\n"
     ]
    }
   ],
   "source": [
    "# Remove duplicate dates for each id using the mean value\n",
    "# Group by 'id' and 'date' and calculate the mean value for 'gwl_cm' while keeping other columns\n",
    "\n",
    "print(\"Before removing duplicates\", len(df))\n",
    "\n",
    "agg_dict = {'source':'first','lon':'first','lat':'first','gwl_cm':'mean'}\n",
    "df = df.groupby(['id','date']).agg(agg_dict).reset_index()\n",
    "\n",
    "print(\"After removing duplicates\", len(df))"
   ]
  },
  {
   "cell_type": "code",
   "execution_count": 13,
   "metadata": {},
   "outputs": [
    {
     "data": {
      "text/html": [
       "<div>\n",
       "<style scoped>\n",
       "    .dataframe tbody tr th:only-of-type {\n",
       "        vertical-align: middle;\n",
       "    }\n",
       "\n",
       "    .dataframe tbody tr th {\n",
       "        vertical-align: top;\n",
       "    }\n",
       "\n",
       "    .dataframe thead th {\n",
       "        text-align: right;\n",
       "    }\n",
       "</style>\n",
       "<table border=\"1\" class=\"dataframe\">\n",
       "  <thead>\n",
       "    <tr style=\"text-align: right;\">\n",
       "      <th></th>\n",
       "      <th>id</th>\n",
       "      <th>date</th>\n",
       "      <th>source</th>\n",
       "      <th>lon</th>\n",
       "      <th>lat</th>\n",
       "      <th>gwl_cm</th>\n",
       "    </tr>\n",
       "  </thead>\n",
       "  <tbody>\n",
       "    <tr>\n",
       "      <th>0</th>\n",
       "      <td>02_AHL_SBG-B076</td>\n",
       "      <td>2020-11-05</td>\n",
       "      <td>pkeg</td>\n",
       "      <td>117.007750</td>\n",
       "      <td>3.937760</td>\n",
       "      <td>-37.0</td>\n",
       "    </tr>\n",
       "    <tr>\n",
       "      <th>1</th>\n",
       "      <td>02_AHL_SBG-B076</td>\n",
       "      <td>2020-11-17</td>\n",
       "      <td>pkeg</td>\n",
       "      <td>117.007750</td>\n",
       "      <td>3.937760</td>\n",
       "      <td>-39.0</td>\n",
       "    </tr>\n",
       "    <tr>\n",
       "      <th>2</th>\n",
       "      <td>02_AHL_SBG-B076</td>\n",
       "      <td>2020-12-05</td>\n",
       "      <td>pkeg</td>\n",
       "      <td>117.007750</td>\n",
       "      <td>3.937760</td>\n",
       "      <td>-39.0</td>\n",
       "    </tr>\n",
       "    <tr>\n",
       "      <th>3</th>\n",
       "      <td>02_AHL_SBG-B076</td>\n",
       "      <td>2020-12-16</td>\n",
       "      <td>pkeg</td>\n",
       "      <td>117.007750</td>\n",
       "      <td>3.937760</td>\n",
       "      <td>-35.0</td>\n",
       "    </tr>\n",
       "    <tr>\n",
       "      <th>4</th>\n",
       "      <td>02_AHL_SBG-B076</td>\n",
       "      <td>2021-01-02</td>\n",
       "      <td>pkeg</td>\n",
       "      <td>117.007750</td>\n",
       "      <td>3.937760</td>\n",
       "      <td>-34.0</td>\n",
       "    </tr>\n",
       "    <tr>\n",
       "      <th>...</th>\n",
       "      <td>...</td>\n",
       "      <td>...</td>\n",
       "      <td>...</td>\n",
       "      <td>...</td>\n",
       "      <td>...</td>\n",
       "      <td>...</td>\n",
       "    </tr>\n",
       "    <tr>\n",
       "      <th>298822</th>\n",
       "      <td>kecil1</td>\n",
       "      <td>2019-10-26</td>\n",
       "      <td>old_brg</td>\n",
       "      <td>113.805611</td>\n",
       "      <td>-2.856089</td>\n",
       "      <td>-302.1</td>\n",
       "    </tr>\n",
       "    <tr>\n",
       "      <th>298823</th>\n",
       "      <td>kecil1</td>\n",
       "      <td>2019-10-27</td>\n",
       "      <td>old_brg</td>\n",
       "      <td>113.805611</td>\n",
       "      <td>-2.856089</td>\n",
       "      <td>-302.3</td>\n",
       "    </tr>\n",
       "    <tr>\n",
       "      <th>298824</th>\n",
       "      <td>kecil1</td>\n",
       "      <td>2019-10-31</td>\n",
       "      <td>old_brg</td>\n",
       "      <td>113.805611</td>\n",
       "      <td>-2.856089</td>\n",
       "      <td>-302.3</td>\n",
       "    </tr>\n",
       "    <tr>\n",
       "      <th>298825</th>\n",
       "      <td>kecil1</td>\n",
       "      <td>2019-11-02</td>\n",
       "      <td>old_brg</td>\n",
       "      <td>113.805611</td>\n",
       "      <td>-2.856089</td>\n",
       "      <td>-302.3</td>\n",
       "    </tr>\n",
       "    <tr>\n",
       "      <th>298826</th>\n",
       "      <td>kecil1</td>\n",
       "      <td>2019-11-04</td>\n",
       "      <td>old_brg</td>\n",
       "      <td>113.805611</td>\n",
       "      <td>-2.856089</td>\n",
       "      <td>-302.2</td>\n",
       "    </tr>\n",
       "  </tbody>\n",
       "</table>\n",
       "<p>267218 rows × 6 columns</p>\n",
       "</div>"
      ],
      "text/plain": [
       "                     id       date   source         lon       lat  gwl_cm\n",
       "0       02_AHL_SBG-B076 2020-11-05     pkeg  117.007750  3.937760   -37.0\n",
       "1       02_AHL_SBG-B076 2020-11-17     pkeg  117.007750  3.937760   -39.0\n",
       "2       02_AHL_SBG-B076 2020-12-05     pkeg  117.007750  3.937760   -39.0\n",
       "3       02_AHL_SBG-B076 2020-12-16     pkeg  117.007750  3.937760   -35.0\n",
       "4       02_AHL_SBG-B076 2021-01-02     pkeg  117.007750  3.937760   -34.0\n",
       "...                 ...        ...      ...         ...       ...     ...\n",
       "298822           kecil1 2019-10-26  old_brg  113.805611 -2.856089  -302.1\n",
       "298823           kecil1 2019-10-27  old_brg  113.805611 -2.856089  -302.3\n",
       "298824           kecil1 2019-10-31  old_brg  113.805611 -2.856089  -302.3\n",
       "298825           kecil1 2019-11-02  old_brg  113.805611 -2.856089  -302.3\n",
       "298826           kecil1 2019-11-04  old_brg  113.805611 -2.856089  -302.2\n",
       "\n",
       "[267218 rows x 6 columns]"
      ]
     },
     "execution_count": 13,
     "metadata": {},
     "output_type": "execute_result"
    }
   ],
   "source": [
    "# Below I will remove the duplicated coordinates IDS and keep the first one\n",
    "# get unique lon-lat pairs\n",
    "unique = df[[\"id\", \"lon\", \"lat\"]].drop_duplicates()\n",
    "\n",
    "# Get duplicated lon-lat pairs\n",
    "duplicated = unique[unique.duplicated(subset=[\"lon\", \"lat\"], keep=False)]\n",
    "\n",
    "duplicated = duplicated.drop_duplicates(subset=[\"lon\", \"lat\"], keep=\"first\")\n",
    "\n",
    "# Get the duplicated ids\n",
    "duplicated_ids = duplicated[\"id\"].unique()\n",
    "\n",
    "# # get dataframe without duplicated ids\n",
    "\n",
    "df = df[~df[\"id\"].isin(duplicated_ids)]\n",
    "\n",
    "df.to_csv(\"data/field_data_unique_coords.csv\", index=False)\n",
    "df"
   ]
  },
  {
   "cell_type": "code",
   "execution_count": 14,
   "metadata": {},
   "outputs": [],
   "source": [
    "# get unique coordinates for each station\n",
    "stations = df[[\"id\", \"source\", \"lon\", \"lat\"]].drop_duplicates()\n",
    "\n",
    "\n",
    "# Convert to GeoDataFrame\n",
    "from geopandas import GeoDataFrame\n",
    "from shapely.geometry import Point\n",
    "\n",
    "geometry = [Point(xy) for xy in zip(stations.lon, stations.lat)]\n",
    "stations_gdf = GeoDataFrame(stations, geometry=geometry)\n",
    "stations_gdf.crs = \"EPSG:4326\"\n",
    "stations_gdf.to_file(\"data/0_shp/unique_stations_no_repeated.shp\")"
   ]
  }
 ],
 "metadata": {
  "kernelspec": {
   "display_name": "Python 3 (ipykernel)",
   "language": "python",
   "name": "python3"
  },
  "language_info": {
   "codemirror_mode": {
    "name": "ipython",
    "version": 3
   },
   "file_extension": ".py",
   "mimetype": "text/x-python",
   "name": "python",
   "nbconvert_exporter": "python",
   "pygments_lexer": "ipython3",
   "version": "3.10.12"
  }
 },
 "nbformat": 4,
 "nbformat_minor": 4
}
