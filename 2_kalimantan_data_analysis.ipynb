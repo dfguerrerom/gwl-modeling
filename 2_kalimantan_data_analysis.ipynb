{
 "cells": [
  {
   "cell_type": "code",
   "execution_count": null,
   "metadata": {},
   "outputs": [],
   "source": [
    "%load_ext autoreload\n",
    "%autoreload 2\n",
    "%matplotlib inline\n",
    "%pylab inline\n",
    "pylab.rcParams['figure.figsize'] = (19, 19)"
   ]
  },
  {
   "cell_type": "code",
   "execution_count": null,
   "metadata": {},
   "outputs": [],
   "source": [
    "from gee_scripts.plots import get_ts_plot\n",
    "import pandas as pd\n",
    "from statsmodels.tsa.seasonal import seasonal_decompose\n",
    "\n",
    "import matplotlib.pyplot as plt\n",
    "from matplotlib.dates import MonthLocator\n",
    "import seaborn as sns\n",
    "from gee_scripts.parameters import explain_vars, response_var, west_region_ids, center_region_ids\n"
   ]
  },
  {
   "cell_type": "code",
   "execution_count": null,
   "metadata": {},
   "outputs": [],
   "source": [
    "df = pd.read_csv(\"data/9_clean_training_data/all_training_data_with_extra_and_locations_and_precipSum.csv\", parse_dates=[\"date\"])\n",
    "df = df[df.region_id.isin(center_region_ids)]\n",
    "len(df)\n",
    "assert df[[\"date\"]].dtypes.iloc[0] == \"datetime64[ns]\"\n"
   ]
  },
  {
   "cell_type": "code",
   "execution_count": null,
   "metadata": {},
   "outputs": [],
   "source": [
    "# # group by id and get the number of dates for each station id\n",
    "# df_grouped = df.groupby(\"id\").count().reset_index()\n",
    "# df_grouped = df_grouped[[\"id\", \"date\"]]\n",
    "# df_grouped.columns = [\"id\", \"date_count\"]\n",
    "# df_grouped.sort_values(by=\"date_count\", ascending=False)"
   ]
  },
  {
   "cell_type": "code",
   "execution_count": null,
   "metadata": {},
   "outputs": [],
   "source": [
    "# # get a boxplot of response var per region but use a small graph size\n",
    "\n",
    "# # set the seaborn style and size\n",
    "# sns.set_style(\"whitegrid\")\n",
    "# sns.set(rc={'figure.figsize':(8,5)})\n",
    "# sns.boxplot(x=\"region_id\", y=\"gwl_cm\", data=df, width=0.5)"
   ]
  },
  {
   "cell_type": "code",
   "execution_count": null,
   "metadata": {},
   "outputs": [],
   "source": [
    "west_region_ids = [1, 6, 5, 2, 4]\n",
    "center_region_ids = [7,8, 10]\n",
    "east_region_ids = [3, 9]"
   ]
  },
  {
   "cell_type": "code",
   "execution_count": null,
   "metadata": {},
   "outputs": [],
   "source": [
    "selected_regions = center_region_ids\n",
    "filter_rule = df.region_id.isin(selected_regions)\n",
    "filtered_df = df[filter_rule]\n",
    "filtered_df.loc[:, 'date'] = pd.to_datetime(filtered_df['date'])  # Ensure 'date' is datetime type\n",
    "# sort the dataframe by date\n",
    "filtered_df = filtered_df.sort_values(by=\"date\", ascending=True)\n"
   ]
  },
  {
   "cell_type": "code",
   "execution_count": null,
   "metadata": {},
   "outputs": [],
   "source": [
    "# set the seaborn style and size\n",
    "sns.set_style(\"whitegrid\")\n",
    "sns.set(rc={'figure.figsize':(8,5)})\n",
    "sns.boxplot(y=\"gwl_cm\", data=filtered_df, width=0.5)"
   ]
  },
  {
   "cell_type": "code",
   "execution_count": null,
   "metadata": {},
   "outputs": [],
   "source": [
    "# selected_regions = [5, 2]\n",
    "\n",
    "# # Set the figure size\n",
    "# fig, axs = plt.subplots(len(selected_regions), 1, figsize=(15, 3*len(selected_regions)))\n",
    "\n",
    "# min_date = west_df['date'].min()\n",
    "# max_date = west_df['date'].max()\n",
    "\n",
    "# # Iterate over the region IDs and create a separate plot for each region\n",
    "# for i, region_id in enumerate(selected_regions):\n",
    "#     ax = axs[i]\n",
    "#     to_plot_df = west_df[(west_df.region_id==region_id) & (west_df.source.isin([\"brg\", \"brg_old\", \"old_brg\"]))]\n",
    "#     sns.lineplot(x=\"date\", y=\"gwl_cm\", data=to_plot_df, ax=ax)\n",
    "#     ax.set_title(f\"Region {region_id} - length: {len(to_plot_df)}\")\n",
    "#     ax.set_xlabel(\"Date\")\n",
    "#     ax.set_ylabel(\"GWL (cm)\")\n",
    "    \n",
    "#     # Set the limits for the x-axis\n",
    "#     ax.set_xlim(min_date, max_date)\n",
    "\n",
    "#     # Use MonthLocator for sparse labeling\n",
    "#     ax.xaxis.set_major_locator(MonthLocator())\n",
    "\n",
    "#     # Rotate the x-axis labels for better readability\n",
    "#     plt.setp(ax.get_xticklabels(), rotation=45)\n",
    "\n",
    "\n",
    "# # Adjust the spacing between the subplots\n",
    "# plt.tight_layout()\n",
    "\n",
    "# # Show the plots\n",
    "# plt.show()"
   ]
  },
  {
   "cell_type": "code",
   "execution_count": null,
   "metadata": {},
   "outputs": [],
   "source": [
    "filtered_df.loc[:, [\"gwl_cm\"]].describe()"
   ]
  },
  {
   "cell_type": "code",
   "execution_count": null,
   "metadata": {},
   "outputs": [],
   "source": [
    "# get a boxplot of response var per region but use a small graph size\n",
    "\n",
    "# set the seaborn style and size\n",
    "sns.set_style(\"whitegrid\")\n",
    "sns.set(rc={'figure.figsize':(8,5)})\n",
    "sns.boxplot(x=\"region_id\", y=\"gwl_cm\", data=filtered_df, width=0.5)"
   ]
  },
  {
   "cell_type": "code",
   "execution_count": null,
   "metadata": {},
   "outputs": [],
   "source": [
    "# # Calculate Q1 and Q3 for each region\n",
    "# Q1 = df.groupby('region_id')['gwl_cm'].quantile(0.25)\n",
    "# Q3 = df.groupby('region_id')['gwl_cm'].quantile(0.75)\n",
    "\n",
    "# # Calculate IQR for each region\n",
    "# IQR = Q3 - Q1\n",
    "\n",
    "# # Define bounds for outliers for each region\n",
    "# lower_bound = Q1 - 1.5 * IQR\n",
    "# upper_bound = Q3 + 1.5 * IQR\n",
    "\n",
    "# # Map the lower and upper bounds for each region_id in df\n",
    "# df_lower_bound = df['region_id'].map(lower_bound)\n",
    "# df_upper_bound = df['region_id'].map(upper_bound)\n",
    "\n",
    "# # Filter out outliers\n",
    "# filtered_df = df[~((df['gwl_cm'] < df_lower_bound) | (df['gwl_cm'] > df_upper_bound))]\n",
    "# # filtered_df"
   ]
  },
  {
   "cell_type": "markdown",
   "metadata": {},
   "source": [
    "## Plot GWL_cm vs PHU"
   ]
  },
  {
   "cell_type": "code",
   "execution_count": null,
   "metadata": {},
   "outputs": [],
   "source": [
    "get_ts_plot(filtered_df, y_axis=\"gwl_cm\", group_by=\"region_id\", group_name=\"region_id\")"
   ]
  },
  {
   "cell_type": "markdown",
   "metadata": {},
   "source": [
    "## Plot GWL_cm vs PHU"
   ]
  },
  {
   "cell_type": "code",
   "execution_count": null,
   "metadata": {},
   "outputs": [],
   "source": [
    "get_ts_plot(filtered_df, y_axis=\"gwl_cm\", group_by=\"phu_id\", group_name=\"phu_name\")"
   ]
  },
  {
   "cell_type": "code",
   "execution_count": null,
   "metadata": {},
   "outputs": [],
   "source": [
    "# Filter all the stations which have less than 60 observations\n",
    "print(\"Number of stations with less than 60 observations: \", len(df_grouped[df_grouped.date_count < 60]))\n",
    "filtered_df = df_grouped[df_grouped.date_count >= 60]\n",
    "print(\"Number of stations with more than 60 observations: \", len(filtered_df))"
   ]
  },
  {
   "cell_type": "code",
   "execution_count": null,
   "metadata": {},
   "outputs": [],
   "source": []
  },
  {
   "cell_type": "code",
   "execution_count": null,
   "metadata": {},
   "outputs": [],
   "source": []
  },
  {
   "cell_type": "code",
   "execution_count": null,
   "metadata": {},
   "outputs": [],
   "source": [
    "season_df = df[df.region_id.isin(east_region_ids)]\n",
    "season_df.loc[:, 'date'] = pd.to_datetime(season_df['date'])  # Ensure 'date' is datetime type\n",
    "season_df = season_df.set_index('date')\n",
    "season_df = season_df.sort_index()\n",
    "\n",
    "aggregated_df = season_df.groupby(['date'])['gwl_cm'].median().reset_index()\n",
    "aggregated_df.set_index('date', inplace=True)\n",
    "# Sort the index\n",
    "aggregated_df = aggregated_df.sort_index()\n",
    "aggregated_df"
   ]
  },
  {
   "cell_type": "code",
   "execution_count": null,
   "metadata": {},
   "outputs": [],
   "source": [
    "# Get the number of observations per month and year sorted by date\n",
    "monthly_obs = aggregated_df.resample('M').count()\n",
    "monthly_obs.plot(title=\"Number of observations per month\")"
   ]
  },
  {
   "cell_type": "code",
   "execution_count": null,
   "metadata": {},
   "outputs": [],
   "source": [
    "# Compare the data between the different sources for the same region\n",
    "# set the seaborn style and size\n",
    "sns.set_style(\"whitegrid\")\n",
    "sns.set(rc={'figure.figsize':(8,5)})\n",
    "\n",
    "# plot them in a single a single output\n",
    "fig, axs = plt.subplots(1, 2, figsize=(15, 5))\n",
    "\n",
    "sns.boxplot(x=\"source\", y=\"gwl_cm\", data=season_df, width=0.5, ax=axs[0])\n",
    "# set the number of observations per source in the x-axis\n",
    "sns.countplot(x=\"source\", data=season_df, ax=axs[1])"
   ]
  },
  {
   "cell_type": "code",
   "execution_count": null,
   "metadata": {},
   "outputs": [],
   "source": [
    "monthly_data_count = season_df[\"gwl_cm\"].resample('M').count()\n",
    "plt.figure(figsize=(12, 6))\n",
    "monthly_data_count.plot(kind='bar')\n",
    "plt.title('Monthly Data Counts')\n",
    "plt.xlabel('Month')\n",
    "plt.ylabel('Number of Observations')\n",
    "plt.show()\n"
   ]
  },
  {
   "cell_type": "code",
   "execution_count": null,
   "metadata": {},
   "outputs": [],
   "source": [
    "# Create ground waterlevel overtime by source \n",
    "\n",
    "# set the seaborn style and size\n",
    "sns.set_style(\"whitegrid\")\n",
    "sns.set(rc={'figure.figsize':(8,5)})\n",
    "df_by_source = season_df.groupby(['date', \"source\"])['gwl_cm'].median().reset_index()\n",
    "df_by_source.set_index('date', inplace=True)\n",
    "# Sort the index\n",
    "df_by_source = df_by_source.sort_index()\n",
    "sns.lineplot(x=\"date\", y=\"gwl_cm\", data=df_by_source, hue=\"source\")\n",
    "# Set the title\n",
    "plt.title(\"Groundwater level over time by source\")\n"
   ]
  },
  {
   "cell_type": "code",
   "execution_count": null,
   "metadata": {},
   "outputs": [],
   "source": [
    "plt.figure(figsize=(14, 7))\n",
    "plt.plot(aggregated_df['gwl_cm'].groupby(aggregated_df.index).median(), label='Mean')\n",
    "plt.title('Groundwater Level Over Time aggregated by day')\n",
    "plt.xlabel('Date')\n",
    "plt.ylabel('Groundwater Level (cm)')\n",
    "plt.show()"
   ]
  },
  {
   "cell_type": "code",
   "execution_count": null,
   "metadata": {},
   "outputs": [],
   "source": [
    "season_df.region_id.unique()"
   ]
  },
  {
   "cell_type": "code",
   "execution_count": null,
   "metadata": {},
   "outputs": [],
   "source": [
    "seasonal_decompose_df = season_df[season_df.phu_id == 99]\n",
    "seasonal_decompose_df = seasonal_decompose_df.groupby([\"date\"])['gwl_cm'].median().reset_index()\n",
    "seasonal_decompose_df.set_index('date', inplace=True)\n",
    "seasonal_decompose_df = seasonal_decompose_df.sort_index()\n",
    "\n",
    "decomposition = seasonal_decompose(seasonal_decompose_df[\"gwl_cm\"], model='additive', period=30)\n",
    "\n",
    "# Plot all the components of the decomposition\n",
    "fig, axes = plt.subplots(4, 1, figsize=(12, 8), sharex=True)  # Ensures the same x-axis (date scale)\n",
    "\n",
    "# Define colors for each plot for better visual distinction\n",
    "colors = ['blue', 'green', 'red', 'purple']\n",
    "\n",
    "# Plot the original time series\n",
    "axes[0].plot(decomposition.observed, label='Original', color=colors[0])\n",
    "axes[0].legend(loc='best')\n",
    "\n",
    "# Plot the trend component\n",
    "axes[1].plot(decomposition.trend, label='Trend', color=colors[1])\n",
    "axes[1].legend(loc='best')\n",
    "\n",
    "# Plot the seasonal component\n",
    "axes[2].plot(decomposition.seasonal, label='Seasonal', color=colors[2])\n",
    "axes[2].legend(loc='best')\n",
    "\n",
    "# Plot the residual component as a scatter plot\n",
    "axes[3].scatter(decomposition.resid.index, decomposition.resid, label='Residual', alpha=0.5, color=colors[3])\n",
    "axes[3].legend(loc='best')\n",
    "\n",
    "# Adjust the layout\n",
    "plt.tight_layout()\n",
    "plt.subplots_adjust(top=0.92)  # Adjust the top margin to make room for the title\n",
    "\n",
    "# Set a single title for the whole figure\n",
    "fig.suptitle('Seasonal Analysis of West Area', fontsize=16)\n",
    "\n",
    "# Show the plot\n",
    "plt.show()\n"
   ]
  },
  {
   "cell_type": "code",
   "execution_count": null,
   "metadata": {},
   "outputs": [],
   "source": [
    "# Let's use a rolling window of size 30 days for smoothing\n",
    "smoothed_seasonal = decomposition.seasonal.rolling(window=30, center=True).mean()\n",
    "\n",
    "plt.figure(figsize=(14, 7))\n",
    "plt.plot(decomposition.seasonal.index, decomposition.seasonal, label='Original Seasonal Component')\n",
    "plt.plot(smoothed_seasonal.index, smoothed_seasonal, color='red', label='Smoothed Seasonal Component')\n",
    "plt.title('Comparison of Original and Smoothed Seasonal Components')\n",
    "plt.xlabel('Date')\n",
    "plt.ylabel('Groundwater Level (cm)')\n",
    "plt.legend()\n",
    "plt.show()\n"
   ]
  },
  {
   "cell_type": "code",
   "execution_count": null,
   "metadata": {},
   "outputs": [],
   "source": [
    "import matplotlib.pyplot as plt\n",
    "import matplotlib.dates as mdates\n",
    "\n",
    "# Calculate the mean of the smoothed seasonal component\n",
    "seasonal_mean = smoothed_seasonal.mean()\n",
    "\n",
    "# Identify wet and dry months\n",
    "wet_months = smoothed_seasonal[smoothed_seasonal > seasonal_mean]\n",
    "dry_months = smoothed_seasonal[smoothed_seasonal <= seasonal_mean]\n",
    "\n",
    "# Find the lowest and highest months\n",
    "lowest_month = smoothed_seasonal.idxmin()\n",
    "highest_month = smoothed_seasonal.idxmax()\n",
    "\n",
    "# Plotting to visualize wet and dry months\n",
    "plt.figure(figsize=(14, 7))\n",
    "plt.plot(smoothed_seasonal.index, smoothed_seasonal, label='Smoothed Seasonal Component')\n",
    "plt.axhline(y=seasonal_mean, color='gray', linestyle='--', label='Mean Line')\n",
    "plt.scatter(wet_months.index, wet_months, color='blue', label='Wet Months')\n",
    "plt.scatter(dry_months.index, dry_months, color='red', label='Dry Months')\n",
    "\n",
    "# Formatting the x-axis to show every month\n",
    "plt.gca().xaxis.set_major_locator(mdates.MonthLocator())\n",
    "plt.gca().xaxis.set_major_formatter(mdates.DateFormatter('%Y-%m'))\n",
    "\n",
    "# Optionally set the minor locator to improve grid alignment\n",
    "plt.gca().xaxis.set_minor_locator(mdates.MonthLocator())\n",
    "\n",
    "# Increase figure size or adjust the plot layout to make room for month labels\n",
    "plt.gcf().autofmt_xdate()  # Auto format date labels to prevent overlap\n",
    "plt.xticks(rotation=90)  # Rotate labels to fit better if necessary\n",
    "\n",
    "plt.title('Wet and Dry Months Identification')\n",
    "plt.xlabel('Date')\n",
    "plt.ylabel('Groundwater Level (cm)')\n",
    "plt.legend()\n",
    "plt.show()\n"
   ]
  },
  {
   "cell_type": "code",
   "execution_count": null,
   "metadata": {},
   "outputs": [],
   "source": [
    "import numpy as np\n",
    "\n",
    "# Only use from 2020 to the end of 2022\n",
    "fft_df = aggregated_df.loc['2020':'2022']\n",
    "\n",
    "# Compute the Fast Fourier Transform (FFT)\n",
    "fft = np.fft.fft(fft_df['gwl_cm'])\n",
    "frequencies = np.fft.fftfreq(len(fft), d=1)  # Assuming daily sampling\n",
    "\n",
    "# Plot spectrum\n",
    "plt.figure(figsize=(14, 7))\n",
    "plt.stem(frequencies[:len(fft_df)//2], np.abs(fft)[:len(fft_df)//2], 'b', markerfmt=\" \", basefmt=\"-b\")\n",
    "plt.title('Frequency Domain')\n",
    "plt.xlabel('Frequency (cycles per day)')\n",
    "plt.ylabel('Amplitude')\n",
    "plt.show()\n"
   ]
  },
  {
   "cell_type": "code",
   "execution_count": null,
   "metadata": {},
   "outputs": [],
   "source": [
    "from pandas.plotting import autocorrelation_plot\n",
    "\n",
    "autocorrelation_plot(aggregated_df['gwl_cm'].iloc[:365*2])  # Example: first three years\n",
    "plt.show()\n"
   ]
  },
  {
   "cell_type": "markdown",
   "metadata": {},
   "source": [
    "## All but one stations"
   ]
  },
  {
   "cell_type": "code",
   "execution_count": null,
   "metadata": {},
   "outputs": [],
   "source": [
    "from gee_scripts.randomforest import run_randomforest\n"
   ]
  },
  {
   "cell_type": "code",
   "execution_count": null,
   "metadata": {},
   "outputs": [],
   "source": [
    "season_df = df[df.region_id.isin(east_region_ids)]\n",
    "\n",
    "stats_df = run_randomforest(season_df)"
   ]
  }
 ],
 "metadata": {
  "kernelspec": {
   "display_name": "(test) gwl-modeling",
   "language": "python",
   "name": "gwl-modeling"
  },
  "language_info": {
   "codemirror_mode": {
    "name": "ipython",
    "version": 3
   },
   "file_extension": ".py",
   "mimetype": "text/x-python",
   "name": "python",
   "nbconvert_exporter": "python",
   "pygments_lexer": "ipython3",
   "version": "3.10.12"
  }
 },
 "nbformat": 4,
 "nbformat_minor": 2
}
